{
 "cells": [
  {
   "cell_type": "raw",
   "source": [
    "121. 买卖股票的最佳时机\n",
    "已解答\n",
    "简单\n",
    "相关标签\n",
    "相关企业\n",
    "给定一个数组 prices ，它的第 i 个元素 prices[i] 表示一支给定股票第 i 天的价格。\n",
    "\n",
    "你只能选择 某一天 买入这只股票，并选择在 未来的某一个不同的日子 卖出该股票。设计一个算法来计算你所能获取的最大利润。\n",
    "\n",
    "返回你可以从这笔交易中获取的最大利润。如果你不能获取任何利润，返回 0 。\n",
    "\n",
    " \n",
    "\n",
    "示例 1：\n",
    "\n",
    "输入：[7,1,5,3,6,4]\n",
    "输出：5\n",
    "解释：在第 2 天（股票价格 = 1）的时候买入，在第 5 天（股票价格 = 6）的时候卖出，最大利润 = 6-1 = 5 。\n",
    "     注意利润不能是 7-1 = 6, 因为卖出价格需要大于买入价格；同时，你不能在买入前卖出股票。\n",
    "示例 2：\n",
    "\n",
    "输入：prices = [7,6,4,3,1]\n",
    "输出：0\n",
    "解释：在这种情况下, 没有交易完成, 所以最大利润为 0。\n",
    " \n",
    "\n",
    "提示：\n",
    "\n",
    "1 <= prices.length <= 105\n",
    "0 <= prices[i] <= 104"
   ],
   "metadata": {
    "collapsed": false
   },
   "id": "2a84cf07bff95d07"
  },
  {
   "cell_type": "code",
   "outputs": [
    {
     "name": "stdout",
     "output_type": "stream",
     "text": [
      "5\n",
      "0\n",
      "1\n"
     ]
    }
   ],
   "source": [
    "# 一次遍历\n",
    "# 数组开始递减的时候更新最小价格，数组开始递增的时候计算最大利润\n",
    "\n",
    "class Solution(object):\n",
    "    def maxProfit(self, prices):\n",
    "        min_price = float('inf')\n",
    "        max_profit = 0\n",
    "        for price in prices:\n",
    "            if price < min_price:\n",
    "                min_price = price\n",
    "            else:\n",
    "                max_profit = max(max_profit, price - min_price)\n",
    "        return max_profit\n",
    "\n",
    "solution = Solution()\n",
    "print(solution.maxProfit([7,1,5,3,6,4]))  # 输出 5\n",
    "print(solution.maxProfit([7,6,4,3,1]))  # 输出 0\n",
    "print(solution.maxProfit([7,6,4,3,1,2]))  # 输出 1\n",
    "            "
   ],
   "metadata": {
    "collapsed": false,
    "ExecuteTime": {
     "end_time": "2024-07-01T02:16:11.515302Z",
     "start_time": "2024-07-01T02:16:11.509429Z"
    }
   },
   "id": "14ee1eb19c42f8fa",
   "execution_count": 1
  },
  {
   "cell_type": "code",
   "outputs": [],
   "source": [],
   "metadata": {
    "collapsed": false
   },
   "id": "497334ce268aab4e"
  }
 ],
 "metadata": {
  "kernelspec": {
   "display_name": "Python 3",
   "language": "python",
   "name": "python3"
  },
  "language_info": {
   "codemirror_mode": {
    "name": "ipython",
    "version": 2
   },
   "file_extension": ".py",
   "mimetype": "text/x-python",
   "name": "python",
   "nbconvert_exporter": "python",
   "pygments_lexer": "ipython2",
   "version": "2.7.6"
  }
 },
 "nbformat": 4,
 "nbformat_minor": 5
}
