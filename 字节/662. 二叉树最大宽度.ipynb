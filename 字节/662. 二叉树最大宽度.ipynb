{
 "cells": [
  {
   "cell_type": "raw",
   "source": [
    "662. 二叉树最大宽度\n",
    "已解答\n",
    "中等\n",
    "相关标签\n",
    "相关企业\n",
    "给你一棵二叉树的根节点 root ，返回树的 最大宽度 。\n",
    "\n",
    "树的 最大宽度 是所有层中最大的 宽度 。\n",
    "\n",
    "每一层的 宽度 被定义为该层最左和最右的非空节点（即，两个端点）之间的长度。将这个二叉树视作与满二叉树结构相同，两端点间会出现一些延伸到这一层的 null 节点，这些 null 节点也计入长度。\n",
    "\n",
    "题目数据保证答案将会在  32 位 带符号整数范围内。\n",
    "\n",
    " \n",
    "\n",
    "示例 1：\n",
    "\n",
    "\n",
    "输入：root = [1,3,2,5,3,null,9]\n",
    "输出：4\n",
    "解释：最大宽度出现在树的第 3 层，宽度为 4 (5,3,null,9) 。\n",
    "示例 2：\n",
    "\n",
    "\n",
    "输入：root = [1,3,2,5,null,null,9,6,null,7]\n",
    "输出：7\n",
    "解释：最大宽度出现在树的第 4 层，宽度为 7 (6,null,null,null,null,null,7) 。\n",
    "示例 3：\n",
    "\n",
    "\n",
    "输入：root = [1,3,2,5]\n",
    "输出：2\n",
    "解释：最大宽度出现在树的第 2 层，宽度为 2 (3,2) 。\n",
    " \n",
    "\n",
    "提示：\n",
    "\n",
    "树中节点的数目范围是 [1, 3000]\n",
    "-100 <= Node.val <= 100"
   ],
   "metadata": {
    "collapsed": false
   },
   "id": "f705f0c6337536dc"
  },
  {
   "cell_type": "code",
   "outputs": [
    {
     "name": "stdout",
     "output_type": "stream",
     "text": [
      "4\n",
      "7\n",
      "2\n"
     ]
    }
   ],
   "source": [
    "# 广度优先搜索\n",
    "\n",
    "class TreeNode(object):\n",
    "    def __init__(self, val=0, left=None, right=None):\n",
    "        self.val = val\n",
    "        self.left = left\n",
    "        self.right = right\n",
    "\n",
    "class Solution(object):\n",
    "    def widthOfBinaryTree(self, root):\n",
    "        result = 1\n",
    "        queue = [[root, 1]]\n",
    "        while queue:\n",
    "            tmp = []\n",
    "            for node, index in queue:\n",
    "                if node.left is not None:\n",
    "                    tmp.append([node.left, index * 2])\n",
    "                if node.right is not None:\n",
    "                    tmp.append([node.right, index * 2 + 1])\n",
    "            result = max(result, queue[-1][1] - queue[0][1] + 1)\n",
    "            queue = tmp\n",
    "        return result\n",
    "\n",
    "def list2TreeNode(nums):\n",
    "    if not nums:\n",
    "        return None\n",
    "    root = TreeNode(nums[0])\n",
    "    queue = [root]\n",
    "    index = 1\n",
    "    while queue:\n",
    "        node = queue.pop(0)\n",
    "        if index < len(nums) and nums[index] is not None:\n",
    "            node.left = TreeNode(nums[index])\n",
    "            queue.append(node.left)\n",
    "        index += 1\n",
    "        if index < len(nums) and nums[index] is not None:\n",
    "            node.right = TreeNode(nums[index])\n",
    "            queue.append(node.right)\n",
    "        index += 1\n",
    "    return root\n",
    "\n",
    "\n",
    "solution = Solution()\n",
    "print(solution.widthOfBinaryTree(list2TreeNode([1,3,2,5,3,None,9])))\n",
    "print(solution.widthOfBinaryTree(list2TreeNode([1,3,2,5,None,None,9,6,None,7])))\n",
    "print(solution.widthOfBinaryTree(list2TreeNode([1,3,2,5])))"
   ],
   "metadata": {
    "collapsed": false,
    "ExecuteTime": {
     "end_time": "2024-06-30T14:24:41.960137Z",
     "start_time": "2024-06-30T14:24:41.951075Z"
    }
   },
   "id": "735cfdbc3d059b41",
   "execution_count": 2
  },
  {
   "cell_type": "code",
   "outputs": [
    {
     "name": "stdout",
     "output_type": "stream",
     "text": [
      "4\n",
      "7\n",
      "2\n"
     ]
    }
   ],
   "source": [
    "# 深度优先搜索\n",
    "\n",
    "class TreeNode(object):\n",
    "    def __init__(self, val=0, left=None, right=None):\n",
    "        self.val = val\n",
    "        self.left = left\n",
    "        self.right = right\n",
    "\n",
    "class Solution(object):\n",
    "    def widthOfBinaryTree(self, root):\n",
    "        levelMin = {}\n",
    "        def dfs(node, depth, index):\n",
    "            if node is None:\n",
    "                return 0\n",
    "            if depth not in levelMin:\n",
    "                levelMin[depth] = index\n",
    "            return max(index - levelMin[depth] + 1, dfs(node.left, depth + 1, index * 2), dfs(node.right, depth + 1, index * 2 + 1))\n",
    "        return dfs(root, 0, 0)\n",
    "\n",
    "\n",
    "def list2TreeNode(nums):\n",
    "    if not nums:\n",
    "        return None\n",
    "    root = TreeNode(nums[0])\n",
    "    queue = [root]\n",
    "    index = 1\n",
    "    while queue:\n",
    "        node = queue.pop(0)\n",
    "        if index < len(nums) and nums[index] is not None:\n",
    "            node.left = TreeNode(nums[index])\n",
    "            queue.append(node.left)\n",
    "        index += 1\n",
    "        if index < len(nums) and nums[index] is not None:\n",
    "            node.right = TreeNode(nums[index])\n",
    "            queue.append(node.right)\n",
    "        index += 1\n",
    "    return root\n",
    "\n",
    "solution = Solution()\n",
    "print(solution.widthOfBinaryTree(list2TreeNode([1,3,2,5,3,None,9])))\n",
    "print(solution.widthOfBinaryTree(list2TreeNode([1,3,2,5,None,None,9,6,None,7])))\n",
    "print(solution.widthOfBinaryTree(list2TreeNode([1,3,2,5])))\n",
    "        "
   ],
   "metadata": {
    "collapsed": false,
    "ExecuteTime": {
     "end_time": "2024-06-30T14:38:32.951969Z",
     "start_time": "2024-06-30T14:38:32.945425Z"
    }
   },
   "id": "331851fd579d02f5",
   "execution_count": 10
  },
  {
   "cell_type": "code",
   "outputs": [],
   "source": [],
   "metadata": {
    "collapsed": false
   },
   "id": "a1df05519e0d7688"
  }
 ],
 "metadata": {
  "kernelspec": {
   "display_name": "Python 3",
   "language": "python",
   "name": "python3"
  },
  "language_info": {
   "codemirror_mode": {
    "name": "ipython",
    "version": 2
   },
   "file_extension": ".py",
   "mimetype": "text/x-python",
   "name": "python",
   "nbconvert_exporter": "python",
   "pygments_lexer": "ipython2",
   "version": "2.7.6"
  }
 },
 "nbformat": 4,
 "nbformat_minor": 5
}
