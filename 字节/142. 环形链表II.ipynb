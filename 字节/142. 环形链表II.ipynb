{
 "cells": [
  {
   "cell_type": "raw",
   "source": [
    "142. 环形链表 II\n",
    "已解答\n",
    "中等\n",
    "相关标签\n",
    "相关企业\n",
    "给定一个链表的头节点  head ，返回链表开始入环的第一个节点。 如果链表无环，则返回 null。\n",
    "\n",
    "如果链表中有某个节点，可以通过连续跟踪 next 指针再次到达，则链表中存在环。 为了表示给定链表中的环，评测系统内部使用整数 pos 来表示链表尾连接到链表中的位置（索引从 0 开始）。如果 pos 是 -1，则在该链表中没有环。注意：pos 不作为参数进行传递，仅仅是为了标识链表的实际情况。\n",
    "\n",
    "不允许修改 链表。\n",
    "\n",
    " \n",
    "\n",
    "示例 1：\n",
    "\n",
    "\n",
    "\n",
    "输入：head = [3,2,0,-4], pos = 1\n",
    "输出：返回索引为 1 的链表节点\n",
    "解释：链表中有一个环，其尾部连接到第二个节点。\n",
    "示例 2：\n",
    "\n",
    "\n",
    "\n",
    "输入：head = [1,2], pos = 0\n",
    "输出：返回索引为 0 的链表节点\n",
    "解释：链表中有一个环，其尾部连接到第一个节点。\n",
    "示例 3：\n",
    "\n",
    "\n",
    "\n",
    "输入：head = [1], pos = -1\n",
    "输出：返回 null\n",
    "解释：链表中没有环。\n"
   ],
   "metadata": {
    "collapsed": false
   },
   "id": "10e2d0d60d7c2531"
  },
  {
   "cell_type": "code",
   "outputs": [
    {
     "name": "stdout",
     "output_type": "stream",
     "text": [
      "2\n",
      "1\n"
     ]
    },
    {
     "ename": "AttributeError",
     "evalue": "'NoneType' object has no attribute 'val'",
     "output_type": "error",
     "traceback": [
      "\u001B[0;31m---------------------------------------------------------------------------\u001B[0m",
      "\u001B[0;31mAttributeError\u001B[0m                            Traceback (most recent call last)",
      "Cell \u001B[0;32mIn[5], line 44\u001B[0m\n\u001B[1;32m     42\u001B[0m \u001B[38;5;28mprint\u001B[39m(solution\u001B[38;5;241m.\u001B[39mdetectCycle(createLinkedListWithCycle([\u001B[38;5;241m3\u001B[39m, \u001B[38;5;241m2\u001B[39m, \u001B[38;5;241m0\u001B[39m, \u001B[38;5;241m-\u001B[39m\u001B[38;5;241m4\u001B[39m], \u001B[38;5;241m1\u001B[39m))\u001B[38;5;241m.\u001B[39mval)  \u001B[38;5;66;03m# 输出2\u001B[39;00m\n\u001B[1;32m     43\u001B[0m \u001B[38;5;28mprint\u001B[39m(solution\u001B[38;5;241m.\u001B[39mdetectCycle(createLinkedListWithCycle([\u001B[38;5;241m1\u001B[39m, \u001B[38;5;241m2\u001B[39m], \u001B[38;5;241m0\u001B[39m))\u001B[38;5;241m.\u001B[39mval)  \u001B[38;5;66;03m# 输出1\u001B[39;00m\n\u001B[0;32m---> 44\u001B[0m \u001B[38;5;28mprint\u001B[39m(\u001B[43msolution\u001B[49m\u001B[38;5;241;43m.\u001B[39;49m\u001B[43mdetectCycle\u001B[49m\u001B[43m(\u001B[49m\u001B[43mcreateLinkedListWithCycle\u001B[49m\u001B[43m(\u001B[49m\u001B[43m[\u001B[49m\u001B[38;5;241;43m1\u001B[39;49m\u001B[43m]\u001B[49m\u001B[43m,\u001B[49m\u001B[43m \u001B[49m\u001B[38;5;241;43m-\u001B[39;49m\u001B[38;5;241;43m1\u001B[39;49m\u001B[43m)\u001B[49m\u001B[43m)\u001B[49m\u001B[38;5;241;43m.\u001B[39;49m\u001B[43mval\u001B[49m)  \u001B[38;5;66;03m# 输出None\u001B[39;00m\n",
      "\u001B[0;31mAttributeError\u001B[0m: 'NoneType' object has no attribute 'val'"
     ]
    }
   ],
   "source": [
    "# 哈希表法\n",
    "\n",
    "class ListNode(object):\n",
    "    def __init__(self, val=0, next=None):\n",
    "        self.val = val\n",
    "        self.next = next\n",
    "    \n",
    "\n",
    "class Solution(object):\n",
    "    def detectCycle(self, head):\n",
    "        # 初始化一个哈希表\n",
    "        visited = set()\n",
    "        while head:\n",
    "            # 找到环的入口\n",
    "            if head in visited:\n",
    "                return head\n",
    "            # 记录访问过的节点\n",
    "            visited.add(head)\n",
    "            head = head.next\n",
    "        return None\n",
    "\n",
    "\n",
    "def createLinkedListWithCycle(values, pos):\n",
    "    if not values:\n",
    "        return None\n",
    "    head = ListNode(values[0])\n",
    "    current = head\n",
    "    cycle_entry = None if pos == -1 else head\n",
    "    for i in range(1, len(values)):\n",
    "        current.next = ListNode(values[i])\n",
    "        current = current.next\n",
    "        if i == pos:\n",
    "            cycle_entry = current\n",
    "    # 将链表的最后一个节点连接到环的起始点，形成一个环\n",
    "    if cycle_entry:\n",
    "        current.next = cycle_entry\n",
    "    return head\n",
    "\n",
    "\n",
    "solution = Solution()\n",
    "\n",
    "print(solution.detectCycle(createLinkedListWithCycle([3, 2, 0, -4], 1)).val)  # 输出2\n",
    "print(solution.detectCycle(createLinkedListWithCycle([1, 2], 0)).val)  # 输出1\n",
    "print(solution.detectCycle(createLinkedListWithCycle([1], -1)))  # 输出None\n"
   ],
   "metadata": {
    "collapsed": false,
    "ExecuteTime": {
     "end_time": "2024-07-01T07:33:02.172609Z",
     "start_time": "2024-07-01T07:33:02.152868Z"
    }
   },
   "id": "9190b3b65cf65d0c",
   "execution_count": 5
  },
  {
   "cell_type": "code",
   "outputs": [
    {
     "name": "stdout",
     "output_type": "stream",
     "text": [
      "2\n",
      "1\n",
      "None\n"
     ]
    }
   ],
   "source": [
    "# 快慢双指针法\n",
    "\n",
    "class ListNode(object):\n",
    "    def __init__(self, val=0, next=None):\n",
    "        self.val = val\n",
    "        self.next = next\n",
    "\n",
    "class Solution(object):\n",
    "    def detectCycle(self, head):\n",
    "        \n",
    "        if not head or not head.next:\n",
    "            return None\n",
    "        \n",
    "        # 使用快慢指针，寻找环\n",
    "        # 2(a+b)=a+b+n(b+c)\n",
    "        # a+b = n(b+c)\n",
    "        slow = head\n",
    "        fast = head\n",
    "        while fast and fast.next:\n",
    "            slow = slow.next\n",
    "            fast = fast.next.next\n",
    "            if slow == fast:\n",
    "                break\n",
    "        else:\n",
    "            return None\n",
    "        \n",
    "        # 找到环的入口\n",
    "        slow = head\n",
    "        while slow != fast:\n",
    "            slow = slow.next\n",
    "            fast = fast.next\n",
    "        return slow\n",
    "\n",
    "def createLinkedListWithCycle(values, pos):\n",
    "    if not values:\n",
    "        return None\n",
    "    head = ListNode(values[0])\n",
    "    current = head\n",
    "    cycle_entry = None if pos == -1 else head\n",
    "    for i in range(1, len(values)):\n",
    "        current.next = ListNode(values[i])\n",
    "        current = current.next\n",
    "        if i == pos:\n",
    "            cycle_entry = current\n",
    "    # 将链表的最后一个节点连接到环的起始点，形成一个环\n",
    "    if cycle_entry:\n",
    "        current.next = cycle_entry\n",
    "    \n",
    "    return head\n",
    "\n",
    "solution = Solution()\n",
    "print(solution.detectCycle(createLinkedListWithCycle([3, 2, 0, -4], 1)).val)  # 输出2\n",
    "print(solution.detectCycle(createLinkedListWithCycle([1, 2], 0)).val)  # 输出1\n",
    "print(solution.detectCycle(createLinkedListWithCycle([1], -1)))  # 输出None\n"
   ],
   "metadata": {
    "collapsed": false,
    "ExecuteTime": {
     "end_time": "2024-07-01T07:33:26.173355Z",
     "start_time": "2024-07-01T07:33:26.169117Z"
    }
   },
   "id": "e7f169f3f48921d5",
   "execution_count": 6
  },
  {
   "cell_type": "code",
   "outputs": [],
   "source": [],
   "metadata": {
    "collapsed": false
   },
   "id": "e0eef25fd5ac2b85"
  }
 ],
 "metadata": {
  "kernelspec": {
   "display_name": "Python 3",
   "language": "python",
   "name": "python3"
  },
  "language_info": {
   "codemirror_mode": {
    "name": "ipython",
    "version": 2
   },
   "file_extension": ".py",
   "mimetype": "text/x-python",
   "name": "python",
   "nbconvert_exporter": "python",
   "pygments_lexer": "ipython2",
   "version": "2.7.6"
  }
 },
 "nbformat": 4,
 "nbformat_minor": 5
}
