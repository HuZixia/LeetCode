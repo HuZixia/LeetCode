{
 "cells": [
  {
   "cell_type": "raw",
   "source": [
    "47. 全排列 II\n",
    "已解答\n",
    "中等\n",
    "相关标签\n",
    "相关企业\n",
    "给定一个可包含重复数字的序列 nums ，按任意顺序 返回所有不重复的全排列。\n",
    "\n",
    " \n",
    "\n",
    "示例 1：\n",
    "\n",
    "输入：nums = [1,1,2]\n",
    "输出：\n",
    "[[1,1,2],\n",
    " [1,2,1],\n",
    " [2,1,1]]\n",
    "示例 2：\n",
    "\n",
    "输入：nums = [1,2,3]\n",
    "输出：[[1,2,3],[1,3,2],[2,1,3],[2,3,1],[3,1,2],[3,2,1]]\n",
    " \n",
    "\n",
    "提示：\n",
    "\n",
    "1 <= nums.length <= 8\n",
    "-10 <= nums[i] <= 10"
   ],
   "metadata": {
    "collapsed": false
   },
   "id": "bf0db0c4701292cf"
  },
  {
   "cell_type": "code",
   "outputs": [
    {
     "name": "stdout",
     "output_type": "stream",
     "text": [
      "[[1, 1, 2], [1, 2, 1], [2, 1, 1]]\n",
      "[[1, 2, 3], [1, 3, 2], [2, 1, 3], [2, 3, 1], [3, 1, 2], [3, 2, 1]]\n"
     ]
    }
   ],
   "source": [
    "# 回溯算法\n",
    "\n",
    "class Solution(object):\n",
    "    def permuteUnique(self, nums):\n",
    "        \n",
    "        nums.sort()\n",
    "        result = []\n",
    "        \n",
    "        # backtrack 函数用于生成所有排列\n",
    "        def backtrack(nums, path):\n",
    "            # 如果nums为空，说明所有数字都已选择，生成一个排列，添加到result中\n",
    "            if not nums:\n",
    "                result.append(path)\n",
    "                return\n",
    "            # 使用for循环遍历nums，选择nums[i]作为第一个数字，递归调用backtrack函数\n",
    "            for i in range(len(nums)):\n",
    "                # 如果当前数字与前一个数字相同，则跳过，避免生成重复排列\n",
    "                if i > 0 and nums[i] == nums[i-1]:\n",
    "                    continue\n",
    "                # 选择nums[i]作为第一个数字，递归调用backtrack函数\n",
    "                backtrack(nums[:i]+nums[i+1:], path+[nums[i]])\n",
    "            \n",
    "        backtrack(nums, [])\n",
    "        return result\n",
    "\n",
    "solution = Solution()\n",
    "print(solution.permuteUnique([1,1,2]))\n",
    "print(solution.permuteUnique([1,2,3]))\n",
    "        \n",
    "        "
   ],
   "metadata": {
    "collapsed": false,
    "ExecuteTime": {
     "end_time": "2024-07-01T03:04:23.429749Z",
     "start_time": "2024-07-01T03:04:23.425355Z"
    }
   },
   "id": "d5a7a874de211d48",
   "execution_count": 1
  },
  {
   "cell_type": "code",
   "outputs": [],
   "source": [],
   "metadata": {
    "collapsed": false
   },
   "id": "e2a408bed89c7023"
  }
 ],
 "metadata": {
  "kernelspec": {
   "display_name": "Python 3",
   "language": "python",
   "name": "python3"
  },
  "language_info": {
   "codemirror_mode": {
    "name": "ipython",
    "version": 2
   },
   "file_extension": ".py",
   "mimetype": "text/x-python",
   "name": "python",
   "nbconvert_exporter": "python",
   "pygments_lexer": "ipython2",
   "version": "2.7.6"
  }
 },
 "nbformat": 4,
 "nbformat_minor": 5
}
