{
 "cells": [
  {
   "cell_type": "raw",
   "source": [
    "32. 最长有效括号\n",
    "已解答\n",
    "困难\n",
    "相关标签\n",
    "相关企业\n",
    "给你一个只包含 '(' 和 ')' 的字符串，找出最长有效（格式正确且连续）括号\n",
    "子串\n",
    "的长度。\n",
    "\n",
    " \n",
    "\n",
    "示例 1：\n",
    "\n",
    "输入：s = \"(()\"\n",
    "输出：2\n",
    "解释：最长有效括号子串是 \"()\"\n",
    "示例 2：\n",
    "\n",
    "输入：s = \")()())\"\n",
    "输出：4\n",
    "解释：最长有效括号子串是 \"()()\"\n",
    "示例 3：\n",
    "\n",
    "输入：s = \"\"\n",
    "输出：0\n",
    " \n",
    "\n",
    "提示：\n",
    "\n",
    "0 <= s.length <= 3 * 104\n",
    "s[i] 为 '(' 或 ')'"
   ],
   "metadata": {
    "collapsed": false
   },
   "id": "711fa4d2c08f8d9e"
  },
  {
   "cell_type": "code",
   "outputs": [
    {
     "name": "stdout",
     "output_type": "stream",
     "text": [
      "2\n",
      "4\n",
      "0\n",
      "2\n"
     ]
    }
   ],
   "source": [
    "# 动态规划\n",
    "\n",
    "class Solution(object):\n",
    "    def longestValidParentheses(self, s):\n",
    "        # 初始化dp数组和max_len\n",
    "        n = len(s)\n",
    "        if n == 0:\n",
    "            return 0\n",
    "        dp = [0] * n\n",
    "        max_len = 0\n",
    "        \n",
    "        # 从第二个字符串开始遍历字符串\n",
    "        for i in range(1, n):\n",
    "            if s[i] == ')':\n",
    "                # 如果当前字符串是), 前一个字符串是(, 更新dp[i]\n",
    "                if s[i-1] == '(':\n",
    "                    dp[i] = dp[i-2] + 2 if i >= 2 else 2\n",
    "                # 如果当前字符串是）,前一个字符串是），检查前一个匹配括号前面的字符串是否为（，如果是，更新dp[i]\n",
    "                elif i - dp[i-1] > 0 and s[i - dp[i-1] - 1] == '(':\n",
    "                    # dp[i-1] 内部连在一起的最长有效括号，dp[i-dp[i-1]-2] 外部连在一起的最长有效括号\n",
    "                    dp[i] = dp[i-1] + (dp[i-dp[i-1]-2] + 2 if i-dp[i-1] >= 2 else 2)\n",
    "            max_len = max(max_len, dp[i])\n",
    "        return max_len\n",
    "    \n",
    "solution = Solution()\n",
    "print(solution.longestValidParentheses(\"(()\")) # 2\n",
    "print(solution.longestValidParentheses(\")()())\")) # 4\n",
    "print(solution.longestValidParentheses(\"\")) # 0\n",
    "print(solution.longestValidParentheses(\"()(()\")) # 2\n",
    "                    \n"
   ],
   "metadata": {
    "collapsed": false,
    "ExecuteTime": {
     "end_time": "2024-07-01T00:56:47.838053Z",
     "start_time": "2024-07-01T00:56:47.829590Z"
    }
   },
   "id": "c1db34fcac736fc2",
   "execution_count": 2
  },
  {
   "cell_type": "code",
   "outputs": [
    {
     "name": "stdout",
     "output_type": "stream",
     "text": [
      "2\n",
      "4\n",
      "0\n",
      "2\n"
     ]
    }
   ],
   "source": [
    "# 栈法\n",
    "\n",
    "class Solution(object):\n",
    "    def longestValidParentheses(self, s):\n",
    "        # 初始化栈和max_len\n",
    "        stack = [-1]\n",
    "        max_len = 0\n",
    "        \n",
    "        # 遍历字符串\n",
    "        for i in range(len(s)):\n",
    "            # 如果当前字符串是（，将当前字符串的索引i压入栈中\n",
    "            if s[i] == '(':\n",
    "                stack.append(i)\n",
    "            # 如果当前字符串是），弹出栈顶元素\n",
    "            else:\n",
    "                stack.pop()\n",
    "                # 如果栈为空，说明当前的）没有匹配的（，将当前字符串的索引i压入栈中作为新的起点\n",
    "                if not stack:\n",
    "                    stack.append(i)\n",
    "                # 如果栈不为空，计算当前有效括号的长度，i - stack[-1]，并更新 max_len\n",
    "                else:\n",
    "                    max_len = max(max_len, i - stack[-1])\n",
    "        return max_len\n",
    "\n",
    "solution = Solution()\n",
    "print(solution.longestValidParentheses(\"(()\")) # 2\n",
    "print(solution.longestValidParentheses(\")()())\")) # 4\n",
    "print(solution.longestValidParentheses(\"\")) # 0\n",
    "print(solution.longestValidParentheses(\"()(()\")) # 2"
   ],
   "metadata": {
    "collapsed": false,
    "ExecuteTime": {
     "end_time": "2024-07-01T01:05:17.621561Z",
     "start_time": "2024-07-01T01:05:17.615508Z"
    }
   },
   "id": "aa949391e1907e15",
   "execution_count": 5
  },
  {
   "cell_type": "code",
   "outputs": [],
   "source": [],
   "metadata": {
    "collapsed": false
   },
   "id": "cd358bde54847743"
  }
 ],
 "metadata": {
  "kernelspec": {
   "display_name": "Python 3",
   "language": "python",
   "name": "python3"
  },
  "language_info": {
   "codemirror_mode": {
    "name": "ipython",
    "version": 2
   },
   "file_extension": ".py",
   "mimetype": "text/x-python",
   "name": "python",
   "nbconvert_exporter": "python",
   "pygments_lexer": "ipython2",
   "version": "2.7.6"
  }
 },
 "nbformat": 4,
 "nbformat_minor": 5
}
