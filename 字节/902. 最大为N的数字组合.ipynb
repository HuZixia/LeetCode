{
 "cells": [
  {
   "cell_type": "raw",
   "source": [
    "902. 最大为 N 的数字组合\n",
    "已解答\n",
    "困难\n",
    "相关标签\n",
    "相关企业\n",
    "给定一个按 非递减顺序 排列的数字数组 digits 。你可以用任意次数 digits[i] 来写的数字。例如，如果 digits = ['1','3','5']，我们可以写数字，如 '13', '551', 和 '1351315'。\n",
    "\n",
    "返回 可以生成的小于或等于给定整数 n 的正整数的个数 。\n",
    "\n",
    " \n",
    "\n",
    "示例 1：\n",
    "\n",
    "输入：digits = [\"1\",\"3\",\"5\",\"7\"], n = 100\n",
    "输出：20\n",
    "解释：\n",
    "可写出的 20 个数字是：\n",
    "1, 3, 5, 7, 11, 13, 15, 17, 31, 33, 35, 37, 51, 53, 55, 57, 71, 73, 75, 77.\n",
    "示例 2：\n",
    "\n",
    "输入：digits = [\"1\",\"4\",\"9\"], n = 1000000000\n",
    "输出：29523\n",
    "解释：\n",
    "我们可以写 3 个一位数字，9 个两位数字，27 个三位数字，\n",
    "81 个四位数字，243 个五位数字，729 个六位数字，\n",
    "2187 个七位数字，6561 个八位数字和 19683 个九位数字。\n",
    "总共，可以使用D中的数字写出 29523 个整数。\n",
    "示例 3:\n",
    "\n",
    "输入：digits = [\"7\"], n = 8\n",
    "输出：1\n",
    " \n",
    "\n",
    "提示：\n",
    "\n",
    "1 <= digits.length <= 9\n",
    "digits[i].length == 1\n",
    "digits[i] 是从 '1' 到 '9' 的数\n",
    "digits 中的所有值都 不同 \n",
    "digits 按 非递减顺序 排列\n",
    "1 <= n <= 109"
   ],
   "metadata": {
    "collapsed": false
   },
   "id": "4cfe3b308bbdc2c1"
  },
  {
   "cell_type": "code",
   "outputs": [
    {
     "name": "stdout",
     "output_type": "stream",
     "text": [
      "20\n",
      "29523\n",
      "1\n"
     ]
    }
   ],
   "source": [
    "# 回溯法\n",
    "\n",
    "class Solution(object):\n",
    "    def atMostNGivenDigitSet(self, digits, n):\n",
    "        str_n = str(n)\n",
    "        len_n = len(str_n)\n",
    "        len_d = len(digits)\n",
    "        \n",
    "        # 统计位数比n少的所有数字的组合\n",
    "        count = sum(len_d ** i for i in range(1, len_n))\n",
    "        \n",
    "        # 统计位数等于n的所有数字的组合，pos是当前处理的位数\n",
    "        def count_same_digits(pos):\n",
    "            if pos == len_n:\n",
    "                return 1\n",
    "            count = 0\n",
    "            for digit in digits:\n",
    "                # 如果当前位的数字小于str_n[pos]，则该数字后面可以有任意组合\n",
    "                if digit < str_n[pos]:\n",
    "                    count += len_d ** (len_n -pos - 1)\n",
    "                # 如果当前位的数字等于str_n[pos]，则递归处理下一位\n",
    "                elif digit == str_n[pos]:\n",
    "                    count += count_same_digits(pos + 1)\n",
    "                # 如果当前位的数字大于str_n[pos]，则不再处理后续数字\n",
    "                else:\n",
    "                    break\n",
    "            return count\n",
    "        return count + count_same_digits(0)\n",
    "\n",
    "\n",
    "solution = Solution()\n",
    "print(solution.atMostNGivenDigitSet([\"1\",\"3\",\"5\",\"7\"], 100)) # 20\n",
    "print(solution.atMostNGivenDigitSet([\"1\",\"4\",\"9\"], 1000000000)) # 29523\n",
    "print(solution.atMostNGivenDigitSet([\"7\"], 8)) # 1\n",
    "            \n",
    "        "
   ],
   "metadata": {
    "collapsed": false,
    "ExecuteTime": {
     "end_time": "2024-07-01T10:19:38.968517Z",
     "start_time": "2024-07-01T10:19:38.963260Z"
    }
   },
   "id": "5f2e6132e8a6bb4a",
   "execution_count": 1
  },
  {
   "cell_type": "code",
   "outputs": [],
   "source": [],
   "metadata": {
    "collapsed": false
   },
   "id": "35fe120ecf9494da"
  }
 ],
 "metadata": {
  "kernelspec": {
   "display_name": "Python 3",
   "language": "python",
   "name": "python3"
  },
  "language_info": {
   "codemirror_mode": {
    "name": "ipython",
    "version": 2
   },
   "file_extension": ".py",
   "mimetype": "text/x-python",
   "name": "python",
   "nbconvert_exporter": "python",
   "pygments_lexer": "ipython2",
   "version": "2.7.6"
  }
 },
 "nbformat": 4,
 "nbformat_minor": 5
}
