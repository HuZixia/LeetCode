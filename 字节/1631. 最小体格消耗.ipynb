{
 "cells": [
  {
   "cell_type": "raw",
   "source": [
    "1631. 最小体力消耗路径\n",
    "已解答\n",
    "中等\n",
    "相关标签\n",
    "相关企业\n",
    "提示\n",
    "你准备参加一场远足活动。给你一个二维 rows x columns 的地图 heights ，其中 heights[row][col] 表示格子 (row, col) 的高度。一开始你在最左上角的格子 (0, 0) ，且你希望去最右下角的格子 (rows-1, columns-1) （注意下标从 0 开始编号）。你每次可以往 上，下，左，右 四个方向之一移动，你想要找到耗费 体力 最小的一条路径。\n",
    "\n",
    "一条路径耗费的 体力值 是路径上相邻格子之间 高度差绝对值 的 最大值 决定的。\n",
    "\n",
    "请你返回从左上角走到右下角的最小 体力消耗值 。\n",
    "\n",
    " \n",
    "\n",
    "示例 1：\n",
    "\n",
    "\n",
    "\n",
    "输入：heights = [[1,2,2],[3,8,2],[5,3,5]]\n",
    "输出：2\n",
    "解释：路径 [1,3,5,3,5] 连续格子的差值绝对值最大为 2 。\n",
    "这条路径比路径 [1,2,2,2,5] 更优，因为另一条路径差值最大值为 3 。\n",
    "示例 2：\n",
    "\n",
    "\n",
    "\n",
    "输入：heights = [[1,2,3],[3,8,4],[5,3,5]]\n",
    "输出：1\n",
    "解释：路径 [1,2,3,4,5] 的相邻格子差值绝对值最大为 1 ，比路径 [1,3,5,3,5] 更优。\n",
    "示例 3：\n",
    "\n",
    "\n",
    "输入：heights = [[1,2,1,1,1],[1,2,1,2,1],[1,2,1,2,1],[1,2,1,2,1],[1,1,1,2,1]]\n",
    "输出：0\n",
    "解释：上图所示路径不需要消耗任何体力。\n",
    " \n",
    "\n",
    "提示：\n",
    "\n",
    "rows == heights.length\n",
    "columns == heights[i].length\n",
    "1 <= rows, columns <= 100\n",
    "1 <= heights[i][j] <= 106"
   ],
   "metadata": {
    "collapsed": false
   },
   "id": "1eb2612049f10a5f"
  },
  {
   "cell_type": "code",
   "outputs": [
    {
     "name": "stdout",
     "output_type": "stream",
     "text": [
      "2\n",
      "1\n",
      "0\n",
      "9\n"
     ]
    }
   ],
   "source": [
    "# 二分查找，广度优先搜索 BFS\n",
    "\n",
    "class Solution(object):\n",
    "    def minimumEffortPath(self, heights):\n",
    "        \n",
    "        def canReachEnd(maxEffort):\n",
    "            rows, cols = len(heights), len(heights[0])\n",
    "            visited = [[False] * cols for _ in range(rows)]\n",
    "            queue = [[0, 0]]\n",
    "            directions = [[0, 1], (0, -1), (-1, 0), (1, 0)]\n",
    "            while queue:\n",
    "                x, y = queue.pop(0)\n",
    "                if x == rows - 1 and y == cols - 1:\n",
    "                    return True\n",
    "                for dx, dy in directions:\n",
    "                    nx, ny = x + dx, y + dy\n",
    "                    if 0 <= nx < rows and 0 <= ny < cols and not visited[nx][ny]:\n",
    "                        if abs(heights[nx][ny] - heights[x][y]) <= maxEffort:\n",
    "                            visited[nx][ny] = True\n",
    "                            queue.append([nx, ny])\n",
    "            return False\n",
    "        \n",
    "        left, right = 0, max(max(row) for row in heights)\n",
    "        while left < right:\n",
    "            mid = (left + right) // 2\n",
    "            if canReachEnd(mid):\n",
    "                right = mid\n",
    "            else:\n",
    "                left = mid + 1\n",
    "        return left\n",
    "    \n",
    "solution = Solution()\n",
    "print(solution.minimumEffortPath([[1,2,2],[3,8,2],[5,3,5]])) # 2\n",
    "print(solution.minimumEffortPath([[1,2,3],[3,8,4],[5,3,5]])) # 1\n",
    "print(solution.minimumEffortPath([[1,2,1,1,1],[1,2,1,2,1],[1,2,1,2,1],[1,2,1,2,1],[1,1,1,2,1]])) # 0\n",
    "print(solution.minimumEffortPath([[1,10,6,7,9,10,4,9]])) # 9"
   ],
   "metadata": {
    "collapsed": false,
    "ExecuteTime": {
     "end_time": "2024-06-30T16:30:39.401103Z",
     "start_time": "2024-06-30T16:30:39.394561Z"
    }
   },
   "id": "93c2b62f8725a4bd",
   "execution_count": 1
  },
  {
   "cell_type": "code",
   "outputs": [],
   "source": [],
   "metadata": {
    "collapsed": false
   },
   "id": "33ddc303ef4aba7a"
  }
 ],
 "metadata": {
  "kernelspec": {
   "display_name": "Python 3",
   "language": "python",
   "name": "python3"
  },
  "language_info": {
   "codemirror_mode": {
    "name": "ipython",
    "version": 2
   },
   "file_extension": ".py",
   "mimetype": "text/x-python",
   "name": "python",
   "nbconvert_exporter": "python",
   "pygments_lexer": "ipython2",
   "version": "2.7.6"
  }
 },
 "nbformat": 4,
 "nbformat_minor": 5
}
