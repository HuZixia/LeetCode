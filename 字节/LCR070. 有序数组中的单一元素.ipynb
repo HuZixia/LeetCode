{
 "cells": [
  {
   "cell_type": "raw",
   "source": [
    "LCR 070. 有序数组中的单一元素\n",
    "已解答\n",
    "中等\n",
    "相关标签\n",
    "相关企业\n",
    "给定一个只包含整数的有序数组 nums ，每个元素都会出现两次，唯有一个数只会出现一次，请找出这个唯一的数字。\n",
    "\n",
    " \n",
    "\n",
    "示例 1:\n",
    "\n",
    "输入: nums = [1,1,2,3,3,4,4,8,8]\n",
    "输出: 2\n",
    "示例 2:\n",
    "\n",
    "输入: nums =  [3,3,7,7,10,11,11]\n",
    "输出: 10\n",
    " \n",
    "\n",
    " \n",
    "\n",
    "提示:\n",
    "\n",
    "1 <= nums.length <= 105\n",
    "0 <= nums[i] <= 105\n",
    " \n",
    "\n",
    "进阶: 采用的方案可以在 O(log n) 时间复杂度和 O(1) 空间复杂度中运行吗？"
   ],
   "metadata": {
    "collapsed": false
   },
   "id": "43f36cf21689dbcb"
  },
  {
   "cell_type": "code",
   "outputs": [
    {
     "name": "stdout",
     "output_type": "stream",
     "text": [
      "2\n",
      "10\n",
      "4\n"
     ]
    }
   ],
   "source": [
    "# 双指针法\n",
    "\n",
    "class Solution(object):\n",
    "    def singleNonDuplicate(self, nums):\n",
    "        left, right = 0, len(nums) - 1\n",
    "        while left < right:\n",
    "            mid = (left + right) // 2\n",
    "            # 如果mid是偶数，且mid和mid+1相同，说明唯一元素在mid之后\n",
    "            if mid % 2 == 0:\n",
    "                if nums[mid] == nums[mid+1]:\n",
    "                    left = mid + 2\n",
    "                else:\n",
    "                    right = mid\n",
    "            # 如果mid是奇数，且mid和mid-1相同，说明唯一元素在mid之后\n",
    "            else:\n",
    "                if nums[mid] == nums[mid-1]:\n",
    "                    left = mid + 1\n",
    "                else:\n",
    "                    right = mid - 1\n",
    "        return nums[left]\n",
    "\n",
    "\n",
    "solution = Solution()\n",
    "print(solution.singleNonDuplicate([1,1,2,3,3,4,4,8,8]))\n",
    "print(solution.singleNonDuplicate([3,3,7,7,10,11,11]))\n",
    "print(solution.singleNonDuplicate([1,1,2,2,3,3,4,5,5]))"
   ],
   "metadata": {
    "collapsed": false,
    "ExecuteTime": {
     "end_time": "2024-07-01T08:25:01.868943Z",
     "start_time": "2024-07-01T08:25:01.863194Z"
    }
   },
   "id": "87cfb285ee07765d",
   "execution_count": 2
  },
  {
   "cell_type": "code",
   "outputs": [],
   "source": [],
   "metadata": {
    "collapsed": false
   },
   "id": "5f60905239dda106"
  }
 ],
 "metadata": {
  "kernelspec": {
   "display_name": "Python 3",
   "language": "python",
   "name": "python3"
  },
  "language_info": {
   "codemirror_mode": {
    "name": "ipython",
    "version": 2
   },
   "file_extension": ".py",
   "mimetype": "text/x-python",
   "name": "python",
   "nbconvert_exporter": "python",
   "pygments_lexer": "ipython2",
   "version": "2.7.6"
  }
 },
 "nbformat": 4,
 "nbformat_minor": 5
}
