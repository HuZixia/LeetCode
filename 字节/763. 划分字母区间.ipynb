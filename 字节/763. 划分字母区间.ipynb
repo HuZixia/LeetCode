{
 "cells": [
  {
   "cell_type": "raw",
   "source": [
    "763. 划分字母区间\n",
    "已解答\n",
    "中等\n",
    "相关标签\n",
    "相关企业\n",
    "提示\n",
    "给你一个字符串 s 。我们要把这个字符串划分为尽可能多的片段，同一字母最多出现在一个片段中。\n",
    "\n",
    "注意，划分结果需要满足：将所有划分结果按顺序连接，得到的字符串仍然是 s 。\n",
    "\n",
    "返回一个表示每个字符串片段的长度的列表。\n",
    "\n",
    " \n",
    "\n",
    "示例 1：\n",
    "输入：s = \"ababcbacadefegdehijhklij\"\n",
    "输出：[9,7,8]\n",
    "解释：\n",
    "划分结果为 \"ababcbaca\"、\"defegde\"、\"hijhklij\" 。\n",
    "每个字母最多出现在一个片段中。\n",
    "像 \"ababcbacadefegde\", \"hijhklij\" 这样的划分是错误的，因为划分的片段数较少。 \n",
    "示例 2：\n",
    "\n",
    "输入：s = \"eccbbbbdec\"\n",
    "输出：[10]\n",
    " \n",
    "\n",
    "提示：\n",
    "\n",
    "1 <= s.length <= 500\n",
    "s 仅由小写英文字母组成"
   ],
   "metadata": {
    "collapsed": false
   },
   "id": "7a1bc85580d9515d"
  },
  {
   "cell_type": "code",
   "outputs": [
    {
     "name": "stdout",
     "output_type": "stream",
     "text": [
      "[9, 7, 8]\n",
      "[10]\n",
      "[1, 1, 1]\n"
     ]
    }
   ],
   "source": [
    "# 1. 记录每个字母最后一次出现的位置\n",
    "# 2. 遍历字符串并确定分片的边界\n",
    "\n",
    "class Solution(object):\n",
    "    def partitionLables(self, s):\n",
    "        \n",
    "        # 记录每个字符串最后出现的位置\n",
    "        last = {char: idx for idx, char in enumerate(s)}\n",
    "        \n",
    "        # 初始化结果列表和分片边界\n",
    "        result = []\n",
    "        start, end = 0, 0\n",
    "        \n",
    "        # 遍历字符串\n",
    "        for idx, char in enumerate(s):\n",
    "            # 更新当前片段的最远边界\n",
    "            end = max(end, last[char])\n",
    "            \n",
    "            # 当前索引等于最远边界，说明当前片段已经结束，添加片段长度到结果列表中，并更新下一个片段的起始边界\n",
    "            if idx == end:\n",
    "                result.append(end - start + 1)\n",
    "                start = idx + 1\n",
    "        return result\n",
    "    \n",
    "solution = Solution()\n",
    "print(solution.partitionLables(\"ababcbacadefegdehijhklij\")) # [9, 7, 8]\n",
    "print(solution.partitionLables(\"eccbbbbdec\")) # [10]\n",
    "print(solution.partitionLables(\"abc\")) # [1, 1, 1]"
   ],
   "metadata": {
    "collapsed": false,
    "ExecuteTime": {
     "end_time": "2024-07-01T15:57:49.461099Z",
     "start_time": "2024-07-01T15:57:49.454651Z"
    }
   },
   "id": "c0f083d7116a484",
   "execution_count": 2
  },
  {
   "cell_type": "code",
   "outputs": [],
   "source": [],
   "metadata": {
    "collapsed": false
   },
   "id": "1bb3fe1f33cf6d9b"
  }
 ],
 "metadata": {
  "kernelspec": {
   "display_name": "Python 3",
   "language": "python",
   "name": "python3"
  },
  "language_info": {
   "codemirror_mode": {
    "name": "ipython",
    "version": 2
   },
   "file_extension": ".py",
   "mimetype": "text/x-python",
   "name": "python",
   "nbconvert_exporter": "python",
   "pygments_lexer": "ipython2",
   "version": "2.7.6"
  }
 },
 "nbformat": 4,
 "nbformat_minor": 5
}
