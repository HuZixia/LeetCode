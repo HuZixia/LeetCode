{
 "cells": [
  {
   "cell_type": "raw",
   "source": [
    "54. 螺旋矩阵\n",
    "已解答\n",
    "中等\n",
    "相关标签\n",
    "相关企业\n",
    "提示\n",
    "给你一个 m 行 n 列的矩阵 matrix ，请按照 顺时针螺旋顺序 ，返回矩阵中的所有元素。\n",
    "\n",
    " \n",
    "\n",
    "示例 1：\n",
    "\n",
    "\n",
    "输入：matrix = [[1,2,3],[4,5,6],[7,8,9]]\n",
    "输出：[1,2,3,6,9,8,7,4,5]\n",
    "示例 2：\n",
    "\n",
    "\n",
    "输入：matrix = [[1,2,3,4],[5,6,7,8],[9,10,11,12]]\n",
    "输出：[1,2,3,4,8,12,11,10,9,5,6,7]\n",
    " \n",
    "\n",
    "提示：\n",
    "\n",
    "m == matrix.length\n",
    "n == matrix[i].length\n",
    "1 <= m, n <= 10\n",
    "-100 <= matrix[i][j] <= 100"
   ],
   "metadata": {
    "collapsed": false
   },
   "id": "d0416bd7841fd08c"
  },
  {
   "cell_type": "code",
   "outputs": [
    {
     "name": "stdout",
     "output_type": "stream",
     "text": [
      "[1, 2, 3, 6, 9, 8, 7, 4, 5]\n",
      "[1, 2, 3, 4, 8, 12, 11, 10, 9, 5, 6, 7]\n",
      "[]\n"
     ]
    }
   ],
   "source": [
    "class Solution(object):\n",
    "    def spiralOrder(self, matrix):\n",
    "        if not matrix or not matrix[0]:\n",
    "            return []\n",
    "        result = []\n",
    "        top, bottom = 0, len(matrix) - 1\n",
    "        left, right = 0, len(matrix[0]) - 1\n",
    "        while top <= bottom and left <= right:\n",
    "            # 从左到右\n",
    "            for i in range(left, right + 1):\n",
    "                result.append(matrix[top][i])\n",
    "            top += 1\n",
    "            # 从上到下\n",
    "            for i in range(top, bottom + 1):\n",
    "                result.append(matrix[i][right])\n",
    "            right -= 1\n",
    "            # 从右到左\n",
    "            if top <= bottom:\n",
    "                for i in range(right, left - 1, -1):\n",
    "                    result.append(matrix[bottom][i])\n",
    "                bottom -= 1\n",
    "            # 从下到上\n",
    "            if left <= right:\n",
    "                for i in range(bottom, top - 1, -1):\n",
    "                    result.append(matrix[i][left])\n",
    "                left += 1\n",
    "                \n",
    "        return result\n",
    "\n",
    "solution = Solution()\n",
    "print(solution.spiralOrder([[1,2,3],[4,5,6],[7,8,9]])) # [1,2,3,6,9,8,7,4,5]\n",
    "print(solution.spiralOrder([[1,2,3,4],[5,6,7,8],[9,10,11,12]])) # [1,2,3,4,8,12,11,10,9,5,6,7]\n",
    "print(solution.spiralOrder([])) # []"
   ],
   "metadata": {
    "collapsed": false,
    "ExecuteTime": {
     "end_time": "2024-07-01T15:40:19.282909Z",
     "start_time": "2024-07-01T15:40:19.277011Z"
    }
   },
   "id": "69b9be494eb23d7b",
   "execution_count": 1
  },
  {
   "cell_type": "code",
   "outputs": [],
   "source": [],
   "metadata": {
    "collapsed": false
   },
   "id": "753d1e56e19df2ab"
  }
 ],
 "metadata": {
  "kernelspec": {
   "display_name": "Python 3",
   "language": "python",
   "name": "python3"
  },
  "language_info": {
   "codemirror_mode": {
    "name": "ipython",
    "version": 2
   },
   "file_extension": ".py",
   "mimetype": "text/x-python",
   "name": "python",
   "nbconvert_exporter": "python",
   "pygments_lexer": "ipython2",
   "version": "2.7.6"
  }
 },
 "nbformat": 4,
 "nbformat_minor": 5
}
