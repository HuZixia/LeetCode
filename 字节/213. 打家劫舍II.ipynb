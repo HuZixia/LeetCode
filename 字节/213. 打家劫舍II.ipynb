{
 "cells": [
  {
   "cell_type": "raw",
   "source": [
    "213. 打家劫舍 II\n",
    "已解答\n",
    "中等\n",
    "相关标签\n",
    "相关企业\n",
    "提示\n",
    "你是一个专业的小偷，计划偷窃沿街的房屋，每间房内都藏有一定的现金。这个地方所有的房屋都 围成一圈 ，这意味着第一个房屋和最后一个房屋是紧挨着的。同时，相邻的房屋装有相互连通的防盗系统，如果两间相邻的房屋在同一晚上被小偷闯入，系统会自动报警 。\n",
    "\n",
    "给定一个代表每个房屋存放金额的非负整数数组，计算你 在不触动警报装置的情况下 ，今晚能够偷窃到的最高金额。\n",
    "\n",
    " \n",
    "\n",
    "示例 1：\n",
    "\n",
    "输入：nums = [2,3,2]\n",
    "输出：3\n",
    "解释：你不能先偷窃 1 号房屋（金额 = 2），然后偷窃 3 号房屋（金额 = 2）, 因为他们是相邻的。\n",
    "示例 2：\n",
    "\n",
    "输入：nums = [1,2,3,1]\n",
    "输出：4\n",
    "解释：你可以先偷窃 1 号房屋（金额 = 1），然后偷窃 3 号房屋（金额 = 3）。\n",
    "     偷窃到的最高金额 = 1 + 3 = 4 。\n",
    "示例 3：\n",
    "\n",
    "输入：nums = [1,2,3]\n",
    "输出：3\n",
    " \n",
    "\n",
    "提示：\n",
    "\n",
    "1 <= nums.length <= 100\n",
    "0 <= nums[i] <= 1000"
   ],
   "metadata": {
    "collapsed": false
   },
   "id": "ae6b49865eb371df"
  },
  {
   "cell_type": "code",
   "outputs": [
    {
     "name": "stdout",
     "output_type": "stream",
     "text": [
      "3\n",
      "3\n",
      "2\n"
     ]
    }
   ],
   "source": [
    "# 分解成两个线性打家劫舍问题来解决\n",
    "# 忽略第一个房子，计算第二个房子到最后一个房子的最大偷盗金额\n",
    "# 忽略最后一个房子，计算第一个房子到倒数第二个房子的最大偷盗金额\n",
    "\n",
    "class Solution(object):\n",
    "    def rob(self, nums):\n",
    "        # 处理特殊情况\n",
    "        if not nums:\n",
    "            return 0\n",
    "        if len(nums) == 1:\n",
    "            return nums[0]\n",
    "        # 定义一个函数来处理线性打家劫舍问题\n",
    "        def rob_linear(nums):\n",
    "            if not nums:\n",
    "                return 0\n",
    "            if len(nums) == 1:\n",
    "                return nums[0]\n",
    "            \n",
    "            n = len(nums)\n",
    "            dp = [0] * n\n",
    "            dp[0] = 0\n",
    "            dp[1] = nums[0]\n",
    "            for i in range(2, n):\n",
    "                dp[i] = max(dp[i-1], dp[i-2]+nums[i])\n",
    "            return dp[-1]\n",
    "        # 分别计算忽略第一个房子和最后一个房子的情况\n",
    "        return max(rob_linear(nums[1:]), rob_linear(nums[:-1]))\n",
    "\n",
    "solution = Solution()\n",
    "print(solution.rob([2,3,2]))  # 输出 3\n",
    "print(solution.rob([1,2,3,1]))  # 输出 4\n",
    "print(solution.rob([1,2,3]))  # 输出 3\n",
    "            \n",
    "            "
   ],
   "metadata": {
    "collapsed": false,
    "ExecuteTime": {
     "end_time": "2024-07-01T02:52:26.318867Z",
     "start_time": "2024-07-01T02:52:26.312547Z"
    }
   },
   "id": "beb50e2e86250383",
   "execution_count": 1
  },
  {
   "cell_type": "code",
   "outputs": [],
   "source": [],
   "metadata": {
    "collapsed": false
   },
   "id": "1b1b66fa054cf442"
  }
 ],
 "metadata": {
  "kernelspec": {
   "display_name": "Python 3",
   "language": "python",
   "name": "python3"
  },
  "language_info": {
   "codemirror_mode": {
    "name": "ipython",
    "version": 2
   },
   "file_extension": ".py",
   "mimetype": "text/x-python",
   "name": "python",
   "nbconvert_exporter": "python",
   "pygments_lexer": "ipython2",
   "version": "2.7.6"
  }
 },
 "nbformat": 4,
 "nbformat_minor": 5
}
