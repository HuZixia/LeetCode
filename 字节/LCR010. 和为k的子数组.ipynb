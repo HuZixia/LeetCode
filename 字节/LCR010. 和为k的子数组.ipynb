{
 "cells": [
  {
   "cell_type": "raw",
   "source": [
    "LCR 010. 和为 K 的子数组\n",
    "已解答\n",
    "中等\n",
    "相关标签\n",
    "相关企业\n",
    "给定一个整数数组和一个整数 k ，请找到该数组中和为 k 的连续子数组的个数。\n",
    "\n",
    " \n",
    "\n",
    "示例 1：\n",
    "\n",
    "输入:nums = [1,1,1], k = 2\n",
    "输出: 2\n",
    "解释: 此题 [1,1] 与 [1,1] 为两种不同的情况\n",
    "示例 2：\n",
    "\n",
    "输入:nums = [1,2,3], k = 3\n",
    "输出: 2\n",
    " \n",
    "\n",
    "提示:\n",
    "\n",
    "1 <= nums.length <= 2 * 104\n",
    "-1000 <= nums[i] <= 1000\n",
    "-107 <= k <= 107\n",
    "\n",
    " \n",
    "\n",
    "注意：本题与主站 560 题相同： https://leetcode-cn.com/problems/subarray-sum-equals-k/"
   ],
   "metadata": {
    "collapsed": false
   },
   "id": "dde2ee6048cd949f"
  },
  {
   "cell_type": "code",
   "outputs": [
    {
     "name": "stdout",
     "output_type": "stream",
     "text": [
      "2\n",
      "2\n",
      "1\n"
     ]
    }
   ],
   "source": [
    "# 前缀和 + 哈希表\n",
    "\n",
    "class Solution(object):\n",
    "    def subarraySum(self, nums, k):\n",
    "        \n",
    "        count = 0\n",
    "        current_sum = 0\n",
    "        \n",
    "        # 哈希表，记录前缀和出现的次数，初始值为0，次数为1\n",
    "        prefix_sum = {0:1}\n",
    "        \n",
    "        # 遍历数组\n",
    "        for num in nums:\n",
    "            # 计算当前前缀和\n",
    "            current_sum += num\n",
    "            # 找到满足条件的子数组，更新count计数\n",
    "            if current_sum - k in prefix_sum:\n",
    "                count += prefix_sum[current_sum - k]\n",
    "            \n",
    "            # 更新当前前缀和出现的次数\n",
    "            if current_sum in prefix_sum:\n",
    "                prefix_sum[current_sum] += 1\n",
    "            else:\n",
    "                prefix_sum[current_sum] = 1\n",
    "        return count\n",
    "\n",
    "\n",
    "solution = Solution()\n",
    "print(solution.subarraySum([1,1,1], 2)) # 2\n",
    "print(solution.subarraySum([1,2,3], 3)) # 2\n",
    "print(solution.subarraySum([1,2,3], 5)) # 1"
   ],
   "metadata": {
    "collapsed": false,
    "ExecuteTime": {
     "end_time": "2024-07-01T03:28:48.519341Z",
     "start_time": "2024-07-01T03:28:48.512579Z"
    }
   },
   "id": "a9dbc43f8f1a62a9",
   "execution_count": 1
  },
  {
   "cell_type": "code",
   "outputs": [],
   "source": [],
   "metadata": {
    "collapsed": false
   },
   "id": "fdd1ca867e48505f"
  }
 ],
 "metadata": {
  "kernelspec": {
   "display_name": "Python 3",
   "language": "python",
   "name": "python3"
  },
  "language_info": {
   "codemirror_mode": {
    "name": "ipython",
    "version": 2
   },
   "file_extension": ".py",
   "mimetype": "text/x-python",
   "name": "python",
   "nbconvert_exporter": "python",
   "pygments_lexer": "ipython2",
   "version": "2.7.6"
  }
 },
 "nbformat": 4,
 "nbformat_minor": 5
}
