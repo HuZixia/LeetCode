{
 "cells": [
  {
   "cell_type": "raw",
   "source": [
    "503. 下一个更大元素 II\n",
    "已解答\n",
    "中等\n",
    "相关标签\n",
    "相关企业\n",
    "给定一个循环数组 nums （ nums[nums.length - 1] 的下一个元素是 nums[0] ），返回 nums 中每个元素的 下一个更大元素 。\n",
    "\n",
    "数字 x 的 下一个更大的元素 是按数组遍历顺序，这个数字之后的第一个比它更大的数，这意味着你应该循环地搜索它的下一个更大的数。如果不存在，则输出 -1 。\n",
    "\n",
    " \n",
    "\n",
    "示例 1:\n",
    "\n",
    "输入: nums = [1,2,1]\n",
    "输出: [2,-1,2]\n",
    "解释: 第一个 1 的下一个更大的数是 2；\n",
    "数字 2 找不到下一个更大的数； \n",
    "第二个 1 的下一个最大的数需要循环搜索，结果也是 2。\n",
    "示例 2:\n",
    "\n",
    "输入: nums = [1,2,3,4,3]\n",
    "输出: [2,3,4,-1,4]\n",
    " \n",
    "\n",
    "提示:\n",
    "\n",
    "1 <= nums.length <= 104\n",
    "-109 <= nums[i] <= 109"
   ],
   "metadata": {
    "collapsed": false
   },
   "id": "38c91e073f550d03"
  },
  {
   "cell_type": "code",
   "outputs": [
    {
     "name": "stdout",
     "output_type": "stream",
     "text": [
      "[2, -1, 2]\n",
      "[2, 3, 4, -1, 4]\n"
     ]
    }
   ],
   "source": [
    "# 单调栈 + 循环数组\n",
    "\n",
    "class Solution(object):\n",
    "    def nextGreaterElements(self, nums):\n",
    "        \n",
    "        # 初始化结果数组和单调栈\n",
    "        n = len(nums)\n",
    "        result = [-1] * n\n",
    "        stack = []\n",
    "        \n",
    "        # 循环遍历数组两次\n",
    "        for i in range(2*n):\n",
    "            # 通过取模的方式获取当前元素的值\n",
    "            num = nums[i%n]\n",
    "            \n",
    "            # 当栈不为空且栈顶索引对应元素小于当前元素时，说明栈顶索引对应元素找到了下一个更大的元素，将栈顶索引弹出，将当前元素的值赋予结果数组的对应索引\n",
    "            while stack and nums[stack[-1]] < num:\n",
    "                result[stack.pop()] = num\n",
    "            # 如果当前索引i小于n，将索引入栈\n",
    "            if i < n:\n",
    "                stack.append(i)\n",
    "        return result\n",
    "    \n",
    "solution = Solution()\n",
    "print(solution.nextGreaterElements([1,2,1])) # [2,-1,2]\n",
    "print(solution.nextGreaterElements([1,2,3,4,3])) # [2,3,4,-1,4]\n"
   ],
   "metadata": {
    "collapsed": false,
    "ExecuteTime": {
     "end_time": "2024-07-01T14:41:58.172223Z",
     "start_time": "2024-07-01T14:41:58.167284Z"
    }
   },
   "id": "20a1a7eeb74c819e",
   "execution_count": 1
  },
  {
   "cell_type": "code",
   "outputs": [],
   "source": [],
   "metadata": {
    "collapsed": false
   },
   "id": "c60f23f8f345a522"
  }
 ],
 "metadata": {
  "kernelspec": {
   "display_name": "Python 3",
   "language": "python",
   "name": "python3"
  },
  "language_info": {
   "codemirror_mode": {
    "name": "ipython",
    "version": 2
   },
   "file_extension": ".py",
   "mimetype": "text/x-python",
   "name": "python",
   "nbconvert_exporter": "python",
   "pygments_lexer": "ipython2",
   "version": "2.7.6"
  }
 },
 "nbformat": 4,
 "nbformat_minor": 5
}
