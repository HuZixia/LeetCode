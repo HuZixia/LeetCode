{
 "cells": [
  {
   "cell_type": "raw",
   "source": [
    "78. 子集\n",
    "已解答\n",
    "中等\n",
    "相关标签\n",
    "相关企业\n",
    "给你一个整数数组 nums ，数组中的元素 互不相同 。返回该数组所有可能的\n",
    "子集\n",
    "（幂集）。\n",
    "\n",
    "解集 不能 包含重复的子集。你可以按 任意顺序 返回解集。\n",
    "\n",
    " \n",
    "\n",
    "示例 1：\n",
    "\n",
    "输入：nums = [1,2,3]\n",
    "输出：[[],[1],[2],[1,2],[3],[1,3],[2,3],[1,2,3]]\n",
    "示例 2：\n",
    "\n",
    "输入：nums = [0]\n",
    "输出：[[],[0]]\n",
    " \n",
    "\n",
    "提示：\n",
    "\n",
    "1 <= nums.length <= 10\n",
    "-10 <= nums[i] <= 10\n",
    "nums 中的所有元素 互不相同"
   ],
   "metadata": {
    "collapsed": false
   },
   "id": "9660e9d48d36d3ba"
  },
  {
   "cell_type": "code",
   "outputs": [
    {
     "name": "stdout",
     "output_type": "stream",
     "text": [
      "[[], [1], [1, 2], [1, 2, 3], [1, 3], [2], [2, 3], [3]]\n",
      "[[], [0]]\n",
      "[[], [1], [1, 2], [1, 2, 2], [1, 2], [2], [2, 2], [2]]\n"
     ]
    }
   ],
   "source": [
    "# 回溯算法\n",
    "\n",
    "class Solution(object):\n",
    "    def subsets(self, nums):\n",
    "        \n",
    "        result = []\n",
    "        \n",
    "        def backtrack(current, start):\n",
    "            result.append(current[:]) # 浅拷贝\n",
    "            for i in range(start, len(nums)):\n",
    "                current.append(nums[i])\n",
    "                backtrack(current, i + 1)\n",
    "                current.pop()\n",
    "        \n",
    "        backtrack([], 0)\n",
    "        return result\n",
    "\n",
    "solution = Solution()\n",
    "print(solution.subsets([1,2,3]))\n",
    "print(solution.subsets([0]))\n",
    "print(solution.subsets([1,2,2]))\n",
    "            "
   ],
   "metadata": {
    "collapsed": false,
    "ExecuteTime": {
     "end_time": "2024-07-01T09:14:17.462665Z",
     "start_time": "2024-07-01T09:14:17.457912Z"
    }
   },
   "id": "ae4380248ee0512e",
   "execution_count": 1
  },
  {
   "cell_type": "code",
   "outputs": [
    {
     "name": "stdout",
     "output_type": "stream",
     "text": [
      "[[], [1], [1, 2], [1, 2, 3], [1, 3], [2], [2, 3], [3]]\n",
      "[[], [0]]\n",
      "[[], [1], [1, 2], [1, 2, 2], [1, 2], [2], [2, 2], [2]]\n"
     ]
    }
   ],
   "source": [
    "# 回溯算法\n",
    "\n",
    "class Solution(object):\n",
    "    def subsets(self, nums):\n",
    "        result = []\n",
    "        def backtrack(current, start):\n",
    "            result.append(list(current))\n",
    "            for i in range(start, len(nums)):\n",
    "                current.append(nums[i])\n",
    "                backtrack(current, i + 1)\n",
    "                current.pop()\n",
    "        backtrack([], 0)\n",
    "        return result\n",
    "    \n",
    "solution = Solution()\n",
    "print(solution.subsets([1,2,3]))\n",
    "print(solution.subsets([0]))\n",
    "print(solution.subsets([1,2,2]))"
   ],
   "metadata": {
    "collapsed": false,
    "ExecuteTime": {
     "end_time": "2024-07-01T09:16:58.132611Z",
     "start_time": "2024-07-01T09:16:58.127840Z"
    }
   },
   "id": "5780a269bc19ba89",
   "execution_count": 2
  },
  {
   "cell_type": "code",
   "outputs": [],
   "source": [],
   "metadata": {
    "collapsed": false
   },
   "id": "f58be4e1c0103111"
  }
 ],
 "metadata": {
  "kernelspec": {
   "display_name": "Python 3",
   "language": "python",
   "name": "python3"
  },
  "language_info": {
   "codemirror_mode": {
    "name": "ipython",
    "version": 2
   },
   "file_extension": ".py",
   "mimetype": "text/x-python",
   "name": "python",
   "nbconvert_exporter": "python",
   "pygments_lexer": "ipython2",
   "version": "2.7.6"
  }
 },
 "nbformat": 4,
 "nbformat_minor": 5
}
