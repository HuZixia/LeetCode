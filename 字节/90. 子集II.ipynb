{
 "cells": [
  {
   "cell_type": "raw",
   "source": [
    "90. 子集 II\n",
    "已解答\n",
    "中等\n",
    "相关标签\n",
    "相关企业\n",
    "给你一个整数数组 nums ，其中可能包含重复元素，请你返回该数组所有可能的 \n",
    "子集\n",
    "（幂集）。\n",
    "\n",
    "解集 不能 包含重复的子集。返回的解集中，子集可以按 任意顺序 排列。\n",
    "\n",
    " \n",
    "\n",
    "示例 1：\n",
    "\n",
    "输入：nums = [1,2,2]\n",
    "输出：[[],[1],[1,2],[1,2,2],[2],[2,2]]\n",
    "示例 2：\n",
    "\n",
    "输入：nums = [0]\n",
    "输出：[[],[0]]\n",
    " \n",
    "\n",
    "提示：\n",
    "\n",
    "1 <= nums.length <= 10\n",
    "-10 <= nums[i] <= 10"
   ],
   "metadata": {
    "collapsed": false
   },
   "id": "9bc583a96a731aac"
  },
  {
   "cell_type": "code",
   "outputs": [
    {
     "name": "stdout",
     "output_type": "stream",
     "text": [
      "[[], [1], [1, 2], [1, 2, 2], [2], [2, 2]]\n",
      "[[], [0]]\n",
      "[[], [1], [1, 2], [1, 2, 3], [1, 3], [2], [2, 3], [3]]\n"
     ]
    }
   ],
   "source": [
    "# 回溯法\n",
    "\n",
    "class Solution(object):\n",
    "    def subsetsWithDup(self, nums):\n",
    "        \n",
    "        # 先对数组进行排序，便于后续去重\n",
    "        nums.sort()\n",
    "        # 用于存储所有子集的结果列表\n",
    "        result = []\n",
    "        # 当前子集\n",
    "        current = []\n",
    "        \n",
    "        def backtrack(start):\n",
    "            # 每次进入函数，先记录当前子集的浅拷贝\n",
    "            result.append(list(current))\n",
    "            for i in range(start, len(nums)):\n",
    "                # 如果当前元素和前一个元素相同，跳过去重\n",
    "                if i > start and nums[i] == nums[i-1]:\n",
    "                    continue\n",
    "                # 选择当前元素，加入子集\n",
    "                current.append(nums[i])\n",
    "                # 递归调用，处理下一个元素\n",
    "                backtrack(i+1)\n",
    "                # 回溯，撤销选择的当前元素\n",
    "                current.pop()\n",
    "                \n",
    "        backtrack(0)\n",
    "        return result\n",
    "    \n",
    "\n",
    "solution = Solution()\n",
    "print(solution.subsetsWithDup([1,2,2]))\n",
    "print(solution.subsetsWithDup([0]))\n",
    "print(solution.subsetsWithDup([1,2,3]))"
   ],
   "metadata": {
    "collapsed": false,
    "ExecuteTime": {
     "end_time": "2024-07-01T16:04:33.362615Z",
     "start_time": "2024-07-01T16:04:33.358050Z"
    }
   },
   "id": "c7ad7bc34c554bee",
   "execution_count": 1
  },
  {
   "cell_type": "code",
   "outputs": [],
   "source": [],
   "metadata": {
    "collapsed": false
   },
   "id": "136935f18c203f0a"
  }
 ],
 "metadata": {
  "kernelspec": {
   "display_name": "Python 3",
   "language": "python",
   "name": "python3"
  },
  "language_info": {
   "codemirror_mode": {
    "name": "ipython",
    "version": 2
   },
   "file_extension": ".py",
   "mimetype": "text/x-python",
   "name": "python",
   "nbconvert_exporter": "python",
   "pygments_lexer": "ipython2",
   "version": "2.7.6"
  }
 },
 "nbformat": 4,
 "nbformat_minor": 5
}
