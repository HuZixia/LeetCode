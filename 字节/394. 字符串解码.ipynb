{
 "cells": [
  {
   "cell_type": "raw",
   "source": [
    "394. 字符串解码\n",
    "已解答\n",
    "中等\n",
    "相关标签\n",
    "相关企业\n",
    "给定一个经过编码的字符串，返回它解码后的字符串。\n",
    "\n",
    "编码规则为: k[encoded_string]，表示其中方括号内部的 encoded_string 正好重复 k 次。注意 k 保证为正整数。\n",
    "\n",
    "你可以认为输入字符串总是有效的；输入字符串中没有额外的空格，且输入的方括号总是符合格式要求的。\n",
    "\n",
    "此外，你可以认为原始数据不包含数字，所有的数字只表示重复的次数 k ，例如不会出现像 3a 或 2[4] 的输入。\n",
    "\n",
    " \n",
    "\n",
    "示例 1：\n",
    "\n",
    "输入：s = \"3[a]2[bc]\"\n",
    "输出：\"aaabcbc\"\n",
    "示例 2：\n",
    "\n",
    "输入：s = \"3[a2[c]]\"\n",
    "输出：\"accaccacc\"\n",
    "示例 3：\n",
    "\n",
    "输入：s = \"2[abc]3[cd]ef\"\n",
    "输出：\"abcabccdcdcdef\"\n",
    "示例 4：\n",
    "\n",
    "输入：s = \"abc3[cd]xyz\"\n",
    "输出：\"abccdcdcdxyz\"\n",
    " \n",
    "\n",
    "提示：\n",
    "\n",
    "1 <= s.length <= 30\n",
    "s 由小写英文字母、数字和方括号 '[]' 组成\n",
    "s 保证是一个 有效 的输入。\n",
    "s 中所有整数的取值范围为 [1, 300] "
   ],
   "metadata": {
    "collapsed": false
   },
   "id": "fb565fb1b412163c"
  },
  {
   "cell_type": "code",
   "outputs": [
    {
     "name": "stdout",
     "output_type": "stream",
     "text": [
      "aaabcbc\n",
      "accaccacc\n",
      "abcabccdcdcdef\n",
      "abccdcdcdxyz\n"
     ]
    }
   ],
   "source": [
    "# 栈法，用两个栈，一个用来存储数字倍数，一个用来存储字符串\n",
    "# 当遇到数字的时候，更新数字倍数\n",
    "# 当遇到左括号的时候，将数字倍数 和 字符串 压入栈\n",
    "# 当遇到右括号的时候，将数字倍数 和 字符串 弹出栈，进行字符串的拼接\n",
    "# 当遇到其他字母的时候，直接更新字符串\n",
    "\n",
    "class Solution(object):\n",
    "    def decodeString(self, s):\n",
    "        num_stack = []\n",
    "        str_stack = []\n",
    "        current_str = \"\"\n",
    "        k = 0\n",
    "        \n",
    "        for char in s:\n",
    "            if char.isdigit():\n",
    "                k = k * 10 + int(char)\n",
    "            elif char == \"[\":\n",
    "                num_stack.append(k)\n",
    "                str_stack.append(current_str)\n",
    "                current_str = \"\"\n",
    "                k = 0\n",
    "            elif char == \"]\":\n",
    "                prev_str = str_stack.pop()\n",
    "                repeat_num = num_stack.pop()\n",
    "                current_str = prev_str + repeat_num * current_str\n",
    "            else:\n",
    "                current_str += char\n",
    "        return current_str\n",
    "\n",
    "print(Solution().decodeString(\"3[a]2[bc]\")) # \"aaabcbc\"\n",
    "print(Solution().decodeString(\"3[a2[c]]\")) # \"accaccacc\"\n",
    "print(Solution().decodeString(\"2[abc]3[cd]ef\")) # \"abcabccdcdcdef\"\n",
    "print(Solution().decodeString(\"abc3[cd]xyz\")) # \"abccdcdcdxyz\""
   ],
   "metadata": {
    "collapsed": false,
    "ExecuteTime": {
     "end_time": "2024-07-01T14:06:21.526771Z",
     "start_time": "2024-07-01T14:06:21.522371Z"
    }
   },
   "id": "76e67727e6870dbf",
   "execution_count": 1
  },
  {
   "cell_type": "code",
   "outputs": [],
   "source": [],
   "metadata": {
    "collapsed": false
   },
   "id": "6d503eeb5966d0d"
  }
 ],
 "metadata": {
  "kernelspec": {
   "display_name": "Python 3",
   "language": "python",
   "name": "python3"
  },
  "language_info": {
   "codemirror_mode": {
    "name": "ipython",
    "version": 2
   },
   "file_extension": ".py",
   "mimetype": "text/x-python",
   "name": "python",
   "nbconvert_exporter": "python",
   "pygments_lexer": "ipython2",
   "version": "2.7.6"
  }
 },
 "nbformat": 4,
 "nbformat_minor": 5
}
