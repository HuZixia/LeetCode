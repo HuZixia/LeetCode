{
 "cells": [
  {
   "cell_type": "raw",
   "source": [
    "143. 重排链表\n",
    "已解答\n",
    "中等\n",
    "相关标签\n",
    "相关企业\n",
    "给定一个单链表 L 的头节点 head ，单链表 L 表示为：\n",
    "\n",
    "L0 → L1 → … → Ln - 1 → Ln\n",
    "请将其重新排列后变为：\n",
    "\n",
    "L0 → Ln → L1 → Ln - 1 → L2 → Ln - 2 → …\n",
    "不能只是单纯的改变节点内部的值，而是需要实际的进行节点交换。\n",
    "\n",
    " \n",
    "\n",
    "示例 1：\n",
    "\n",
    "\n",
    "\n",
    "输入：head = [1,2,3,4]\n",
    "输出：[1,4,2,3]\n",
    "示例 2：\n",
    "\n",
    "\n",
    "\n",
    "输入：head = [1,2,3,4,5]\n",
    "输出：[1,5,2,4,3]\n",
    " \n",
    "\n",
    "提示：\n",
    "\n",
    "链表的长度范围为 [1, 5 * 104]\n",
    "1 <= node.val <= 1000\n"
   ],
   "metadata": {
    "collapsed": false
   },
   "id": "691dd170418d28ee"
  },
  {
   "cell_type": "code",
   "outputs": [
    {
     "name": "stdout",
     "output_type": "stream",
     "text": [
      "[1, 4, 2, 3]\n",
      "[1, 5, 2, 4, 3]\n",
      "[1, 10, 2, 9, 3, 8, 4, 7, 5, 6]\n"
     ]
    }
   ],
   "source": [
    "# 1. 找到链表的中间节点\n",
    "# 2. 反转链表的后半部分\n",
    "# 3. 合并两个链表\n",
    "\n",
    "class ListNode(object):\n",
    "    def __init__(self, val=0, next=None):\n",
    "        self.val = val\n",
    "        self.next = next\n",
    "    \n",
    "class Solution(object):\n",
    "    def reorderList(self, head):\n",
    "        if not head or not head.next:\n",
    "            return \n",
    "        \n",
    "        # 使用快慢指针找到中间节点\n",
    "        slow, fast = head, head\n",
    "        while fast and fast.next:\n",
    "            slow = slow.next\n",
    "            fast = fast.next.next\n",
    "        # slow 指向链表的中间节点\n",
    "        \n",
    "        # 从中间节点开始反转链表的后半部分\n",
    "        prev, curr = None, slow.next\n",
    "        while curr:\n",
    "            next_node = curr.next\n",
    "            curr.next = prev\n",
    "            prev = curr\n",
    "            curr = next_node\n",
    "        \n",
    "        # 将中间节点的next设置位None，断开前后两个部分\n",
    "        slow.next = None\n",
    "        \n",
    "        # 合并两个链表\n",
    "        first, second = head, prev\n",
    "        while second:\n",
    "            tmp1, tmp2 = first.next, second.next\n",
    "            first.next = second\n",
    "            second.next = tmp1\n",
    "            first, second = tmp1, tmp2\n",
    "            \n",
    "        return head\n",
    "\n",
    "\n",
    "def list2ListNode(nums):\n",
    "    dummy = ListNode(0)\n",
    "    curr = dummy\n",
    "    for num in nums:\n",
    "        curr.next = ListNode(num)\n",
    "        curr = curr.next\n",
    "    return dummy.next\n",
    "\n",
    "\n",
    "def listNode2List(head):\n",
    "    result = []\n",
    "    while head:\n",
    "        result.append(head.val)\n",
    "        head = head.next\n",
    "    return result\n",
    "\n",
    "solution = Solution()\n",
    "\n",
    "print(listNode2List(solution.reorderList(list2ListNode([1,2,3,4]))))\n",
    "print(listNode2List(solution.reorderList(list2ListNode([1,2,3,4,5]))))\n",
    "print(listNode2List(solution.reorderList(list2ListNode([1,2,3,4,5,6,7,8,9,10]))))\n",
    "\n",
    "    "
   ],
   "metadata": {
    "collapsed": false,
    "ExecuteTime": {
     "end_time": "2024-07-01T13:31:43.649423Z",
     "start_time": "2024-07-01T13:31:43.642845Z"
    }
   },
   "id": "6f7877a1cd52c64d",
   "execution_count": 1
  },
  {
   "cell_type": "code",
   "outputs": [],
   "source": [],
   "metadata": {
    "collapsed": false
   },
   "id": "8466327074a14c31"
  }
 ],
 "metadata": {
  "kernelspec": {
   "display_name": "Python 3",
   "language": "python",
   "name": "python3"
  },
  "language_info": {
   "codemirror_mode": {
    "name": "ipython",
    "version": 2
   },
   "file_extension": ".py",
   "mimetype": "text/x-python",
   "name": "python",
   "nbconvert_exporter": "python",
   "pygments_lexer": "ipython2",
   "version": "2.7.6"
  }
 },
 "nbformat": 4,
 "nbformat_minor": 5
}
