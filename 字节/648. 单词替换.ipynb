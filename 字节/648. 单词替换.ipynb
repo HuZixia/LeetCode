{
 "cells": [
  {
   "cell_type": "raw",
   "source": [
    "648. 单词替换\n",
    "已解答\n",
    "中等\n",
    "相关标签\n",
    "相关企业\n",
    "在英语中，我们有一个叫做 词根(root) 的概念，可以词根 后面 添加其他一些词组成另一个较长的单词——我们称这个词为 衍生词 (derivative)。例如，词根 help，跟随着 继承词 \"ful\"，可以形成新的单词 \"helpful\"。\n",
    "\n",
    "现在，给定一个由许多 词根 组成的词典 dictionary 和一个用空格分隔单词形成的句子 sentence。你需要将句子中的所有 衍生词 用 词根 替换掉。如果 衍生词 有许多可以形成它的 词根，则用 最短 的 词根 替换它。\n",
    "\n",
    "你需要输出替换之后的句子。\n",
    "\n",
    " \n",
    "\n",
    "示例 1：\n",
    "\n",
    "输入：dictionary = [\"cat\",\"bat\",\"rat\"], sentence = \"the cattle was rattled by the battery\"\n",
    "输出：\"the cat was rat by the bat\"\n",
    "示例 2：\n",
    "\n",
    "输入：dictionary = [\"a\",\"b\",\"c\"], sentence = \"aadsfasf absbs bbab cadsfafs\"\n",
    "输出：\"a a b c\"\n",
    " \n",
    "\n",
    "提示：\n",
    "\n",
    "1 <= dictionary.length <= 1000\n",
    "1 <= dictionary[i].length <= 100\n",
    "dictionary[i] 仅由小写字母组成。\n",
    "1 <= sentence.length <= 106\n",
    "sentence 仅由小写字母和空格组成。\n",
    "sentence 中单词的总量在范围 [1, 1000] 内。\n",
    "sentence 中每个单词的长度在范围 [1, 1000] 内。\n",
    "sentence 中单词之间由一个空格隔开。\n",
    "sentence 没有前导或尾随空格。\n",
    " "
   ],
   "metadata": {
    "collapsed": false
   },
   "id": "da396b6e7b00c681"
  },
  {
   "cell_type": "code",
   "outputs": [
    {
     "name": "stdout",
     "output_type": "stream",
     "text": [
      "the cat was rat by the bat\n",
      "a a b c\n",
      "a a a a a a a a bbb baba baab baaba\n"
     ]
    }
   ],
   "source": [
    "class Solution(object):\n",
    "    def replaceWords(self, dictionary, sentence):\n",
    "        # 将词根字典转成集合\n",
    "        root_set = set(dictionary)\n",
    "        \n",
    "        # 定义替换单词的函数\n",
    "        def replace(word):\n",
    "            for i in range(1, len(word)+1):\n",
    "                if word[:i] in root_set:\n",
    "                    return word[:i]\n",
    "            return word\n",
    "        \n",
    "        # 分割句子中的每个单词，进行替换\n",
    "        words = sentence.split()\n",
    "        replace_words = [replace(word) for word in words]\n",
    "        # 将替换后的单词重新拼接成句子\n",
    "        return ' '.join(replace_words)\n",
    "\n",
    "\n",
    "solution = Solution()\n",
    "print(solution.replaceWords([\"cat\",\"bat\",\"rat\"], \"the cattle was rattled by the battery\"))\n",
    "print(solution.replaceWords([\"a\",\"b\",\"c\"], \"aadsfasf absbs bbab cadsfafs\"))\n",
    "print(solution.replaceWords([\"a\", \"aa\", \"aaa\", \"aaaa\"], \"a aa a aaaa aaa aaa aaa aaaaaa bbb baba baab baaba\"))"
   ],
   "metadata": {
    "collapsed": false,
    "ExecuteTime": {
     "end_time": "2024-06-30T12:35:20.288888Z",
     "start_time": "2024-06-30T12:35:20.282500Z"
    }
   },
   "id": "f9efc9f60ddbe00f",
   "execution_count": 2
  },
  {
   "cell_type": "code",
   "outputs": [],
   "source": [],
   "metadata": {
    "collapsed": false
   },
   "id": "51105806e52d1eff"
  }
 ],
 "metadata": {
  "kernelspec": {
   "display_name": "Python 3",
   "language": "python",
   "name": "python3"
  },
  "language_info": {
   "codemirror_mode": {
    "name": "ipython",
    "version": 2
   },
   "file_extension": ".py",
   "mimetype": "text/x-python",
   "name": "python",
   "nbconvert_exporter": "python",
   "pygments_lexer": "ipython2",
   "version": "2.7.6"
  }
 },
 "nbformat": 4,
 "nbformat_minor": 5
}
