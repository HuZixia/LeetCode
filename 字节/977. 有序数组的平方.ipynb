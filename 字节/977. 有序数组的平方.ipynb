{
 "cells": [
  {
   "cell_type": "raw",
   "source": [
    "977. 有序数组的平方\n",
    "已解答\n",
    "简单\n",
    "相关标签\n",
    "相关企业\n",
    "给你一个按 非递减顺序 排序的整数数组 nums，返回 每个数字的平方 组成的新数组，要求也按 非递减顺序 排序。\n",
    "\n",
    " \n",
    "\n",
    "示例 1：\n",
    "\n",
    "输入：nums = [-4,-1,0,3,10]\n",
    "输出：[0,1,9,16,100]\n",
    "解释：平方后，数组变为 [16,1,0,9,100]\n",
    "排序后，数组变为 [0,1,9,16,100]\n",
    "示例 2：\n",
    "\n",
    "输入：nums = [-7,-3,2,3,11]\n",
    "输出：[4,9,9,49,121]\n",
    " \n",
    "\n",
    "提示：\n",
    "\n",
    "1 <= nums.length <= 104\n",
    "-104 <= nums[i] <= 104\n",
    "nums 已按 非递减顺序 排序\n",
    " \n",
    "\n",
    "进阶：\n",
    "\n",
    "请你设计时间复杂度为 O(n) 的算法解决本问题"
   ],
   "metadata": {
    "collapsed": false
   },
   "id": "fc665d8ba01f924b"
  },
  {
   "cell_type": "code",
   "outputs": [
    {
     "name": "stdout",
     "output_type": "stream",
     "text": [
      "[0, 1, 9, 16, 100]\n",
      "[4, 9, 9, 49, 121]\n",
      "[1]\n"
     ]
    }
   ],
   "source": [
    "# 直接排序\n",
    "\n",
    "class Solution(object):\n",
    "    def sortedSquares(self, nums):\n",
    "        return sorted(num * num for num in nums)\n",
    "    \n",
    "solution = Solution()\n",
    "print(solution.sortedSquares([-4,-1,0,3,10])) # [0,1,9,16,100]\n",
    "print(solution.sortedSquares([-7,-3,2,3,11])) # [4,9,9,49,121]\n",
    "print(solution.sortedSquares([1])) # [1]\n"
   ],
   "metadata": {
    "collapsed": false,
    "ExecuteTime": {
     "end_time": "2024-07-01T01:38:25.219796Z",
     "start_time": "2024-07-01T01:38:25.215326Z"
    }
   },
   "id": "c4671e36fc1a78f2",
   "execution_count": 1
  },
  {
   "cell_type": "code",
   "outputs": [
    {
     "name": "stdout",
     "output_type": "stream",
     "text": [
      "[0, 1, 9, 16, 100]\n",
      "[4, 9, 9, 49, 121]\n"
     ]
    }
   ],
   "source": [
    "# 直接排序\n",
    "\n",
    "class Solution(object):\n",
    "    def sortedSquares(self, nums):\n",
    "        result = []\n",
    "        for i in range(len(nums)):\n",
    "            result.append(nums[i] * nums[i])\n",
    "        result.sort()\n",
    "        return result\n",
    "\n",
    "solution = Solution()\n",
    "print(solution.sortedSquares([-4,-1,0,3,10])) # [0,1,9,16,100]\n",
    "print(solution.sortedSquares([-7,-3,2,3,11])) # [4,9,9,49,121]\n",
    "            "
   ],
   "metadata": {
    "collapsed": false,
    "ExecuteTime": {
     "end_time": "2024-07-01T01:39:48.740132Z",
     "start_time": "2024-07-01T01:39:48.735468Z"
    }
   },
   "id": "e643709c13070d04",
   "execution_count": 2
  },
  {
   "cell_type": "code",
   "outputs": [
    {
     "name": "stdout",
     "output_type": "stream",
     "text": [
      "[0, 1, 9, 16, 100]\n",
      "[4, 9, 9, 49, 121]\n"
     ]
    }
   ],
   "source": [
    "# 双指针法\n",
    "\n",
    "class Solution(object):\n",
    "    def sortedSquares(self, nums):\n",
    "        n = len(nums)\n",
    "        result = [0] * n\n",
    "        left, right = 0, n - 1\n",
    "        position = n - 1\n",
    "        while left <= right:\n",
    "            if abs(nums[left]) >= abs(nums[right]):\n",
    "                result[position] = nums[left] * nums[left]\n",
    "                left += 1\n",
    "            else:\n",
    "                result[position] = nums[right] * nums[right]\n",
    "                right -= 1\n",
    "            position -= 1\n",
    "        return result\n",
    "\n",
    "solution = Solution()\n",
    "print(solution.sortedSquares([-4,-1,0,3,10])) # [0,1,9,16,100]\n",
    "print(solution.sortedSquares([-7,-3,2,3,11])) # [4,9,9,49,121]\n",
    "                "
   ],
   "metadata": {
    "collapsed": false,
    "ExecuteTime": {
     "end_time": "2024-07-01T01:42:11.431518Z",
     "start_time": "2024-07-01T01:42:11.426920Z"
    }
   },
   "id": "4ec7d4ae79f3785b",
   "execution_count": 3
  },
  {
   "cell_type": "code",
   "outputs": [],
   "source": [],
   "metadata": {
    "collapsed": false
   },
   "id": "3d8122f5d077d88d"
  }
 ],
 "metadata": {
  "kernelspec": {
   "display_name": "Python 3",
   "language": "python",
   "name": "python3"
  },
  "language_info": {
   "codemirror_mode": {
    "name": "ipython",
    "version": 2
   },
   "file_extension": ".py",
   "mimetype": "text/x-python",
   "name": "python",
   "nbconvert_exporter": "python",
   "pygments_lexer": "ipython2",
   "version": "2.7.6"
  }
 },
 "nbformat": 4,
 "nbformat_minor": 5
}
