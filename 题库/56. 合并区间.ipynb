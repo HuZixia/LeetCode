{
 "cells": [
  {
   "cell_type": "raw",
   "source": [
    "56. 合并区间\n",
    "已解答\n",
    "中等\n",
    "相关标签\n",
    "相关企业\n",
    "以数组 intervals 表示若干个区间的集合，其中单个区间为 intervals[i] = [starti, endi] 。请你合并所有重叠的区间，并返回 一个不重叠的区间数组，该数组需恰好覆盖输入中的所有区间 。\n",
    "\n",
    " \n",
    "\n",
    "示例 1：\n",
    "\n",
    "输入：intervals = [[1,3],[2,6],[8,10],[15,18]]\n",
    "输出：[[1,6],[8,10],[15,18]]\n",
    "解释：区间 [1,3] 和 [2,6] 重叠, 将它们合并为 [1,6].\n",
    "示例 2：\n",
    "\n",
    "输入：intervals = [[1,4],[4,5]]\n",
    "输出：[[1,5]]\n",
    "解释：区间 [1,4] 和 [4,5] 可被视为重叠区间。\n",
    " \n",
    "\n",
    "提示：\n",
    "\n",
    "1 <= intervals.length <= 104\n",
    "intervals[i].length == 2\n",
    "0 <= starti <= endi <= 104"
   ],
   "metadata": {
    "collapsed": false
   },
   "id": "29370c559fa744a4"
  },
  {
   "cell_type": "code",
   "outputs": [
    {
     "name": "stdout",
     "output_type": "stream",
     "text": [
      "[[1, 6], [8, 10], [15, 18]]\n",
      "[[1, 5]]\n",
      "[]\n"
     ]
    }
   ],
   "source": [
    "class Solution(object):\n",
    "    def merge(self, intervals):\n",
    "        if not intervals:\n",
    "            return []\n",
    "        \n",
    "        merged = []\n",
    "        for interval in intervals:\n",
    "            # 如果merged为空，或者当前区间和上一个区间不重合，则直接加入merged\n",
    "            if not merged or merged[-1][1] < interval[0]:\n",
    "                merged.append(interval)\n",
    "            else:\n",
    "                # 如果当前区间和上一个区间重合，更新区间end位置\n",
    "                merged[-1][1] = max(merged[-1][1], interval[1])\n",
    "        return merged\n",
    "    \n",
    "solution = Solution()\n",
    "print(solution.merge([[1,3],[2,6],[8,10],[15,18]])) # [[1,6],[8,10],[15,18]]\n",
    "print(solution.merge([[1,4],[4,5]])) # [[1,5]]\n",
    "print(solution.merge([])) # []"
   ],
   "metadata": {
    "collapsed": false,
    "ExecuteTime": {
     "end_time": "2024-06-23T11:19:33.793708Z",
     "start_time": "2024-06-23T11:19:33.789175Z"
    }
   },
   "id": "97be7ce0fe13aa8",
   "execution_count": 1
  },
  {
   "cell_type": "code",
   "outputs": [],
   "source": [],
   "metadata": {
    "collapsed": false
   },
   "id": "49d1b2ea36a4f5cc"
  }
 ],
 "metadata": {
  "kernelspec": {
   "display_name": "Python 3",
   "language": "python",
   "name": "python3"
  },
  "language_info": {
   "codemirror_mode": {
    "name": "ipython",
    "version": 2
   },
   "file_extension": ".py",
   "mimetype": "text/x-python",
   "name": "python",
   "nbconvert_exporter": "python",
   "pygments_lexer": "ipython2",
   "version": "2.7.6"
  }
 },
 "nbformat": 4,
 "nbformat_minor": 5
}
