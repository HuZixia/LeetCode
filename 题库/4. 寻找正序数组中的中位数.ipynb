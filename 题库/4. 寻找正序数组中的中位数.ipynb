{
 "cells": [
  {
   "cell_type": "raw",
   "source": [
    "4. 寻找两个正序数组的中位数\n",
    "已解答\n",
    "困难\n",
    "相关标签\n",
    "相关企业\n",
    "给定两个大小分别为 m 和 n 的正序（从小到大）数组 nums1 和 nums2。请你找出并返回这两个正序数组的 中位数 。\n",
    "\n",
    "算法的时间复杂度应该为 O(log (m+n)) 。\n",
    "\n",
    "\n",
    "示例 1：\n",
    "\n",
    "输入：nums1 = [1,3], nums2 = [2]\n",
    "输出：2.00000\n",
    "解释：合并数组 = [1,2,3] ，中位数 2\n",
    "示例 2：\n",
    "\n",
    "输入：nums1 = [1,2], nums2 = [3,4]\n",
    "输出：2.50000\n",
    "解释：合并数组 = [1,2,3,4] ，中位数 (2 + 3) / 2 = 2.5\n"
   ],
   "metadata": {
    "collapsed": false
   },
   "id": "953d3086e0cb6a39"
  },
  {
   "cell_type": "code",
   "outputs": [
    {
     "name": "stdout",
     "output_type": "stream",
     "text": [
      "2\n",
      "2.5\n"
     ]
    }
   ],
   "source": [
    "class Solution(object):\n",
    "    def findMedianSortedArrays(self, nums1, nums2):\n",
    "        if len(nums1) > len(nums2):\n",
    "            nums1, nums2 = nums2, nums1\n",
    "        m, n = len(nums1), len(nums2)\n",
    "        left, right = 0, m\n",
    "        while left <= right:\n",
    "            partition1 = (left + right) // 2\n",
    "            partition2 = (m + n + 1) // 2 - partition1\n",
    "            \n",
    "            if partition1 < m and nums1[partition1] < nums2[partition2 - 1]:\n",
    "                left = partition1 + 1\n",
    "            elif partition1 > 0 and nums1[partition1 - 1] > nums2[partition2]:\n",
    "                right = partition1 - 1\n",
    "            else:\n",
    "                if partition1 == 0: max_of_left = nums2[partition2 - 1]\n",
    "                elif partition2 == 0: max_of_left = nums1[partition1 - 1]\n",
    "                else: max_of_left = max(nums1[partition1 - 1], nums2[partition2 - 1])\n",
    "            \n",
    "                if (m + n) % 2 == 1:\n",
    "                    return max_of_left\n",
    "                \n",
    "                if partition1 == m: min_of_right = nums2[partition2]\n",
    "                elif partition2 == n: min_of_right = nums1[partition1]\n",
    "                else: min_of_right = min(nums1[partition1], nums2[partition2])\n",
    "                \n",
    "                return (max_of_left + min_of_right) / 2.0 \n",
    "                \n",
    "        \n",
    "solution = Solution()\n",
    "print(solution.findMedianSortedArrays([1, 3], [2]))\n",
    "print(solution.findMedianSortedArrays([1, 2], [3, 4]))\n",
    "                "
   ],
   "metadata": {
    "collapsed": false,
    "ExecuteTime": {
     "end_time": "2024-06-16T09:59:20.502645Z",
     "start_time": "2024-06-16T09:59:20.496979Z"
    }
   },
   "id": "82226b61a52359b3",
   "execution_count": 2
  },
  {
   "cell_type": "code",
   "outputs": [],
   "source": [],
   "metadata": {
    "collapsed": false
   },
   "id": "ab037919efc655b6"
  }
 ],
 "metadata": {
  "kernelspec": {
   "display_name": "Python 3",
   "language": "python",
   "name": "python3"
  },
  "language_info": {
   "codemirror_mode": {
    "name": "ipython",
    "version": 2
   },
   "file_extension": ".py",
   "mimetype": "text/x-python",
   "name": "python",
   "nbconvert_exporter": "python",
   "pygments_lexer": "ipython2",
   "version": "2.7.6"
  }
 },
 "nbformat": 4,
 "nbformat_minor": 5
}
