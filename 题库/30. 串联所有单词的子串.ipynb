{
 "cells": [
  {
   "cell_type": "raw",
   "source": [
    "30. 串联所有单词的子串\n",
    "已解答\n",
    "困难\n",
    "相关标签\n",
    "相关企业\n",
    "给定一个字符串 s 和一个字符串数组 words。 words 中所有字符串 长度相同。\n",
    "\n",
    " s 中的 串联子串 是指一个包含  words 中所有字符串以任意顺序排列连接起来的子串。\n",
    "\n",
    "例如，如果 words = [\"ab\",\"cd\",\"ef\"]， 那么 \"abcdef\"， \"abefcd\"，\"cdabef\"， \"cdefab\"，\"efabcd\"， 和 \"efcdab\" 都是串联子串。 \"acdbef\" 不是串联子串，因为他不是任何 words 排列的连接。\n",
    "返回所有串联子串在 s 中的开始索引。你可以以 任意顺序 返回答案。\n",
    "\n",
    " \n",
    "\n",
    "示例 1：\n",
    "\n",
    "输入：s = \"barfoothefoobarman\", words = [\"foo\",\"bar\"]\n",
    "输出：[0,9]\n",
    "解释：因为 words.length == 2 同时 words[i].length == 3，连接的子字符串的长度必须为 6。\n",
    "子串 \"barfoo\" 开始位置是 0。它是 words 中以 [\"bar\",\"foo\"] 顺序排列的连接。\n",
    "子串 \"foobar\" 开始位置是 9。它是 words 中以 [\"foo\",\"bar\"] 顺序排列的连接。\n",
    "输出顺序无关紧要。返回 [9,0] 也是可以的。\n",
    "示例 2：\n",
    "\n",
    "输入：s = \"wordgoodgoodgoodbestword\", words = [\"word\",\"good\",\"best\",\"word\"]\n",
    "输出：[]\n",
    "解释：因为 words.length == 4 并且 words[i].length == 4，所以串联子串的长度必须为 16。\n",
    "s 中没有子串长度为 16 并且等于 words 的任何顺序排列的连接。\n",
    "所以我们返回一个空数组。\n",
    "示例 3：\n",
    "\n",
    "输入：s = \"barfoofoobarthefoobarman\", words = [\"bar\",\"foo\",\"the\"]\n",
    "输出：[6,9,12]\n",
    "解释：因为 words.length == 3 并且 words[i].length == 3，所以串联子串的长度必须为 9。\n",
    "子串 \"foobarthe\" 开始位置是 6。它是 words 中以 [\"foo\",\"bar\",\"the\"] 顺序排列的连接。\n",
    "子串 \"barthefoo\" 开始位置是 9。它是 words 中以 [\"bar\",\"the\",\"foo\"] 顺序排列的连接。\n",
    "子串 \"thefoobar\" 开始位置是 12。它是 words 中以 [\"the\",\"foo\",\"bar\"] 顺序排列的连接。\n",
    " \n",
    "\n",
    "提示：\n",
    "\n",
    "1 <= s.length <= 104\n",
    "1 <= words.length <= 5000\n",
    "1 <= words[i].length <= 30\n",
    "words[i] 和 s 由小写英文字母组成"
   ],
   "metadata": {
    "collapsed": false
   },
   "id": "b7133b09da83e2d1"
  },
  {
   "cell_type": "code",
   "outputs": [
    {
     "name": "stdout",
     "output_type": "stream",
     "text": [
      "[0, 9]\n",
      "[]\n",
      "[6, 9, 12]\n",
      "[0, 3]\n"
     ]
    }
   ],
   "source": [
    "# 滑动窗口 + 哈希表法\n",
    "\n",
    "class Solution(object):\n",
    "    def findSubstring(self, s, words):\n",
    "        if not s or not words:\n",
    "            return []\n",
    "        word_len = len(words[0])\n",
    "        num_words = len(words)\n",
    "        total_len = word_len * num_words\n",
    "        word_count = {}\n",
    "        result = []\n",
    "        for word in words:\n",
    "            word_count[word] = word_count.get(word, 0) + 1\n",
    "            \n",
    "        for i in range(word_len):\n",
    "            left = i\n",
    "            count = 0\n",
    "            current_count = {}\n",
    "            for j in range(i, len(s)-word_len+1, word_len):\n",
    "                word = s[j: j+word_len]\n",
    "                if word in word_count:\n",
    "                    current_count[word] = current_count.get(word, 0) + 1\n",
    "                    count += 1\n",
    "                    # 如果当前窗口某个单词出现的次数超过了words中该单词的总次数，调整窗口\n",
    "                    while current_count[word] > word_count[word]:\n",
    "                        left_word = s[left: left + word_len]\n",
    "                        current_count[left_word] -= 1\n",
    "                        count -= 1\n",
    "                        left += word_len\n",
    "                    if count == num_words:\n",
    "                        result.append(left)\n",
    "                else:\n",
    "                    current_count.clear()\n",
    "                    count = 0\n",
    "                    left = j + word_len \n",
    "            return result\n",
    "\n",
    "solution = Solution()\n",
    "print(solution.findSubstring(\"barfoothefoobarman\", [\"foo\", \"bar\"]))\n",
    "print(solution.findSubstring(\"wordgoodgoodgoodbestword\", [\"word\", \"good\", \"best\", \"word\"]))\n",
    "print(solution.findSubstring(\"barfoofoobarthefoobarman\", [\"bar\", \"foo\", \"the\"]))\n",
    "print(solution.findSubstring(\"aaaaaaaaaaaa\", [\"aaa\", \"aaa\", \"aaa\"]))\n",
    "\n",
    "                        "
   ],
   "metadata": {
    "collapsed": false,
    "ExecuteTime": {
     "end_time": "2024-06-19T17:25:55.997595Z",
     "start_time": "2024-06-19T17:25:55.990223Z"
    }
   },
   "id": "58196bb3e70e62cf",
   "execution_count": 3
  },
  {
   "cell_type": "code",
   "outputs": [],
   "source": [],
   "metadata": {
    "collapsed": false
   },
   "id": "b41ff514e7599208"
  }
 ],
 "metadata": {
  "kernelspec": {
   "display_name": "Python 3",
   "language": "python",
   "name": "python3"
  },
  "language_info": {
   "codemirror_mode": {
    "name": "ipython",
    "version": 2
   },
   "file_extension": ".py",
   "mimetype": "text/x-python",
   "name": "python",
   "nbconvert_exporter": "python",
   "pygments_lexer": "ipython2",
   "version": "2.7.6"
  }
 },
 "nbformat": 4,
 "nbformat_minor": 5
}
