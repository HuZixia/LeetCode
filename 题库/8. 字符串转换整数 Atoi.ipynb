{
 "cells": [
  {
   "cell_type": "raw",
   "source": [],
   "metadata": {
    "collapsed": false
   },
   "id": "4a54a54b8faec093"
  },
  {
   "cell_type": "raw",
   "source": [
    "8. 字符串转换整数 (atoi)\n",
    "已解答\n",
    "中等\n",
    "相关标签\n",
    "相关企业\n",
    "请你来实现一个 myAtoi(string s) 函数，使其能将字符串转换成一个 32 位有符号整数。\n",
    "\n",
    "函数 myAtoi(string s) 的算法如下：\n",
    "\n",
    "空格：读入字符串并丢弃无用的前导空格（\" \"）\n",
    "符号：检查下一个字符（假设还未到字符末尾）为 '-' 还是 '+'。如果两者都不存在，则假定结果为正。\n",
    "转换：通过跳过前置零来读取该整数，直到遇到非数字字符或到达字符串的结尾。如果没有读取数字，则结果为0。\n",
    "舍入：如果整数数超过 32 位有符号整数范围 [−231,  231 − 1] ，需要截断这个整数，使其保持在这个范围内。具体来说，小于 −231 的整数应该被舍入为 −231 ，大于 231 − 1 的整数应该被舍入为 231 − 1 。\n",
    "返回整数作为最终结果。\n",
    "\n",
    " \n",
    "\n",
    "示例 1：\n",
    "\n",
    "输入：s = \"42\"\n",
    "\n",
    "输出：42\n",
    "\n",
    "解释：加粗的字符串为已经读入的字符，插入符号是当前读取的字符。\n",
    "\n",
    "带下划线线的字符是所读的内容，插入符号是当前读入位置。\n",
    "第 1 步：\"42\"（当前没有读入字符，因为没有前导空格）\n",
    "         ^\n",
    "第 2 步：\"42\"（当前没有读入字符，因为这里不存在 '-' 或者 '+'）\n",
    "         ^\n",
    "第 3 步：\"42\"（读入 \"42\"）\n",
    "           ^\n",
    "示例 2：\n",
    "\n",
    "输入：s = \" -042\"\n",
    "\n",
    "输出：-42\n",
    "\n",
    "解释：\n",
    "\n",
    "第 1 步：\"   -042\"（读入前导空格，但忽视掉）\n",
    "            ^\n",
    "第 2 步：\"   -042\"（读入 '-' 字符，所以结果应该是负数）\n",
    "             ^\n",
    "第 3 步：\"   -042\"（读入 \"042\"，在结果中忽略前导零）\n",
    "               ^\n",
    "示例 3：\n",
    "\n",
    "输入：s = \"1337c0d3\"\n",
    "\n",
    "输出：1337\n",
    "\n",
    "解释：\n",
    "\n",
    "第 1 步：\"1337c0d3\"（当前没有读入字符，因为没有前导空格）\n",
    "         ^\n",
    "第 2 步：\"1337c0d3\"（当前没有读入字符，因为这里不存在 '-' 或者 '+'）\n",
    "         ^\n",
    "第 3 步：\"1337c0d3\"（读入 \"1337\"；由于下一个字符不是一个数字，所以读入停止）\n",
    "             ^\n",
    "示例 4：\n",
    "\n",
    "输入：s = \"0-1\"\n",
    "\n",
    "输出：0\n",
    "\n",
    "解释：\n",
    "\n",
    "第 1 步：\"0-1\" (当前没有读入字符，因为没有前导空格)\n",
    "         ^\n",
    "第 2 步：\"0-1\" (当前没有读入字符，因为这里不存在 '-' 或者 '+')\n",
    "         ^\n",
    "第 3 步：\"0-1\" (读入 \"0\"；由于下一个字符不是一个数字，所以读入停止)\n",
    "          ^\n",
    "示例 5：\n",
    "\n",
    "输入：s = \"words and 987\"\n",
    "\n",
    "输出：0\n",
    "\n",
    "解释：\n",
    "\n",
    "读取在第一个非数字字符“w”处停止。\n",
    "\n",
    " \n",
    "\n",
    "提示：\n",
    "\n",
    "0 <= s.length <= 200\n",
    "s 由英文字母（大写和小写）、数字（0-9）、' '、'+'、'-' 和 '.' 组成"
   ],
   "metadata": {
    "collapsed": false
   },
   "id": "fda7270a49189b17"
  },
  {
   "cell_type": "code",
   "outputs": [
    {
     "name": "stdout",
     "output_type": "stream",
     "text": [
      "42\n",
      "-42\n",
      "1337\n",
      "0\n",
      "0\n",
      "-2147483647\n"
     ]
    }
   ],
   "source": [
    "class Solution(object):\n",
    "    def myAtoi(self, s):\n",
    "        # 定义变量，num 存储的数字结果，sign 存储符号，i 遍历索引，n 字符串长度\n",
    "        num, sign, i, n = 0, 1, 0, len(s)\n",
    "        # 跳过前置空格，直到出现非空格字符\n",
    "        while i < n and s[i] == \" \":\n",
    "            i += 1\n",
    "        # 判断符号\n",
    "        if  i < n and (s[i] == \"-\" or s[i] == \"+\"):\n",
    "            sign = -1 if s[i] == \"-\" else 1\n",
    "            i += 1\n",
    "        # 转成数字\n",
    "        while i < n and s[i].isdigit():\n",
    "            digit = int(s[i])\n",
    "            # 处理溢出\n",
    "            # print(\"=======\")\n",
    "            # print(num)\n",
    "            # print(digit)\n",
    "            # print(2 ** 31 -1 - digit)\n",
    "            if num > (2 ** 31 -1 - digit) // 10:\n",
    "                return 2 ** 31 -1 if sign == 1 else -2 ** 31 \n",
    "            num = num * 10 + digit\n",
    "            i += 1\n",
    "        return num * sign\n",
    "\n",
    "solution = Solution()\n",
    "print(solution.myAtoi(\"42\"))\n",
    "print(solution.myAtoi(\" -042\"))\n",
    "print(solution.myAtoi(\"1337c0d3\"))\n",
    "print(solution.myAtoi(\"0-1\"))\n",
    "print(solution.myAtoi(\"words and 987\"))\n",
    "print(solution.myAtoi(\" -2147483647aaaa\"))\n",
    "        \n",
    "        "
   ],
   "metadata": {
    "collapsed": false,
    "ExecuteTime": {
     "end_time": "2024-06-17T14:24:38.544419Z",
     "start_time": "2024-06-17T14:24:38.538044Z"
    }
   },
   "id": "58547a189b9ca2f4",
   "execution_count": 7
  },
  {
   "cell_type": "code",
   "outputs": [],
   "source": [],
   "metadata": {
    "collapsed": false
   },
   "id": "43502578bd62adcb"
  }
 ],
 "metadata": {
  "kernelspec": {
   "display_name": "Python 3",
   "language": "python",
   "name": "python3"
  },
  "language_info": {
   "codemirror_mode": {
    "name": "ipython",
    "version": 2
   },
   "file_extension": ".py",
   "mimetype": "text/x-python",
   "name": "python",
   "nbconvert_exporter": "python",
   "pygments_lexer": "ipython2",
   "version": "2.7.6"
  }
 },
 "nbformat": 4,
 "nbformat_minor": 5
}
