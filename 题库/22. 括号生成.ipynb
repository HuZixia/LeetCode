{
 "cells": [
  {
   "cell_type": "raw",
   "source": [
    "22. 括号生成\n",
    "已解答\n",
    "中等\n",
    "相关标签\n",
    "相关企业\n",
    "数字 n 代表生成括号的对数，请你设计一个函数，用于能够生成所有可能的并且 有效的 括号组合。\n",
    "\n",
    " \n",
    "\n",
    "示例 1：\n",
    "\n",
    "输入：n = 3\n",
    "输出：[\"((()))\",\"(()())\",\"(())()\",\"()(())\",\"()()()\"]\n",
    "示例 2：\n",
    "\n",
    "输入：n = 1\n",
    "输出：[\"()\"]\n",
    " \n",
    "\n",
    "提示：\n",
    "\n",
    "1 <= n <= 8"
   ],
   "metadata": {
    "collapsed": false
   },
   "id": "3aa7121fb7cbe145"
  },
  {
   "cell_type": "code",
   "outputs": [
    {
     "name": "stdout",
     "output_type": "stream",
     "text": [
      "['((()))', '(()())', '(())()', '()(())', '()()()']\n",
      "['()']\n"
     ]
    }
   ],
   "source": [
    "# 用回溯算法生成括号\n",
    "\n",
    "class Solution(object):\n",
    "    def generateParenthesis(self, n):\n",
    "        def backtrack(s, left, right):\n",
    "            if len(s) == 2 * n:\n",
    "                result.append(s)\n",
    "                return\n",
    "            if left < n :\n",
    "                backtrack(s + '(', left + 1, right)\n",
    "            if right < left:\n",
    "                backtrack(s + ')', left, right + 1)\n",
    "          \n",
    "        result = []\n",
    "        backtrack('', 0, 0)\n",
    "        return result\n",
    "\n",
    "solution = Solution()\n",
    "print(solution.generateParenthesis(3))\n",
    "print(solution.generateParenthesis(1))\n",
    "# print(solution.generateParenthesis(8))"
   ],
   "metadata": {
    "collapsed": false,
    "ExecuteTime": {
     "end_time": "2024-06-19T09:34:50.369259Z",
     "start_time": "2024-06-19T09:34:50.362928Z"
    }
   },
   "id": "a7cebdf4db9359a",
   "execution_count": 2
  },
  {
   "cell_type": "code",
   "outputs": [],
   "source": [],
   "metadata": {
    "collapsed": false
   },
   "id": "ea183e863c9c6d11"
  }
 ],
 "metadata": {
  "kernelspec": {
   "display_name": "Python 3",
   "language": "python",
   "name": "python3"
  },
  "language_info": {
   "codemirror_mode": {
    "name": "ipython",
    "version": 2
   },
   "file_extension": ".py",
   "mimetype": "text/x-python",
   "name": "python",
   "nbconvert_exporter": "python",
   "pygments_lexer": "ipython2",
   "version": "2.7.6"
  }
 },
 "nbformat": 4,
 "nbformat_minor": 5
}
