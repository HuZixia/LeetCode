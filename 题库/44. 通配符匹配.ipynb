{
 "cells": [
  {
   "cell_type": "raw",
   "source": [
    "44. 通配符匹配\n",
    "已解答\n",
    "困难\n",
    "相关标签\n",
    "相关企业\n",
    "给你一个输入字符串 (s) 和一个字符模式 (p) ，请你实现一个支持 '?' 和 '*' 匹配规则的通配符匹配：\n",
    "'?' 可以匹配任何单个字符。\n",
    "'*' 可以匹配任意字符序列（包括空字符序列）。\n",
    "判定匹配成功的充要条件是：字符模式必须能够 完全匹配 输入字符串（而不是部分匹配）。\n",
    "\n",
    " \n",
    "示例 1：\n",
    "\n",
    "输入：s = \"aa\", p = \"a\"\n",
    "输出：false\n",
    "解释：\"a\" 无法匹配 \"aa\" 整个字符串。\n",
    "示例 2：\n",
    "\n",
    "输入：s = \"aa\", p = \"*\"\n",
    "输出：true\n",
    "解释：'*' 可以匹配任意字符串。\n",
    "示例 3：\n",
    "\n",
    "输入：s = \"cb\", p = \"?a\"\n",
    "输出：false\n",
    "解释：'?' 可以匹配 'c', 但第二个 'a' 无法匹配 'b'。\n",
    " \n",
    "\n",
    "提示：\n",
    "\n",
    "0 <= s.length, p.length <= 2000\n",
    "s 仅由小写英文字母组成\n",
    "p 仅由小写英文字母、'?' 或 '*' 组成"
   ],
   "metadata": {
    "collapsed": false
   },
   "id": "5d9fefecc22dc835"
  },
  {
   "cell_type": "code",
   "outputs": [
    {
     "name": "stdout",
     "output_type": "stream",
     "text": [
      "False\n",
      "True\n",
      "False\n"
     ]
    }
   ],
   "source": [
    "# 动态规划法\n",
    "\n",
    "class Solution(object):\n",
    "    def isMatch(self, s, p):\n",
    "        m, n = len(s), len(p)\n",
    "        dp = [[False] * (n+1) for _ in range(m+1)]\n",
    "        dp[0][0] = True\n",
    "        # 初始化dp数组的第一行，为了可以处理模式p的前导*的情况\n",
    "        for j in range(1, n+1):\n",
    "            if p[j-1] == '*':\n",
    "                dp[0][j] = dp[0][j-1]\n",
    "        \n",
    "        # 填充dp数组\n",
    "        for i in range(1, m+1):\n",
    "            for j in range(1, n+1):\n",
    "                if s[i-1] == p[j-1] or p[j-1] == '?':\n",
    "                    dp[i][j] = dp[i-1][j-1]\n",
    "                elif p[j-1] == '*':\n",
    "                    dp[i][j] = dp[i-1][j] or dp[i][j-1]\n",
    "        return dp[m][n]\n",
    "    \n",
    "solution = Solution()\n",
    "print(solution.isMatch(\"aa\", \"a\"))  # 输出：False\n",
    "print(solution.isMatch(\"aa\", \"*\"))  # 输出：True\n",
    "print(solution.isMatch(\"cb\", \"?a\"))  # 输出：False\n"
   ],
   "metadata": {
    "collapsed": false,
    "ExecuteTime": {
     "end_time": "2024-06-20T17:29:28.778891Z",
     "start_time": "2024-06-20T17:29:28.771580Z"
    }
   },
   "id": "bd32e5af978d1402",
   "execution_count": 1
  },
  {
   "cell_type": "code",
   "outputs": [],
   "source": [],
   "metadata": {
    "collapsed": false
   },
   "id": "14eb980d97bd1725"
  }
 ],
 "metadata": {
  "kernelspec": {
   "display_name": "Python 3",
   "language": "python",
   "name": "python3"
  },
  "language_info": {
   "codemirror_mode": {
    "name": "ipython",
    "version": 2
   },
   "file_extension": ".py",
   "mimetype": "text/x-python",
   "name": "python",
   "nbconvert_exporter": "python",
   "pygments_lexer": "ipython2",
   "version": "2.7.6"
  }
 },
 "nbformat": 4,
 "nbformat_minor": 5
}
