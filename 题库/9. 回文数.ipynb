{
 "cells": [
  {
   "cell_type": "raw",
   "source": [],
   "metadata": {
    "collapsed": false
   },
   "id": "abb424fea2e03ae1"
  },
  {
   "cell_type": "raw",
   "source": [
    "9. 回文数\n",
    "简单\n",
    "相关标签\n",
    "相关企业\n",
    "提示\n",
    "给你一个整数 x ，如果 x 是一个回文整数，返回 true ；否则，返回 false 。\n",
    "\n",
    "回文数\n",
    "是指正序（从左向右）和倒序（从右向左）读都是一样的整数。\n",
    "\n",
    "例如，121 是回文，而 123 不是。\n",
    " \n",
    "\n",
    "示例 1：\n",
    "\n",
    "输入：x = 121\n",
    "输出：true\n",
    "示例 2：\n",
    "\n",
    "输入：x = -121\n",
    "输出：false\n",
    "解释：从左向右读, 为 -121 。 从右向左读, 为 121- 。因此它不是一个回文数。\n",
    "示例 3：\n",
    "\n",
    "输入：x = 10\n",
    "输出：false\n",
    "解释：从右向左读, 为 01 。因此它不是一个回文数。\n",
    " \n",
    "\n",
    "提示：\n",
    "\n",
    "-231 <= x <= 231 - 1\n",
    " \n",
    "\n",
    "进阶：你能不将整数转为字符串来解决这个问题吗？"
   ],
   "metadata": {
    "collapsed": false
   },
   "id": "e644a8d4e334b16c"
  },
  {
   "cell_type": "code",
   "outputs": [
    {
     "name": "stdout",
     "output_type": "stream",
     "text": [
      "True\n",
      "False\n",
      "False\n",
      "True\n",
      "False\n"
     ]
    }
   ],
   "source": [
    "class Solution(object):\n",
    "    def isPalindrome(self, x):\n",
    "        # 如果 x 小于0，或者 x 的最后一位是0 但 x 不是0，则不是回文数\n",
    "        if x < 0 or (x != 0 and x % 10 ==0):\n",
    "            return False\n",
    "        # 为了避免溢出，反转一半的数字，与剩下的数字对比\n",
    "        reverse_x = 0\n",
    "        while x > reverse_x:\n",
    "            reverse_x = reverse_x * 10 + x % 10\n",
    "            x //= 10\n",
    "        \n",
    "        # 当长度为奇数，reverse_x // 10 可以去掉中间位置的数字，中间位置的数字是什么都可以，不影响\n",
    "        return x == reverse_x or x == reverse_x // 10\n",
    "    \n",
    "solution = Solution()\n",
    "print(solution.isPalindrome(121))  # True\n",
    "print(solution.isPalindrome(-121))\n",
    "print(solution.isPalindrome(10))\n",
    "print(solution.isPalindrome(12321))  # True\n",
    "print(solution.isPalindrome(123221))  # False   "
   ],
   "metadata": {
    "collapsed": false,
    "ExecuteTime": {
     "end_time": "2024-06-17T14:51:40.966145Z",
     "start_time": "2024-06-17T14:51:40.960710Z"
    }
   },
   "id": "94a0cf962857314b",
   "execution_count": 1
  },
  {
   "cell_type": "code",
   "outputs": [],
   "source": [],
   "metadata": {
    "collapsed": false
   },
   "id": "c8a13715dfc9e057"
  }
 ],
 "metadata": {
  "kernelspec": {
   "display_name": "Python 3",
   "language": "python",
   "name": "python3"
  },
  "language_info": {
   "codemirror_mode": {
    "name": "ipython",
    "version": 2
   },
   "file_extension": ".py",
   "mimetype": "text/x-python",
   "name": "python",
   "nbconvert_exporter": "python",
   "pygments_lexer": "ipython2",
   "version": "2.7.6"
  }
 },
 "nbformat": 4,
 "nbformat_minor": 5
}
