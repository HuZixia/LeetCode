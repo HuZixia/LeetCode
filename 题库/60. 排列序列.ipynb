{
 "cells": [
  {
   "cell_type": "raw",
   "source": [
    "60. 排列序列\n",
    "已解答\n",
    "困难\n",
    "相关标签\n",
    "相关企业\n",
    "给出集合 [1,2,3,...,n]，其所有元素共有 n! 种排列。\n",
    "\n",
    "按大小顺序列出所有排列情况，并一一标记，当 n = 3 时, 所有排列如下：\n",
    "\n",
    "\"123\"\n",
    "\"132\"\n",
    "\"213\"\n",
    "\"231\"\n",
    "\"312\"\n",
    "\"321\"\n",
    "给定 n 和 k，返回第 k 个排列。\n",
    "\n",
    " \n",
    "\n",
    "示例 1：\n",
    "\n",
    "输入：n = 3, k = 3\n",
    "输出：\"213\"\n",
    "示例 2：\n",
    "\n",
    "输入：n = 4, k = 9\n",
    "输出：\"2314\"\n",
    "示例 3：\n",
    "\n",
    "输入：n = 3, k = 1\n",
    "输出：\"123\"\n",
    " \n",
    "\n",
    "提示：\n",
    "\n",
    "1 <= n <= 9\n",
    "1 <= k <= n!"
   ],
   "metadata": {
    "collapsed": false
   },
   "id": "473d944731b85012"
  },
  {
   "cell_type": "code",
   "outputs": [
    {
     "name": "stdout",
     "output_type": "stream",
     "text": [
      "213\n",
      "2314\n",
      "123\n"
     ]
    }
   ],
   "source": [
    "import math\n",
    "class Solution(object):\n",
    "    def getPermutation(self, n, k):\n",
    "        # 创建一个从1到n的数组\n",
    "        nums = list(range(1, n + 1))\n",
    "        # 创建一个阶乘数组\n",
    "        factorial = [math.factorial(i) for i in range(n)]\n",
    "        # 调整K为0索引\n",
    "        k -= 1\n",
    "        result = []\n",
    "        \n",
    "        # 计算第K个排列\n",
    "        for i in range(n-1, -1, -1):\n",
    "            # 确定当前要选择哪个数字\n",
    "            index = k // factorial[i]\n",
    "            result.append(str(nums[index]))\n",
    "            # 移除已经选择数字\n",
    "            nums.pop(index)\n",
    "            # 更新K值\n",
    "            k %= factorial[i]\n",
    "            \n",
    "        return ''.join(result)\n",
    "    \n",
    "    \n",
    "solution = Solution()\n",
    "print(solution.getPermutation(3, 3)) # 213\n",
    "print(solution.getPermutation(4, 9)) # 2314\n",
    "print(solution.getPermutation(3, 1)) # 123\n",
    "    \n",
    "    \n",
    "        \n",
    "        \n",
    "        \n"
   ],
   "metadata": {
    "collapsed": false,
    "ExecuteTime": {
     "end_time": "2024-06-24T14:38:04.426831Z",
     "start_time": "2024-06-24T14:38:04.421327Z"
    }
   },
   "id": "2d270f39664c5d40",
   "execution_count": 1
  },
  {
   "cell_type": "code",
   "outputs": [],
   "source": [],
   "metadata": {
    "collapsed": false
   },
   "id": "a0074f8a9601505c"
  }
 ],
 "metadata": {
  "kernelspec": {
   "display_name": "Python 3",
   "language": "python",
   "name": "python3"
  },
  "language_info": {
   "codemirror_mode": {
    "name": "ipython",
    "version": 2
   },
   "file_extension": ".py",
   "mimetype": "text/x-python",
   "name": "python",
   "nbconvert_exporter": "python",
   "pygments_lexer": "ipython2",
   "version": "2.7.6"
  }
 },
 "nbformat": 4,
 "nbformat_minor": 5
}
