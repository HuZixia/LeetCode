{
 "cells": [
  {
   "cell_type": "raw",
   "source": [
    "11. 盛最多水的容器\n",
    "已解答\n",
    "中等\n",
    "相关标签\n",
    "相关企业\n",
    "提示\n",
    "给定一个长度为 n 的整数数组 height 。有 n 条垂线，第 i 条线的两个端点是 (i, 0) 和 (i, height[i]) 。\n",
    "\n",
    "找出其中的两条线，使得它们与 x 轴共同构成的容器可以容纳最多的水。\n",
    "\n",
    "返回容器可以储存的最大水量。\n",
    "\n",
    "说明：你不能倾斜容器。\n",
    "\n",
    " \n",
    "输入：[1,8,6,2,5,4,8,3,7]\n",
    "输出：49 \n",
    "解释：图中垂直线代表输入数组 [1,8,6,2,5,4,8,3,7]。在此情况下，容器能够容纳水（表示为蓝色部分）的最大值为 49。\n",
    "示例 2：\n",
    "\n",
    "输入：height = [1,1]\n",
    "输出：1\n"
   ],
   "metadata": {
    "collapsed": false
   },
   "id": "67c9b96b0d150730"
  },
  {
   "cell_type": "code",
   "outputs": [
    {
     "name": "stdout",
     "output_type": "stream",
     "text": [
      "49\n",
      "1\n",
      "16\n",
      "2\n"
     ]
    }
   ],
   "source": [
    "class Solution(object):\n",
    "    def maxArea(self, height):\n",
    "        left, right = 0, len(height) - 1\n",
    "        max_area = 0\n",
    "        while left < right:\n",
    "            # 计算当前区域的面积\n",
    "            width = right - left\n",
    "            current_height = min(height[left], height[right])\n",
    "            current_area = width * current_height\n",
    "            # 更新最大面积\n",
    "            max_area = max(max_area, current_area)\n",
    "            # 移动指针\n",
    "            if height[left] < height[right]:\n",
    "                left += 1\n",
    "            else:\n",
    "                right -= 1\n",
    "        return max_area\n",
    "\n",
    "solution = Solution()\n",
    "print(solution.maxArea([1,8,6,2,5,4,8,3,7])) # 49\n",
    "print(solution.maxArea([1,1])) # 1\n",
    "print(solution.maxArea([4,3,2,1,4])) # 16\n",
    "print(solution.maxArea([1,2,1])) # 2"
   ],
   "metadata": {
    "collapsed": false,
    "ExecuteTime": {
     "end_time": "2024-06-18T07:18:32.011832Z",
     "start_time": "2024-06-18T07:18:32.006553Z"
    }
   },
   "id": "f9751d381df13f65",
   "execution_count": 2
  },
  {
   "cell_type": "code",
   "outputs": [],
   "source": [],
   "metadata": {
    "collapsed": false
   },
   "id": "cdc2c4dc999cd16c"
  }
 ],
 "metadata": {
  "kernelspec": {
   "display_name": "Python 3",
   "language": "python",
   "name": "python3"
  },
  "language_info": {
   "codemirror_mode": {
    "name": "ipython",
    "version": 2
   },
   "file_extension": ".py",
   "mimetype": "text/x-python",
   "name": "python",
   "nbconvert_exporter": "python",
   "pygments_lexer": "ipython2",
   "version": "2.7.6"
  }
 },
 "nbformat": 4,
 "nbformat_minor": 5
}
