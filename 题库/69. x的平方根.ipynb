{
 "cells": [
  {
   "cell_type": "raw",
   "source": [
    "\n",
    "代码\n",
    "测试结果\n",
    "测试用例\n",
    "测试用例\n",
    "69. x 的平方根 \n",
    "已解答\n",
    "简单\n",
    "相关标签\n",
    "相关企业\n",
    "提示\n",
    "给你一个非负整数 x ，计算并返回 x 的 算术平方根 。\n",
    "\n",
    "由于返回类型是整数，结果只保留 整数部分 ，小数部分将被 舍去 。\n",
    "\n",
    "注意：不允许使用任何内置指数函数和算符，例如 pow(x, 0.5) 或者 x ** 0.5 。\n",
    "\n",
    " \n",
    "\n",
    "示例 1：\n",
    "\n",
    "输入：x = 4\n",
    "输出：2\n",
    "示例 2：\n",
    "\n",
    "输入：x = 8\n",
    "输出：2\n",
    "解释：8 的算术平方根是 2.82842..., 由于返回类型是整数，小数部分将被舍去。\n",
    " \n",
    "\n",
    "提示：\n",
    "\n",
    "0 <= x <= 231 - 1"
   ],
   "metadata": {
    "collapsed": false
   },
   "id": "9660b35db6ea8dd2"
  },
  {
   "cell_type": "code",
   "outputs": [
    {
     "name": "stdout",
     "output_type": "stream",
     "text": [
      "2\n",
      "2\n",
      "3\n"
     ]
    }
   ],
   "source": [
    "class Solution(object):\n",
    "    def mySqrt(self, x):\n",
    "        if x == 0:\n",
    "            return 0\n",
    "        \n",
    "        result = 0\n",
    "        left, right = 1, x\n",
    "        while left <= right:\n",
    "            mid = (left + right) // 2\n",
    "            if mid * mid == x:\n",
    "                return mid\n",
    "            elif mid * mid < x:\n",
    "                left = mid + 1\n",
    "                result = mid\n",
    "            else:\n",
    "                right = mid - 1\n",
    "        return result\n",
    "    \n",
    "    \n",
    "solution = Solution()\n",
    "print(solution.mySqrt(4)) # 2\n",
    "print(solution.mySqrt(8)) # 2\n",
    "print(solution.mySqrt(9)) # 0"
   ],
   "metadata": {
    "collapsed": false,
    "ExecuteTime": {
     "end_time": "2024-06-26T15:09:11.937318Z",
     "start_time": "2024-06-26T15:09:11.932166Z"
    }
   },
   "id": "99ee22d85618c06",
   "execution_count": 5
  },
  {
   "cell_type": "code",
   "outputs": [],
   "source": [],
   "metadata": {
    "collapsed": false
   },
   "id": "123e66cb8562dc31"
  }
 ],
 "metadata": {
  "kernelspec": {
   "display_name": "Python 3",
   "language": "python",
   "name": "python3"
  },
  "language_info": {
   "codemirror_mode": {
    "name": "ipython",
    "version": 2
   },
   "file_extension": ".py",
   "mimetype": "text/x-python",
   "name": "python",
   "nbconvert_exporter": "python",
   "pygments_lexer": "ipython2",
   "version": "2.7.6"
  }
 },
 "nbformat": 4,
 "nbformat_minor": 5
}
