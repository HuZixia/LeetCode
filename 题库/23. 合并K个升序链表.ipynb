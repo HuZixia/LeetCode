{
 "cells": [
  {
   "cell_type": "raw",
   "source": [
    "23. 合并 K 个升序链表\n",
    "已解答\n",
    "困难\n",
    "相关标签\n",
    "相关企业\n",
    "给你一个链表数组，每个链表都已经按升序排列。\n",
    "\n",
    "请你将所有链表合并到一个升序链表中，返回合并后的链表。\n",
    "\n",
    " \n",
    "\n",
    "示例 1：\n",
    "\n",
    "输入：lists = [[1,4,5],[1,3,4],[2,6]]\n",
    "输出：[1,1,2,3,4,4,5,6]\n",
    "解释：链表数组如下：\n",
    "[\n",
    "  1->4->5,\n",
    "  1->3->4,\n",
    "  2->6\n",
    "]\n",
    "将它们合并到一个有序链表中得到。\n",
    "1->1->2->3->4->4->5->6\n",
    "示例 2：\n",
    "\n",
    "输入：lists = []\n",
    "输出：[]\n",
    "示例 3：\n",
    "\n",
    "输入：lists = [[]]\n",
    "输出：[]\n",
    " \n",
    "\n",
    "提示：\n",
    "\n",
    "k == lists.length\n",
    "0 <= k <= 10^4\n",
    "0 <= lists[i].length <= 500\n",
    "-10^4 <= lists[i][j] <= 10^4\n",
    "lists[i] 按 升序 排列\n",
    "lists[i].length 的总和不超过 10^4"
   ],
   "metadata": {
    "collapsed": false
   },
   "id": "be8b8373e587da7c"
  },
  {
   "cell_type": "code",
   "outputs": [
    {
     "name": "stdout",
     "output_type": "stream",
     "text": [
      "[1, 1, 2, 3, 4, 4, 5, 6]\n",
      "[]\n"
     ]
    }
   ],
   "source": [
    "# 使用优先队列，最小堆 来解决 合并K个升序链表\n",
    "import heapq\n",
    "class ListNode(object):\n",
    "    def __init__(self, val= 0, next = None):\n",
    "        self.val = val\n",
    "        self.next = next\n",
    "        \n",
    "class Solution(object):\n",
    "    def mergeKLists(self, lists):\n",
    "        min_heap = []\n",
    "        # 初始化最小堆，将每个链表的头节点加入堆中\n",
    "        for i in range(len(lists)):\n",
    "            if lists[i]:\n",
    "                heapq.heappush(min_heap, (lists[i].val, i ,lists[i]))\n",
    "        dummy = ListNode(0)\n",
    "        current = dummy\n",
    "        while min_heap:\n",
    "            # 弹出堆顶元素\n",
    "            val, i, node = heapq.heappop(min_heap)\n",
    "            # 将弹出的元素加入新链表中\n",
    "            current.next = ListNode(val)\n",
    "            current = current.next\n",
    "            # 如果弹出的节点还有下一个节点，则将下一个节点加入堆中\n",
    "            if node.next:\n",
    "                heapq.heappush(min_heap, (node.next.val, i, node.next))\n",
    "        return dummy.next\n",
    "            \n",
    "            \n",
    "def listToListNode(nums):\n",
    "    dummy = ListNode(0)\n",
    "    current = dummy\n",
    "    for num in nums:\n",
    "        current.next = ListNode(num)\n",
    "        current = current.next\n",
    "    return dummy.next\n",
    "\n",
    "def printListNode(node):\n",
    "    result = []\n",
    "    while node:\n",
    "        result.append(node.val)\n",
    "        node = node.next\n",
    "    print(result)\n",
    "    \n",
    "    \n",
    "solution = Solution()\n",
    "printListNode(solution.mergeKLists([listToListNode([1,4,5]), listToListNode([1,3,4]), listToListNode([2,6])]))\n",
    "printListNode(solution.mergeKLists([listToListNode([]), listToListNode([]), listToListNode([])]))"
   ],
   "metadata": {
    "collapsed": false,
    "ExecuteTime": {
     "end_time": "2024-06-19T10:13:16.426357Z",
     "start_time": "2024-06-19T10:13:16.414607Z"
    }
   },
   "id": "27f8efdfe6c3b0bc",
   "execution_count": 1
  },
  {
   "cell_type": "code",
   "outputs": [],
   "source": [],
   "metadata": {
    "collapsed": false
   },
   "id": "aeb36ca78ca10e55"
  }
 ],
 "metadata": {
  "kernelspec": {
   "display_name": "Python 3",
   "language": "python",
   "name": "python3"
  },
  "language_info": {
   "codemirror_mode": {
    "name": "ipython",
    "version": 2
   },
   "file_extension": ".py",
   "mimetype": "text/x-python",
   "name": "python",
   "nbconvert_exporter": "python",
   "pygments_lexer": "ipython2",
   "version": "2.7.6"
  }
 },
 "nbformat": 4,
 "nbformat_minor": 5
}
