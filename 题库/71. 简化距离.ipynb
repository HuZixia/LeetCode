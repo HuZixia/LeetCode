{
 "cells": [
  {
   "cell_type": "raw",
   "source": [
    "71. 简化路径\n",
    "已解答\n",
    "中等\n",
    "相关标签\n",
    "相关企业\n",
    "给你一个字符串 path ，表示指向某一文件或目录的 Unix 风格 绝对路径 （以 '/' 开头），请你将其转化为更加简洁的规范路径。\n",
    "\n",
    "在 Unix 风格的文件系统中，一个点（.）表示当前目录本身；此外，两个点 （..） 表示将目录切换到上一级（指向父目录）；两者都可以是复杂相对路径的组成部分。任意多个连续的斜杠（即，'//'）都被视为单个斜杠 '/' 。 对于此问题，任何其他格式的点（例如，'...'）均被视为文件/目录名称。\n",
    "\n",
    "请注意，返回的 规范路径 必须遵循下述格式：\n",
    "\n",
    "始终以斜杠 '/' 开头。\n",
    "两个目录名之间必须只有一个斜杠 '/' 。\n",
    "最后一个目录名（如果存在）不能 以 '/' 结尾。\n",
    "此外，路径仅包含从根目录到目标文件或目录的路径上的目录（即，不含 '.' 或 '..'）。\n",
    "返回简化后得到的 规范路径 。\n",
    "\n",
    " \n",
    "\n",
    "示例 1：\n",
    "\n",
    "输入：path = \"/home/\"\n",
    "输出：\"/home\"\n",
    "解释：注意，最后一个目录名后面没有斜杠。 \n",
    "示例 2：\n",
    "\n",
    "输入：path = \"/../\"\n",
    "输出：\"/\"\n",
    "解释：从根目录向上一级是不可行的，因为根目录是你可以到达的最高级。\n",
    "示例 3：\n",
    "\n",
    "输入：path = \"/home//foo/\"\n",
    "输出：\"/home/foo\"\n",
    "解释：在规范路径中，多个连续斜杠需要用一个斜杠替换。\n",
    "示例 4：\n",
    "\n",
    "输入：path = \"/a/./b/../../c/\"\n",
    "输出：\"/c\"\n",
    " \n",
    "\n",
    "提示：\n",
    "\n",
    "1 <= path.length <= 3000\n",
    "path 由英文字母，数字，'.'，'/' 或 '_' 组成。\n",
    "path 是一个有效的 Unix 风格绝对路径。"
   ],
   "metadata": {
    "collapsed": false
   },
   "id": "ff215fe8cbe59cf"
  },
  {
   "cell_type": "code",
   "outputs": [
    {
     "name": "stdout",
     "output_type": "stream",
     "text": [
      "/home\n",
      "/\n",
      "/home/foo\n",
      "/c\n"
     ]
    }
   ],
   "source": [
    "# 堆栈法\n",
    "\n",
    "class Solution(object):\n",
    "    def simplifyPath(self, path):\n",
    "        # 初始化一个空堆栈\n",
    "        stack = []\n",
    "        # 将路径按照/分割成部分\n",
    "        parts = path.split('/')\n",
    "        # 逐个处理每个part\n",
    "        for part in parts:\n",
    "            # 如果部分是空的或者是. 跳过\n",
    "            if part =='.' or part == '':\n",
    "                continue\n",
    "            # 如果部分是.. 如果堆栈不为空，弹出栈顶元素\n",
    "            elif part == '..':\n",
    "                if stack:\n",
    "                    stack.pop()\n",
    "            # 其他元素，压入栈内\n",
    "            else:\n",
    "                stack.append(part)\n",
    "        # 将堆栈中的部分重新组合成简化后的路径\n",
    "        return '/' + '/'.join(stack)\n",
    "\n",
    "solution = Solution()\n",
    "print(solution.simplifyPath(\"/home/\"))\n",
    "print(solution.simplifyPath(\"/../\"))\n",
    "print(solution.simplifyPath(\"/home//foo/\"))\n",
    "print(solution.simplifyPath(\"/a/./b/../../c/\"))\n",
    "        \n",
    "        "
   ],
   "metadata": {
    "collapsed": false,
    "ExecuteTime": {
     "end_time": "2024-06-26T15:59:44.077358Z",
     "start_time": "2024-06-26T15:59:44.073003Z"
    }
   },
   "id": "5164efd60e7fb31b",
   "execution_count": 1
  },
  {
   "cell_type": "code",
   "outputs": [],
   "source": [],
   "metadata": {
    "collapsed": false
   },
   "id": "bbdb27b1843ecd73"
  }
 ],
 "metadata": {
  "kernelspec": {
   "display_name": "Python 3",
   "language": "python",
   "name": "python3"
  },
  "language_info": {
   "codemirror_mode": {
    "name": "ipython",
    "version": 2
   },
   "file_extension": ".py",
   "mimetype": "text/x-python",
   "name": "python",
   "nbconvert_exporter": "python",
   "pygments_lexer": "ipython2",
   "version": "2.7.6"
  }
 },
 "nbformat": 4,
 "nbformat_minor": 5
}
