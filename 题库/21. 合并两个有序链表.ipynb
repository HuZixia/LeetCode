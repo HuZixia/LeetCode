{
 "cells": [
  {
   "cell_type": "raw",
   "source": [
    "21. 合并两个有序链表\n",
    "已解答\n",
    "简单\n",
    "相关标签\n",
    "相关企业\n",
    "将两个升序链表合并为一个新的 升序 链表并返回。新链表是通过拼接给定的两个链表的所有节点组成的。 \n",
    "\n",
    " \n",
    "\n",
    "示例 1：\n",
    "\n",
    "\n",
    "输入：l1 = [1,2,4], l2 = [1,3,4]\n",
    "输出：[1,1,2,3,4,4]\n",
    "示例 2：\n",
    "\n",
    "输入：l1 = [], l2 = []\n",
    "输出：[]\n",
    "示例 3：\n",
    "\n",
    "输入：l1 = [], l2 = [0]\n",
    "输出：[0]\n",
    " \n",
    "\n",
    "提示：\n",
    "\n",
    "两个链表的节点数目范围是 [0, 50]\n",
    "-100 <= Node.val <= 100\n",
    "l1 和 l2 均按 非递减顺序 排列\n"
   ],
   "metadata": {
    "collapsed": false
   },
   "id": "e9bde81b98174797"
  },
  {
   "cell_type": "code",
   "outputs": [
    {
     "name": "stdout",
     "output_type": "stream",
     "text": [
      "[1, 1, 2, 3, 4, 4]\n",
      "[2, 3, 3, 4, 5, 7, 9, 10]\n",
      "[0]\n"
     ]
    }
   ],
   "source": [
    "class ListNode(object):\n",
    "    def __init__(self, val=0, next=None):\n",
    "        self.val = val\n",
    "        self.next = next\n",
    "\n",
    "class Solution(object):\n",
    "    def mergeTwoLists(self, list1, list2):\n",
    "        # 创建一个哑节点，作为结果链表的头部\n",
    "        dummy = ListNode()\n",
    "        # 创建一个指针指向哑节点，用于遍历结果链表\n",
    "        current = dummy\n",
    "        # 遍历两个链表，直到其中一个链表为空\n",
    "        while list1 and list2:\n",
    "            # 比较两个当前链表当前节点的值，将较小的节点接入结果链表，并向后移动对应的链表指针\n",
    "            if list1.val < list2.val:\n",
    "                current.next = list1\n",
    "                list1 = list1.next\n",
    "            else:\n",
    "                current.next = list2\n",
    "                list2 = list2.next\n",
    "            # 移动结构链表指针\n",
    "            current = current.next\n",
    "        # 将剩余未遍历完的链表接入结果链表\n",
    "        if list1:\n",
    "            current.next = list1\n",
    "        else:\n",
    "            current.next = list2\n",
    "        # 返回哑节点的下一个节点，即合并后的链表头部\n",
    "        return dummy.next\n",
    "\n",
    "def ListToListNode(nums):\n",
    "    dummy = ListNode()\n",
    "    current = dummy\n",
    "    for num in nums:\n",
    "        current.next = ListNode(num)\n",
    "        current = current.next\n",
    "    return dummy.next\n",
    "\n",
    "def printListNode(head):\n",
    "    result = []\n",
    "    while head:\n",
    "        result.append(head.val)\n",
    "        head = head.next\n",
    "    print(result)\n",
    "    \n",
    "    \n",
    "solution = Solution()\n",
    "printListNode(solution.mergeTwoLists(ListToListNode([1,2,4]), ListToListNode([1,3,4]))) # [1,1,2,3,4,4]\n",
    "printListNode(solution.mergeTwoLists(ListToListNode([3,4,5,10]), ListToListNode([2,3,7,9]))) # \n",
    "printListNode(solution.mergeTwoLists(ListToListNode([]), ListToListNode([0]))) # [0]\n"
   ],
   "metadata": {
    "collapsed": false,
    "ExecuteTime": {
     "end_time": "2024-06-18T16:33:49.263762Z",
     "start_time": "2024-06-18T16:33:49.255784Z"
    }
   },
   "id": "999111daaa83fe7",
   "execution_count": 2
  },
  {
   "cell_type": "code",
   "outputs": [],
   "source": [],
   "metadata": {
    "collapsed": false
   },
   "id": "b9378f7cb64fac90"
  }
 ],
 "metadata": {
  "kernelspec": {
   "display_name": "Python 3",
   "language": "python",
   "name": "python3"
  },
  "language_info": {
   "codemirror_mode": {
    "name": "ipython",
    "version": 2
   },
   "file_extension": ".py",
   "mimetype": "text/x-python",
   "name": "python",
   "nbconvert_exporter": "python",
   "pygments_lexer": "ipython2",
   "version": "2.7.6"
  }
 },
 "nbformat": 4,
 "nbformat_minor": 5
}
