{
 "cells": [
  {
   "cell_type": "raw",
   "source": [
    "84. 柱状图中最大的矩形\n",
    "已解答\n",
    "困难\n",
    "相关标签\n",
    "相关企业\n",
    "给定 n 个非负整数，用来表示柱状图中各个柱子的高度。每个柱子彼此相邻，且宽度为 1 。\n",
    "\n",
    "求在该柱状图中，能够勾勒出来的矩形的最大面积。\n",
    "\n",
    " \n",
    "\n",
    "示例 1:\n",
    "\n",
    "\n",
    "\n",
    "输入：heights = [2,1,5,6,2,3]\n",
    "输出：10\n",
    "解释：最大的矩形为图中红色区域，面积为 10\n",
    "示例 2：\n",
    "\n",
    "\n",
    "\n",
    "输入： heights = [2,4]\n",
    "输出： 4\n",
    " \n",
    "\n",
    "提示：\n",
    "\n",
    "1 <= heights.length <=105\n",
    "0 <= heights[i] <= 104"
   ],
   "metadata": {
    "collapsed": false
   },
   "id": "85e631649e609319"
  },
  {
   "cell_type": "code",
   "outputs": [
    {
     "name": "stdout",
     "output_type": "stream",
     "text": [
      "10\n",
      "4\n",
      "3\n"
     ]
    }
   ],
   "source": [
    "# 栈法\n",
    "\n",
    "class Solution(object):\n",
    "    def largestRectangleArea(self, heights):\n",
    "        # 栈存放柱子的索引\n",
    "        stack = []\n",
    "        # 最大面积\n",
    "        max_area = 0\n",
    "        # 在末尾添加一个高度为0的柱子，确保所有的柱子都能处理完\n",
    "        heights.append(0)\n",
    "        for i in range(len(heights)):\n",
    "            # 当前柱子高度如果小于栈顶柱子的高度，意味着找到了右边界，应该计算以栈顶柱子为高度的矩形面积\n",
    "            while stack and heights[i] < heights[stack[-1]]:\n",
    "                # 弹出栈顶柱子，计算其面积，并更新最大面积\n",
    "                h = heights[stack.pop()]\n",
    "                w = i if not stack else i - stack[-1] - 1\n",
    "                max_area = max(max_area, h * w)\n",
    "            # 将当前柱子的索引压入栈中\n",
    "            stack.append(i)\n",
    "        return max_area\n",
    "    \n",
    "solution = Solution()\n",
    "print(solution.largestRectangleArea([2,1,5,6,2,3]))\n",
    "print(solution.largestRectangleArea([2,4]))\n",
    "print(solution.largestRectangleArea([2,1,2]))\n",
    "    \n"
   ],
   "metadata": {
    "collapsed": false,
    "ExecuteTime": {
     "end_time": "2024-06-28T09:33:25.283419Z",
     "start_time": "2024-06-28T09:33:25.277751Z"
    }
   },
   "id": "fb50474bc4902ac3",
   "execution_count": 2
  },
  {
   "cell_type": "code",
   "outputs": [],
   "source": [],
   "metadata": {
    "collapsed": false
   },
   "id": "cbe4907651adc96b"
  }
 ],
 "metadata": {
  "kernelspec": {
   "display_name": "Python 3",
   "language": "python",
   "name": "python3"
  },
  "language_info": {
   "codemirror_mode": {
    "name": "ipython",
    "version": 2
   },
   "file_extension": ".py",
   "mimetype": "text/x-python",
   "name": "python",
   "nbconvert_exporter": "python",
   "pygments_lexer": "ipython2",
   "version": "2.7.6"
  }
 },
 "nbformat": 4,
 "nbformat_minor": 5
}
