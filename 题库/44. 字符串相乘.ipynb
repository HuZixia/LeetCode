{
 "cells": [
  {
   "cell_type": "raw",
   "source": [
    "43. 字符串相乘\n",
    "已解答\n",
    "中等\n",
    "相关标签\n",
    "相关企业\n",
    "给定两个以字符串形式表示的非负整数 num1 和 num2，返回 num1 和 num2 的乘积，它们的乘积也表示为字符串形式。\n",
    "\n",
    "注意：不能使用任何内置的 BigInteger 库或直接将输入转换为整数。\n",
    "\n",
    " \n",
    "\n",
    "示例 1:\n",
    "\n",
    "输入: num1 = \"2\", num2 = \"3\"\n",
    "输出: \"6\"\n",
    "示例 2:\n",
    "\n",
    "输入: num1 = \"123\", num2 = \"456\"\n",
    "输出: \"56088\"\n",
    " \n",
    "\n",
    "提示：\n",
    "\n",
    "1 <= num1.length, num2.length <= 200\n",
    "num1 和 num2 只能由数字组成。\n",
    "num1 和 num2 都不包含任何前导零，除了数字0本身。"
   ],
   "metadata": {
    "collapsed": false
   },
   "id": "c1d7d6e8dd8d4fd1"
  },
  {
   "cell_type": "code",
   "outputs": [
    {
     "name": "stdout",
     "output_type": "stream",
     "text": [
      "56088\n",
      "6\n",
      "10000\n"
     ]
    }
   ],
   "source": [
    "# 模拟手动乘法\n",
    "\n",
    "class Solution(object):\n",
    "    def multiply(self, num1, num2):\n",
    "        if num1 == '0' or num2 == '0':\n",
    "            return '0'\n",
    "        \n",
    "        # 初始化结果数组，num1 和 num2 长度之和，因为乘积的最大长度不会超过两个乘数的长度之和\n",
    "        res = [0] * (len(num1) + len(num2))\n",
    "        \n",
    "        # 从右往左遍历，num1 和 num2 的每一位数字\n",
    "        for i in range(len(num1)-1, -1, -1):\n",
    "            for j in range(len(num2)-1, -1, -1):\n",
    "                mul = int(num1[i]) * int(num2[j])\n",
    "                # 放置在当前数组中的位置\n",
    "                p1, p2 = i+j, i+j+1\n",
    "                # 叠加到当前的结果位置上\n",
    "                sum = mul + res[p2]\n",
    "                res[p1] += sum // 10\n",
    "                res[p2] = sum % 10\n",
    "        # 去掉前导零\n",
    "        result = []\n",
    "        for num in res:\n",
    "            if not (len(result) == 0 and num == 0):\n",
    "                result.append(str(num))\n",
    "        return ''.join(result)\n",
    "    \n",
    "    \n",
    "solution = Solution()\n",
    "print(solution.multiply(\"123\", \"456\")) # 56088\n",
    "print(solution.multiply(\"2\", \"3\")) # 6\n",
    "print(solution.multiply(\"100\", \"100\")) # 10000\n",
    "\n",
    "                "
   ],
   "metadata": {
    "collapsed": false,
    "ExecuteTime": {
     "end_time": "2024-06-20T17:04:55.500538Z",
     "start_time": "2024-06-20T17:04:55.494677Z"
    }
   },
   "id": "8687c6cf4f67a020",
   "execution_count": 1
  },
  {
   "cell_type": "code",
   "outputs": [],
   "source": [],
   "metadata": {
    "collapsed": false
   },
   "id": "6b5c03d367842139"
  }
 ],
 "metadata": {
  "kernelspec": {
   "display_name": "Python 3",
   "language": "python",
   "name": "python3"
  },
  "language_info": {
   "codemirror_mode": {
    "name": "ipython",
    "version": 2
   },
   "file_extension": ".py",
   "mimetype": "text/x-python",
   "name": "python",
   "nbconvert_exporter": "python",
   "pygments_lexer": "ipython2",
   "version": "2.7.6"
  }
 },
 "nbformat": 4,
 "nbformat_minor": 5
}
