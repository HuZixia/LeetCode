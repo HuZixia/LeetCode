{
 "cells": [
  {
   "cell_type": "raw",
   "source": [
    "74. 搜索二维矩阵\n",
    "已解答\n",
    "中等\n",
    "相关标签\n",
    "相关企业\n",
    "给你一个满足下述两条属性的 m x n 整数矩阵：\n",
    "\n",
    "每行中的整数从左到右按非严格递增顺序排列。\n",
    "每行的第一个整数大于前一行的最后一个整数。\n",
    "给你一个整数 target ，如果 target 在矩阵中，返回 true ；否则，返回 false 。\n",
    "\n",
    " \n",
    "\n",
    "示例 1：\n",
    "\n",
    "\n",
    "输入：matrix = [[1,3,5,7],[10,11,16,20],[23,30,34,60]], target = 3\n",
    "输出：true\n",
    "示例 2：\n",
    "\n",
    "\n",
    "输入：matrix = [[1,3,5,7],[10,11,16,20],[23,30,34,60]], target = 13\n",
    "输出：false\n",
    " \n",
    "\n",
    "提示：\n",
    "\n",
    "m == matrix.length\n",
    "n == matrix[i].length\n",
    "1 <= m, n <= 100\n",
    "-104 <= matrix[i][j], target <= 104"
   ],
   "metadata": {
    "collapsed": false
   },
   "id": "a0b5abdd6ae2115f"
  },
  {
   "cell_type": "code",
   "outputs": [
    {
     "name": "stdout",
     "output_type": "stream",
     "text": [
      "True\n",
      "False\n",
      "False\n"
     ]
    }
   ],
   "source": [
    "# 右上角搜索法\n",
    "\n",
    "class Solution(object):\n",
    "    def searchMatrix(self, matrix, target):\n",
    "        if not matrix or not matrix[0]:\n",
    "            return False\n",
    "        \n",
    "        m, n = len(matrix), len(matrix[0])\n",
    "        row, col = 0, n - 1\n",
    "        while row < m and col >= 0:\n",
    "            if matrix[row][col] == target:\n",
    "                return True\n",
    "            # 排除当前行，行向下移动\n",
    "            elif matrix[row][col] < target:\n",
    "                row += 1\n",
    "            # 排除当前列，列向左移动\n",
    "            else:\n",
    "                col -= 1\n",
    "        \n",
    "        return False\n",
    "\n",
    "solution = Solution()\n",
    "print(solution.searchMatrix([[1,3,5,7],[10,11,16,20],[23,30,34,60]], 3))  # 输出：True\n",
    "print(solution.searchMatrix([[1,3,5,7],[10,11,16,20],[23,30,34,60]], 13))  # 输出：False   \n",
    "print(solution.searchMatrix([], 13))  # 输出：False   \n",
    "                "
   ],
   "metadata": {
    "collapsed": false,
    "ExecuteTime": {
     "end_time": "2024-06-27T10:36:19.320717Z",
     "start_time": "2024-06-27T10:36:19.314377Z"
    }
   },
   "id": "f8ca7f6758933053",
   "execution_count": 1
  },
  {
   "cell_type": "code",
   "outputs": [
    {
     "name": "stdout",
     "output_type": "stream",
     "text": [
      "True\n",
      "False\n",
      "False\n"
     ]
    }
   ],
   "source": [
    "# 二分查找法\n",
    "\n",
    "class Solution(object):\n",
    "    def searchMatrix(self, matrix, target):\n",
    "        if not matrix or not matrix[0]:\n",
    "            return False\n",
    "        \n",
    "        m, n = len(matrix), len(matrix[0])\n",
    "        \n",
    "        left, right = 0, m * n - 1\n",
    "        \n",
    "        while left <= right:\n",
    "            mid = (left + right) // 2\n",
    "            mid_value = matrix[mid // n][mid % n]\n",
    "            if mid_value == target:\n",
    "                return True\n",
    "            elif mid_value < target:\n",
    "                left = mid + 1\n",
    "            else:\n",
    "                right = mid - 1\n",
    "        return False\n",
    "\n",
    "solution = Solution()\n",
    "print(solution.searchMatrix([[1,3,5,7],[10,11,16,20],[23,30,34,60]], 3))  # 输出：True\n",
    "print(solution.searchMatrix([[1,3,5,7],[10,11,16,20],[23,30,34,60]], 13))  # 输出：False   \n",
    "print(solution.searchMatrix([], 13))  # 输出：False   "
   ],
   "metadata": {
    "collapsed": false,
    "ExecuteTime": {
     "end_time": "2024-06-27T10:41:52.338078Z",
     "start_time": "2024-06-27T10:41:52.332364Z"
    }
   },
   "id": "5e73adf7e3d95463",
   "execution_count": 5
  },
  {
   "cell_type": "code",
   "outputs": [],
   "source": [],
   "metadata": {
    "collapsed": false
   },
   "id": "18d8d5c57f0a8b79"
  }
 ],
 "metadata": {
  "kernelspec": {
   "display_name": "Python 3",
   "language": "python",
   "name": "python3"
  },
  "language_info": {
   "codemirror_mode": {
    "name": "ipython",
    "version": 2
   },
   "file_extension": ".py",
   "mimetype": "text/x-python",
   "name": "python",
   "nbconvert_exporter": "python",
   "pygments_lexer": "ipython2",
   "version": "2.7.6"
  }
 },
 "nbformat": 4,
 "nbformat_minor": 5
}
