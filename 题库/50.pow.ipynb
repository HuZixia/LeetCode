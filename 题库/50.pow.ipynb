{
 "cells": [
  {
   "cell_type": "raw",
   "source": [
    "50. Pow(x, n)\n",
    "中等\n",
    "相关标签\n",
    "相关企业\n",
    "实现 pow(x, n) ，即计算 x 的整数 n 次幂函数（即，xn ）。\n",
    "\n",
    " \n",
    "\n",
    "示例 1：\n",
    "\n",
    "输入：x = 2.00000, n = 10\n",
    "输出：1024.00000\n",
    "示例 2：\n",
    "\n",
    "输入：x = 2.10000, n = 3\n",
    "输出：9.26100\n",
    "示例 3：\n",
    "\n",
    "输入：x = 2.00000, n = -2\n",
    "输出：0.25000\n",
    "解释：2-2 = 1/22 = 1/4 = 0.25\n",
    " \n",
    "\n",
    "提示：\n",
    "\n",
    "-100.0 < x < 100.0\n",
    "-231 <= n <= 231-1\n",
    "n 是一个整数\n",
    "要么 x 不为零，要么 n > 0 。\n",
    "-104 <= xn <= 104"
   ],
   "metadata": {
    "collapsed": false
   },
   "id": "fe21d5025ddf3488"
  },
  {
   "cell_type": "code",
   "outputs": [
    {
     "name": "stdout",
     "output_type": "stream",
     "text": [
      "1024.0\n",
      "9.261000000000001\n",
      "0.25\n",
      "0.0\n",
      "-0.008000000000000002\n"
     ]
    }
   ],
   "source": [
    "class Solution(object):\n",
    "    def myPow(self, x, n):\n",
    "        \n",
    "        def quickMul(N):\n",
    "            if N == 0:\n",
    "                return 1.0\n",
    "            y = quickMul(N // 2)\n",
    "            if N % 2 == 0:\n",
    "                return y * y\n",
    "            else:\n",
    "                return y * y * x\n",
    "        if n < 0:\n",
    "            x = 1.0 / x\n",
    "            n = -n\n",
    "        result =quickMul(n) \n",
    "        return result\n",
    "\n",
    "\n",
    "solution = Solution()\n",
    "print(solution.myPow(2.00000, 10))\n",
    "print(solution.myPow(2.10000, 3))\n",
    "print(solution.myPow(2.00000, -2))\n",
    "print(solution.myPow(0.00001, 2147483647))\n",
    "print(solution.myPow(-5, -3))"
   ],
   "metadata": {
    "collapsed": false,
    "ExecuteTime": {
     "end_time": "2024-06-21T10:34:51.827264Z",
     "start_time": "2024-06-21T10:34:51.822391Z"
    }
   },
   "id": "6b291621631433a4",
   "execution_count": 3
  },
  {
   "cell_type": "code",
   "outputs": [],
   "source": [],
   "metadata": {
    "collapsed": false
   },
   "id": "e4020fefafe22fda"
  }
 ],
 "metadata": {
  "kernelspec": {
   "display_name": "Python 3",
   "language": "python",
   "name": "python3"
  },
  "language_info": {
   "codemirror_mode": {
    "name": "ipython",
    "version": 2
   },
   "file_extension": ".py",
   "mimetype": "text/x-python",
   "name": "python",
   "nbconvert_exporter": "python",
   "pygments_lexer": "ipython2",
   "version": "2.7.6"
  }
 },
 "nbformat": 4,
 "nbformat_minor": 5
}
