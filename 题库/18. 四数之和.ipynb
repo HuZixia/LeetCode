{
 "cells": [
  {
   "cell_type": "raw",
   "source": [
    "18. 四数之和\n",
    "已解答\n",
    "中等\n",
    "相关标签\n",
    "相关企业\n",
    "给你一个由 n 个整数组成的数组 nums ，和一个目标值 target 。请你找出并返回满足下述全部条件且不重复的四元组 [nums[a], nums[b], nums[c], nums[d]] （若两个四元组元素一一对应，则认为两个四元组重复）：\n",
    "\n",
    "0 <= a, b, c, d < n\n",
    "a、b、c 和 d 互不相同\n",
    "nums[a] + nums[b] + nums[c] + nums[d] == target\n",
    "你可以按 任意顺序 返回答案 。\n",
    "\n",
    " \n",
    "\n",
    "示例 1：\n",
    "\n",
    "输入：nums = [1,0,-1,0,-2,2], target = 0\n",
    "输出：[[-2,-1,1,2],[-2,0,0,2],[-1,0,0,1]]\n",
    "示例 2：\n",
    "\n",
    "输入：nums = [2,2,2,2,2], target = 8\n",
    "输出：[[2,2,2,2]]"
   ],
   "metadata": {
    "collapsed": false
   },
   "id": "e1fb1a4be01e9ef4"
  },
  {
   "cell_type": "code",
   "outputs": [
    {
     "name": "stdout",
     "output_type": "stream",
     "text": [
      "[[-2, -1, 1, 2], [-2, 0, 0, 2], [-1, 0, 0, 1]]\n",
      "[[2, 2, 2, 2]]\n",
      "[[-2, -1, 1, 2]]\n",
      "[[0, 0, 0, 0]]\n"
     ]
    }
   ],
   "source": [
    "class Solution(object):\n",
    "    def fourSum(self, nums, target):\n",
    "        # 数组排序\n",
    "        nums.sort()\n",
    "        result = []\n",
    "        # 第一重循环\n",
    "        for i in range(len(nums) - 3):\n",
    "            if i > 0 and nums[i] == nums[i-1]:\n",
    "                continue\n",
    "            # 第二重循环\n",
    "            for j in range(i+1, len(nums)-2):\n",
    "                if j > i+1 and nums[j] == nums[j-1]:\n",
    "                    continue\n",
    "                # 双指针查找剩余两个元素\n",
    "                left, right = j+1, len(nums) -1\n",
    "                while left < right:\n",
    "                    sum = nums[i] + nums[j] + nums[left] + nums[right]\n",
    "                    if sum == target:\n",
    "                        result.append([nums[i], nums[j], nums[left], nums[right]])\n",
    "                        while left < right and nums[left] == nums[left + 1]:\n",
    "                            left += 1\n",
    "                        while left < right and nums[right] == nums[right -1]:\n",
    "                            right -= 1\n",
    "                        left += 1\n",
    "                        right -= 1\n",
    "                    elif sum < target:\n",
    "                        left += 1\n",
    "                    else:\n",
    "                        right -= 1\n",
    "        return result\n",
    "\n",
    "solution = Solution()\n",
    "print(solution.fourSum([1,0,-1,0,-2,2], 0))\n",
    "print(solution.fourSum([2,2,2,2,2], 8))\n",
    "print(solution.fourSum([1,2,-2,-1], 0))\n",
    "print(solution.fourSum([0,0,0,0], 0))"
   ],
   "metadata": {
    "collapsed": false,
    "ExecuteTime": {
     "end_time": "2024-06-18T15:02:24.418236Z",
     "start_time": "2024-06-18T15:02:24.412165Z"
    }
   },
   "id": "c5cbbec3a22967e1",
   "execution_count": 1
  },
  {
   "cell_type": "code",
   "outputs": [],
   "source": [],
   "metadata": {
    "collapsed": false
   },
   "id": "e84296a9eaea3368"
  }
 ],
 "metadata": {
  "kernelspec": {
   "display_name": "Python 3",
   "language": "python",
   "name": "python3"
  },
  "language_info": {
   "codemirror_mode": {
    "name": "ipython",
    "version": 2
   },
   "file_extension": ".py",
   "mimetype": "text/x-python",
   "name": "python",
   "nbconvert_exporter": "python",
   "pygments_lexer": "ipython2",
   "version": "2.7.6"
  }
 },
 "nbformat": 4,
 "nbformat_minor": 5
}
