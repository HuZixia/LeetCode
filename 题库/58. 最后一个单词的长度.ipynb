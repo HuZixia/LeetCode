{
 "cells": [
  {
   "cell_type": "raw",
   "source": [
    "58. 最后一个单词的长度\n",
    "简单\n",
    "相关标签\n",
    "相关企业\n",
    "给你一个字符串 s，由若干单词组成，单词前后用一些空格字符隔开。返回字符串中 最后一个 单词的长度。\n",
    "\n",
    "单词 是指仅由字母组成、不包含任何空格字符的最大\n",
    "子字符串\n",
    "。\n",
    "\n",
    " \n",
    "\n",
    "示例 1：\n",
    "\n",
    "输入：s = \"Hello World\"\n",
    "输出：5\n",
    "解释：最后一个单词是“World”，长度为 5。\n",
    "示例 2：\n",
    "\n",
    "输入：s = \"   fly me   to   the moon  \"\n",
    "输出：4\n",
    "解释：最后一个单词是“moon”，长度为 4。\n",
    "示例 3：\n",
    "\n",
    "输入：s = \"luffy is still joyboy\"\n",
    "输出：6\n",
    "解释：最后一个单词是长度为 6 的“joyboy”。\n",
    " \n",
    "\n",
    "提示：\n",
    "\n",
    "1 <= s.length <= 104\n",
    "s 仅有英文字母和空格 ' ' 组成\n",
    "s 中至少存在一个单词"
   ],
   "metadata": {
    "collapsed": false
   },
   "id": "93fd7dbbbc77ddd4"
  },
  {
   "cell_type": "code",
   "outputs": [
    {
     "name": "stdout",
     "output_type": "stream",
     "text": [
      "5\n",
      "4\n",
      "6\n"
     ]
    }
   ],
   "source": [
    "class Solution(object):\n",
    "    def lengthOfLastWord(self, s):\n",
    "        \"\"\"\n",
    "        :type s: str\n",
    "        :rtype: int\n",
    "        \"\"\"\n",
    "\n",
    "        result = 0\n",
    "        for i in range(len(s)-1, -1, -1):\n",
    "            if s[i] == ' ' and result == 0 :\n",
    "                continue\n",
    "            if s[i] != ' ':\n",
    "                result += 1\n",
    "            else:\n",
    "                break\n",
    "        return result\n",
    "            \n",
    "            \n",
    "solution = Solution()\n",
    "print(solution.lengthOfLastWord(\"Hello World\")) # 5\n",
    "print(solution.lengthOfLastWord(\"   fly me   to   the moon  \")) # 4\n",
    "print(solution.lengthOfLastWord(\"luffy is still joyboy\")) # 6"
   ],
   "metadata": {
    "collapsed": false,
    "ExecuteTime": {
     "end_time": "2024-06-24T09:47:25.449847Z",
     "start_time": "2024-06-24T09:47:25.444881Z"
    }
   },
   "id": "80a9dec05101308f",
   "execution_count": 3
  },
  {
   "cell_type": "code",
   "outputs": [
    {
     "name": "stdout",
     "output_type": "stream",
     "text": [
      "5\n",
      "4\n",
      "6\n",
      "6\n"
     ]
    }
   ],
   "source": [
    "class Solution(object):\n",
    "    def lenthOfLastWord(self, s):\n",
    "        s = s.rstrip()\n",
    "        last_space_index = s.rfind(' ')\n",
    "        # print(len(s))\n",
    "        # print(last_space_index)\n",
    "        return len(s) - 1 - last_space_index\n",
    "    \n",
    "solution = Solution()\n",
    "print(solution.lenthOfLastWord(\"Hello World\")) # 5\n",
    "print(solution.lenthOfLastWord(\"   fly me   to   the moon  \")) # 4\n",
    "print(solution.lenthOfLastWord(\"luffy is still joyboy\")) # 6\n",
    "print(solution.lenthOfLastWord(\"joyboy\"))\n"
   ],
   "metadata": {
    "collapsed": false,
    "ExecuteTime": {
     "end_time": "2024-06-24T10:02:57.207664Z",
     "start_time": "2024-06-24T10:02:57.203158Z"
    }
   },
   "id": "14c45d6e9e7bdc96",
   "execution_count": 8
  },
  {
   "cell_type": "code",
   "outputs": [],
   "source": [],
   "metadata": {
    "collapsed": false
   },
   "id": "d2d61860e062cc42"
  }
 ],
 "metadata": {
  "kernelspec": {
   "display_name": "Python 3",
   "language": "python",
   "name": "python3"
  },
  "language_info": {
   "codemirror_mode": {
    "name": "ipython",
    "version": 2
   },
   "file_extension": ".py",
   "mimetype": "text/x-python",
   "name": "python",
   "nbconvert_exporter": "python",
   "pygments_lexer": "ipython2",
   "version": "2.7.6"
  }
 },
 "nbformat": 4,
 "nbformat_minor": 5
}
