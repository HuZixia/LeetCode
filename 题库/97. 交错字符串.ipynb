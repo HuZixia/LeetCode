{
 "cells": [
  {
   "cell_type": "code",
   "execution_count": null,
   "id": "initial_id",
   "metadata": {
    "collapsed": true
   },
   "outputs": [],
   "source": []
  },
  {
   "cell_type": "raw",
   "source": [
    "97. 交错字符串\n",
    "已解答\n",
    "中等\n",
    "相关标签\n",
    "相关企业\n",
    "给定三个字符串 s1、s2、s3，请你帮忙验证 s3 是否是由 s1 和 s2 交错 组成的。\n",
    "\n",
    "两个字符串 s 和 t 交错 的定义与过程如下，其中每个字符串都会被分割成若干 非空 \n",
    "子字符串\n",
    "：\n",
    "\n",
    "s = s1 + s2 + ... + sn\n",
    "t = t1 + t2 + ... + tm\n",
    "|n - m| <= 1\n",
    "交错 是 s1 + t1 + s2 + t2 + s3 + t3 + ... 或者 t1 + s1 + t2 + s2 + t3 + s3 + ...\n",
    "注意：a + b 意味着字符串 a 和 b 连接。\n",
    "\n",
    " \n",
    "\n",
    "示例 1：\n",
    "\n",
    "\n",
    "输入：s1 = \"aabcc\", s2 = \"dbbca\", s3 = \"aadbbcbcac\"\n",
    "输出：true\n",
    "示例 2：\n",
    "\n",
    "输入：s1 = \"aabcc\", s2 = \"dbbca\", s3 = \"aadbbbaccc\"\n",
    "输出：false\n",
    "示例 3：\n",
    "\n",
    "输入：s1 = \"\", s2 = \"\", s3 = \"\"\n",
    "输出：true\n",
    " \n",
    "\n",
    "提示：\n",
    "\n",
    "0 <= s1.length, s2.length <= 100\n",
    "0 <= s3.length <= 200\n",
    "s1、s2、和 s3 都由小写英文字母组成\n",
    " \n",
    "\n",
    "进阶：您能否仅使用 O(s2.length) 额外的内存空间来解决它?\n",
    "\n"
   ],
   "metadata": {
    "collapsed": false
   },
   "id": "8e5f6c1ab766459"
  },
  {
   "cell_type": "code",
   "outputs": [
    {
     "name": "stdout",
     "output_type": "stream",
     "text": [
      "True\n",
      "False\n",
      "True\n"
     ]
    }
   ],
   "source": [
    "# 动态规划\n",
    "\n",
    "class Solution(object):\n",
    "    def isInterleave(self, s1, s2, s3):\n",
    "        # 如果s1和s2的长度之和不等于s3的长度，直接返回 False\n",
    "        if len(s1) + len(s2) != len(s3):\n",
    "            return False\n",
    "        \n",
    "        # 初始化二维数组\n",
    "        dp = [[False] * (len(s2) + 1) for _ in range(len(s1) + 1)]\n",
    "        dp[0][0] = True\n",
    "        \n",
    "        # 填充dp的第一列\n",
    "        for i in range(1, len(s1) + 1):\n",
    "            dp[i][0] = dp[i-1][0] and s1[i-1] == s3[i-1]\n",
    "        \n",
    "        # 填充dp的第一行\n",
    "        for j in range(1, len(s2) + 1):\n",
    "            dp[0][j] = dp[0][j-1] and s2[j-1] == s3[j-1]\n",
    "            \n",
    "        # 填充剩余的dp\n",
    "        for i in range(1, len(s1)+1):\n",
    "            for j in range(1, len(s2)+1):\n",
    "               dp[i][j] = (dp[i-1][j] and s1[i-1] == s3[i+j-1]) or (dp[i][j-1] and s2[j-1] == s3[i+j-1])\n",
    "        return dp[len(s1)][len(s2)]\n",
    "    \n",
    "solution = Solution()\n",
    "print(solution.isInterleave(\"aabcc\", \"dbbca\", \"aadbbcbcac\")) # True\n",
    "print(solution.isInterleave(\"aabcc\", \"dbbca\", \"aadbbbaccc\")) # False\n",
    "print(solution.isInterleave(\"\", \"\", \"\")) # True\n",
    "                "
   ],
   "metadata": {
    "collapsed": false,
    "ExecuteTime": {
     "end_time": "2024-06-29T19:10:11.730799Z",
     "start_time": "2024-06-29T19:10:11.724732Z"
    }
   },
   "id": "1bce87945855db7b",
   "execution_count": 1
  },
  {
   "cell_type": "code",
   "outputs": [],
   "source": [],
   "metadata": {
    "collapsed": false
   },
   "id": "669f1e7db4273657"
  }
 ],
 "metadata": {
  "kernelspec": {
   "display_name": "Python 3",
   "language": "python",
   "name": "python3"
  },
  "language_info": {
   "codemirror_mode": {
    "name": "ipython",
    "version": 2
   },
   "file_extension": ".py",
   "mimetype": "text/x-python",
   "name": "python",
   "nbconvert_exporter": "python",
   "pygments_lexer": "ipython2",
   "version": "2.7.6"
  }
 },
 "nbformat": 4,
 "nbformat_minor": 5
}
