{
 "cells": [
  {
   "cell_type": "raw",
   "source": [
    "26. 删除有序数组中的重复项\n",
    "已解答\n",
    "简单\n",
    "相关标签\n",
    "相关企业\n",
    "提示\n",
    "给你一个 非严格递增排列 的数组 nums ，请你 原地 删除重复出现的元素，使每个元素 只出现一次 ，返回删除后数组的新长度。元素的 相对顺序 应该保持 一致 。然后返回 nums 中唯一元素的个数。\n",
    "\n",
    "考虑 nums 的唯一元素的数量为 k ，你需要做以下事情确保你的题解可以被通过：\n",
    "\n",
    "更改数组 nums ，使 nums 的前 k 个元素包含唯一元素，并按照它们最初在 nums 中出现的顺序排列。nums 的其余元素与 nums 的大小不重要。\n",
    "返回 k 。\n",
    "判题标准:\n",
    "\n",
    "系统会用下面的代码来测试你的题解:\n",
    "\n",
    "int[] nums = [...]; // 输入数组\n",
    "int[] expectedNums = [...]; // 长度正确的期望答案\n",
    "\n",
    "int k = removeDuplicates(nums); // 调用\n",
    "\n",
    "assert k == expectedNums.length;\n",
    "for (int i = 0; i < k; i++) {\n",
    "    assert nums[i] == expectedNums[i];\n",
    "}\n",
    "如果所有断言都通过，那么您的题解将被 通过。\n",
    "\n",
    " \n",
    "\n",
    "示例 1：\n",
    "\n",
    "输入：nums = [1,1,2]\n",
    "输出：2, nums = [1,2,_]\n",
    "解释：函数应该返回新的长度 2 ，并且原数组 nums 的前两个元素被修改为 1, 2 。不需要考虑数组中超出新长度后面的元素。\n",
    "示例 2：\n",
    "\n",
    "输入：nums = [0,0,1,1,1,2,2,3,3,4]\n",
    "输出：5, nums = [0,1,2,3,4]\n",
    "解释：函数应该返回新的长度 5 ， 并且原数组 nums 的前五个元素被修改为 0, 1, 2, 3, 4 。不需要考虑数组中超出新长度后面的元素。\n",
    " "
   ],
   "metadata": {
    "collapsed": false
   },
   "id": "a8b25e580098e880"
  },
  {
   "cell_type": "code",
   "outputs": [
    {
     "name": "stdout",
     "output_type": "stream",
     "text": [
      "[1, 2, 2]\n",
      "2\n",
      "[0, 1, 2, 3, 4, 2, 2, 3, 3, 4]\n",
      "5\n",
      "0\n"
     ]
    }
   ],
   "source": [
    "# 双指针法\n",
    "\n",
    "class Solution(object):\n",
    "    def removeDuplicates(self, nums):\n",
    "        if not nums:\n",
    "            return 0\n",
    "        # 初始值 slow = 0，为第一个数，所以需要 先 slow += 1，再赋值\n",
    "        slow = 0\n",
    "        for fast in range(1, len(nums)):\n",
    "            if nums[fast] != nums[slow]:\n",
    "                slow += 1\n",
    "                nums[slow] = nums[fast]\n",
    "        print(nums)\n",
    "        return slow + 1\n",
    "    \n",
    "solution = Solution()\n",
    "print(solution.removeDuplicates([1,1,2]))\n",
    "print(solution.removeDuplicates([0,0,1,1,1,2,2,3,3,4]))\n",
    "print(solution.removeDuplicates([]))    "
   ],
   "metadata": {
    "collapsed": false,
    "ExecuteTime": {
     "end_time": "2024-06-19T14:57:06.603870Z",
     "start_time": "2024-06-19T14:57:06.599130Z"
    }
   },
   "id": "e1cd0535020e445",
   "execution_count": 3
  },
  {
   "cell_type": "code",
   "outputs": [],
   "source": [],
   "metadata": {
    "collapsed": false
   },
   "id": "16c9830db8d7e9e8"
  }
 ],
 "metadata": {
  "kernelspec": {
   "display_name": "Python 3",
   "language": "python",
   "name": "python3"
  },
  "language_info": {
   "codemirror_mode": {
    "name": "ipython",
    "version": 2
   },
   "file_extension": ".py",
   "mimetype": "text/x-python",
   "name": "python",
   "nbconvert_exporter": "python",
   "pygments_lexer": "ipython2",
   "version": "2.7.6"
  }
 },
 "nbformat": 4,
 "nbformat_minor": 5
}
