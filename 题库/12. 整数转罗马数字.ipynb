{
 "cells": [
  {
   "cell_type": "raw",
   "source": [
    "12. 整数转罗马数字\n",
    "已解答\n",
    "中等\n",
    "相关标签\n",
    "相关企业\n",
    "七个不同的符号代表罗马数字，其值如下：\n",
    "\n",
    "符号\t值\n",
    "I\t1\n",
    "V\t5\n",
    "X\t10\n",
    "L\t50\n",
    "C\t100\n",
    "D\t500\n",
    "M\t1000\n",
    "罗马数字是通过添加从最高到最低的小数位值的转换而形成的。将小数位值转换为罗马数字有以下规则：\n",
    "\n",
    "如果该值不是以 4 或 9 开头，请选择可以从输入中减去的最大值的符号，将该符号附加到结果，减去其值，然后将其余部分转换为罗马数字。\n",
    "如果该值以 4 或 9 开头，使用 减法形式，表示从以下符号中减去一个符号，例如 4 是 5 (V) 减 1 (I): IV ，9 是 10 (X) 减 1 (I)：IX。仅使用以下减法形式：4 (IV)，9 (IX)，40 (XL)，90 (XC)，400 (CD) 和 900 (CM)。\n",
    "只有 10 的次方（I, X, C, M）最多可以连续附加 3 次以代表 10 的倍数。你不能多次附加 5 (V)，50 (L) 或 500 (D)。如果需要将符号附加4次，请使用 减法形式。\n",
    "给定一个整数，将其转换为罗马数字。\n",
    "\n",
    " \n",
    "\n",
    "示例 1：\n",
    "\n",
    "输入：num = 3749\n",
    "\n",
    "输出： \"MMMDCCXLIX\"\n",
    "\n",
    "解释：\n",
    "\n",
    "3000 = MMM 由于 1000 (M) + 1000 (M) + 1000 (M)\n",
    " 700 = DCC 由于 500 (D) + 100 (C) + 100 (C)\n",
    "  40 = XL 由于 50 (L) 减 10 (X)\n",
    "   9 = IX 由于 10 (X) 减 1 (I)\n",
    "注意：49 不是 50 (L) 减 1 (I) 因为转换是基于小数位\n",
    "示例 2：\n",
    "\n",
    "输入：num = 58\n",
    "\n",
    "输出：\"LVIII\"\n",
    "\n",
    "解释：\n",
    "\n",
    "50 = L\n",
    " 8 = VIII\n",
    "示例 3：\n",
    "\n",
    "输入：num = 1994\n",
    "\n",
    "输出：\"MCMXCIV\"\n",
    "\n",
    "解释：\n",
    "\n",
    "1000 = M\n",
    " 900 = CM\n",
    "  90 = XC\n",
    "   4 = IV\n",
    " \n",
    "\n",
    "提示：\n",
    "\n",
    "1 <= num <= 3999"
   ],
   "metadata": {
    "collapsed": false
   },
   "id": "7eefdc7ad0990305"
  },
  {
   "cell_type": "code",
   "outputs": [
    {
     "name": "stdout",
     "output_type": "stream",
     "text": [
      "MMMDCCXLIX\n",
      "LVIII\n",
      "MCMXCIV\n",
      "M\n"
     ]
    }
   ],
   "source": [
    "class Solution(object):\n",
    "    def intToRoman(self, num):\n",
    "        val = [1000, 900, 500, 400, 100, 90, 50, 40, 10, 9, 5, 4, 1]\n",
    "        syms = ['M', 'CM', 'D', 'CD', 'C', 'XC', 'L', 'XL', 'X', 'IX', 'V', 'IV', 'I']\n",
    "        \n",
    "        roman_num = ''\n",
    "        i = 0\n",
    "        # 外循环，只要 num > 0 就会一直循环\n",
    "        while num > 0:\n",
    "            # 内循环，当前符号重复的次数，例如 3749 // 1000 = 3，所以 M 会重复 3 次\n",
    "            # 然后将当前符号重复的次数添加到结果中，并将 num 减去当前符号的值\n",
    "            for _ in range(num // val[i]):\n",
    "                roman_num += syms[i]\n",
    "                num -= val[i]\n",
    "            i += 1\n",
    "        return roman_num\n",
    "    \n",
    "solution = Solution()\n",
    "print(solution.intToRoman(3749)) # MMMDCCXLIX\n",
    "print(solution.intToRoman(58)) # LVIII\n",
    "print(solution.intToRoman(1994)) # MCMXCIV\n",
    "print(solution.intToRoman(1000)) # M"
   ],
   "metadata": {
    "collapsed": false,
    "ExecuteTime": {
     "end_time": "2024-06-18T08:15:23.251769Z",
     "start_time": "2024-06-18T08:15:23.243903Z"
    }
   },
   "id": "ff806797f722b8e6",
   "execution_count": 2
  },
  {
   "cell_type": "code",
   "outputs": [],
   "source": [],
   "metadata": {
    "collapsed": false
   },
   "id": "fd2a8958a7c66bb1"
  }
 ],
 "metadata": {
  "kernelspec": {
   "display_name": "Python 3",
   "language": "python",
   "name": "python3"
  },
  "language_info": {
   "codemirror_mode": {
    "name": "ipython",
    "version": 2
   },
   "file_extension": ".py",
   "mimetype": "text/x-python",
   "name": "python",
   "nbconvert_exporter": "python",
   "pygments_lexer": "ipython2",
   "version": "2.7.6"
  }
 },
 "nbformat": 4,
 "nbformat_minor": 5
}
