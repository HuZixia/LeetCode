{
 "cells": [
  {
   "cell_type": "raw",
   "source": [
    "54. 螺旋矩阵\n",
    "已解答\n",
    "中等\n",
    "相关标签\n",
    "相关企业\n",
    "提示\n",
    "给你一个 m 行 n 列的矩阵 matrix ，请按照 顺时针螺旋顺序 ，返回矩阵中的所有元素。\n",
    "\n",
    " \n",
    "\n",
    "示例 1：\n",
    "\n",
    "\n",
    "输入：matrix = [[1,2,3],[4,5,6],[7,8,9]]\n",
    "输出：[1,2,3,6,9,8,7,4,5]\n",
    "示例 2：\n",
    "\n",
    "\n",
    "输入：matrix = [[1,2,3,4],[5,6,7,8],[9,10,11,12]]\n",
    "输出：[1,2,3,4,8,12,11,10,9,5,6,7]\n",
    " \n",
    "\n",
    "提示：\n",
    "\n",
    "m == matrix.length\n",
    "n == matrix[i].length\n",
    "1 <= m, n <= 10\n",
    "-100 <= matrix[i][j] <= 100"
   ],
   "metadata": {
    "collapsed": false
   },
   "id": "45b491e6ef560ca3"
  },
  {
   "cell_type": "code",
   "outputs": [
    {
     "name": "stdout",
     "output_type": "stream",
     "text": [
      "[1, 2, 3, 6, 9, 8, 7, 4, 5]\n",
      "[1, 2, 3, 4, 8, 12, 11, 10, 9, 5, 6, 7]\n"
     ]
    }
   ],
   "source": [
    "class Solution(object):\n",
    "    def spiralOrder(self, matrix):\n",
    "        if not matrix or not matrix[0]:\n",
    "            return []\n",
    "        \n",
    "        result = []\n",
    "        top, bottom = 0, len(matrix) - 1\n",
    "        left, right = 0, len(matrix[0]) - 1\n",
    "        \n",
    "        while top <= bottom and left <= right:\n",
    "            # 从左往右\n",
    "            for i in range(left, right + 1):\n",
    "                result.append(matrix[top][i])\n",
    "            top += 1\n",
    "            # 从上往下\n",
    "            for i in range(top, bottom + 1):\n",
    "                result.append(matrix[i][right])\n",
    "            right -= 1\n",
    "            \n",
    "            if top <= bottom:\n",
    "                # 从右往左\n",
    "                for i in range(right, left - 1, -1):\n",
    "                    result.append(matrix[bottom][i])\n",
    "            bottom -= 1\n",
    "            \n",
    "            if left <= right:\n",
    "                # 从下往上\n",
    "                for i in range(bottom, top - 1, -1):\n",
    "                    result.append(matrix[i][left])\n",
    "            left += 1\n",
    "            \n",
    "        return result\n",
    "    \n",
    "    \n",
    "solution = Solution()\n",
    "print(solution.spiralOrder([[1,2,3],[4,5,6],[7,8,9]])) # [1,2,3,6,9,8,7,4,5]\n",
    "print(solution.spiralOrder([[1,2,3,4],[5,6,7,8],[9,10,11,12]])) # [1,2,3,4,8,12,11,10,9,5,6,7]  "
   ],
   "metadata": {
    "collapsed": false,
    "ExecuteTime": {
     "end_time": "2024-06-22T15:17:18.032918Z",
     "start_time": "2024-06-22T15:17:18.026733Z"
    }
   },
   "id": "3de352c00fd894af",
   "execution_count": 1
  },
  {
   "cell_type": "code",
   "outputs": [],
   "source": [],
   "metadata": {
    "collapsed": false
   },
   "id": "9635b4fb3ed2a1fe"
  }
 ],
 "metadata": {
  "kernelspec": {
   "display_name": "Python 3",
   "language": "python",
   "name": "python3"
  },
  "language_info": {
   "codemirror_mode": {
    "name": "ipython",
    "version": 2
   },
   "file_extension": ".py",
   "mimetype": "text/x-python",
   "name": "python",
   "nbconvert_exporter": "python",
   "pygments_lexer": "ipython2",
   "version": "2.7.6"
  }
 },
 "nbformat": 4,
 "nbformat_minor": 5
}
