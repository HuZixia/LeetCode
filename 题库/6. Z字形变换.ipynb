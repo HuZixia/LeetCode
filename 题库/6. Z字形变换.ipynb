{
 "cells": [
  {
   "cell_type": "raw",
   "source": [],
   "metadata": {
    "collapsed": false
   },
   "id": "3e5476dc0118d04f"
  },
  {
   "cell_type": "raw",
   "source": [
    "6. Z 字形变换\n",
    "已解答\n",
    "中等\n",
    "相关标签\n",
    "相关企业\n",
    "将一个给定字符串 s 根据给定的行数 numRows ，以从上往下、从左到右进行 Z 字形排列。\n",
    "\n",
    "比如输入字符串为 \"PAYPALISHIRING\" 行数为 3 时，排列如下：\n",
    "\n",
    "P   A   H   N\n",
    "A P L S I I G\n",
    "Y   I   R\n",
    "之后，你的输出需要从左往右逐行读取，产生出一个新的字符串，比如：\"PAHNAPLSIIGYIR\"。\n",
    "\n",
    "请你实现这个将字符串进行指定行数变换的函数：\n",
    "\n",
    "string convert(string s, int numRows);\n",
    " \n",
    "\n",
    "示例 1：\n",
    "\n",
    "输入：s = \"PAYPALISHIRING\", numRows = 3\n",
    "输出：\"PAHNAPLSIIGYIR\"\n",
    "示例 2：\n",
    "输入：s = \"PAYPALISHIRING\", numRows = 4\n",
    "输出：\"PINALSIGYAHRPI\"\n",
    "解释：\n",
    "P     I    N\n",
    "A   L S  I G\n",
    "Y A   H R\n",
    "P     I\n",
    "示例 3：\n",
    "\n",
    "输入：s = \"A\", numRows = 1\n",
    "输出：\"A\"\n",
    " "
   ],
   "metadata": {
    "collapsed": false
   },
   "id": "b92b8ef7c9ae6785"
  },
  {
   "cell_type": "code",
   "outputs": [
    {
     "name": "stdout",
     "output_type": "stream",
     "text": [
      "['PAHN', 'APLSIIG', 'YIR']\n",
      "PAHNAPLSIIGYIR\n",
      "['PIN', 'ALSIG', 'YAHR', 'PI']\n",
      "PINALSIGYAHRPI\n"
     ]
    }
   ],
   "source": [
    "import pprint\n",
    "\n",
    "class Solution(object):\n",
    "    def convert(self, s, numRows):\n",
    "        if numRows == 1:\n",
    "            return s\n",
    "        rows = [''] * min(numRows, len(s))\n",
    "        cur_row = 0\n",
    "        going_down = False\n",
    "        for c in s:\n",
    "            rows[cur_row] += c\n",
    "            # 如果是第一行，或者最后一行，改变方向\n",
    "            if cur_row == 0 or cur_row == numRows - 1:\n",
    "                going_down = not going_down\n",
    "            # 如果向下，行加1，如果向上，行减1\n",
    "            cur_row += 1 if going_down else -1\n",
    "        pprint.pprint(rows)\n",
    "        return ''.join(rows)\n",
    "\n",
    "solution = Solution()\n",
    "print(solution.convert(\"PAYPALISHIRING\", 3))\n",
    "print(solution.convert(\"PAYPALISHIRING\", 4))"
   ],
   "metadata": {
    "collapsed": false,
    "ExecuteTime": {
     "end_time": "2024-06-16T15:09:11.518587Z",
     "start_time": "2024-06-16T15:09:11.512369Z"
    }
   },
   "id": "e30fb9c39362587",
   "execution_count": 1
  },
  {
   "cell_type": "code",
   "outputs": [],
   "source": [],
   "metadata": {
    "collapsed": false
   },
   "id": "62a5b733d9eeb0f6"
  }
 ],
 "metadata": {
  "kernelspec": {
   "display_name": "Python 3",
   "language": "python",
   "name": "python3"
  },
  "language_info": {
   "codemirror_mode": {
    "name": "ipython",
    "version": 2
   },
   "file_extension": ".py",
   "mimetype": "text/x-python",
   "name": "python",
   "nbconvert_exporter": "python",
   "pygments_lexer": "ipython2",
   "version": "2.7.6"
  }
 },
 "nbformat": 4,
 "nbformat_minor": 5
}
