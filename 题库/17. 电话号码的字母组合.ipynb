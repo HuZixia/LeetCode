{
 "cells": [
  {
   "cell_type": "raw",
   "source": [
    "17. 电话号码的字母组合\n",
    "已解答\n",
    "中等\n",
    "相关标签\n",
    "相关企业\n",
    "给定一个仅包含数字 2-9 的字符串，返回所有它能表示的字母组合。答案可以按 任意顺序 返回。\n",
    "\n",
    "给出数字到字母的映射如下（与电话按键相同）。注意 1 不对应任何字母。\n",
    "\n",
    "\n",
    "示例 1：\n",
    "\n",
    "输入：digits = \"23\"\n",
    "输出：[\"ad\",\"ae\",\"af\",\"bd\",\"be\",\"bf\",\"cd\",\"ce\",\"cf\"]\n",
    "示例 2：\n",
    "\n",
    "输入：digits = \"\"\n",
    "输出：[]\n",
    "示例 3：\n",
    "\n",
    "输入：digits = \"2\"\n",
    "输出：[\"a\",\"b\",\"c\"]\n",
    " \n",
    "\n",
    "提示：\n",
    "\n",
    "0 <= digits.length <= 4\n",
    "digits[i] 是范围 ['2', '9'] 的一个数字。"
   ],
   "metadata": {
    "collapsed": false
   },
   "id": "1c5b5a58653c1fe8"
  },
  {
   "cell_type": "code",
   "outputs": [],
   "source": [
    "# 使用回溯算法，回溯算法是一种深度优先搜索DFS的方法，适用于生成所有可能的组合\n",
    "# 深度优先搜索算法DFS，是一种图遍历算法，它从图的某个起始节点开始，沿着一条路径尽可能深入，然后回退到上一个节点，接续探索其他路径，直到所有节点都被访问\n",
    "# DFS 通常使用栈数据结构来实现，递归调用本质上也是用了系统栈"
   ],
   "metadata": {
    "collapsed": false
   },
   "id": "b41cc05d59febcd2"
  },
  {
   "cell_type": "code",
   "outputs": [
    {
     "name": "stdout",
     "output_type": "stream",
     "text": [
      "['ad', 'ae', 'af', 'bd', 'be', 'bf', 'cd', 'ce', 'cf']\n",
      "[]\n",
      "['a', 'b', 'c']\n",
      "['adg', 'adh', 'adi', 'aeg', 'aeh', 'aei', 'afg', 'afh', 'afi', 'bdg', 'bdh', 'bdi', 'beg', 'beh', 'bei', 'bfg', 'bfh', 'bfi', 'cdg', 'cdh', 'cdi', 'ceg', 'ceh', 'cei', 'cfg', 'cfh', 'cfi']\n"
     ]
    }
   ],
   "source": [
    "class Solution(object):\n",
    "    def letterCombinations(self, digits):\n",
    "        if not digits:\n",
    "            return []\n",
    "        # 定义数字到字母的映射\n",
    "        phone_map = {\n",
    "            '2': 'abc',\n",
    "            '3': 'def',\n",
    "            '4': 'ghi',\n",
    "            '5': 'jkl',\n",
    "            '6': 'mno',\n",
    "            '7': 'pqrs',\n",
    "            '8': 'tuv',\n",
    "            '9': 'wxyz'\n",
    "        }\n",
    "        \n",
    "        # 定义回溯函数\n",
    "        def backtrack(index, path):\n",
    "            # 如果路径的长度等于输入数字的长度，说明已经达到叶子节点，将路径添加到结果中\n",
    "            if index == len(digits):\n",
    "                return combinations.append(path)\n",
    "            # 取出当前数字对应的字母\n",
    "            possible_letters = phone_map[digits[index]]\n",
    "            for letter in possible_letters:\n",
    "                # 递归调用回溯函数\n",
    "                backtrack(index + 1, path + letter)\n",
    "      \n",
    "    \n",
    "        combinations = []\n",
    "        backtrack(0, '')\n",
    "        return combinations\n",
    "\n",
    "solution = Solution()\n",
    "print(solution.letterCombinations(\"23\")) # [\"ad\",\"ae\",\"af\",\"bd\",\"be\",\"bf\",\"cd\",\"ce\",\"cf\"]\n",
    "print(solution.letterCombinations(\"\")) # []\n",
    "print(solution.letterCombinations(\"2\")) # [\"a\",\"b\",\"c\"]\n",
    "print(solution.letterCombinations(\"234\")) # ['adg', 'adh', 'adi', 'aeg', 'aeh', 'aei', 'afg', 'afh', 'afi', 'bdg', 'bdh', 'bdi', 'beg', 'beh', 'bei', 'bfg', 'bfh', 'bfi', 'cdg', 'cdh', 'cdi', 'ceg', 'ceh', 'cei', 'cfg', 'cfh', 'cfi']\n"
   ],
   "metadata": {
    "collapsed": false,
    "ExecuteTime": {
     "end_time": "2024-06-18T14:35:23.930212Z",
     "start_time": "2024-06-18T14:35:23.922774Z"
    }
   },
   "id": "3350a12364c3fbf",
   "execution_count": 2
  },
  {
   "cell_type": "code",
   "outputs": [],
   "source": [],
   "metadata": {
    "collapsed": false
   },
   "id": "4f8de54f34ea6c7f"
  }
 ],
 "metadata": {
  "kernelspec": {
   "display_name": "Python 3",
   "language": "python",
   "name": "python3"
  },
  "language_info": {
   "codemirror_mode": {
    "name": "ipython",
    "version": 2
   },
   "file_extension": ".py",
   "mimetype": "text/x-python",
   "name": "python",
   "nbconvert_exporter": "python",
   "pygments_lexer": "ipython2",
   "version": "2.7.6"
  }
 },
 "nbformat": 4,
 "nbformat_minor": 5
}
