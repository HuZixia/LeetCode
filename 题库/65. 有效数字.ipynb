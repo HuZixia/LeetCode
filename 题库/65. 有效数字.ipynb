{
 "cells": [
  {
   "cell_type": "raw",
   "source": [
    "65. 有效数字\n",
    "已解答\n",
    "困难\n",
    "相关标签\n",
    "相关企业\n",
    "给定一个字符串 s ，返回 s 是否是一个 有效数字。\n",
    "\n",
    "例如，下面的都是有效数字：\"2\", \"0089\", \"-0.1\", \"+3.14\", \"4.\", \"-.9\", \"2e10\", \"-90E3\", \"3e+7\", \"+6e-1\", \"53.5e93\", \"-123.456e789\"，而接下来的不是：\"abc\", \"1a\", \"1e\", \"e3\", \"99e2.5\", \"--6\", \"-+3\", \"95a54e53\"。\n",
    "\n",
    "一般的，一个 有效数字 可以用以下的规则之一定义：\n",
    "\n",
    "一个 整数 后面跟着一个 可选指数。\n",
    "一个 十进制数 后面跟着一个 可选指数。\n",
    "一个 整数 定义为一个 可选符号 '-' 或 '+' 后面跟着 数字。\n",
    "\n",
    "一个 十进制数 定义为一个 可选符号 '-' 或 '+' 后面跟着下述规则：\n",
    "\n",
    "数字 后跟着一个 小数点 .。\n",
    "数字 后跟着一个 小数点 . 再跟着 数位。\n",
    "一个 小数点 . 后跟着 数位。\n",
    "指数 定义为指数符号 'e' 或 'E'，后面跟着一个 整数。\n",
    "\n",
    "数字 定义为一个或多个数位。\n",
    "\n",
    " \n",
    "\n",
    "示例 1：\n",
    "\n",
    "输入：s = \"0\"\n",
    "\n",
    "输出：true\n",
    "\n",
    "示例 2：\n",
    "\n",
    "输入：s = \"e\"\n",
    "\n",
    "输出：false\n",
    "\n",
    "示例 3：\n",
    "\n",
    "输入：s = \".\"\n",
    "\n",
    "输出：false\n",
    "\n",
    " \n",
    "\n",
    "提示：\n",
    "\n",
    "1 <= s.length <= 20\n",
    "s 仅含英文字母（大写和小写），数字（0-9），加号 '+' ，减号 '-' ，或者点 '.' 。"
   ],
   "metadata": {
    "collapsed": false
   },
   "id": "fe1a667dfbb629ac"
  },
  {
   "cell_type": "code",
   "outputs": [
    {
     "name": "stdout",
     "output_type": "stream",
     "text": [
      "True\n",
      "False\n",
      "False\n"
     ]
    }
   ],
   "source": [
    "# 定义状态机\n",
    "\n",
    "class Solution(object):\n",
    "    def isNumber(self, s):\n",
    "        state = [\n",
    "            # 状态0，初始状态，允许空格，正负号，数字，小数点\n",
    "            {'blank': 0, 'sign': 1, 'digit': 2, 'dot': 3},\n",
    "            # 状态1，已经遇到正负号，接下来只能是数字或小数点\n",
    "            {'digit': 2, 'dot': 3},\n",
    "            # 状态2，已经遇到数字，可以继续数字，小数点，指数符号或空格，dot小数点转到状态4\n",
    "            {'digit': 2, 'dot': 4, 'exp': 5, 'blank': 8},\n",
    "            # 状态3，已经遇到小数点，可以接数字，digit数字转到状态4\n",
    "            {'digit': 4},\n",
    "            # 状态4，已经遇到小数点和数字，可以接数字、指数符号或空格，digit保持在状态4，exp转到状态5，blank转到状态8\n",
    "            {'digit': 4, 'exp': 5, 'blank': 8},\n",
    "            # 状态5，已经遇到指数符号，可以接正负号或数字，sign转到状态6，digit转到状态7\n",
    "            {'sign': 6, 'digit': 7},\n",
    "            # 状态6，指数符号后面的正负号，只能接数字，digit转到状态7\n",
    "            {'digit': 7},\n",
    "            # 状态7， 指数符号后面的数字，可以继续接数字或空格，digit保持在状态7，blank转到状态8\n",
    "            {'digit': 7, 'blank': 8},\n",
    "            # 状态8， 结尾的空格，只能继续空格\n",
    "            {'blank': 8}\n",
    "        ]\n",
    "        \n",
    "        current_state = 0\n",
    "        for char in s:\n",
    "            if char.isdigit():\n",
    "                transition = 'digit'\n",
    "            elif char == ' ':\n",
    "                transition = 'blank'\n",
    "            elif char in '+-':\n",
    "                transition = 'sign'\n",
    "            elif char in 'eE':\n",
    "                transition = 'exp'\n",
    "            elif char == '.':\n",
    "                transition = 'dot'\n",
    "            else:\n",
    "                return False\n",
    "            if transition not in state[current_state]:\n",
    "                return False\n",
    "            current_state = state[current_state][transition]\n",
    "            \n",
    "            return current_state in [2, 4, 7, 8]\n",
    "    \n",
    "    \n",
    "solution = Solution()\n",
    "print(solution.isNumber(\"0\"))\n",
    "print(solution.isNumber(\"e\"))\n",
    "print(solution.isNumber(\".\"))"
   ],
   "metadata": {
    "collapsed": false,
    "ExecuteTime": {
     "end_time": "2024-06-26T11:30:13.694343Z",
     "start_time": "2024-06-26T11:30:13.687524Z"
    }
   },
   "id": "19bbf1869ad0df57",
   "execution_count": 1
  },
  {
   "cell_type": "code",
   "outputs": [
    {
     "name": "stdout",
     "output_type": "stream",
     "text": [
      "True\n",
      "False\n",
      "False\n"
     ]
    }
   ],
   "source": [
    "import re\n",
    "class Solution(object):\n",
    "    def isNumber(self, s):\n",
    "        return re.match('^[+-]?((\\d+\\.?)|(\\d*\\.\\d+))([eE][-+]?\\d+)?$', s) != None\n",
    "\n",
    "solution = Solution()\n",
    "print(solution.isNumber(\"0\"))\n",
    "print(solution.isNumber(\"e9\"))\n",
    "print(solution.isNumber(\".\"))\n",
    "        \n",
    "    "
   ],
   "metadata": {
    "collapsed": false,
    "ExecuteTime": {
     "end_time": "2024-06-26T11:44:19.591469Z",
     "start_time": "2024-06-26T11:44:19.587651Z"
    }
   },
   "id": "bd7100362874731c",
   "execution_count": 3
  },
  {
   "cell_type": "code",
   "outputs": [],
   "source": [],
   "metadata": {
    "collapsed": false
   },
   "id": "add2c0e48430657b"
  }
 ],
 "metadata": {
  "kernelspec": {
   "display_name": "Python 3",
   "language": "python",
   "name": "python3"
  },
  "language_info": {
   "codemirror_mode": {
    "name": "ipython",
    "version": 2
   },
   "file_extension": ".py",
   "mimetype": "text/x-python",
   "name": "python",
   "nbconvert_exporter": "python",
   "pygments_lexer": "ipython2",
   "version": "2.7.6"
  }
 },
 "nbformat": 4,
 "nbformat_minor": 5
}
