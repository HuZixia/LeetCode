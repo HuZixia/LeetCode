{
 "cells": [
  {
   "cell_type": "raw",
   "source": [
    "61. 旋转链表\n",
    "中等\n",
    "相关标签\n",
    "相关企业\n",
    "给你一个链表的头节点 head ，旋转链表，将链表每个节点向右移动 k 个位置。\n",
    "\n",
    " \n",
    "\n",
    "示例 1：\n",
    "\n",
    "\n",
    "输入：head = [1,2,3,4,5], k = 2\n",
    "输出：[4,5,1,2,3]\n",
    "示例 2：\n",
    "\n",
    "\n",
    "输入：head = [0,1,2], k = 4\n",
    "输出：[2,0,1]\n",
    " \n",
    "\n",
    "提示：\n",
    "\n",
    "链表中节点的数目在范围 [0, 500] 内\n",
    "-100 <= Node.val <= 100\n",
    "0 <= k <= 2 * 109"
   ],
   "metadata": {
    "collapsed": false
   },
   "id": "917493f67e3daceb"
  },
  {
   "cell_type": "code",
   "outputs": [
    {
     "name": "stdout",
     "output_type": "stream",
     "text": [
      "[4, 5, 1, 2, 3]\n",
      "[2, 0, 1]\n",
      "[1, 2, 3]\n"
     ]
    }
   ],
   "source": [
    "class ListNode(object):\n",
    "    def __init__(self, val=0, next=None):\n",
    "        self.val = val\n",
    "        self.next = next\n",
    "\n",
    "class Solution(object):\n",
    "    def rotateRight(self, head, k):\n",
    "        if not head or not head.next or k == 0:\n",
    "            return head\n",
    "        \n",
    "        # 计算链表长度\n",
    "        length = 1\n",
    "        current = head\n",
    "        while current.next:\n",
    "            current = current.next\n",
    "            length += 1\n",
    "        \n",
    "        k = k % length\n",
    "        if k == 0:\n",
    "            return head\n",
    "        \n",
    "        # print(length, k)\n",
    "        # 找到新的尾节点和头节点\n",
    "        slow = head\n",
    "        for i in range(length - k - 1):\n",
    "            slow = slow.next\n",
    "            \n",
    "        # 设置新的头节点为 slow.next，并将新的尾节点的next指标设置为None，断开连接\n",
    "        new_head = slow.next\n",
    "        slow.next = None\n",
    "        \n",
    "        # 连接旧的尾节点和旧的头节点\n",
    "        current.next = head\n",
    "        \n",
    "        return new_head\n",
    "        \n",
    "\n",
    "def ListToListNode(nums):\n",
    "    dummy = ListNode(0)\n",
    "    current = dummy\n",
    "    for i in range(len(nums)):\n",
    "        current.next = ListNode(nums[i])\n",
    "        current = current.next\n",
    "    return dummy.next\n",
    "\n",
    "def printListNode(node):\n",
    "    result = []\n",
    "    while node:\n",
    "        result.append(node.val)\n",
    "        node = node.next\n",
    "    print(result)\n",
    "\n",
    "\n",
    "solution = Solution()\n",
    "printListNode(solution.rotateRight(ListToListNode([1,2,3,4,5]), 2)) # [4,5,1,2,3]\n",
    "printListNode(solution.rotateRight(ListToListNode([0,1,2]), 4)) # [2,0,1]\n",
    "printListNode(solution.rotateRight(ListToListNode([1,2,3]), 0)) # [1,2,3]\n",
    "        \n",
    "        \n",
    "            "
   ],
   "metadata": {
    "collapsed": false,
    "ExecuteTime": {
     "end_time": "2024-06-24T17:11:05.963822Z",
     "start_time": "2024-06-24T17:11:05.955898Z"
    }
   },
   "id": "826e8c8bf570155a",
   "execution_count": 10
  },
  {
   "cell_type": "code",
   "outputs": [],
   "source": [],
   "metadata": {
    "collapsed": false
   },
   "id": "9d7970b175330310"
  }
 ],
 "metadata": {
  "kernelspec": {
   "display_name": "Python 3",
   "language": "python",
   "name": "python3"
  },
  "language_info": {
   "codemirror_mode": {
    "name": "ipython",
    "version": 2
   },
   "file_extension": ".py",
   "mimetype": "text/x-python",
   "name": "python",
   "nbconvert_exporter": "python",
   "pygments_lexer": "ipython2",
   "version": "2.7.6"
  }
 },
 "nbformat": 4,
 "nbformat_minor": 5
}
