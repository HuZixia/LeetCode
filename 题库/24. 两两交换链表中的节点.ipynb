{
 "cells": [
  {
   "cell_type": "raw",
   "source": [
    "24. 两两交换链表中的节点\n",
    "已解答\n",
    "中等\n",
    "相关标签\n",
    "相关企业\n",
    "给你一个链表，两两交换其中相邻的节点，并返回交换后链表的头节点。你必须在不修改节点内部的值的情况下完成本题（即，只能进行节点交换）。\n",
    "\n",
    " \n",
    "\n",
    "示例 1：\n",
    "\n",
    "\n",
    "输入：head = [1,2,3,4]\n",
    "输出：[2,1,4,3]\n",
    "示例 2：\n",
    "\n",
    "输入：head = []\n",
    "输出：[]\n",
    "示例 3：\n",
    "\n",
    "输入：head = [1]\n",
    "输出：[1]\n",
    " \n",
    "\n",
    "提示：\n",
    "\n",
    "链表中节点的数目在范围 [0, 100] 内\n",
    "0 <= Node.val <= 100"
   ],
   "metadata": {
    "collapsed": false
   },
   "id": "45c4871b35486209"
  },
  {
   "cell_type": "code",
   "outputs": [
    {
     "name": "stdout",
     "output_type": "stream",
     "text": [
      "[2, 1, 4, 3]\n",
      "[]\n",
      "[1]\n"
     ]
    }
   ],
   "source": [
    "# 迭代解法\n",
    "\n",
    "class ListNode(object):\n",
    "    def __init__(self, val=0, next=None):\n",
    "        self.val = val\n",
    "        self.next = next\n",
    "\n",
    "class Solution(object):\n",
    "    def swapPairs(self, head):\n",
    "        # 创建一个哑节点，指向头节点\n",
    "        dummy = ListNode(0)\n",
    "        dummy.next = head\n",
    "        current = dummy\n",
    "        # 迭代链表，成对交换节点\n",
    "        while current.next and current.next.next:\n",
    "            first = current.next\n",
    "            second  = current.next.next\n",
    "            \n",
    "            # 节点\n",
    "            first.next = second.next\n",
    "            second.next = first\n",
    "            current.next = second\n",
    "            \n",
    "            # 移动到下一个对节点\n",
    "            current = first\n",
    "        return dummy.next\n",
    "\n",
    "\n",
    "def listToListNode(nums):\n",
    "    dummy = ListNode(0)\n",
    "    current = dummy \n",
    "    for num in nums:\n",
    "        current.next = ListNode(num)\n",
    "        current = current.next\n",
    "    return dummy.next\n",
    "\n",
    "def printListNode(head):\n",
    "    result = []\n",
    "    while head:\n",
    "        result.append(head.val)\n",
    "        head = head.next\n",
    "    print(result)\n",
    "\n",
    "\n",
    "printListNode(Solution().swapPairs(listToListNode([1,2,3,4]))) # [2,1,4,3]\n",
    "printListNode(Solution().swapPairs(listToListNode([]))) # []\n",
    "printListNode(Solution().swapPairs(listToListNode([1]))) # [1]\n"
   ],
   "metadata": {
    "collapsed": false,
    "ExecuteTime": {
     "end_time": "2024-06-19T10:35:30.594865Z",
     "start_time": "2024-06-19T10:35:30.587515Z"
    }
   },
   "id": "7ee4516c64812955",
   "execution_count": 2
  },
  {
   "cell_type": "code",
   "outputs": [],
   "source": [],
   "metadata": {
    "collapsed": false
   },
   "id": "bd22dc4a02e2c358"
  }
 ],
 "metadata": {
  "kernelspec": {
   "display_name": "Python 3",
   "language": "python",
   "name": "python3"
  },
  "language_info": {
   "codemirror_mode": {
    "name": "ipython",
    "version": 2
   },
   "file_extension": ".py",
   "mimetype": "text/x-python",
   "name": "python",
   "nbconvert_exporter": "python",
   "pygments_lexer": "ipython2",
   "version": "2.7.6"
  }
 },
 "nbformat": 4,
 "nbformat_minor": 5
}
