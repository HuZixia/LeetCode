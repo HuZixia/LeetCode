{
 "cells": [
  {
   "cell_type": "raw",
   "source": [
    "98. 验证二叉搜索树\n",
    "已解答\n",
    "中等\n",
    "相关标签\n",
    "相关企业\n",
    "给你一个二叉树的根节点 root ，判断其是否是一个有效的二叉搜索树。\n",
    "\n",
    "有效 二叉搜索树定义如下：\n",
    "\n",
    "节点的左\n",
    "子树\n",
    "只包含 小于 当前节点的数。\n",
    "节点的右子树只包含 大于 当前节点的数。\n",
    "所有左子树和右子树自身必须也是二叉搜索树。\n",
    " \n",
    "\n",
    "示例 1：\n",
    "\n",
    "\n",
    "输入：root = [2,1,3]\n",
    "输出：true\n",
    "示例 2：\n",
    "\n",
    "\n",
    "输入：root = [5,1,4,null,null,3,6]\n",
    "输出：false\n",
    "解释：根节点的值是 5 ，但是右子节点的值是 4 。\n",
    " \n",
    "\n",
    "提示：\n",
    "\n",
    "树中节点数目范围在[1, 104] 内\n",
    "-231 <= Node.val <= 231 - 1"
   ],
   "metadata": {
    "collapsed": false
   },
   "id": "3691ee62585733bf"
  },
  {
   "cell_type": "code",
   "outputs": [
    {
     "name": "stdout",
     "output_type": "stream",
     "text": [
      "True\n",
      "False\n",
      "False\n"
     ]
    }
   ],
   "source": [
    "# 递归 辅助函数\n",
    "\n",
    "class TreeNode(object):\n",
    "    def __init__(self, val=0, left=None, right=None):\n",
    "        self.val = val\n",
    "        self.left = left\n",
    "        self.right = right\n",
    "\n",
    "class Solution(object):\n",
    "    def isValidBST(self, root):\n",
    "        # 递归，辅助函数，用于递归验证，需要三个参数，当前节点，一个最小值边界，一个最大值边界\n",
    "        def validate(node, low = -float('inf'), high = float('inf')):\n",
    "            # 空节点是有效的BST\n",
    "            if not node:\n",
    "                return True\n",
    "            # 当前节点的值必须在low和high之间\n",
    "            if node.val <= low or node.val >= high:\n",
    "                return False\n",
    "            # 递归验证左子树和右子树，更新边界值\n",
    "            return (validate(node.left, low, node.val) and validate(node.right, node.val, high))\n",
    "        \n",
    "        return validate(root)\n",
    "    \n",
    "\n",
    "\n",
    "def ListToTreeNode(nums):\n",
    "    if not nums:\n",
    "        return None\n",
    "    root = TreeNode(val=nums[0])\n",
    "    queue = [root]\n",
    "    i = 1\n",
    "    while queue and i < len(nums):\n",
    "        node = queue.pop(0)\n",
    "        if i < len(nums) and nums[i] is not None:\n",
    "            node.left = TreeNode(val=nums[i])\n",
    "            queue.append(node.left)\n",
    "        i += 1\n",
    "        if i < len(nums) and nums[i] is not None:\n",
    "            node.right = TreeNode(val=nums[i])\n",
    "            queue.append(node.right)\n",
    "        i += 1\n",
    "    \n",
    "    return root\n",
    "\n",
    "\n",
    "solution = Solution()\n",
    "print(solution.isValidBST(ListToTreeNode([2,1,3]))) # True\n",
    "print(solution.isValidBST(ListToTreeNode([5,1,4,None,None,3,6]))) # False\n",
    "print(solution.isValidBST(ListToTreeNode([1,1]))) # False"
   ],
   "metadata": {
    "collapsed": false,
    "ExecuteTime": {
     "end_time": "2024-06-29T19:39:04.437932Z",
     "start_time": "2024-06-29T19:39:04.429546Z"
    }
   },
   "id": "567da7cfe4415fc0",
   "execution_count": 2
  },
  {
   "cell_type": "code",
   "outputs": [],
   "source": [],
   "metadata": {
    "collapsed": false
   },
   "id": "75bfad76e9708064"
  }
 ],
 "metadata": {
  "kernelspec": {
   "display_name": "Python 3",
   "language": "python",
   "name": "python3"
  },
  "language_info": {
   "codemirror_mode": {
    "name": "ipython",
    "version": 2
   },
   "file_extension": ".py",
   "mimetype": "text/x-python",
   "name": "python",
   "nbconvert_exporter": "python",
   "pygments_lexer": "ipython2",
   "version": "2.7.6"
  }
 },
 "nbformat": 4,
 "nbformat_minor": 5
}
