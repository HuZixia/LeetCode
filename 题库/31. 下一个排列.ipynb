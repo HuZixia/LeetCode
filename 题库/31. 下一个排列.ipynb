{
 "cells": [
  {
   "cell_type": "raw",
   "source": [
    "31. 下一个排列\n",
    "已解答\n",
    "中等\n",
    "相关标签\n",
    "相关企业\n",
    "整数数组的一个 排列  就是将其所有成员以序列或线性顺序排列。\n",
    "\n",
    "例如，arr = [1,2,3] ，以下这些都可以视作 arr 的排列：[1,2,3]、[1,3,2]、[3,1,2]、[2,3,1] 。\n",
    "整数数组的 下一个排列 是指其整数的下一个字典序更大的排列。更正式地，如果数组的所有排列根据其字典顺序从小到大排列在一个容器中，那么数组的 下一个排列 就是在这个有序容器中排在它后面的那个排列。如果不存在下一个更大的排列，那么这个数组必须重排为字典序最小的排列（即，其元素按升序排列）。\n",
    "\n",
    "例如，arr = [1,2,3] 的下一个排列是 [1,3,2] 。\n",
    "类似地，arr = [2,3,1] 的下一个排列是 [3,1,2] 。\n",
    "而 arr = [3,2,1] 的下一个排列是 [1,2,3] ，因为 [3,2,1] 不存在一个字典序更大的排列。\n",
    "给你一个整数数组 nums ，找出 nums 的下一个排列。\n",
    "\n",
    "必须 原地 修改，只允许使用额外常数空间。\n",
    "\n",
    " \n",
    "\n",
    "示例 1：\n",
    "\n",
    "输入：nums = [1,2,3]\n",
    "输出：[1,3,2]\n",
    "示例 2：\n",
    "\n",
    "输入：nums = [3,2,1]\n",
    "输出：[1,2,3]\n",
    "示例 3：\n",
    "\n",
    "输入：nums = [1,1,5]\n",
    "输出：[1,5,1]\n",
    " \n",
    "\n",
    "提示：\n",
    "\n",
    "1 <= nums.length <= 100\n",
    "0 <= nums[i] <= 100"
   ],
   "metadata": {
    "collapsed": false
   },
   "id": "653711e50e7adca3"
  },
  {
   "cell_type": "code",
   "outputs": [
    {
     "name": "stdout",
     "output_type": "stream",
     "text": [
      "[1, 3, 2]\n",
      "[1, 2, 3]\n",
      "[1, 5, 1]\n",
      "[2, 1, 3]\n"
     ]
    }
   ],
   "source": [
    "class Solution(object):\n",
    "    def nextPermutation(self, nums):\n",
    "    # 从后往前遍历，找到第一个下降的位置\n",
    "        i = len(nums) - 2\n",
    "        while i >= 0 and nums[i] >= nums[i+1]:\n",
    "            i -= 1\n",
    "        # 如果找到了这个位置，继续从后往前遍历，找到一个比nums[i]大的最小元素，交换位置\n",
    "        if i >= 0:\n",
    "            j = len(nums) -1 \n",
    "            while nums[i] >= nums[j]:\n",
    "                j -= 1\n",
    "            nums[i], nums[j] = nums[j], nums[i]\n",
    "        \n",
    "        # 翻转 i+1 到结尾的部分\n",
    "        self.reverse(nums, i + 1)\n",
    "        return nums\n",
    "    \n",
    "    def reverse(self, nums, start):\n",
    "        end = len(nums) -1\n",
    "        while start < end:\n",
    "            nums[start], nums[end] = nums[end], nums[start]\n",
    "            start += 1\n",
    "            end -= 1\n",
    "    \n",
    "solution = Solution()\n",
    "print(solution.nextPermutation([1,2,3])) # [1,3,2]\n",
    "print(solution.nextPermutation([3,2,1])) # [1,2,3]\n",
    "print(solution.nextPermutation([1,1,5])) # [1,5,1]\n",
    "print(solution.nextPermutation([1,3,2])) # [2,1,3]\n",
    "        \n"
   ],
   "metadata": {
    "collapsed": false,
    "ExecuteTime": {
     "end_time": "2024-06-20T07:37:21.376515Z",
     "start_time": "2024-06-20T07:37:21.370786Z"
    }
   },
   "id": "98f370b5e3e84251",
   "execution_count": 2
  },
  {
   "cell_type": "code",
   "outputs": [],
   "source": [],
   "metadata": {
    "collapsed": false
   },
   "id": "e8d45ff4ef9acfde"
  }
 ],
 "metadata": {
  "kernelspec": {
   "display_name": "Python 3",
   "language": "python",
   "name": "python3"
  },
  "language_info": {
   "codemirror_mode": {
    "name": "ipython",
    "version": 2
   },
   "file_extension": ".py",
   "mimetype": "text/x-python",
   "name": "python",
   "nbconvert_exporter": "python",
   "pygments_lexer": "ipython2",
   "version": "2.7.6"
  }
 },
 "nbformat": 4,
 "nbformat_minor": 5
}
