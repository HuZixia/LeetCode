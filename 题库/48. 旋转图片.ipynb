{
 "cells": [
  {
   "cell_type": "raw",
   "source": [
    "48. 旋转图像\n",
    "已解答\n",
    "中等\n",
    "相关标签\n",
    "相关企业\n",
    "给定一个 n × n 的二维矩阵 matrix 表示一个图像。请你将图像顺时针旋转 90 度。\n",
    "\n",
    "你必须在 原地 旋转图像，这意味着你需要直接修改输入的二维矩阵。请不要 使用另一个矩阵来旋转图像。\n",
    "\n",
    " \n",
    "\n",
    "示例 1：\n",
    "\n",
    "\n",
    "输入：matrix = [[1,2,3],[4,5,6],[7,8,9]]\n",
    "输出：[[7,4,1],[8,5,2],[9,6,3]]\n",
    "示例 2：\n",
    "\n",
    "\n",
    "输入：matrix = [[5,1,9,11],[2,4,8,10],[13,3,6,7],[15,14,12,16]]\n",
    "输出：[[15,13,2,5],[14,3,4,1],[12,6,8,9],[16,7,10,11]]\n",
    " \n",
    "\n",
    "提示：\n",
    "\n",
    "n == matrix.length == matrix[i].length\n",
    "1 <= n <= 20\n",
    "-1000 <= matrix[i][j] <= 1000"
   ],
   "metadata": {
    "collapsed": false
   },
   "id": "b518e669ffde73a5"
  },
  {
   "cell_type": "code",
   "outputs": [
    {
     "name": "stdout",
     "output_type": "stream",
     "text": [
      "[[7, 4, 1], [8, 5, 2], [9, 6, 3]]\n",
      "[[15, 13, 2, 5], [14, 3, 4, 1], [12, 6, 8, 9], [16, 7, 10, 11]]\n",
      "[[3, 1], [4, 2]]\n"
     ]
    }
   ],
   "source": [
    "# 先转置矩阵，再左右翻转\n",
    "\n",
    "class Solution(object):\n",
    "    def rotate(self, matrix):\n",
    "        \n",
    "        n = len(matrix)\n",
    "        for i in range(n):\n",
    "            for j in range(i, n):\n",
    "                matrix[i][j], matrix[j][i] = matrix[j][i], matrix[i][j]\n",
    "        \n",
    "        for i in range(n):\n",
    "            for j in range(n // 2):\n",
    "                matrix[i][j], matrix[i][n-1-j] = matrix[i][n-1-j], matrix[i][j]\n",
    "                \n",
    "        return matrix\n",
    "        \n",
    "        \n",
    "solution = Solution()\n",
    "print(solution.rotate([[1,2,3],[4,5,6],[7,8,9]]))   # [[7,4,1],[8,5,2],[9,6,3]]\n",
    "print(solution.rotate([[5,1,9,11],[2,4,8,10],[13,3,6,7],[15,14,12,16]]))   # [[15,13,2,5],[14,3,4,1],[12,6,8,9],[16,7,10,11]])  \n",
    "print(solution.rotate([[1,2],[3,4]]))   # [[3,1],[4,2]])"
   ],
   "metadata": {
    "collapsed": false,
    "ExecuteTime": {
     "end_time": "2024-06-21T10:01:44.727833Z",
     "start_time": "2024-06-21T10:01:44.722228Z"
    }
   },
   "id": "99dd2b04b915ac34",
   "execution_count": 3
  },
  {
   "cell_type": "code",
   "outputs": [],
   "source": [],
   "metadata": {
    "collapsed": false
   },
   "id": "17837737f3e091cf"
  }
 ],
 "metadata": {
  "kernelspec": {
   "display_name": "Python 3",
   "language": "python",
   "name": "python3"
  },
  "language_info": {
   "codemirror_mode": {
    "name": "ipython",
    "version": 2
   },
   "file_extension": ".py",
   "mimetype": "text/x-python",
   "name": "python",
   "nbconvert_exporter": "python",
   "pygments_lexer": "ipython2",
   "version": "2.7.6"
  }
 },
 "nbformat": 4,
 "nbformat_minor": 5
}
