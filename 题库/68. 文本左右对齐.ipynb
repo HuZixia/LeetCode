{
 "cells": [
  {
   "cell_type": "raw",
   "source": [
    "68. 文本左右对齐\n",
    "已解答\n",
    "困难\n",
    "相关标签\n",
    "相关企业\n",
    "给定一个单词数组 words 和一个长度 maxWidth ，重新排版单词，使其成为每行恰好有 maxWidth 个字符，且左右两端对齐的文本。\n",
    "\n",
    "你应该使用 “贪心算法” 来放置给定的单词；也就是说，尽可能多地往每行中放置单词。必要时可用空格 ' ' 填充，使得每行恰好有 maxWidth 个字符。\n",
    "\n",
    "要求尽可能均匀分配单词间的空格数量。如果某一行单词间的空格不能均匀分配，则左侧放置的空格数要多于右侧的空格数。\n",
    "\n",
    "文本的最后一行应为左对齐，且单词之间不插入额外的空格。\n",
    "\n",
    "注意:\n",
    "\n",
    "单词是指由非空格字符组成的字符序列。\n",
    "每个单词的长度大于 0，小于等于 maxWidth。\n",
    "输入单词数组 words 至少包含一个单词。\n",
    " \n",
    "\n",
    "示例 1:\n",
    "\n",
    "输入: words = [\"This\", \"is\", \"an\", \"example\", \"of\", \"text\", \"justification.\"], maxWidth = 16\n",
    "输出:\n",
    "[\n",
    "   \"This    is    an\",\n",
    "   \"example  of text\",\n",
    "   \"justification.  \"\n",
    "]\n",
    "示例 2:\n",
    "\n",
    "输入:words = [\"What\",\"must\",\"be\",\"acknowledgment\",\"shall\",\"be\"], maxWidth = 16\n",
    "输出:\n",
    "[\n",
    "  \"What   must   be\",\n",
    "  \"acknowledgment  \",\n",
    "  \"shall be        \"\n",
    "]\n",
    "解释: 注意最后一行的格式应为 \"shall be    \" 而不是 \"shall     be\",\n",
    "     因为最后一行应为左对齐，而不是左右两端对齐。       \n",
    "     第二行同样为左对齐，这是因为这行只包含一个单词。\n",
    "示例 3:\n",
    "\n",
    "输入:words = [\"Science\",\"is\",\"what\",\"we\",\"understand\",\"well\",\"enough\",\"to\",\"explain\",\"to\",\"a\",\"computer.\",\"Art\",\"is\",\"everything\",\"else\",\"we\",\"do\"]，maxWidth = 20\n",
    "输出:\n",
    "[\n",
    "  \"Science  is  what we\",\n",
    "  \"understand      well\",\n",
    "  \"enough to explain to\",\n",
    "  \"a  computer.  Art is\",\n",
    "  \"everything  else  we\",\n",
    "  \"do                  \"\n",
    "]\n",
    " \n",
    "\n",
    "提示:\n",
    "\n",
    "1 <= words.length <= 300\n",
    "1 <= words[i].length <= 20\n",
    "words[i] 由小写英文字母和符号组成\n",
    "1 <= maxWidth <= 100\n",
    "words[i].length <= maxWidth\n"
   ],
   "metadata": {
    "collapsed": false
   },
   "id": "ab73a9072368d64f"
  },
  {
   "cell_type": "code",
   "outputs": [
    {
     "name": "stdout",
     "output_type": "stream",
     "text": [
      "['This    is    an', 'example  of text', 'justification.  ']\n",
      "['What   must   be', 'acknowledgment  ', 'shall be        ']\n",
      "['Science  is  what we', 'understand      well', 'enough to explain to', 'a  computer.  Art is', 'everything  else  we', 'do                  ']\n"
     ]
    }
   ],
   "source": [
    "class Solution(object):\n",
    "    def fullJustify(self, words, maxWidth):\n",
    "        \n",
    "        # 初始化结果列表\n",
    "        result = []\n",
    "        # 当前行的单词列表\n",
    "        current_line = []\n",
    "        # 当前行的总长度，不包括空格\n",
    "        current_length = 0\n",
    "        \n",
    "        # 遍历每个字符串\n",
    "        for word in words:\n",
    "            # 如果当前行总长度 加上当前单词长度 加上必要的空格长度，超过maxWidth，则需要换行。如果加入word，需要的最小空格数量 len(current_line)\n",
    "            if current_length + len(word) + len(current_line) > maxWidth:\n",
    "                # 需要对当前行进行对齐处理\n",
    "                for i in range(maxWidth - current_length):\n",
    "                    # 尽可能均价分配空格，如果不能均匀分配，则从左往右依次放置\n",
    "                    # len(current_line) - 1 当前行单词之间的的空格数量，如果为0改成1\n",
    "                    current_line[i % (len(current_line) - 1 or 1)] += ' '\n",
    "                # 将结果添加到result中\n",
    "                result.append(''.join(current_line))\n",
    "                # 重置 current_Line 和 current_length\n",
    "                current_line = []\n",
    "                current_length = 0\n",
    "                \n",
    "            # 将当前单词加入到当前行，更新当前行的长度\n",
    "            current_line.append(word)\n",
    "            current_length += len(word)\n",
    "        \n",
    "        # 处理最后一行，左对齐\n",
    "        result.append(' '.join(current_line).ljust(maxWidth))\n",
    "        return result\n",
    "\n",
    "\n",
    "solution = Solution()\n",
    "print(solution.fullJustify([\"This\", \"is\", \"an\", \"example\", \"of\", \"text\", \"justification.\"], 16))\n",
    "print(solution.fullJustify([\"What\",\"must\",\"be\",\"acknowledgment\",\"shall\",\"be\"], 16))\n",
    "print(solution.fullJustify([\"Science\",\"is\",\"what\",\"we\",\"understand\",\"well\",\"enough\",\"to\",\"explain\",\"to\",\"a\",\"computer.\",\"Art\",\"is\",\"everything\",\"else\",\"we\",\"do\"], 20))\n",
    "            \n",
    "                    "
   ],
   "metadata": {
    "collapsed": false,
    "ExecuteTime": {
     "end_time": "2024-06-26T14:51:31.509626Z",
     "start_time": "2024-06-26T14:51:31.503966Z"
    }
   },
   "id": "700165793acc2623",
   "execution_count": 3
  },
  {
   "cell_type": "code",
   "outputs": [],
   "source": [],
   "metadata": {
    "collapsed": false
   },
   "id": "7aa21e77883e0980"
  }
 ],
 "metadata": {
  "kernelspec": {
   "display_name": "Python 3",
   "language": "python",
   "name": "python3"
  },
  "language_info": {
   "codemirror_mode": {
    "name": "ipython",
    "version": 2
   },
   "file_extension": ".py",
   "mimetype": "text/x-python",
   "name": "python",
   "nbconvert_exporter": "python",
   "pygments_lexer": "ipython2",
   "version": "2.7.6"
  }
 },
 "nbformat": 4,
 "nbformat_minor": 5
}
