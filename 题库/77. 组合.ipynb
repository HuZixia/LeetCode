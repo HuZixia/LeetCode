{
 "cells": [
  {
   "cell_type": "raw",
   "source": [
    "77. 组合\n",
    "已解答\n",
    "中等\n",
    "相关标签\n",
    "相关企业\n",
    "给定两个整数 n 和 k，返回范围 [1, n] 中所有可能的 k 个数的组合。\n",
    "\n",
    "你可以按 任何顺序 返回答案。\n",
    "\n",
    " \n",
    "\n",
    "示例 1：\n",
    "\n",
    "输入：n = 4, k = 2\n",
    "输出：\n",
    "[\n",
    "  [2,4],\n",
    "  [3,4],\n",
    "  [2,3],\n",
    "  [1,2],\n",
    "  [1,3],\n",
    "  [1,4],\n",
    "]\n",
    "示例 2：\n",
    "\n",
    "输入：n = 1, k = 1\n",
    "输出：[[1]]\n",
    " \n",
    "\n",
    "提示：\n",
    "\n",
    "1 <= n <= 20\n",
    "1 <= k <= n"
   ],
   "metadata": {
    "collapsed": false
   },
   "id": "a33214ba64205ec2"
  },
  {
   "cell_type": "code",
   "outputs": [
    {
     "name": "stdout",
     "output_type": "stream",
     "text": [
      "[[1, 2], [1, 3], [1, 4], [2, 3], [2, 4], [3, 4]]\n",
      "[[1]]\n",
      "[[1, 2, 3], [1, 2, 4], [1, 2, 5], [1, 3, 4], [1, 3, 5], [1, 4, 5], [2, 3, 4], [2, 3, 5], [2, 4, 5], [3, 4, 5]]\n"
     ]
    }
   ],
   "source": [
    "# 回溯算法\n",
    "\n",
    "class Solution(object):\n",
    "    def combine(self, n, k):\n",
    "        \n",
    "        def backtrack(result, current, start, n, k):\n",
    "            if len(current) == k:\n",
    "                # 将当前组合的副本加入结果列表\n",
    "                result.append(list(current))\n",
    "                return \n",
    "            \n",
    "            for i in range(start, n+1):\n",
    "                current.append(i)\n",
    "                backtrack(result, current, i + 1, n, k)\n",
    "                current.pop()\n",
    "        result = []\n",
    "        backtrack(result, [], 1, n, k)\n",
    "        return result\n",
    "\n",
    "\n",
    "solution = Solution()\n",
    "print(solution.combine(4, 2))\n",
    "print(solution.combine(1, 1))\n",
    "print(solution.combine(5, 3))"
   ],
   "metadata": {
    "collapsed": false,
    "ExecuteTime": {
     "end_time": "2024-06-27T14:46:37.480111Z",
     "start_time": "2024-06-27T14:46:37.474408Z"
    }
   },
   "id": "ea1d99cfdd081b85",
   "execution_count": 4
  },
  {
   "cell_type": "code",
   "outputs": [],
   "source": [],
   "metadata": {
    "collapsed": false
   },
   "id": "6fc66123ad7563b1"
  }
 ],
 "metadata": {
  "kernelspec": {
   "display_name": "Python 3",
   "language": "python",
   "name": "python3"
  },
  "language_info": {
   "codemirror_mode": {
    "name": "ipython",
    "version": 2
   },
   "file_extension": ".py",
   "mimetype": "text/x-python",
   "name": "python",
   "nbconvert_exporter": "python",
   "pygments_lexer": "ipython2",
   "version": "2.7.6"
  }
 },
 "nbformat": 4,
 "nbformat_minor": 5
}
