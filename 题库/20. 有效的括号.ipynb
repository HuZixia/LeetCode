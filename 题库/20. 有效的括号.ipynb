{
 "cells": [
  {
   "cell_type": "raw",
   "source": [
    "20. 有效的括号\n",
    "已解答\n",
    "简单\n",
    "相关标签\n",
    "相关企业\n",
    "提示\n",
    "给定一个只包括 '('，')'，'{'，'}'，'['，']' 的字符串 s ，判断字符串是否有效。\n",
    "\n",
    "有效字符串需满足：\n",
    "\n",
    "左括号必须用相同类型的右括号闭合。\n",
    "左括号必须以正确的顺序闭合。\n",
    "每个右括号都有一个对应的相同类型的左括号。\n",
    " \n",
    "\n",
    "示例 1：\n",
    "\n",
    "输入：s = \"()\"\n",
    "输出：true\n",
    "示例 2：\n",
    "\n",
    "输入：s = \"()[]{}\"\n",
    "输出：true\n",
    "示例 3：\n",
    "\n",
    "输入：s = \"(]\"\n",
    "输出：false"
   ],
   "metadata": {
    "collapsed": false
   },
   "id": "3370aacd8307626e"
  },
  {
   "cell_type": "code",
   "outputs": [
    {
     "name": "stdout",
     "output_type": "stream",
     "text": [
      "True\n",
      "False\n",
      "False\n",
      "True\n"
     ]
    }
   ],
   "source": [
    "# 可以使用栈stack数据结构，栈的特点是后进先出 LIFO，因此我们可以遍历字符串s，遇到左括号入栈，遇到右括号，判断栈顶元素是否与右括号匹配，如果匹配则出栈，否则返回false。\n",
    "\n",
    "class Solution(object):\n",
    "    def isValid(self, s):\n",
    "        # 创建一个栈来存放左括号\n",
    "        stack = []\n",
    "        # 字典来存放括号的匹配关系\n",
    "        mapping = {')': '(', ']': '[', '}': '{'}\n",
    "        for char in s:\n",
    "            # 如果是右括号\n",
    "            if char in mapping:\n",
    "                # 弹出栈顶元素，如果栈为空，则为一个虚拟的栈顶元素，值为#\n",
    "                top_element = stack.pop() if stack else '#'\n",
    "                # 如果栈顶元素与右括号不匹配，返回false\n",
    "                if top_element != mapping[char]:\n",
    "                    return False\n",
    "            # 如果是左括号，则入栈\n",
    "            else:\n",
    "                stack.append(char)\n",
    "        return not stack\n",
    "\n",
    "solution = Solution()\n",
    "print(solution.isValid(\"()[]{}\"))\n",
    "print(solution.isValid(\"(]\"))\n",
    "print(solution.isValid(\"([)]\"))\n",
    "print(solution.isValid(\"()\"))\n",
    "        \n",
    "        "
   ],
   "metadata": {
    "collapsed": false,
    "ExecuteTime": {
     "end_time": "2024-06-18T16:18:07.822615Z",
     "start_time": "2024-06-18T16:18:07.817390Z"
    }
   },
   "id": "d8bbffdf1bedcfca",
   "execution_count": 1
  },
  {
   "cell_type": "code",
   "outputs": [],
   "source": [],
   "metadata": {
    "collapsed": false
   },
   "id": "69a791eb163b92e5"
  }
 ],
 "metadata": {
  "kernelspec": {
   "display_name": "Python 3",
   "language": "python",
   "name": "python3"
  },
  "language_info": {
   "codemirror_mode": {
    "name": "ipython",
    "version": 2
   },
   "file_extension": ".py",
   "mimetype": "text/x-python",
   "name": "python",
   "nbconvert_exporter": "python",
   "pygments_lexer": "ipython2",
   "version": "2.7.6"
  }
 },
 "nbformat": 4,
 "nbformat_minor": 5
}
