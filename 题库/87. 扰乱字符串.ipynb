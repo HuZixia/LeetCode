{
 "cells": [
  {
   "cell_type": "raw",
   "source": [
    "87. 扰乱字符串\n",
    "已解答\n",
    "困难\n",
    "相关标签\n",
    "相关企业\n",
    "使用下面描述的算法可以扰乱字符串 s 得到字符串 t ：\n",
    "如果字符串的长度为 1 ，算法停止\n",
    "如果字符串的长度 > 1 ，执行下述步骤：\n",
    "在一个随机下标处将字符串分割成两个非空的子字符串。即，如果已知字符串 s ，则可以将其分成两个子字符串 x 和 y ，且满足 s = x + y 。\n",
    "随机 决定是要「交换两个子字符串」还是要「保持这两个子字符串的顺序不变」。即，在执行这一步骤之后，s 可能是 s = x + y 或者 s = y + x 。\n",
    "在 x 和 y 这两个子字符串上继续从步骤 1 开始递归执行此算法。\n",
    "给你两个 长度相等 的字符串 s1 和 s2，判断 s2 是否是 s1 的扰乱字符串。如果是，返回 true ；否则，返回 false 。\n",
    "\n",
    " \n",
    "\n",
    "示例 1：\n",
    "\n",
    "输入：s1 = \"great\", s2 = \"rgeat\"\n",
    "输出：true\n",
    "解释：s1 上可能发生的一种情形是：\n",
    "\"great\" --> \"gr/eat\" // 在一个随机下标处分割得到两个子字符串\n",
    "\"gr/eat\" --> \"gr/eat\" // 随机决定：「保持这两个子字符串的顺序不变」\n",
    "\"gr/eat\" --> \"g/r / e/at\" // 在子字符串上递归执行此算法。两个子字符串分别在随机下标处进行一轮分割\n",
    "\"g/r / e/at\" --> \"r/g / e/at\" // 随机决定：第一组「交换两个子字符串」，第二组「保持这两个子字符串的顺序不变」\n",
    "\"r/g / e/at\" --> \"r/g / e/ a/t\" // 继续递归执行此算法，将 \"at\" 分割得到 \"a/t\"\n",
    "\"r/g / e/ a/t\" --> \"r/g / e/ a/t\" // 随机决定：「保持这两个子字符串的顺序不变」\n",
    "算法终止，结果字符串和 s2 相同，都是 \"rgeat\"\n",
    "这是一种能够扰乱 s1 得到 s2 的情形，可以认为 s2 是 s1 的扰乱字符串，返回 true\n",
    "示例 2：\n",
    "\n",
    "输入：s1 = \"abcde\", s2 = \"caebd\"\n",
    "输出：false\n",
    "示例 3：\n",
    "\n",
    "输入：s1 = \"a\", s2 = \"a\"\n",
    "输出：true\n",
    " \n",
    "\n",
    "提示：\n",
    "\n",
    "s1.length == s2.length\n",
    "1 <= s1.length <= 30\n",
    "s1 和 s2 由小写英文字母组成"
   ],
   "metadata": {
    "collapsed": false
   },
   "id": "37de754020015f90"
  },
  {
   "cell_type": "code",
   "outputs": [
    {
     "name": "stdout",
     "output_type": "stream",
     "text": [
      "True\n",
      "False\n",
      "True\n",
      "True\n"
     ]
    }
   ],
   "source": [
    "# 记忆化递归\n",
    "\n",
    "class Solution(object):\n",
    "    def isScramble(self, s1, s2):\n",
    "        \n",
    "        memo = {}\n",
    "        \n",
    "        def recursive(s1, s2):\n",
    "            if (s1, s2) in memo:\n",
    "                return memo[(s1, s2)]\n",
    "            \n",
    "            if len(s1) != len(s2):\n",
    "                return False\n",
    "            \n",
    "            if sorted(s1) != sorted(s2):\n",
    "                return False\n",
    "            \n",
    "            if s1 == s2:\n",
    "                return True\n",
    "            \n",
    "            # 递归检查\n",
    "            n = len(s1)\n",
    "            for i in range(1, n):\n",
    "                # 不交换的情况\n",
    "                if recursive(s1[:i], s2[:i]) and recursive(s1[i:], s2[i:]):\n",
    "                    memo[(s1, s2)] = True\n",
    "                    return True\n",
    "            \n",
    "                # 交换的情况\n",
    "                if recursive(s1[:i], s2[-i:]) and recursive(s1[i:], s2[:-i]):\n",
    "                    memo[(s1, s2)] = True\n",
    "                    return True\n",
    "            memo[(s1, s2)] = False\n",
    "            return False\n",
    "        \n",
    "        return recursive(s1, s2)\n",
    "    \n",
    "solution = Solution()\n",
    "print(solution.isScramble(\"great\", \"rgeat\"))\n",
    "print(solution.isScramble(\"abcde\", \"caebd\"))\n",
    "print(solution.isScramble(\"a\", \"a\"))\n",
    "print(solution.isScramble(\"abc\", \"bca\"))\n",
    "                    \n",
    "                "
   ],
   "metadata": {
    "collapsed": false,
    "ExecuteTime": {
     "end_time": "2024-06-28T11:46:47.840054Z",
     "start_time": "2024-06-28T11:46:47.832449Z"
    }
   },
   "id": "aea52dc4af447730",
   "execution_count": 2
  },
  {
   "cell_type": "code",
   "outputs": [],
   "source": [],
   "metadata": {
    "collapsed": false
   },
   "id": "5b41fd357fa7b332"
  }
 ],
 "metadata": {
  "kernelspec": {
   "display_name": "Python 3",
   "language": "python",
   "name": "python3"
  },
  "language_info": {
   "codemirror_mode": {
    "name": "ipython",
    "version": 2
   },
   "file_extension": ".py",
   "mimetype": "text/x-python",
   "name": "python",
   "nbconvert_exporter": "python",
   "pygments_lexer": "ipython2",
   "version": "2.7.6"
  }
 },
 "nbformat": 4,
 "nbformat_minor": 5
}
