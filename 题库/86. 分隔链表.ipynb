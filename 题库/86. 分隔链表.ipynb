{
 "cells": [
  {
   "cell_type": "raw",
   "source": [
    "86. 分隔链表\n",
    "已解答\n",
    "中等\n",
    "相关标签\n",
    "相关企业\n",
    "给你一个链表的头节点 head 和一个特定值 x ，请你对链表进行分隔，使得所有 小于 x 的节点都出现在 大于或等于 x 的节点之前。\n",
    "\n",
    "你应当 保留 两个分区中每个节点的初始相对位置。\n",
    "\n",
    " \n",
    "\n",
    "示例 1：\n",
    "\n",
    "\n",
    "输入：head = [1,4,3,2,5,2], x = 3\n",
    "输出：[1,2,2,4,3,5]\n",
    "示例 2：\n",
    "\n",
    "输入：head = [2,1], x = 2\n",
    "输出：[1,2]\n",
    " \n",
    "\n",
    "提示：\n",
    "\n",
    "链表中节点的数目在范围 [0, 200] 内\n",
    "-100 <= Node.val <= 100\n",
    "-200 <= x <= 200"
   ],
   "metadata": {
    "collapsed": false
   },
   "id": "655218e1529a786"
  },
  {
   "cell_type": "code",
   "outputs": [
    {
     "name": "stdout",
     "output_type": "stream",
     "text": [
      "[1, 2, 2, 4, 3, 5]\n",
      "[1, 2]\n",
      "[1, 2, 2, 3, 5]\n"
     ]
    }
   ],
   "source": [
    "class ListNode(object):\n",
    "    def __init__(self, val=0, next=None):\n",
    "        self.val = val\n",
    "        self.next = next\n",
    "\n",
    "class Solution(object):\n",
    "    def partition(self, head, x):\n",
    "        \n",
    "        # 两个链表指针\n",
    "        \n",
    "        # 虚拟头节点\n",
    "        less_head = ListNode(0)\n",
    "        greater_head = ListNode(0)\n",
    "        \n",
    "        less = less_head\n",
    "        greater = greater_head\n",
    "        \n",
    "        while head:\n",
    "            if head.val < x:\n",
    "                less.next = head\n",
    "                less = less.next\n",
    "            else:\n",
    "                greater.next = head\n",
    "                greater = greater.next\n",
    "            head = head.next\n",
    "        \n",
    "        # 连接less和greater链表\n",
    "        greater.next = None\n",
    "        less.next = greater_head.next\n",
    "        \n",
    "        return less_head.next\n",
    "    \n",
    "\n",
    "def List2ListNode(nums):\n",
    "    head = ListNode(0)\n",
    "    curr = head\n",
    "    for num in nums:\n",
    "        curr.next = ListNode(num)\n",
    "        curr = curr.next\n",
    "    return head.next\n",
    "\n",
    "\n",
    "def printListNode(head):\n",
    "    result = []\n",
    "    while head:\n",
    "        result.append(head.val)\n",
    "        head = head.next\n",
    "    print(result)\n",
    "    \n",
    "\n",
    "solution = Solution()\n",
    "printListNode(solution.partition(List2ListNode([1,4,3,2,5,2]), 3)) # [1,2,2,4,3,5]\n",
    "printListNode(solution.partition(List2ListNode([2,1]), 2)) # [1,2]\n",
    "printListNode(solution.partition(List2ListNode([1,3,2,5,2]), 3)) # [1,2,2,5,3])"
   ],
   "metadata": {
    "collapsed": false,
    "ExecuteTime": {
     "end_time": "2024-06-28T10:52:31.780405Z",
     "start_time": "2024-06-28T10:52:31.775305Z"
    }
   },
   "id": "493eb37389201020",
   "execution_count": 1
  },
  {
   "cell_type": "code",
   "outputs": [],
   "source": [],
   "metadata": {
    "collapsed": false
   },
   "id": "904ecacfe24964c5"
  }
 ],
 "metadata": {
  "kernelspec": {
   "display_name": "Python 3",
   "language": "python",
   "name": "python3"
  },
  "language_info": {
   "codemirror_mode": {
    "name": "ipython",
    "version": 2
   },
   "file_extension": ".py",
   "mimetype": "text/x-python",
   "name": "python",
   "nbconvert_exporter": "python",
   "pygments_lexer": "ipython2",
   "version": "2.7.6"
  }
 },
 "nbformat": 4,
 "nbformat_minor": 5
}
