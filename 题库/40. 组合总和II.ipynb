{
 "cells": [
  {
   "cell_type": "raw",
   "source": [
    "40. 组合总和 II\n",
    "已解答\n",
    "中等\n",
    "相关标签\n",
    "相关企业\n",
    "给定一个候选人编号的集合 candidates 和一个目标数 target ，找出 candidates 中所有可以使数字和为 target 的组合。\n",
    "\n",
    "candidates 中的每个数字在每个组合中只能使用 一次 。\n",
    "\n",
    "注意：解集不能包含重复的组合。 \n",
    "\n",
    " \n",
    "\n",
    "示例 1:\n",
    "\n",
    "输入: candidates = [10,1,2,7,6,1,5], target = 8,\n",
    "输出:\n",
    "[\n",
    "[1,1,6],\n",
    "[1,2,5],\n",
    "[1,7],\n",
    "[2,6]\n",
    "]\n",
    "示例 2:\n",
    "\n",
    "输入: candidates = [2,5,2,1,2], target = 5,\n",
    "输出:\n",
    "[\n",
    "[1,2,2],\n",
    "[5]\n",
    "]\n",
    " \n",
    "\n",
    "提示:\n",
    "\n",
    "1 <= candidates.length <= 100\n",
    "1 <= candidates[i] <= 50\n",
    "1 <= target <= 30"
   ],
   "metadata": {
    "collapsed": false
   },
   "id": "7acf8b77ff2e205d"
  },
  {
   "cell_type": "code",
   "outputs": [
    {
     "name": "stdout",
     "output_type": "stream",
     "text": [
      "[[1, 1, 6], [1, 2, 5], [1, 7], [2, 6]]\n",
      "[[1, 2, 2], [5]]\n",
      "[[1, 1]]\n"
     ]
    }
   ],
   "source": [
    "# 递归 + 回溯算法\n",
    "# 为了去重，先对 candidates 排序，这样相同的数字会相邻，通过比较前后的元素就可以避免重复组合\n",
    "\n",
    "class Solution(object):\n",
    "    def combinationSum2(self, candidates, target):\n",
    "        candidates.sort()\n",
    "        result = []\n",
    "        # 定义回溯函数\n",
    "        def backtrack(start, path, target):\n",
    "            if target < 0:\n",
    "                return \n",
    "            if target == 0:\n",
    "                result.append(path)\n",
    "                return\n",
    "            for i in range(start,len(candidates)):\n",
    "                # 跳过相同的数字，避免重复组合\n",
    "                if i > start and candidates[i] == candidates[i-1]:\n",
    "                    continue\n",
    "                # i+1 确保每个数字在每个组合中只能使用一次\n",
    "                backtrack(i + 1, path + [candidates[i]], target-candidates[i])\n",
    "        backtrack(0, [], target)\n",
    "        return result\n",
    "\n",
    "solution = Solution()\n",
    "print(solution.combinationSum2([10,1,2,7,6,1,5], 8))\n",
    "print(solution.combinationSum2([2,5,2,1,2], 5))\n",
    "print(solution.combinationSum2([1,1,1,1,1], 2))"
   ],
   "metadata": {
    "collapsed": false,
    "ExecuteTime": {
     "end_time": "2024-06-20T15:15:16.264386Z",
     "start_time": "2024-06-20T15:15:16.257738Z"
    }
   },
   "id": "61962f4e5ed02929",
   "execution_count": 2
  },
  {
   "cell_type": "code",
   "outputs": [],
   "source": [],
   "metadata": {
    "collapsed": false
   },
   "id": "8fcb5d0dd11e9619"
  }
 ],
 "metadata": {
  "kernelspec": {
   "display_name": "Python 3",
   "language": "python",
   "name": "python3"
  },
  "language_info": {
   "codemirror_mode": {
    "name": "ipython",
    "version": 2
   },
   "file_extension": ".py",
   "mimetype": "text/x-python",
   "name": "python",
   "nbconvert_exporter": "python",
   "pygments_lexer": "ipython2",
   "version": "2.7.6"
  }
 },
 "nbformat": 4,
 "nbformat_minor": 5
}
