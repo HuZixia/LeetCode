{
 "cells": [
  {
   "cell_type": "raw",
   "source": [
    "93. 复原 IP 地址\n",
    "已解答\n",
    "中等\n",
    "相关标签\n",
    "相关企业\n",
    "有效 IP 地址 正好由四个整数（每个整数位于 0 到 255 之间组成，且不能含有前导 0），整数之间用 '.' 分隔。\n",
    "\n",
    "例如：\"0.1.2.201\" 和 \"192.168.1.1\" 是 有效 IP 地址，但是 \"0.011.255.245\"、\"192.168.1.312\" 和 \"192.168@1.1\" 是 无效 IP 地址。\n",
    "给定一个只包含数字的字符串 s ，用以表示一个 IP 地址，返回所有可能的有效 IP 地址，这些地址可以通过在 s 中插入 '.' 来形成。你 不能 重新排序或删除 s 中的任何数字。你可以按 任何 顺序返回答案。\n",
    "\n",
    " \n",
    "\n",
    "示例 1：\n",
    "\n",
    "输入：s = \"25525511135\"\n",
    "输出：[\"255.255.11.135\",\"255.255.111.35\"]\n",
    "示例 2：\n",
    "\n",
    "输入：s = \"0000\"\n",
    "输出：[\"0.0.0.0\"]\n",
    "示例 3：\n",
    "\n",
    "输入：s = \"101023\"\n",
    "输出：[\"1.0.10.23\",\"1.0.102.3\",\"10.1.0.23\",\"10.10.2.3\",\"101.0.2.3\"]\n",
    " \n",
    "\n",
    "提示：\n",
    "\n",
    "1 <= s.length <= 20\n",
    "s 仅由数字组成"
   ],
   "metadata": {
    "collapsed": false
   },
   "id": "6b4aaa18c6afa684"
  },
  {
   "cell_type": "code",
   "outputs": [
    {
     "name": "stdout",
     "output_type": "stream",
     "text": [
      "['255.255.11.135', '255.255.111.35']\n",
      "['0.0.0.0']\n",
      "['1.0.10.23', '1.0.102.3', '10.1.0.23', '10.10.2.3', '101.0.2.3']\n"
     ]
    }
   ],
   "source": [
    "# 回溯算法\n",
    "\n",
    "class Solution(object):\n",
    "    def restoreIpAddresses(self, s):\n",
    "        result = []\n",
    "        \n",
    "        def backtrack(start, path):\n",
    "            \n",
    "            # 如果当前路径已经有4段，并且遍历完了字符串，加入结果\n",
    "            if len(path) == 4:\n",
    "                if start == len(s):\n",
    "                    result.append('.'.join(path))\n",
    "            \n",
    "            # 每段最多包含3个字符串\n",
    "            for length in range(1, 4):\n",
    "                # 取出从start开始，长度为length的字符串\n",
    "                if start + length > len(s):\n",
    "                    break\n",
    "                \n",
    "                segment = s[start:start+length]\n",
    "                \n",
    "                # 检查是否为有效ip地址\n",
    "                if (segment[0] == '0' and len(segment) > 1) or (len(segment) == 3 and int(segment) > 255):\n",
    "                    continue\n",
    "                backtrack(start+length, path+[segment])\n",
    "        \n",
    "        backtrack(0, [])\n",
    "        return result\n",
    "\n",
    "\n",
    "solution = Solution()\n",
    "print(solution.restoreIpAddresses(\"25525511135\")) # [\"255.255.11.135\",\"255.255.111.35\"]\n",
    "print(solution.restoreIpAddresses(\"0000\")) # [\"0.0.0.0\"]\n",
    "print(solution.restoreIpAddresses(\"101023\")) # [\"1.0.10.23\",\"1.0.102.3\",\"10.1.0.23\",\"10.10.2.3\",\"101.0.2.3\"]\n",
    "\n"
   ],
   "metadata": {
    "collapsed": false,
    "ExecuteTime": {
     "end_time": "2024-06-28T18:56:44.603278Z",
     "start_time": "2024-06-28T18:56:44.598704Z"
    }
   },
   "id": "83ffdac68edac205",
   "execution_count": 1
  },
  {
   "cell_type": "code",
   "outputs": [],
   "source": [],
   "metadata": {
    "collapsed": false
   },
   "id": "8739d523cf75aace"
  }
 ],
 "metadata": {
  "kernelspec": {
   "display_name": "Python 3",
   "language": "python",
   "name": "python3"
  },
  "language_info": {
   "codemirror_mode": {
    "name": "ipython",
    "version": 2
   },
   "file_extension": ".py",
   "mimetype": "text/x-python",
   "name": "python",
   "nbconvert_exporter": "python",
   "pygments_lexer": "ipython2",
   "version": "2.7.6"
  }
 },
 "nbformat": 4,
 "nbformat_minor": 5
}
