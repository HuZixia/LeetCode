{
 "cells": [
  {
   "cell_type": "raw",
   "source": [
    "33. 搜索旋转排序数组\n",
    "已解答\n",
    "中等\n",
    "相关标签\n",
    "相关企业\n",
    "整数数组 nums 按升序排列，数组中的值 互不相同 。\n",
    "\n",
    "在传递给函数之前，nums 在预先未知的某个下标 k（0 <= k < nums.length）上进行了 旋转，使数组变为 [nums[k], nums[k+1], ..., nums[n-1], nums[0], nums[1], ..., nums[k-1]]（下标 从 0 开始 计数）。例如， [0,1,2,4,5,6,7] 在下标 3 处经旋转后可能变为 [4,5,6,7,0,1,2] 。\n",
    "\n",
    "给你 旋转后 的数组 nums 和一个整数 target ，如果 nums 中存在这个目标值 target ，则返回它的下标，否则返回 -1 。\n",
    "\n",
    "你必须设计一个时间复杂度为 O(log n) 的算法解决此问题。\n",
    "\n",
    " \n",
    "\n",
    "示例 1：\n",
    "\n",
    "输入：nums = [4,5,6,7,0,1,2], target = 0\n",
    "输出：4\n",
    "示例 2：\n",
    "\n",
    "输入：nums = [4,5,6,7,0,1,2], target = 3\n",
    "输出：-1\n",
    "示例 3：\n",
    "\n",
    "输入：nums = [1], target = 0\n",
    "输出：-1\n",
    " \n",
    "\n",
    "提示：\n",
    "\n",
    "1 <= nums.length <= 5000\n",
    "-104 <= nums[i] <= 104\n",
    "nums 中的每个值都 独一无二\n",
    "题目数据保证 nums 在预先未知的某个下标上进行了旋转\n",
    "-104 <= target <= 104"
   ],
   "metadata": {
    "collapsed": false
   },
   "id": "c294306caab9b60c"
  },
  {
   "cell_type": "code",
   "outputs": [
    {
     "name": "stdout",
     "output_type": "stream",
     "text": [
      "4\n",
      "-1\n",
      "-1\n"
     ]
    }
   ],
   "source": [
    "# 使用二分查找来解决 搜索旋转排序数组，由于数组被旋转了一次，需要找到旋转点，然后在旋转点的左右分别进行二分查找\n",
    "\n",
    "class Solution(object):\n",
    "    def search(self, nums, target):\n",
    "        if not nums:\n",
    "            return -1\n",
    "        \n",
    "        left, right = 0, len(nums)-1\n",
    "        while left <= right:\n",
    "            mid = (left + right) // 2\n",
    "            if nums[mid] == target:\n",
    "                return mid\n",
    "            \n",
    "            # 判断左半部分是否有序\n",
    "            if nums[left] <= nums[mid]:\n",
    "                # 判断target是否在左半部分\n",
    "                if nums[left] <= target < nums[mid]:\n",
    "                    right = mid - 1\n",
    "                else:\n",
    "                    left = mid + 1\n",
    "            # 判断右半部分是否有序\n",
    "            else:\n",
    "                # 判断target是否在右半部分\n",
    "                if nums[mid] < target <= nums[right]:\n",
    "                    left = mid + 1\n",
    "                else:\n",
    "                    right = mid -1\n",
    "        return -1\n",
    "    \n",
    "    \n",
    "solution = Solution()\n",
    "print(solution.search([4,5,6,7,0,1,2], 0))  # 输出：4\n",
    "print(solution.search([4,5,6,7,0,1,2], 3))  # 输出：-1\n",
    "print(solution.search([1], 0))  # 输出：-1)\n",
    "            "
   ],
   "metadata": {
    "collapsed": false,
    "ExecuteTime": {
     "end_time": "2024-06-20T10:07:56.572107Z",
     "start_time": "2024-06-20T10:07:56.567404Z"
    }
   },
   "id": "1b8f71b3040b165a",
   "execution_count": 1
  },
  {
   "cell_type": "code",
   "outputs": [],
   "source": [],
   "metadata": {
    "collapsed": false
   },
   "id": "6a9eedb1fe3ebf47"
  }
 ],
 "metadata": {
  "kernelspec": {
   "display_name": "Python 3",
   "language": "python",
   "name": "python3"
  },
  "language_info": {
   "codemirror_mode": {
    "name": "ipython",
    "version": 2
   },
   "file_extension": ".py",
   "mimetype": "text/x-python",
   "name": "python",
   "nbconvert_exporter": "python",
   "pygments_lexer": "ipython2",
   "version": "2.7.6"
  }
 },
 "nbformat": 4,
 "nbformat_minor": 5
}
