{
 "cells": [
  {
   "cell_type": "raw",
   "source": [
    "47. 全排列 II\n",
    "已解答\n",
    "中等\n",
    "相关标签\n",
    "相关企业\n",
    "给定一个可包含重复数字的序列 nums ，按任意顺序 返回所有不重复的全排列。\n",
    "\n",
    " \n",
    "\n",
    "示例 1：\n",
    "\n",
    "输入：nums = [1,1,2]\n",
    "输出：\n",
    "[[1,1,2],\n",
    " [1,2,1],\n",
    " [2,1,1]]\n",
    "示例 2：\n",
    "\n",
    "输入：nums = [1,2,3]\n",
    "输出：[[1,2,3],[1,3,2],[2,1,3],[2,3,1],[3,1,2],[3,2,1]]\n",
    " \n",
    "\n",
    "提示：\n",
    "\n",
    "1 <= nums.length <= 8\n",
    "-10 <= nums[i] <= 10"
   ],
   "metadata": {
    "collapsed": false
   },
   "id": "ba6f73d3a8acba88"
  },
  {
   "cell_type": "code",
   "outputs": [
    {
     "name": "stdout",
     "output_type": "stream",
     "text": [
      "[[1, 1, 2], [1, 2, 1], [2, 1, 1]]\n",
      "[[1, 2, 3], [1, 3, 2], [2, 1, 3], [2, 3, 1], [3, 1, 2], [3, 2, 1]]\n",
      "[[1, 1, 1]]\n"
     ]
    }
   ],
   "source": [
    "# 递归 + 回溯算法\n",
    "\n",
    "class Solution(object):\n",
    "    def permuteUnique(self, nums):\n",
    "        \n",
    "        def backtrack(nums, path):\n",
    "            if not nums:\n",
    "                result.append(path)\n",
    "                return \n",
    "            for i in range(len(nums)):\n",
    "                # 如果当前数字和前一个数字相同，就跳过\n",
    "                if i > 0 and nums[i] == nums[i-1]:\n",
    "                    continue\n",
    "                backtrack(nums[:i] + nums[i+1:], path + [nums[i]])\n",
    "            \n",
    "            \n",
    "        nums.sort()\n",
    "        result = []\n",
    "        backtrack(nums, [])\n",
    "        return result\n",
    "    \n",
    "solution = Solution()\n",
    "print(solution.permuteUnique([1,1,2]))   # [[1,1,2], [1,2,1], [2,1,1]]\n",
    "print(solution.permuteUnique([1,2,3]))   # [[1,2,3], [1,3,2], [2,1,3], [2,3,1], [3,1,2], [3,2,1]]\n",
    "print(solution.permuteUnique([1,1,1]))   # [[1,1,1]]\n",
    "        "
   ],
   "metadata": {
    "collapsed": false,
    "ExecuteTime": {
     "end_time": "2024-06-21T09:43:18.272336Z",
     "start_time": "2024-06-21T09:43:18.267462Z"
    }
   },
   "id": "852bdb250b20176b",
   "execution_count": 2
  },
  {
   "cell_type": "code",
   "outputs": [],
   "source": [],
   "metadata": {
    "collapsed": false
   },
   "id": "e7141722fb53b33"
  }
 ],
 "metadata": {
  "kernelspec": {
   "display_name": "Python 3",
   "language": "python",
   "name": "python3"
  },
  "language_info": {
   "codemirror_mode": {
    "name": "ipython",
    "version": 2
   },
   "file_extension": ".py",
   "mimetype": "text/x-python",
   "name": "python",
   "nbconvert_exporter": "python",
   "pygments_lexer": "ipython2",
   "version": "2.7.6"
  }
 },
 "nbformat": 4,
 "nbformat_minor": 5
}
