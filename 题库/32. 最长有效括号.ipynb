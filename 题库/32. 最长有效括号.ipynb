{
 "cells": [
  {
   "cell_type": "raw",
   "source": [
    "32. 最长有效括号\n",
    "已解答\n",
    "困难\n",
    "相关标签\n",
    "相关企业\n",
    "给你一个只包含 '(' 和 ')' 的字符串，找出最长有效（格式正确且连续）括号\n",
    "子串\n",
    "的长度。\n",
    "\n",
    " \n",
    "\n",
    "示例 1：\n",
    "\n",
    "输入：s = \"(()\"\n",
    "输出：2\n",
    "解释：最长有效括号子串是 \"()\"\n",
    "示例 2：\n",
    "\n",
    "输入：s = \")()())\"\n",
    "输出：4\n",
    "解释：最长有效括号子串是 \"()()\"\n",
    "示例 3：\n",
    "\n",
    "输入：s = \"\"\n",
    "输出：0\n",
    " \n",
    "\n",
    "提示：\n",
    "\n",
    "0 <= s.length <= 3 * 104\n",
    "s[i] 为 '(' 或 ')'"
   ],
   "metadata": {
    "collapsed": false
   },
   "id": "6ae5f621366b9738"
  },
  {
   "cell_type": "code",
   "outputs": [
    {
     "name": "stdout",
     "output_type": "stream",
     "text": [
      "2\n",
      "4\n",
      "0\n",
      "2\n"
     ]
    }
   ],
   "source": [
    "# 动态规划方法\n",
    "\n",
    "class Solution(object):\n",
    "    def longestValidParentheses(self, s):\n",
    "        n = len(s)\n",
    "        if n == 0:\n",
    "            return 0\n",
    "        \n",
    "        # 初始化dp数组和max_len数组\n",
    "        dp = [0] * n\n",
    "        max_len = 0\n",
    "        \n",
    "        # 从第二个字符开始遍历字符串\n",
    "        for i in range(1, n):\n",
    "            # 如果当前字符串是），并且前一个字符是(, 更新dp[i]\n",
    "            if s[i] == ')':\n",
    "                if s[i-1] == '(':\n",
    "                    dp[i] = dp[i-2] + 2 if i >= 2 else 0\n",
    "                # 如果当前字符串是），并且前一个字符也是），检查前一个匹配括号前面的字符是否为(, 如果是，更新dp[i]\n",
    "                else:\n",
    "                    if i - dp[i-1] > 0 and s[i-dp[i-1] -1] == '(':\n",
    "                        # dp[i-1] 表示内部连在一起的最长有效括号，dp[i-dp[i-1]-2 表示外部连在一起的最长有效括号\n",
    "                        dp[i] = dp[i-1] + dp[i-dp[-1]-2] + 2 if i-dp[i-1] >= 2 else 2\n",
    "                max_len = max(max_len, dp[i])\n",
    "        return max_len \n",
    "    \n",
    "solution = Solution()\n",
    "print(solution.longestValidParentheses(\"(()\"))  # 输出 2)\n",
    "print(solution.longestValidParentheses(\")()())\"))  # 输出 4)\n",
    "print(solution.longestValidParentheses(\"\"))  # 输出 0)\n",
    "print(solution.longestValidParentheses(\"()(()\"))  # 输出 2)"
   ],
   "metadata": {
    "collapsed": false,
    "ExecuteTime": {
     "end_time": "2024-06-20T09:31:09.750906Z",
     "start_time": "2024-06-20T09:31:09.745709Z"
    }
   },
   "id": "2bac5d76bd5f4c00",
   "execution_count": 1
  },
  {
   "cell_type": "code",
   "outputs": [
    {
     "name": "stdout",
     "output_type": "stream",
     "text": [
      "2\n",
      "4\n",
      "0\n",
      "2\n"
     ]
    }
   ],
   "source": [
    "# 栈防范\n",
    "\n",
    "class Solution(object):\n",
    "    def longestValidParentheses(self, s):\n",
    "        stack = [-1]\n",
    "        max_len = 0\n",
    "        # 遍历字符串\n",
    "        for i in range(len(s)):\n",
    "            # 如果当前字符串是'(', 将其索引i压入栈中\n",
    "            if s[i] == '(':\n",
    "                stack.append(i)\n",
    "            # 如果当前字符串是')', 弹出栈顶元素\n",
    "            else:\n",
    "                stack.pop()\n",
    "                # 如果栈为空，表示当前的')'没有匹配的'(', 将当前索引i压入栈中作为新的起点\n",
    "                if not stack:\n",
    "                    stack.append(i)\n",
    "                # 如果栈不为空，计算当前有效括号的长度，i-stack[-1], 更新max_len\n",
    "                else:\n",
    "                    max_len = max(max_len, i - stack[-1])\n",
    "        return max_len \n",
    "    \n",
    "\n",
    "solution = Solution()\n",
    "print(solution.longestValidParentheses(\"(()\"))  # 输出 2\n",
    "print(solution.longestValidParentheses(\")()())\"))  # 输出 4\n",
    "print(solution.longestValidParentheses(\"\"))  # 输出 0\n",
    "print(solution.longestValidParentheses(\"()(()\"))  # 输出 2)"
   ],
   "metadata": {
    "collapsed": false,
    "ExecuteTime": {
     "end_time": "2024-06-20T09:39:58.814222Z",
     "start_time": "2024-06-20T09:39:58.808569Z"
    }
   },
   "id": "c9657905c44c1e5c",
   "execution_count": 4
  },
  {
   "cell_type": "code",
   "outputs": [],
   "source": [],
   "metadata": {
    "collapsed": false
   },
   "id": "d089382b90224c8e"
  }
 ],
 "metadata": {
  "kernelspec": {
   "display_name": "Python 3",
   "language": "python",
   "name": "python3"
  },
  "language_info": {
   "codemirror_mode": {
    "name": "ipython",
    "version": 2
   },
   "file_extension": ".py",
   "mimetype": "text/x-python",
   "name": "python",
   "nbconvert_exporter": "python",
   "pygments_lexer": "ipython2",
   "version": "2.7.6"
  }
 },
 "nbformat": 4,
 "nbformat_minor": 5
}
