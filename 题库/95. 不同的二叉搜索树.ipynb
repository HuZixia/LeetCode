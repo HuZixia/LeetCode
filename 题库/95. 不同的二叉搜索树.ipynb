{
 "cells": [
  {
   "cell_type": "raw",
   "source": [
    "95. 不同的二叉搜索树 II\n",
    "已解答\n",
    "中等\n",
    "相关标签\n",
    "相关企业\n",
    "给你一个整数 n ，请你生成并返回所有由 n 个节点组成且节点值从 1 到 n 互不相同的不同 二叉搜索树 。可以按 任意顺序 返回答案。\n",
    "\n",
    " \n",
    "\n",
    "示例 1：\n",
    "\n",
    "\n",
    "输入：n = 3\n",
    "输出：[[1,null,2,null,3],[1,null,3,2],[2,1,3],[3,1,null,null,2],[3,2,null,1]]\n",
    "示例 2：\n",
    "\n",
    "输入：n = 1\n",
    "输出：[[1]]\n",
    " \n",
    "\n",
    "提示：\n",
    "\n",
    "1 <= n <= 8"
   ],
   "metadata": {
    "collapsed": false
   },
   "id": "ccedbfc5b8618573"
  },
  {
   "cell_type": "code",
   "outputs": [
    {
     "name": "stdout",
     "output_type": "stream",
     "text": [
      "[[1, None, 2, None, 3], [1, None, 3, 2], [2, 1, None, None, 3], [3, 1, None, 2], [3, 2, 1]]\n",
      "[[1]]\n",
      "[[1, None, 2], [2, 1]]\n"
     ]
    }
   ],
   "source": [
    "# 递归\n",
    "# 二叉搜索树BST：对于任意节点，其左子树的所有节点都小于该节点值，右子树的所有节点都大于该节点值\n",
    "# 使用递归来生成所有可能的二叉搜索树，对于给定的范围[start, end]\n",
    "# 遍历每个数字i，将其作为当前树的根节点\n",
    "# 递归生成i左边的所有可能的左子树\n",
    "# 递归生成i右边的所有可能的右子树\n",
    "# 将每个可能的左子树和右子树结合起来，形成以i为根节点的所有可能的二叉搜索树\n",
    "\n",
    "class TreeNode(object):\n",
    "    def __init__(self, val=0, left=None, right=None):\n",
    "        self.val = val\n",
    "        self.left = left\n",
    "        self.right = right\n",
    "    \n",
    "class Solution(object):\n",
    "    def generateTrees(self, n):\n",
    "        if n == 0:\n",
    "            return []\n",
    "        \n",
    "        def generate(start, end):\n",
    "            if start > end:\n",
    "                return [None]\n",
    "            \n",
    "            all_trees = []\n",
    "            for i in range(start, end + 1):\n",
    "                left_trees = generate(start, i-1)\n",
    "                right_trees = generate(i+1, end)\n",
    "                \n",
    "                for left in left_trees:\n",
    "                    for right in right_trees:\n",
    "                        root = TreeNode(i)\n",
    "                        root.left = left\n",
    "                        root.right = right\n",
    "                        all_trees.append(root)\n",
    "            return all_trees\n",
    "        \n",
    "        return generate(1, n)\n",
    "    \n",
    "    \n",
    "def build_tree(values):\n",
    "    if not values:\n",
    "        return None\n",
    "    \n",
    "    root = TreeNode(values[0])\n",
    "    queue = [root]\n",
    "    index = 1\n",
    "    \n",
    "    while queue and index < len(values):\n",
    "        node = queue[0]\n",
    "        \n",
    "        if index < len(values) and values[index] is not None:\n",
    "            node.left = TreeNode(values[index])\n",
    "            queue.append(node.left)\n",
    "            \n",
    "        index += 1\n",
    "        \n",
    "        if index < len(values) and values[index] is not None:\n",
    "            node.right = TreeNode(values[index])\n",
    "            queue.append(node.right)\n",
    "        index += 1\n",
    "        \n",
    "    return root\n",
    "\n",
    "\n",
    "def tree2List(root):\n",
    "    if not root:\n",
    "        return []\n",
    "    result = []\n",
    "    def preorder(node):\n",
    "        if node:\n",
    "            result.append(node.val)\n",
    "            preorder(node.left)\n",
    "            preorder(node.right)\n",
    "        else:\n",
    "            result.append(None)\n",
    "    preorder(root)\n",
    "    \n",
    "    while result and result[-1] is None:\n",
    "        result.pop()\n",
    "    \n",
    "    return result\n",
    "            \n",
    "\n",
    "solution = Solution()\n",
    "\n",
    "print([tree2List(tree) for tree in solution.generateTrees(3)])\n",
    "print([tree2List(tree) for tree in solution.generateTrees(1)])\n",
    "print([tree2List(tree) for tree in solution.generateTrees(2)])\n",
    "\n",
    "    "
   ],
   "metadata": {
    "collapsed": false,
    "ExecuteTime": {
     "end_time": "2024-06-29T11:35:15.039265Z",
     "start_time": "2024-06-29T11:35:15.030255Z"
    }
   },
   "id": "352c6bfb9e551b6",
   "execution_count": 6
  },
  {
   "cell_type": "code",
   "outputs": [],
   "source": [],
   "metadata": {
    "collapsed": false
   },
   "id": "30affa73c8195c7d"
  }
 ],
 "metadata": {
  "kernelspec": {
   "display_name": "Python 3",
   "language": "python",
   "name": "python3"
  },
  "language_info": {
   "codemirror_mode": {
    "name": "ipython",
    "version": 2
   },
   "file_extension": ".py",
   "mimetype": "text/x-python",
   "name": "python",
   "nbconvert_exporter": "python",
   "pygments_lexer": "ipython2",
   "version": "2.7.6"
  }
 },
 "nbformat": 4,
 "nbformat_minor": 5
}
