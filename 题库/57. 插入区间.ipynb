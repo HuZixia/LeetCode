{
 "cells": [
  {
   "cell_type": "raw",
   "source": [
    "57. 插入区间\n",
    "已解答\n",
    "中等\n",
    "相关标签\n",
    "相关企业\n",
    "给你一个 无重叠的 ，按照区间起始端点排序的区间列表 intervals，其中 intervals[i] = [starti, endi] 表示第 i 个区间的开始和结束，并且 intervals 按照 starti 升序排列。同样给定一个区间 newInterval = [start, end] 表示另一个区间的开始和结束。\n",
    "\n",
    "在 intervals 中插入区间 newInterval，使得 intervals 依然按照 starti 升序排列，且区间之间不重叠（如果有必要的话，可以合并区间）。\n",
    "\n",
    "返回插入之后的 intervals。\n",
    "\n",
    "注意 你不需要原地修改 intervals。你可以创建一个新数组然后返回它。\n",
    "\n",
    " \n",
    "\n",
    "示例 1：\n",
    "\n",
    "输入：intervals = [[1,3],[6,9]], newInterval = [2,5]\n",
    "输出：[[1,5],[6,9]]\n",
    "示例 2：\n",
    "\n",
    "输入：intervals = [[1,2],[3,5],[6,7],[8,10],[12,16]], newInterval = [4,8]\n",
    "输出：[[1,2],[3,10],[12,16]]\n",
    "解释：这是因为新的区间 [4,8] 与 [3,5],[6,7],[8,10] 重叠。\n",
    " \n",
    "\n",
    "提示：\n",
    "\n",
    "0 <= intervals.length <= 104\n",
    "intervals[i].length == 2\n",
    "0 <= starti <= endi <= 105\n",
    "intervals 根据 starti 按 升序 排列\n",
    "newInterval.length == 2\n",
    "0 <= start <= end <= 105"
   ],
   "metadata": {
    "collapsed": false
   },
   "id": "c4fea7cb3953200e"
  },
  {
   "cell_type": "code",
   "outputs": [
    {
     "name": "stdout",
     "output_type": "stream",
     "text": [
      "[[1, 5], [6, 9]]\n",
      "[[1, 2], [3, 8], [6, 7], [8, 10], [12, 16]]\n",
      "[[1, 5]]\n",
      "[[1, 7]]\n",
      "[[1, 5], [6, 8]]\n"
     ]
    }
   ],
   "source": [
    "class Solution(object):\n",
    "    def insert(self, intervals, newInterval):\n",
    "        result = []\n",
    "        i = 0\n",
    "        n = len(intervals)\n",
    "        # 1.把新区间之前的区间，加入结果中\n",
    "        while i < n and intervals[i][1] < newInterval[0]:\n",
    "            result.append(intervals[i])\n",
    "            i += 1\n",
    "        # 2.处理重合区间，更新重合区间的最小最大值，加入到结果中\n",
    "        while i < n and intervals[i][0] <= newInterval[0]:\n",
    "            newInterval[0] = min(newInterval[0], intervals[i][0])\n",
    "            newInterval[1] = max(newInterval[1], intervals[i][1])\n",
    "            i += 1\n",
    "        result.append(newInterval)\n",
    "        \n",
    "        # 3. 把新区间之后的区间，加入到结果中\n",
    "        while i < n:\n",
    "            result.append(intervals[i])\n",
    "            i += 1\n",
    "            \n",
    "        return result\n",
    "    \n",
    "    \n",
    "solution = Solution()\n",
    "print(solution.insert([[1,3],[6,9]], [2,5])) # [[1,5],[6,9]]\n",
    "print(solution.insert([[1,2],[3,5],[6,7],[8,10],[12,16]], [4,8])) # [[1,2],[3,10],[12,16]]\n",
    "print(solution.insert([[1,5]], [2,3])) # [[1,5]]\n",
    "print(solution.insert([[1,5]], [2,7])) # [[1,7]]\n",
    "print(solution.insert([[1,5]], [6,8])) # [[1,5],[6,8]]\n",
    "            \n",
    "            \n",
    "        "
   ],
   "metadata": {
    "collapsed": false,
    "ExecuteTime": {
     "end_time": "2024-06-23T17:00:17.404586Z",
     "start_time": "2024-06-23T17:00:17.399508Z"
    }
   },
   "id": "4f4ac21475ccd089",
   "execution_count": 2
  },
  {
   "cell_type": "code",
   "outputs": [],
   "source": [],
   "metadata": {
    "collapsed": false
   },
   "id": "3ce5dc3821241781"
  }
 ],
 "metadata": {
  "kernelspec": {
   "display_name": "Python 3",
   "language": "python",
   "name": "python3"
  },
  "language_info": {
   "codemirror_mode": {
    "name": "ipython",
    "version": 2
   },
   "file_extension": ".py",
   "mimetype": "text/x-python",
   "name": "python",
   "nbconvert_exporter": "python",
   "pygments_lexer": "ipython2",
   "version": "2.7.6"
  }
 },
 "nbformat": 4,
 "nbformat_minor": 5
}
