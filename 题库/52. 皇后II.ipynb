{
 "cells": [
  {
   "cell_type": "raw",
   "source": [
    "52. N 皇后 II\n",
    "已解答\n",
    "困难\n",
    "相关标签\n",
    "相关企业\n",
    "n 皇后问题 研究的是如何将 n 个皇后放置在 n × n 的棋盘上，并且使皇后彼此之间不能相互攻击。\n",
    "\n",
    "给你一个整数 n ，返回 n 皇后问题 不同的解决方案的数量。\n",
    "\n",
    " \n",
    "\n",
    "示例 1：\n",
    "\n",
    "\n",
    "输入：n = 4\n",
    "输出：2\n",
    "解释：如上图所示，4 皇后问题存在两个不同的解法。\n",
    "示例 2：\n",
    "\n",
    "输入：n = 1\n",
    "输出：1\n",
    " \n",
    "\n",
    "提示：\n",
    "\n",
    "1 <= n <= 9"
   ],
   "metadata": {
    "collapsed": false
   },
   "id": "82906289759bdc07"
  },
  {
   "cell_type": "code",
   "outputs": [
    {
     "name": "stdout",
     "output_type": "stream",
     "text": [
      "2\n",
      "1\n",
      "0\n"
     ]
    }
   ],
   "source": [
    "class Solution(object):\n",
    "    def totalNQueens(self, n):\n",
    "        \"\"\"\n",
    "        :type n: int\n",
    "        :rtype: int\n",
    "        \"\"\"\n",
    "        \n",
    "        self.result = 0\n",
    "    \n",
    "        def is_valid(state, row, col):\n",
    "            for i in range(row):\n",
    "                if state[i][col] == 'Q':\n",
    "                    return False\n",
    "                if col - (row - i) >= 0 and state[i][col-(row-i)] == 'Q':\n",
    "                    return False\n",
    "                if col + (row - i) < len(state) and state[i][col+(row-i)] == 'Q':\n",
    "                    return False\n",
    "            return True\n",
    "            \n",
    "            \n",
    "        def backtrack(state, row):\n",
    "            if row == len(state):\n",
    "                self.result += 1\n",
    "            for col in range(len(state)):\n",
    "                if is_valid(state, row, col):\n",
    "                    state[row][col] = 'Q'\n",
    "                    backtrack(state, row + 1)\n",
    "                    state[row][col] = '.'\n",
    "        \n",
    "        \n",
    "        state = [['.'] * n for _ in range(n)]\n",
    "        backtrack(state, 0)\n",
    "\n",
    "        return self.result\n",
    "    \n",
    "\n",
    "solution = Solution()\n",
    "print(solution.totalNQueens(4)) # 2\n",
    "print(solution.totalNQueens(1)) # 1\n",
    "print(solution.totalNQueens(2)) # 0\n",
    "\n",
    "\n",
    "\n",
    "    \n",
    "    \n",
    "        \n",
    "    "
   ],
   "metadata": {
    "collapsed": false,
    "ExecuteTime": {
     "end_time": "2024-06-22T09:35:18.420196Z",
     "start_time": "2024-06-22T09:35:18.413533Z"
    }
   },
   "id": "2a8475714e5b226d",
   "execution_count": 5
  }
 ],
 "metadata": {
  "kernelspec": {
   "display_name": "Python 3",
   "language": "python",
   "name": "python3"
  },
  "language_info": {
   "codemirror_mode": {
    "name": "ipython",
    "version": 2
   },
   "file_extension": ".py",
   "mimetype": "text/x-python",
   "name": "python",
   "nbconvert_exporter": "python",
   "pygments_lexer": "ipython2",
   "version": "2.7.6"
  }
 },
 "nbformat": 4,
 "nbformat_minor": 5
}
