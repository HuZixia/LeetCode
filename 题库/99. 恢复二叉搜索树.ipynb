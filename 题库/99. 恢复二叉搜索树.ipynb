{
 "cells": [
  {
   "cell_type": "raw",
   "source": [
    "99. 恢复二叉搜索树\n",
    "已解答\n",
    "中等\n",
    "相关标签\n",
    "相关企业\n",
    "给你二叉搜索树的根节点 root ，该树中的 恰好 两个节点的值被错误地交换。请在不改变其结构的情况下，恢复这棵树 。\n",
    "\n",
    " \n",
    "\n",
    "示例 1：\n",
    "\n",
    "\n",
    "输入：root = [1,3,null,null,2]\n",
    "输出：[3,1,null,null,2]\n",
    "解释：3 不能是 1 的左孩子，因为 3 > 1 。交换 1 和 3 使二叉搜索树有效。\n",
    "示例 2：\n",
    "\n",
    "\n",
    "输入：root = [3,1,4,null,null,2]\n",
    "输出：[2,1,4,null,null,3]\n",
    "解释：2 不能在 3 的右子树中，因为 2 < 3 。交换 2 和 3 使二叉搜索树有效。\n",
    " \n",
    "\n",
    "提示：\n",
    "\n",
    "树上节点的数目在范围 [2, 1000] 内\n",
    "-231 <= Node.val <= 231 - 1\n",
    " \n",
    "\n",
    "进阶：使用 O(n) 空间复杂度的解法很容易实现。你能想出一个只使用 O(1) 空间的解决方案吗？"
   ],
   "metadata": {
    "collapsed": false
   },
   "id": "dd2bbddba0a755bd"
  },
  {
   "cell_type": "code",
   "outputs": [
    {
     "name": "stdout",
     "output_type": "stream",
     "text": [
      "[2, 1, None, None, 4, 3]\n",
      "[3, 1, None, 2]\n"
     ]
    }
   ],
   "source": [
    "# 中序遍历，左子树，根节点，右子树，二叉搜索树的中序遍历是有序的\n",
    "class TreeNode(object):\n",
    "    def __init__(self, val=0, left=None, right=None):\n",
    "        self.val = val\n",
    "        self.left = left\n",
    "        self.right = right\n",
    "        \n",
    "\n",
    "class Solution(object):\n",
    "    def recoverTree(self, root):\n",
    "        # 初始化需要交换的节点\n",
    "        self.first = None\n",
    "        self.second = None\n",
    "        self.prev = None\n",
    "        \n",
    "        # 中序遍历函数\n",
    "        def inorder(node):\n",
    "            if not node:\n",
    "                return \n",
    "            # 遍历左子树\n",
    "            inorder(node.left)\n",
    "            # 找到第一个错误的节点\n",
    "            if self.prev and self.prev.val > node.val:\n",
    "                if not self.first:\n",
    "                    self.first = self.prev\n",
    "                # 找到第二个错误的节点\n",
    "                self.second = node\n",
    "            # 更新前一个节点\n",
    "            self.prev = node\n",
    "            # 遍历右子树\n",
    "            inorder(node.right)\n",
    "        # 中序遍历找到错误节点\n",
    "        inorder(root)\n",
    "        # 交换错误节点的值\n",
    "        self.first.val, self.second.val = self.second.val, self.first.val\n",
    "        return root\n",
    "\n",
    "\n",
    "# 列表转为二叉树\n",
    "def list2TreeNode(nums):\n",
    "    if not nums:\n",
    "        return None\n",
    "    root = TreeNode(nums[0])\n",
    "    queue = [root]\n",
    "    index = 1\n",
    "    while queue:\n",
    "        node = queue.pop(0)\n",
    "        if index < len(nums) and nums[index] is not None:\n",
    "            node.left = TreeNode(nums[index])\n",
    "            queue.append(node.left)\n",
    "        index += 1\n",
    "        if index < len(nums) and nums[index] is not None:\n",
    "            node.right = TreeNode(nums[index])\n",
    "            queue.append(node.right)\n",
    "        index += 1\n",
    "    return root\n",
    "\n",
    "# 二叉树转为列表\n",
    "def treeNode2List(node):\n",
    "    if not node:\n",
    "        return []\n",
    "    \n",
    "    result = []\n",
    "    def preorder(node):\n",
    "        if node:\n",
    "            result.append(node.val)\n",
    "            preorder(node.left)\n",
    "            preorder(node.right)\n",
    "        else:\n",
    "            result.append(None)\n",
    "    preorder(node)\n",
    "    \n",
    "    while result and result[-1] is None:\n",
    "        result.pop()\n",
    "    \n",
    "    return result\n",
    "        \n",
    "        \n",
    "       \n",
    "print(treeNode2List(Solution().recoverTree(list2TreeNode([3,1,4,None,None,2]))))\n",
    "print(treeNode2List(Solution().recoverTree(list2TreeNode([1,3,None,None,2]))))\n"
   ],
   "metadata": {
    "collapsed": false,
    "ExecuteTime": {
     "end_time": "2024-06-30T08:36:00.203596Z",
     "start_time": "2024-06-30T08:36:00.196568Z"
    }
   },
   "id": "178180aedd4ce3a2",
   "execution_count": 10
  },
  {
   "cell_type": "code",
   "outputs": [],
   "source": [],
   "metadata": {
    "collapsed": false,
    "ExecuteTime": {
     "end_time": "2024-06-30T08:34:00.523027Z",
     "start_time": "2024-06-30T08:34:00.521671Z"
    }
   },
   "id": "4dd0020049069c49",
   "execution_count": 7
  }
 ],
 "metadata": {
  "kernelspec": {
   "display_name": "Python 3",
   "language": "python",
   "name": "python3"
  },
  "language_info": {
   "codemirror_mode": {
    "name": "ipython",
    "version": 2
   },
   "file_extension": ".py",
   "mimetype": "text/x-python",
   "name": "python",
   "nbconvert_exporter": "python",
   "pygments_lexer": "ipython2",
   "version": "2.7.6"
  }
 },
 "nbformat": 4,
 "nbformat_minor": 5
}
