{
 "cells": [
  {
   "cell_type": "raw",
   "source": [
    "19. 删除链表的倒数第 N 个结点\n",
    "已解答\n",
    "中等\n",
    "相关标签\n",
    "相关企业\n",
    "提示\n",
    "给你一个链表，删除链表的倒数第 n 个结点，并且返回链表的头结点。\n",
    "\n",
    " \n",
    "\n",
    "示例 1：\n",
    "\n",
    "\n",
    "输入：head = [1,2,3,4,5], n = 2\n",
    "输出：[1,2,3,5]\n",
    "示例 2：\n",
    "\n",
    "输入：head = [1], n = 1\n",
    "输出：[]\n",
    "示例 3：\n",
    "\n",
    "输入：head = [1,2], n = 1\n",
    "输出：[1]\n"
   ],
   "metadata": {
    "collapsed": false
   },
   "id": "7fb192020c538aa6"
  },
  {
   "cell_type": "code",
   "outputs": [
    {
     "name": "stdout",
     "output_type": "stream",
     "text": [
      "[1, 2, 3, 5]\n",
      "[1, 2]\n"
     ]
    }
   ],
   "source": [
    "# 双指针法\n",
    "class ListNode(object):\n",
    "    def __init__(self, val=0 ,next=None):\n",
    "        self.val = val\n",
    "        self.next = next\n",
    "\n",
    "class Solution(object):\n",
    "    def removeNthFromEnd(self, head, n):\n",
    "        # 创建一个哑节点，它的next指向head\n",
    "        dummy = ListNode(0)\n",
    "        dummy.next = head\n",
    "        \n",
    "        fast = slow = dummy\n",
    "        \n",
    "        # fast 指针向前移动n步\n",
    "        for _ in range(n):\n",
    "            fast = fast.next\n",
    "        \n",
    "        # 同时移动 fast 和 slow 指针，直到fast到达链表末尾\n",
    "        while fast.next:\n",
    "            fast = fast.next\n",
    "            slow = slow.next\n",
    "        \n",
    "        # 删除倒数第N个节点\n",
    "        slow.next = slow.next.next\n",
    "        \n",
    "        return dummy.next\n",
    "\n",
    "def listToListNode(nums):\n",
    "    dummy = ListNode(0)\n",
    "    curr = dummy \n",
    "    for num in nums:\n",
    "        curr.next = ListNode(num)\n",
    "        curr  = curr.next\n",
    "    return dummy.next\n",
    "\n",
    "def printListNode(head):\n",
    "    result = []\n",
    "    while head:\n",
    "        result.append(head.val)\n",
    "        head = head.next\n",
    "    print(result)\n",
    "\n",
    "solution = Solution()\n",
    "\n",
    "head = listToListNode([1,2,3,4,5])\n",
    "result = solution.removeNthFromEnd(head, 2)\n",
    "printListNode(result)\n",
    "\n",
    "printListNode(solution.removeNthFromEnd(listToListNode([1,2,3]), 1))"
   ],
   "metadata": {
    "collapsed": false,
    "ExecuteTime": {
     "end_time": "2024-06-18T15:58:06.156617Z",
     "start_time": "2024-06-18T15:58:06.150509Z"
    }
   },
   "id": "af478d5a44351fdd",
   "execution_count": 14
  },
  {
   "cell_type": "code",
   "outputs": [],
   "source": [],
   "metadata": {
    "collapsed": false,
    "ExecuteTime": {
     "end_time": "2024-06-18T15:57:00.982811Z",
     "start_time": "2024-06-18T15:57:00.980636Z"
    }
   },
   "id": "424f6ffaf9fe509b",
   "execution_count": 12
  },
  {
   "cell_type": "code",
   "outputs": [],
   "source": [],
   "metadata": {
    "collapsed": false
   },
   "id": "df32edb9bfb68402"
  }
 ],
 "metadata": {
  "kernelspec": {
   "display_name": "Python 3",
   "language": "python",
   "name": "python3"
  },
  "language_info": {
   "codemirror_mode": {
    "name": "ipython",
    "version": 2
   },
   "file_extension": ".py",
   "mimetype": "text/x-python",
   "name": "python",
   "nbconvert_exporter": "python",
   "pygments_lexer": "ipython2",
   "version": "2.7.6"
  }
 },
 "nbformat": 4,
 "nbformat_minor": 5
}
