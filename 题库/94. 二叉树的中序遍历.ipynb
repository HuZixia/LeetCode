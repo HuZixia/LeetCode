{
 "cells": [
  {
   "cell_type": "raw",
   "source": [
    "94. 二叉树的中序遍历\n",
    "已解答\n",
    "简单\n",
    "相关标签\n",
    "相关企业\n",
    "给定一个二叉树的根节点 root ，返回 它的 中序 遍历 。\n",
    "\n",
    " \n",
    "\n",
    "示例 1：\n",
    "\n",
    "\n",
    "输入：root = [1,null,2,3]\n",
    "输出：[1,3,2]\n",
    "示例 2：\n",
    "\n",
    "输入：root = []\n",
    "输出：[]\n",
    "示例 3：\n",
    "\n",
    "输入：root = [1]\n",
    "输出：[1]\n",
    " \n",
    "\n",
    "提示：\n",
    "\n",
    "树中节点数目在范围 [0, 100] 内\n",
    "-100 <= Node.val <= 100\n",
    " \n",
    "\n",
    "进阶: 递归算法很简单，你可以通过迭代算法完成吗？"
   ],
   "metadata": {
    "collapsed": false
   },
   "id": "226d4560d664366a"
  },
  {
   "cell_type": "code",
   "outputs": [
    {
     "name": "stdout",
     "output_type": "stream",
     "text": [
      "[3, 1, 2]\n",
      "[]\n",
      "[1]\n"
     ]
    }
   ],
   "source": [
    "# 中序遍历：左子树，根节点，右子树\n",
    "# 递归算法\n",
    "\n",
    "class TreeNode(object):\n",
    "    def __init__(self, val=0, left=None, right=None):\n",
    "        self.val = val\n",
    "        self.left = left\n",
    "        self.right = right\n",
    "\n",
    "\n",
    "class Solution(object):\n",
    "    def inorderTraversal(self, root):\n",
    "        \n",
    "        result = []\n",
    "        def inorder(node):\n",
    "            if node:\n",
    "                inorder(node.left)\n",
    "                result.append(node.val)\n",
    "                inorder(node.right)\n",
    "        inorder(root)\n",
    "        return result\n",
    "    \n",
    "# 构建二叉树\n",
    "def build_tree(values):\n",
    "    if not values:\n",
    "        return None\n",
    "    \n",
    "    root = TreeNode(values[0])\n",
    "    queue = [root]\n",
    "    index = 1\n",
    "    \n",
    "    while queue and index < len(values):\n",
    "        node = queue[0]\n",
    "        if index < len(values) and values[index] is not None:\n",
    "            node.left = TreeNode(values[index])\n",
    "            queue.append(node.left)\n",
    "        index += 1\n",
    "        if index < len(values) and values[index] is not None:\n",
    "            node.right = TreeNode(values[index])\n",
    "            queue.append(node.right)\n",
    "        index += 1\n",
    "    return root\n",
    "\n",
    "            \n",
    "    \n",
    "    \n",
    "solution = Solution()\n",
    "print(solution.inorderTraversal(build_tree([1,None,2,3]))) # [1,3,2]\n",
    "print(solution.inorderTraversal(build_tree([]))) # []\n",
    "print(solution.inorderTraversal(build_tree([1]))) # [1]\n",
    "        \n",
    "\n",
    "\n",
    "\n",
    "\n",
    "\n"
   ],
   "metadata": {
    "collapsed": false,
    "ExecuteTime": {
     "end_time": "2024-06-28T20:11:53.134595Z",
     "start_time": "2024-06-28T20:11:53.127695Z"
    }
   },
   "id": "d5faba01b4529f6a",
   "execution_count": 1
  },
  {
   "cell_type": "code",
   "outputs": [
    {
     "name": "stdout",
     "output_type": "stream",
     "text": [
      "[3, 1, 2]\n",
      "[]\n",
      "[1]\n",
      "[3, 1, 2]\n"
     ]
    }
   ],
   "source": [
    "# 中序遍历：左子树，根节点，右子树\n",
    "# 迭代算法\n",
    "\n",
    "class TreeNode(object):\n",
    "    def __init__(self, val=0, left=None,right=None):\n",
    "        self.val = val\n",
    "        self.left = left\n",
    "        self.right = right\n",
    "\n",
    "class Solution(object):\n",
    "    def inorderTraversal(self, root):\n",
    "        # 初始化结果列表和辅助栈stack\n",
    "        # 初始化 current 指向根节点 root\n",
    "        result = []\n",
    "        stack = []\n",
    "        current = root\n",
    "        \n",
    "        # 使用 while 循环遍历二叉树，条件是当前节点不为空 或者 栈不为空\n",
    "        # 内层 while 循环，将当前节点的左子树全部压入栈中，直到左子树为空\n",
    "        # 弹出栈顶节点，访问该节点，并将其值加入结果列表中\n",
    "        # 移动到右子树继续遍历\n",
    "        \n",
    "        while current or stack:\n",
    "            while current:\n",
    "                stack.append(current)\n",
    "                current = current.left\n",
    "            current = stack.pop()\n",
    "            result.append(current.val)\n",
    "            current = current.right\n",
    "        return result\n",
    "\n",
    "def build_tree(values):\n",
    "    if not values:\n",
    "        return None\n",
    "    \n",
    "    root = TreeNode(values[0])\n",
    "    queue = [root]\n",
    "    index = 1\n",
    "    \n",
    "    while queue and index < len(values):\n",
    "        node = queue[0]\n",
    "        if index < len(values) and values[index] is not None:\n",
    "            node.left = TreeNode(values[index])\n",
    "            queue.append(node.left)\n",
    "        index += 1\n",
    "        if index < len(values) and values[index] is not None:\n",
    "            node.right = TreeNode(values[index])\n",
    "            queue.append(node.right)\n",
    "        index += 1\n",
    "    return root\n",
    "\n",
    "\n",
    "solution = Solution()\n",
    "print(solution.inorderTraversal(build_tree([1,None,2,3]))) # [1,3,2]\n",
    "print(solution.inorderTraversal(build_tree([]))) # []\n",
    "print(solution.inorderTraversal(build_tree([1]))) # [1]\n",
    "print(solution.inorderTraversal(build_tree([1,None,2,3]))) # [1,3,2]\n",
    "    \n",
    "    "
   ],
   "metadata": {
    "collapsed": false,
    "ExecuteTime": {
     "end_time": "2024-06-28T20:24:06.419694Z",
     "start_time": "2024-06-28T20:24:06.411570Z"
    }
   },
   "id": "f1328beca9cd5aaf",
   "execution_count": 5
  },
  {
   "cell_type": "code",
   "outputs": [],
   "source": [],
   "metadata": {
    "collapsed": false
   },
   "id": "32ef9b1559896038"
  }
 ],
 "metadata": {
  "kernelspec": {
   "display_name": "Python 3",
   "language": "python",
   "name": "python3"
  },
  "language_info": {
   "codemirror_mode": {
    "name": "ipython",
    "version": 2
   },
   "file_extension": ".py",
   "mimetype": "text/x-python",
   "name": "python",
   "nbconvert_exporter": "python",
   "pygments_lexer": "ipython2",
   "version": "2.7.6"
  }
 },
 "nbformat": 4,
 "nbformat_minor": 5
}
