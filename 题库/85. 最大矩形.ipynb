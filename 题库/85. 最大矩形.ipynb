{
 "cells": [
  {
   "cell_type": "raw",
   "source": [
    "85. 最大矩形\n",
    "已解答\n",
    "困难\n",
    "相关标签\n",
    "相关企业\n",
    "给定一个仅包含 0 和 1 、大小为 rows x cols 的二维二进制矩阵，找出只包含 1 的最大矩形，并返回其面积。\n",
    "\n",
    " \n",
    "\n",
    "示例 1：\n",
    "\n",
    "\n",
    "输入：matrix = [[\"1\",\"0\",\"1\",\"0\",\"0\"],[\"1\",\"0\",\"1\",\"1\",\"1\"],[\"1\",\"1\",\"1\",\"1\",\"1\"],[\"1\",\"0\",\"0\",\"1\",\"0\"]]\n",
    "输出：6\n",
    "解释：最大矩形如上图所示。\n",
    "示例 2：\n",
    "\n",
    "输入：matrix = [[\"0\"]]\n",
    "输出：0\n",
    "示例 3：\n",
    "\n",
    "输入：matrix = [[\"1\"]]\n",
    "输出：1\n",
    " \n",
    "\n",
    "提示：\n",
    "\n",
    "rows == matrix.length\n",
    "cols == matrix[0].length\n",
    "1 <= row, cols <= 200\n",
    "matrix[i][j] 为 '0' 或 '1'\n"
   ],
   "metadata": {
    "collapsed": false
   },
   "id": "e2245a2366712169"
  },
  {
   "cell_type": "code",
   "outputs": [
    {
     "name": "stdout",
     "output_type": "stream",
     "text": [
      "6\n",
      "0\n",
      "1\n"
     ]
    }
   ],
   "source": [
    "# 转成多个 柱状图最大矩形面积 的问题\n",
    "\n",
    "class Solution(object):\n",
    "    def maximalRectangle(self, matrix):\n",
    "        \n",
    "        def largestRectangleArea(heights):\n",
    "            stack = []\n",
    "            max_area = 0\n",
    "            heights.append(0)\n",
    "            \n",
    "            for i in range(len(heights)):\n",
    "                while stack and heights[i] < heights[stack[-1]]:\n",
    "                    # 弹出栈顶\n",
    "                    h = heights[stack.pop()]\n",
    "                    # 计算宽度\n",
    "                    w = i if not stack else i - stack[-1] - 1\n",
    "                    max_area = max(max_area, h * w)\n",
    "                stack.append(i)\n",
    "            return max_area\n",
    "        \n",
    "        if not matrix or not matrix[0]:\n",
    "            return 0\n",
    "        \n",
    "        max_area = 0\n",
    "        # 用于计算每一列的高度，初始化为0\n",
    "        heights = [0] * len(matrix[0])\n",
    "        \n",
    "        # 遍历矩阵的每一行，对于每一行，更新heights数组，如果当前元素为1，则height[i]加1，否则高度设为0\n",
    "        for row in matrix:\n",
    "            for i in range(len(row)):\n",
    "                heights[i] = heights[i] + 1 if row[i] == \"1\" else 0\n",
    "            max_area = max(max_area, largestRectangleArea(heights))\n",
    "        \n",
    "        return max_area\n",
    "    \n",
    "\n",
    "solution = Solution()\n",
    "print(solution.maximalRectangle([[\"1\",\"0\",\"1\",\"0\",\"0\"],[\"1\",\"0\",\"1\",\"1\",\"1\"],[\"1\",\"1\",\"1\",\"1\",\"1\"],[\"1\",\"0\",\"0\",\"1\",\"0\"]]))\n",
    "print(solution.maximalRectangle([[\"0\"]]))\n",
    "print(solution.maximalRectangle([[\"1\"]]))\n",
    "            \n",
    "        "
   ],
   "metadata": {
    "collapsed": false,
    "ExecuteTime": {
     "end_time": "2024-06-28T10:15:02.669104Z",
     "start_time": "2024-06-28T10:15:02.663011Z"
    }
   },
   "id": "45c904c968715628",
   "execution_count": 1
  },
  {
   "cell_type": "code",
   "outputs": [],
   "source": [],
   "metadata": {
    "collapsed": false
   },
   "id": "8a5315efeea9d3cc"
  }
 ],
 "metadata": {
  "kernelspec": {
   "display_name": "Python 3",
   "language": "python",
   "name": "python3"
  },
  "language_info": {
   "codemirror_mode": {
    "name": "ipython",
    "version": 2
   },
   "file_extension": ".py",
   "mimetype": "text/x-python",
   "name": "python",
   "nbconvert_exporter": "python",
   "pygments_lexer": "ipython2",
   "version": "2.7.6"
  }
 },
 "nbformat": 4,
 "nbformat_minor": 5
}
