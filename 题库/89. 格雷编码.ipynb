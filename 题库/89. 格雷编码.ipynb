{
 "cells": [
  {
   "cell_type": "raw",
   "source": [
    "89. 格雷编码\n",
    "已解答\n",
    "中等\n",
    "相关标签\n",
    "相关企业\n",
    "n 位格雷码序列 是一个由 2n 个整数组成的序列，其中：\n",
    "每个整数都在范围 [0, 2n - 1] 内（含 0 和 2n - 1）\n",
    "第一个整数是 0\n",
    "一个整数在序列中出现 不超过一次\n",
    "每对 相邻 整数的二进制表示 恰好一位不同 ，且\n",
    "第一个 和 最后一个 整数的二进制表示 恰好一位不同\n",
    "给你一个整数 n ，返回任一有效的 n 位格雷码序列 。\n",
    "\n",
    " \n",
    "\n",
    "示例 1：\n",
    "\n",
    "输入：n = 2\n",
    "输出：[0,1,3,2]\n",
    "解释：\n",
    "[0,1,3,2] 的二进制表示是 [00,01,11,10] 。\n",
    "- 00 和 01 有一位不同\n",
    "- 01 和 11 有一位不同\n",
    "- 11 和 10 有一位不同\n",
    "- 10 和 00 有一位不同\n",
    "[0,2,3,1] 也是一个有效的格雷码序列，其二进制表示是 [00,10,11,01] 。\n",
    "- 00 和 10 有一位不同\n",
    "- 10 和 11 有一位不同\n",
    "- 11 和 01 有一位不同\n",
    "- 01 和 00 有一位不同\n",
    "示例 2：\n",
    "\n",
    "输入：n = 1\n",
    "输出：[0,1]\n",
    " \n",
    "\n",
    "提示：\n",
    "\n",
    "1 <= n <= 16"
   ],
   "metadata": {
    "collapsed": false
   },
   "id": "7511f41deab5308c"
  },
  {
   "cell_type": "code",
   "outputs": [
    {
     "name": "stdout",
     "output_type": "stream",
     "text": [
      "[0, 1, 3, 2]\n",
      "[0, 1]\n",
      "[0, 1, 3, 2, 6, 7, 5, 4]\n",
      "[0, 1, 3, 2, 6, 7, 5, 4, 12, 13, 15, 14, 10, 11, 9, 8]\n"
     ]
    }
   ],
   "source": [
    "# 格雷编码问题\n",
    "\n",
    "class Solution(object):\n",
    "    def grayCode(self, n):\n",
    "        \n",
    "        # 初始化格雷编码\n",
    "        result = [0]\n",
    "        \n",
    "        # 对于每一位，从左到右，逐步生成新的编码。对于第i位，将当前编码序列反转，并在每个编码前面加上1<<i,将第i位设为1，再将生成的新编码序列加到当前编码序列的末尾\n",
    "        # 时间复杂度为 O(2^n), 因为总共有2^n个编码\n",
    "        for i in range(n):\n",
    "            result += [x + (1<<i) for x in reversed(result)]\n",
    "        return result\n",
    "    \n",
    "solution = Solution()\n",
    "print(solution.grayCode(2))\n",
    "print(solution.grayCode(1))\n",
    "print(solution.grayCode(3))\n",
    "print(solution.grayCode(4))"
   ],
   "metadata": {
    "collapsed": false,
    "ExecuteTime": {
     "end_time": "2024-06-28T16:03:32.313354Z",
     "start_time": "2024-06-28T16:03:32.308345Z"
    }
   },
   "id": "301095f55220f4c0",
   "execution_count": 1
  },
  {
   "cell_type": "code",
   "outputs": [],
   "source": [],
   "metadata": {
    "collapsed": false
   },
   "id": "6584e5ec1500fb2"
  }
 ],
 "metadata": {
  "kernelspec": {
   "display_name": "Python 3",
   "language": "python",
   "name": "python3"
  },
  "language_info": {
   "codemirror_mode": {
    "name": "ipython",
    "version": 2
   },
   "file_extension": ".py",
   "mimetype": "text/x-python",
   "name": "python",
   "nbconvert_exporter": "python",
   "pygments_lexer": "ipython2",
   "version": "2.7.6"
  }
 },
 "nbformat": 4,
 "nbformat_minor": 5
}
