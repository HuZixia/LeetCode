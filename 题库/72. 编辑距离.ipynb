{
 "cells": [
  {
   "cell_type": "raw",
   "source": [
    "72. 编辑距离\n",
    "已解答\n",
    "中等\n",
    "相关标签\n",
    "相关企业\n",
    "给你两个单词 word1 和 word2， 请返回将 word1 转换成 word2 所使用的最少操作数  。\n",
    "\n",
    "你可以对一个单词进行如下三种操作：\n",
    "\n",
    "插入一个字符\n",
    "删除一个字符\n",
    "替换一个字符\n",
    " \n",
    "\n",
    "示例 1：\n",
    "\n",
    "输入：word1 = \"horse\", word2 = \"ros\"\n",
    "输出：3\n",
    "解释：\n",
    "horse -> rorse (将 'h' 替换为 'r')\n",
    "rorse -> rose (删除 'r')\n",
    "rose -> ros (删除 'e')\n",
    "示例 2：\n",
    "\n",
    "输入：word1 = \"intention\", word2 = \"execution\"\n",
    "输出：5\n",
    "解释：\n",
    "intention -> inention (删除 't')\n",
    "inention -> enention (将 'i' 替换为 'e')\n",
    "enention -> exention (将 'n' 替换为 'x')\n",
    "exention -> exection (将 'n' 替换为 'c')\n",
    "exection -> execution (插入 'u')\n",
    " \n",
    "\n",
    "提示：\n",
    "\n",
    "0 <= word1.length, word2.length <= 500\n",
    "word1 和 word2 由小写英文字母组成"
   ],
   "metadata": {
    "collapsed": false
   },
   "id": "e488f45492dff948"
  },
  {
   "cell_type": "code",
   "outputs": [
    {
     "name": "stdout",
     "output_type": "stream",
     "text": [
      "3\n",
      "5\n",
      "3\n"
     ]
    }
   ],
   "source": [
    "# 动态规划\n",
    "\n",
    "class Solution:\n",
    "    def minDistance(self, word1, word2):\n",
    "        m, n = len(word1), len(word2)\n",
    "        dp = [[0] * (n+1) for _ in range(m+1)]\n",
    "        \n",
    "        dp[0][0] = 0\n",
    "        # 把word1的前i个字符串转成空字符串\n",
    "        for i in range(1, m+1):\n",
    "            dp[i][0] = i\n",
    "        # 将空字符串转成word2的前j个字符串\n",
    "        for j in range(1, n+1):\n",
    "            dp[0][j] = j\n",
    "            \n",
    "        for i in range(1, m+1):\n",
    "            for j in range(1, n+1):\n",
    "                if word1[i-1] == word2[j-1]:\n",
    "                    dp[i][j] = dp[i-1][j-1]\n",
    "                else:\n",
    "                    dp[i][j] = min(dp[i-1][j] + 1, dp[i][j-1] + 1, dp[i-1][j-1] +1) # 分别对应删除，插入，交换\n",
    "        return dp[m][n]\n",
    "    \n",
    "solution = Solution()\n",
    "print(solution.minDistance(\"horse\", \"ros\")) # 3\n",
    "print(solution.minDistance(\"intention\", \"execution\")) # 5\n",
    "print(solution.minDistance(\"abc\", \"def\")) # 3"
   ],
   "metadata": {
    "collapsed": false,
    "ExecuteTime": {
     "end_time": "2024-06-26T16:20:04.858682Z",
     "start_time": "2024-06-26T16:20:04.853080Z"
    }
   },
   "id": "ba9036329b8e3008",
   "execution_count": 2
  },
  {
   "cell_type": "code",
   "outputs": [],
   "source": [],
   "metadata": {
    "collapsed": false
   },
   "id": "ec64022627bae28a"
  }
 ],
 "metadata": {
  "kernelspec": {
   "display_name": "Python 3",
   "language": "python",
   "name": "python3"
  },
  "language_info": {
   "codemirror_mode": {
    "name": "ipython",
    "version": 2
   },
   "file_extension": ".py",
   "mimetype": "text/x-python",
   "name": "python",
   "nbconvert_exporter": "python",
   "pygments_lexer": "ipython2",
   "version": "2.7.6"
  }
 },
 "nbformat": 4,
 "nbformat_minor": 5
}
