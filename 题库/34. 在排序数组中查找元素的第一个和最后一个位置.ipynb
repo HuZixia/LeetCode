{
 "cells": [
  {
   "cell_type": "raw",
   "source": [
    "34. 在排序数组中查找元素的第一个和最后一个位置\n",
    "已解答\n",
    "中等\n",
    "相关标签\n",
    "相关企业\n",
    "给你一个按照非递减顺序排列的整数数组 nums，和一个目标值 target。请你找出给定目标值在数组中的开始位置和结束位置。\n",
    "\n",
    "如果数组中不存在目标值 target，返回 [-1, -1]。\n",
    "\n",
    "你必须设计并实现时间复杂度为 O(log n) 的算法解决此问题。\n",
    "\n",
    " \n",
    "\n",
    "示例 1：\n",
    "\n",
    "输入：nums = [5,7,7,8,8,10], target = 8\n",
    "输出：[3,4]\n",
    "示例 2：\n",
    "\n",
    "输入：nums = [5,7,7,8,8,10], target = 6\n",
    "输出：[-1,-1]\n",
    "示例 3：\n",
    "\n",
    "输入：nums = [], target = 0\n",
    "输出：[-1,-1]\n",
    " \n",
    "\n",
    "提示：\n",
    "\n",
    "0 <= nums.length <= 105\n",
    "-109 <= nums[i] <= 109\n",
    "nums 是一个非递减数组\n",
    "-109 <= target <= 109"
   ],
   "metadata": {
    "collapsed": false
   },
   "id": "d6dd519982444322"
  },
  {
   "cell_type": "code",
   "outputs": [
    {
     "name": "stdout",
     "output_type": "stream",
     "text": [
      "[3, 4]\n",
      "[-1, -1]\n",
      "[-1, -1]\n"
     ]
    }
   ],
   "source": [
    "# 二分查找法\n",
    "\n",
    "class Solution(object):\n",
    "    def searchRange(self, nums, target):\n",
    "        if not nums:\n",
    "            return [-1, -1]\n",
    "        \n",
    "        def find_first(nums, target):\n",
    "            left, right = 0, len(nums)-1\n",
    "            while left <= right:\n",
    "                mid = (left + right) // 2\n",
    "                if nums[mid] < target:\n",
    "                    left = mid + 1\n",
    "                else:\n",
    "                    right = mid - 1\n",
    "            return left \n",
    "    \n",
    "        def find_last(nums, target):\n",
    "            left, right = 0, len(nums)-1\n",
    "            while left <= right:\n",
    "                mid = (left + right) // 2\n",
    "                if nums[mid] <= target:\n",
    "                    left = mid + 1\n",
    "                else:\n",
    "                    right = mid - 1\n",
    "            return right\n",
    "        \n",
    "        first = find_first(nums, target)\n",
    "        last = find_last(nums, target)\n",
    "        \n",
    "        if first <= last and first < len(nums) and nums[first] == target and nums[last] == target:\n",
    "            return [first, last]\n",
    "        else:\n",
    "            return [-1, -1]\n",
    "\n",
    "solution = Solution()\n",
    "print(solution.searchRange([5,7,7,8,8,10], 8)) # [3,4]\n",
    "print(solution.searchRange([5,7,7,8,8,10], 6)) # [-1,-1]\n",
    "print(solution.searchRange([], 0)) # [-1,-1]"
   ],
   "metadata": {
    "collapsed": false,
    "ExecuteTime": {
     "end_time": "2024-06-20T10:53:11.702025Z",
     "start_time": "2024-06-20T10:53:11.694950Z"
    }
   },
   "id": "d5eb9a9d4b71060f",
   "execution_count": 3
  },
  {
   "cell_type": "code",
   "outputs": [],
   "source": [],
   "metadata": {
    "collapsed": false
   },
   "id": "658fb72220d30904"
  }
 ],
 "metadata": {
  "kernelspec": {
   "display_name": "Python 3",
   "language": "python",
   "name": "python3"
  },
  "language_info": {
   "codemirror_mode": {
    "name": "ipython",
    "version": 2
   },
   "file_extension": ".py",
   "mimetype": "text/x-python",
   "name": "python",
   "nbconvert_exporter": "python",
   "pygments_lexer": "ipython2",
   "version": "2.7.6"
  }
 },
 "nbformat": 4,
 "nbformat_minor": 5
}
