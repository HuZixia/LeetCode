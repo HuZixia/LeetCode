{
 "cells": [
  {
   "cell_type": "raw",
   "source": [
    "16. 最接近的三数之和\n",
    "已解答\n",
    "中等\n",
    "相关标签\n",
    "相关企业\n",
    "给你一个长度为 n 的整数数组 nums 和 一个目标值 target。请你从 nums 中选出三个整数，使它们的和与 target 最接近。\n",
    "\n",
    "返回这三个数的和。\n",
    "\n",
    "假定每组输入只存在恰好一个解。\n",
    "\n",
    " \n",
    "\n",
    "示例 1：\n",
    "\n",
    "输入：nums = [-1,2,1,-4], target = 1\n",
    "输出：2\n",
    "解释：与 target 最接近的和是 2 (-1 + 2 + 1 = 2) 。\n",
    "示例 2：\n",
    "\n",
    "输入：nums = [0,0,0], target = 1\n",
    "输出：0\n",
    " \n",
    "\n",
    "提示：\n",
    "\n",
    "3 <= nums.length <= 1000\n",
    "-1000 <= nums[i] <= 1000\n",
    "-104 <= target <= 104"
   ],
   "metadata": {
    "collapsed": false
   },
   "id": "5218f4855e29bce8"
  },
  {
   "cell_type": "code",
   "outputs": [
    {
     "name": "stdout",
     "output_type": "stream",
     "text": [
      "2\n",
      "0\n",
      "82\n"
     ]
    }
   ],
   "source": [
    "class Solution(object):\n",
    "    def threeSumClosest(self, nums, target):\n",
    "        # 对数组进行排序\n",
    "        nums.sort()\n",
    "        # 初始化最接近的和为一个非常大的数\n",
    "        closest_sum = float('inf')\n",
    "        # 遍历数组\n",
    "        for i in range(len(nums)-2):\n",
    "            # 使用双指针法\n",
    "            left, right = i + 1, len(nums) -1\n",
    "            while left < right:\n",
    "                current_sum = nums[i] + nums[left] + nums[right]\n",
    "                # 如果当前和更接近目标值，更新closest_sum\n",
    "                if abs(target - current_sum) < abs(target - closest_sum):\n",
    "                    closest_sum = current_sum\n",
    "                    \n",
    "                # 根据当前和与目标值的大小关系，移动指针\n",
    "                if current_sum < target:\n",
    "                    left += 1\n",
    "                elif current_sum > target:\n",
    "                    right -= 1\n",
    "                else: \n",
    "                    # 如果当前和等于目标值，直接返回\n",
    "                    return current_sum\n",
    "        return closest_sum\n",
    "    \n",
    "solution = Solution()\n",
    "print(solution.threeSumClosest([-1,2,1,-4], 1)) # 2\n",
    "print(solution.threeSumClosest([0,0,0], 1)) # 0\n",
    "print(solution.threeSumClosest([1,2,4,8,16,32,64,128], 82)) # 82"
   ],
   "metadata": {
    "collapsed": false,
    "ExecuteTime": {
     "end_time": "2024-06-18T13:13:32.786585Z",
     "start_time": "2024-06-18T13:13:32.780928Z"
    }
   },
   "id": "ab9d22bed848a6f4",
   "execution_count": 1
  },
  {
   "cell_type": "code",
   "outputs": [],
   "source": [],
   "metadata": {
    "collapsed": false
   },
   "id": "9e4282800a01baf6"
  }
 ],
 "metadata": {
  "kernelspec": {
   "display_name": "Python 3",
   "language": "python",
   "name": "python3"
  },
  "language_info": {
   "codemirror_mode": {
    "name": "ipython",
    "version": 2
   },
   "file_extension": ".py",
   "mimetype": "text/x-python",
   "name": "python",
   "nbconvert_exporter": "python",
   "pygments_lexer": "ipython2",
   "version": "2.7.6"
  }
 },
 "nbformat": 4,
 "nbformat_minor": 5
}
