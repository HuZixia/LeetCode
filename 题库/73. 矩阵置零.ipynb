{
 "cells": [
  {
   "cell_type": "raw",
   "source": [
    "73. 矩阵置零\n",
    "已解答\n",
    "中等\n",
    "相关标签\n",
    "相关企业\n",
    "提示\n",
    "给定一个 m x n 的矩阵，如果一个元素为 0 ，则将其所在行和列的所有元素都设为 0 。请使用 原地 算法。\n",
    "\n",
    " \n",
    "\n",
    "示例 1：\n",
    "\n",
    "\n",
    "输入：matrix = [[1,1,1],[1,0,1],[1,1,1]]\n",
    "输出：[[1,0,1],[0,0,0],[1,0,1]]\n",
    "示例 2：\n",
    "\n",
    "\n",
    "输入：matrix = [[0,1,2,0],[3,4,5,2],[1,3,1,5]]\n",
    "输出：[[0,0,0,0],[0,4,5,0],[0,3,1,0]]\n",
    " \n",
    "\n",
    "提示：\n",
    "\n",
    "m == matrix.length\n",
    "n == matrix[0].length\n",
    "1 <= m, n <= 200\n",
    "-231 <= matrix[i][j] <= 231 - 1\n",
    " \n",
    "\n",
    "进阶：\n",
    "\n",
    "一个直观的解决方案是使用  O(mn) 的额外空间，但这并不是一个好的解决方案。\n",
    "一个简单的改进方案是使用 O(m + n) 的额外空间，但这仍然不是最好的解决方案。\n",
    "你能想出一个仅使用常量空间的解决方案吗？"
   ],
   "metadata": {
    "collapsed": false
   },
   "id": "4b47e18754544682"
  },
  {
   "cell_type": "code",
   "outputs": [
    {
     "name": "stdout",
     "output_type": "stream",
     "text": [
      "[[1, 0, 1], [0, 0, 0], [1, 0, 1]]\n",
      "[[0, 0, 0, 0], [0, 4, 5, 0], [0, 3, 1, 0]]\n",
      "[[0, 0, 0], [0, 0, 0]]\n"
     ]
    }
   ],
   "source": [
    "# 时间复杂度：O（mn）空间复杂度 O（1）\n",
    "\n",
    "class Solution(object):\n",
    "    def setZeroes(self, matrix):\n",
    "        # 如果矩阵为空，直接返回\n",
    "        if not matrix:\n",
    "            return\n",
    "        \n",
    "        # 获取矩阵的行数和列数\n",
    "        m, n = len(matrix), len(matrix[0])\n",
    "        \n",
    "        # 检查第一行是否包含0\n",
    "        first_row_has_zero = any(matrix[j][0] == 0 for j in range(n))\n",
    "        # 检查第一列是否包含0\n",
    "        first_col_has_zero = any(matrix[0][i] == 0 for i in range(m))\n",
    "        \n",
    "        # 遍历矩阵，使用第一行和第一列作为标记\n",
    "        for i in range(1, m):\n",
    "            for j in range(1, n):\n",
    "                if matrix[i][j] == 0:\n",
    "                    matrix[i][0] = 0\n",
    "                    matrix[0][j] = 0\n",
    "        \n",
    "        # 根据标记，设置元素为0\n",
    "        for i in range(1, m):\n",
    "            for j in range(1, n):\n",
    "                if matrix[i][0] == 0 or matrix[0][j] == 0:\n",
    "                    matrix[i][j] = 0\n",
    "        \n",
    "        # 如果第一行原本有0，将第一行所有元素设为0\n",
    "        if first_row_has_zero:\n",
    "            for j in range(n):\n",
    "                matrix[0][j] = 0\n",
    "        \n",
    "        # 如果第一列原本有0，将第一列所有元素设为0\n",
    "        if first_col_has_zero:\n",
    "            for i in range(m):\n",
    "                matrix[i][0] = 0\n",
    "                \n",
    "        return matrix\n",
    "    \n",
    "    \n",
    "solution = Solution()\n",
    "print(solution.setZeroes([[1,1,1],[1,0,1],[1,1,1]]))\n",
    "print(solution.setZeroes([[0,1,2,0],[3,4,5,2],[1,3,1,5]]))\n",
    "print(solution.setZeroes([[1,1,1],[0,1,2]]))\n",
    "        "
   ],
   "metadata": {
    "collapsed": false,
    "ExecuteTime": {
     "end_time": "2024-06-27T09:51:12.635711Z",
     "start_time": "2024-06-27T09:51:12.629294Z"
    }
   },
   "id": "1162bb3e6c2112d6",
   "execution_count": 2
  },
  {
   "cell_type": "code",
   "outputs": [],
   "source": [],
   "metadata": {
    "collapsed": false
   },
   "id": "32253f68610838c7"
  }
 ],
 "metadata": {
  "kernelspec": {
   "display_name": "Python 3",
   "language": "python",
   "name": "python3"
  },
  "language_info": {
   "codemirror_mode": {
    "name": "ipython",
    "version": 2
   },
   "file_extension": ".py",
   "mimetype": "text/x-python",
   "name": "python",
   "nbconvert_exporter": "python",
   "pygments_lexer": "ipython2",
   "version": "2.7.6"
  }
 },
 "nbformat": 4,
 "nbformat_minor": 5
}
