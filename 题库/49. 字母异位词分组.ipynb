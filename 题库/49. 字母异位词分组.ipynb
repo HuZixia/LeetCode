{
 "cells": [
  {
   "cell_type": "raw",
   "source": [
    "49. 字母异位词分组\n",
    "已解答\n",
    "中等\n",
    "相关标签\n",
    "相关企业\n",
    "给你一个字符串数组，请你将 字母异位词 组合在一起。可以按任意顺序返回结果列表。\n",
    "\n",
    "字母异位词 是由重新排列源单词的所有字母得到的一个新单词。\n",
    "\n",
    " \n",
    "\n",
    "示例 1:\n",
    "\n",
    "输入: strs = [\"eat\", \"tea\", \"tan\", \"ate\", \"nat\", \"bat\"]\n",
    "输出: [[\"bat\"],[\"nat\",\"tan\"],[\"ate\",\"eat\",\"tea\"]]\n",
    "示例 2:\n",
    "\n",
    "输入: strs = [\"\"]\n",
    "输出: [[\"\"]]\n",
    "示例 3:\n",
    "\n",
    "输入: strs = [\"a\"]\n",
    "输出: [[\"a\"]]\n",
    " \n",
    "\n",
    "提示：\n",
    "\n",
    "1 <= strs.length <= 104\n",
    "0 <= strs[i].length <= 100\n",
    "strs[i] 仅包含小写字母"
   ],
   "metadata": {
    "collapsed": false
   },
   "id": "91171c450065e17b"
  },
  {
   "cell_type": "code",
   "outputs": [
    {
     "name": "stdout",
     "output_type": "stream",
     "text": [
      "[['eat', 'tea', 'ate'], ['tan', 'nat'], ['bat']]\n",
      "[['']]\n",
      "[['a']]\n"
     ]
    }
   ],
   "source": [
    "from collections import defaultdict\n",
    "\n",
    "\n",
    "class Solution(object):\n",
    "    def groupAnagrams(self, strs):\n",
    "        anagrams = defaultdict(list)\n",
    "        \n",
    "        for s in strs:\n",
    "            # 将字符串排序后作为键\n",
    "            key = ''.join(sorted(s))\n",
    "            # 将原字符串添加到对应的键值中\n",
    "            anagrams[key].append(s)\n",
    "        \n",
    "        return list(anagrams.values())\n",
    "    \n",
    "solution = Solution()\n",
    "print(solution.groupAnagrams([\"eat\", \"tea\", \"tan\", \"ate\", \"nat\", \"bat\"])) # [[\"bat\"],[\"nat\",\"tan\"],[\"ate\",\"eat\",\"tea\"]]\n",
    "print(solution.groupAnagrams([\"\"])) # [[\"\"]]\n",
    "print(solution.groupAnagrams([\"a\"])) # [[\"a\"]]"
   ],
   "metadata": {
    "collapsed": false,
    "ExecuteTime": {
     "end_time": "2024-06-21T10:17:45.964009Z",
     "start_time": "2024-06-21T10:17:45.958159Z"
    }
   },
   "id": "480822fca28b3c99",
   "execution_count": 2
  },
  {
   "cell_type": "code",
   "outputs": [],
   "source": [],
   "metadata": {
    "collapsed": false
   },
   "id": "eaf86cd3f7aa7726"
  }
 ],
 "metadata": {
  "kernelspec": {
   "display_name": "Python 3",
   "language": "python",
   "name": "python3"
  },
  "language_info": {
   "codemirror_mode": {
    "name": "ipython",
    "version": 2
   },
   "file_extension": ".py",
   "mimetype": "text/x-python",
   "name": "python",
   "nbconvert_exporter": "python",
   "pygments_lexer": "ipython2",
   "version": "2.7.6"
  }
 },
 "nbformat": 4,
 "nbformat_minor": 5
}
