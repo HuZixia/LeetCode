{
 "cells": [
  {
   "cell_type": "raw",
   "source": [],
   "metadata": {
    "collapsed": false
   },
   "id": "d0a68d2050c8ea7a"
  },
  {
   "cell_type": "raw",
   "source": [
    "无重复字符的最长子串\n",
    "中等\n",
    "相关标签\n",
    "相关企业\n",
    "给定一个字符串 s ，请你找出其中不含有重复字符的 最长 \n",
    "子串\n",
    " 的长度。\n",
    "\n",
    " \n",
    "\n",
    "示例 1:\n",
    "\n",
    "输入: s = \"abcabcbb\"\n",
    "输出: 3 \n",
    "解释: 因为无重复字符的最长子串是 \"abc\"，所以其长度为 3。\n",
    "示例 2:\n",
    "\n",
    "输入: s = \"bbbbb\"\n",
    "输出: 1\n",
    "解释: 因为无重复字符的最长子串是 \"b\"，所以其长度为 1。\n",
    "示例 3:\n",
    "\n",
    "输入: s = \"pwwkew\"\n",
    "输出: 3\n",
    "解释: 因为无重复字符的最长子串是 \"wke\"，所以其长度为 3。\n",
    "     请注意，你的答案必须是 子串 的长度，\"pwke\" 是一个子序列，不是子串。\n",
    " \n",
    "\n",
    "提示：\n",
    "\n",
    "0 <= s.length <= 5 * 104\n",
    "s 由英文字母、数字、符号和空格组成"
   ],
   "metadata": {
    "collapsed": false
   },
   "id": "55f7549f93ad9a3c"
  },
  {
   "cell_type": "code",
   "outputs": [
    {
     "name": "stdout",
     "output_type": "stream",
     "text": [
      "3\n",
      "1\n",
      "3\n"
     ]
    }
   ],
   "source": [
    "# 滑动窗口方法\n",
    "\n",
    "class Solution(object):\n",
    "    def lengthOfLongestSubstring(self, s):\n",
    "        char_set = set()\n",
    "        max_length = 0\n",
    "        left = 0 \n",
    "        for right in range(len(s)):\n",
    "            while s[right] in char_set:\n",
    "                char_set.remove(s[left])\n",
    "                left += 1\n",
    "            char_set.add(s[right])\n",
    "            max_length = max(max_length, right - left +1)\n",
    "        return max_length\n",
    "\n",
    "solution = Solution()\n",
    "print(solution.lengthOfLongestSubstring(\"abcabcbb\"))\n",
    "print(solution.lengthOfLongestSubstring(\"bbbbb\"))\n",
    "print(solution.lengthOfLongestSubstring(\"pwwkew\"))\n",
    "\n",
    "                "
   ],
   "metadata": {
    "collapsed": false,
    "ExecuteTime": {
     "end_time": "2024-06-15T14:48:18.124378Z",
     "start_time": "2024-06-15T14:48:18.105142Z"
    }
   },
   "id": "3e178f0a78919f16",
   "execution_count": 6
  },
  {
   "cell_type": "code",
   "outputs": [],
   "source": [],
   "metadata": {
    "collapsed": false
   },
   "id": "11699b27d23f400"
  }
 ],
 "metadata": {
  "kernelspec": {
   "display_name": "Python 3",
   "language": "python",
   "name": "python3"
  },
  "language_info": {
   "codemirror_mode": {
    "name": "ipython",
    "version": 2
   },
   "file_extension": ".py",
   "mimetype": "text/x-python",
   "name": "python",
   "nbconvert_exporter": "python",
   "pygments_lexer": "ipython2",
   "version": "2.7.6"
  }
 },
 "nbformat": 4,
 "nbformat_minor": 5
}
