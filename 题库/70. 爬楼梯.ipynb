{
 "cells": [
  {
   "cell_type": "raw",
   "source": [
    "70. 爬楼梯\n",
    "已解答\n",
    "简单\n",
    "相关标签\n",
    "相关企业\n",
    "提示\n",
    "假设你正在爬楼梯。需要 n 阶你才能到达楼顶。\n",
    "\n",
    "每次你可以爬 1 或 2 个台阶。你有多少种不同的方法可以爬到楼顶呢？\n",
    "\n",
    " \n",
    "\n",
    "示例 1：\n",
    "\n",
    "输入：n = 2\n",
    "输出：2\n",
    "解释：有两种方法可以爬到楼顶。\n",
    "1. 1 阶 + 1 阶\n",
    "2. 2 阶\n",
    "示例 2：\n",
    "\n",
    "输入：n = 3\n",
    "输出：3\n",
    "解释：有三种方法可以爬到楼顶。\n",
    "1. 1 阶 + 1 阶 + 1 阶\n",
    "2. 1 阶 + 2 阶\n",
    "3. 2 阶 + 1 阶\n",
    " \n",
    "\n",
    "提示：\n",
    "\n",
    "1 <= n <= 45"
   ],
   "metadata": {
    "collapsed": false
   },
   "id": "e36a09d55d4bf41"
  },
  {
   "cell_type": "code",
   "outputs": [
    {
     "name": "stdout",
     "output_type": "stream",
     "text": [
      "2\n",
      "3\n",
      "1836311903\n"
     ]
    }
   ],
   "source": [
    "class Solution(object):\n",
    "    def climbStairs(self, n):\n",
    "        if n <= 2:\n",
    "            return n\n",
    "        dp = [0] * (n + 1)\n",
    "        dp[1] = 1\n",
    "        dp[2] = 2\n",
    "        for i in range(3, n+1):\n",
    "            dp[i] = dp[i-1] + dp[i-2]\n",
    "        \n",
    "        return dp[n]\n",
    "\n",
    "solution = Solution()\n",
    "print(solution.climbStairs(2)) # 2\n",
    "print(solution.climbStairs(3)) # 3\n",
    "print(solution.climbStairs(45)) # 1836311903"
   ],
   "metadata": {
    "collapsed": false,
    "ExecuteTime": {
     "end_time": "2024-06-26T15:23:13.376327Z",
     "start_time": "2024-06-26T15:23:13.371425Z"
    }
   },
   "id": "4bdd30f59bae982",
   "execution_count": 3
  },
  {
   "cell_type": "code",
   "outputs": [
    {
     "name": "stdout",
     "output_type": "stream",
     "text": [
      "2\n",
      "3\n",
      "1836311903\n"
     ]
    }
   ],
   "source": [
    "class Solution(object):\n",
    "    def climbStairs(self, n):\n",
    "        if n <= 2:\n",
    "            return n\n",
    "        \n",
    "        prev1, prev2 = 1, 2\n",
    "        for _ in range(3, n+1):\n",
    "            curr = prev1 + prev2\n",
    "            prev1, prev2 = prev2, curr\n",
    "        \n",
    "        return prev2\n",
    "\n",
    "solution = Solution()\n",
    "print(solution.climbStairs(2)) # 2\n",
    "print(solution.climbStairs(3)) # 3\n",
    "print(solution.climbStairs(45)) # 1836311903\n"
   ],
   "metadata": {
    "collapsed": false,
    "ExecuteTime": {
     "end_time": "2024-06-26T15:24:29.387267Z",
     "start_time": "2024-06-26T15:24:29.382212Z"
    }
   },
   "id": "44d0bc377b4a1b0a",
   "execution_count": 4
  },
  {
   "cell_type": "code",
   "outputs": [],
   "source": [],
   "metadata": {
    "collapsed": false
   },
   "id": "c2b9aecf967e978f"
  }
 ],
 "metadata": {
  "kernelspec": {
   "display_name": "Python 3",
   "language": "python",
   "name": "python3"
  },
  "language_info": {
   "codemirror_mode": {
    "name": "ipython",
    "version": 2
   },
   "file_extension": ".py",
   "mimetype": "text/x-python",
   "name": "python",
   "nbconvert_exporter": "python",
   "pygments_lexer": "ipython2",
   "version": "2.7.6"
  }
 },
 "nbformat": 4,
 "nbformat_minor": 5
}
