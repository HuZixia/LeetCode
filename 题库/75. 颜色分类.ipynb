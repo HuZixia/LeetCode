{
 "cells": [
  {
   "cell_type": "code",
   "execution_count": null,
   "id": "initial_id",
   "metadata": {
    "collapsed": true
   },
   "outputs": [],
   "source": []
  },
  {
   "cell_type": "raw",
   "source": [
    "75. 颜色分类\n",
    "已解答\n",
    "中等\n",
    "相关标签\n",
    "相关企业\n",
    "提示\n",
    "给定一个包含红色、白色和蓝色、共 n 个元素的数组 nums ，原地对它们进行排序，使得相同颜色的元素相邻，并按照红色、白色、蓝色顺序排列。\n",
    "\n",
    "我们使用整数 0、 1 和 2 分别表示红色、白色和蓝色。\n",
    "\n",
    "必须在不使用库内置的 sort 函数的情况下解决这个问题。\n",
    "\n",
    " \n",
    "\n",
    "示例 1：\n",
    "\n",
    "输入：nums = [2,0,2,1,1,0]\n",
    "输出：[0,0,1,1,2,2]\n",
    "示例 2：\n",
    "\n",
    "输入：nums = [2,0,1]\n",
    "输出：[0,1,2]\n",
    " \n",
    "\n",
    "提示：\n",
    "\n",
    "n == nums.length\n",
    "1 <= n <= 300\n",
    "nums[i] 为 0、1 或 2\n",
    " \n",
    "\n",
    "进阶：\n",
    "\n",
    "你能想出一个仅使用常数空间的一趟扫描算法吗？"
   ],
   "metadata": {
    "collapsed": false
   },
   "id": "52012d57c3ee1d6b"
  },
  {
   "cell_type": "code",
   "outputs": [
    {
     "name": "stdout",
     "output_type": "stream",
     "text": [
      "[0, 0, 1, 1, 2, 2]\n",
      "[0, 1, 2]\n",
      "[0]\n"
     ]
    }
   ],
   "source": [
    "# 线性时间的排序算法，荷兰国旗问题\n",
    "\n",
    "class Solution(object):\n",
    "    def sortColors(self, nums):\n",
    "        low, mid, high = 0, 0, len(nums) - 1\n",
    "        \n",
    "        # low, 指向当前0的最右边界，low左边的元素全部是0\n",
    "        # mid，指向当前扫描的位置，正在检查的位置\n",
    "        # high，指向当前2的最左边界，high右边的元素全部是2\n",
    "        \n",
    "        while mid <= high:\n",
    "            if nums[mid] == 0:\n",
    "                nums[low], nums[mid] = nums[mid], nums[low]\n",
    "                low += 1\n",
    "                mid += 1\n",
    "            elif nums[mid] == 1:\n",
    "                mid += 1\n",
    "            else:\n",
    "                nums[mid], nums[high] = nums[high], nums[mid]\n",
    "                high -= 1\n",
    "        return nums\n",
    "    \n",
    "solution = Solution()\n",
    "print(solution.sortColors([2,0,2,1,1,0])) # [0,0,1,1,2,2]\n",
    "print(solution.sortColors([2,0,1])) # [0,1,2]\n",
    "print(solution.sortColors([0])) # [0]"
   ],
   "metadata": {
    "collapsed": false,
    "ExecuteTime": {
     "end_time": "2024-06-27T12:17:15.565681Z",
     "start_time": "2024-06-27T12:17:15.560879Z"
    }
   },
   "id": "e0295597de11b3fc",
   "execution_count": 1
  },
  {
   "cell_type": "code",
   "outputs": [],
   "source": [],
   "metadata": {
    "collapsed": false
   },
   "id": "57fe1219c8c55174"
  }
 ],
 "metadata": {
  "kernelspec": {
   "display_name": "Python 3",
   "language": "python",
   "name": "python3"
  },
  "language_info": {
   "codemirror_mode": {
    "name": "ipython",
    "version": 2
   },
   "file_extension": ".py",
   "mimetype": "text/x-python",
   "name": "python",
   "nbconvert_exporter": "python",
   "pygments_lexer": "ipython2",
   "version": "2.7.6"
  }
 },
 "nbformat": 4,
 "nbformat_minor": 5
}
