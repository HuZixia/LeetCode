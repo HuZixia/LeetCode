{
 "cells": [
  {
   "cell_type": "raw",
   "source": [
    "15. 三数之和\n",
    "已解答\n",
    "中等\n",
    "相关标签\n",
    "相关企业\n",
    "提示\n",
    "给你一个整数数组 nums ，判断是否存在三元组 [nums[i], nums[j], nums[k]] 满足 i != j、i != k 且 j != k ，同时还满足 nums[i] + nums[j] + nums[k] == 0 。请\n",
    "\n",
    "你返回所有和为 0 且不重复的三元组。\n",
    "\n",
    "注意：答案中不可以包含重复的三元组。\n",
    "\n",
    " \n",
    "\n",
    " \n",
    "\n",
    "示例 1：\n",
    "\n",
    "输入：nums = [-1,0,1,2,-1,-4]\n",
    "输出：[[-1,-1,2],[-1,0,1]]\n",
    "解释：\n",
    "nums[0] + nums[1] + nums[2] = (-1) + 0 + 1 = 0 。\n",
    "nums[1] + nums[2] + nums[4] = 0 + 1 + (-1) = 0 。\n",
    "nums[0] + nums[3] + nums[4] = (-1) + 2 + (-1) = 0 。\n",
    "不同的三元组是 [-1,0,1] 和 [-1,-1,2] 。\n",
    "注意，输出的顺序和三元组的顺序并不重要。\n",
    "示例 2：\n",
    "\n",
    "输入：nums = [0,1,1]\n",
    "输出：[]\n",
    "解释：唯一可能的三元组和不为 0 。\n",
    "示例 3：\n",
    "\n",
    "输入：nums = [0,0,0]\n",
    "输出：[[0,0,0]]\n",
    "解释：唯一可能的三元组和为 0 。\n",
    " \n",
    "\n",
    "提示：\n",
    "\n",
    "3 <= nums.length <= 3000\n",
    "-105 <= nums[i] <= 105\n"
   ],
   "metadata": {
    "collapsed": false
   },
   "id": "506ec7ddb452a140"
  },
  {
   "cell_type": "code",
   "outputs": [
    {
     "name": "stdout",
     "output_type": "stream",
     "text": [
      "[[-1, -1, 2], [-1, 0, 1]]\n",
      "[]\n",
      "[[0, 0, 0]]\n",
      "[[-2, 0, 2], [-1, 0, 1]]\n"
     ]
    }
   ],
   "source": [
    "# 先对数组进行排序，然后遍历数组，使用双指针寻找满足条件的三元组。时间复杂度 O(N^2)\n",
    "\n",
    "class Solution(object):\n",
    "    def threeSum(self, nums):\n",
    "        # 先对数组进行排序\n",
    "        nums.sort()\n",
    "        result = []\n",
    "        # 遍历数组，寻找三元组\n",
    "        for i in range(len(nums)-2):\n",
    "            # 避免重复的三元组\n",
    "            if i > 0 and nums[i] == nums[i-1]:\n",
    "                continue\n",
    "            # 使用双指针寻找三元组\n",
    "            left, right = i+1, len(nums)-1\n",
    "            while left < right:\n",
    "                sum = nums[i] + nums[left] + nums[right]\n",
    "                if sum == 0:\n",
    "                    result.append([nums[i], nums[left], nums[right]])\n",
    "                    # 跳过重复的元素\n",
    "                    while left < right and nums[left] == nums[left + 1]:\n",
    "                        left += 1\n",
    "                    while left < right and nums[right] == nums[right - 1]:\n",
    "                        right -= 1\n",
    "                    left += 1\n",
    "                    right -= 1\n",
    "                elif sum < 0:\n",
    "                    left += 1\n",
    "                else:\n",
    "                    right -= 1\n",
    "        return result\n",
    "    \n",
    "solution = Solution()\n",
    "print(solution.threeSum([-1,0,1,2,-1,-4]))\n",
    "print(solution.threeSum([0,1,1]))\n",
    "print(solution.threeSum([0,0,0]))\n",
    "print(solution.threeSum([-1,0,1,0,-2,2]))"
   ],
   "metadata": {
    "collapsed": false,
    "ExecuteTime": {
     "end_time": "2024-06-18T11:29:06.207191Z",
     "start_time": "2024-06-18T11:29:06.200009Z"
    }
   },
   "id": "9642cfdf8990e4e0",
   "execution_count": 2
  },
  {
   "cell_type": "code",
   "outputs": [],
   "source": [],
   "metadata": {
    "collapsed": false
   },
   "id": "35baac3111db7172"
  }
 ],
 "metadata": {
  "kernelspec": {
   "display_name": "Python 3",
   "language": "python",
   "name": "python3"
  },
  "language_info": {
   "codemirror_mode": {
    "name": "ipython",
    "version": 2
   },
   "file_extension": ".py",
   "mimetype": "text/x-python",
   "name": "python",
   "nbconvert_exporter": "python",
   "pygments_lexer": "ipython2",
   "version": "2.7.6"
  }
 },
 "nbformat": 4,
 "nbformat_minor": 5
}
