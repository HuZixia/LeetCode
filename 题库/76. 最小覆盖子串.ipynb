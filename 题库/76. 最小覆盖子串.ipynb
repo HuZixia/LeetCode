{
 "cells": [
  {
   "cell_type": "raw",
   "source": [
    "76. 最小覆盖子串\n",
    "困难\n",
    "相关标签\n",
    "相关企业\n",
    "提示\n",
    "给你一个字符串 s 、一个字符串 t 。返回 s 中涵盖 t 所有字符的最小子串。如果 s 中不存在涵盖 t 所有字符的子串，则返回空字符串 \"\" 。\n",
    "\n",
    " \n",
    "\n",
    "注意：\n",
    "\n",
    "对于 t 中重复字符，我们寻找的子字符串中该字符数量必须不少于 t 中该字符数量。\n",
    "如果 s 中存在这样的子串，我们保证它是唯一的答案。\n",
    " \n",
    "\n",
    "示例 1：\n",
    "\n",
    "输入：s = \"ADOBECODEBANC\", t = \"ABC\"\n",
    "输出：\"BANC\"\n",
    "解释：最小覆盖子串 \"BANC\" 包含来自字符串 t 的 'A'、'B' 和 'C'。\n",
    "示例 2：\n",
    "\n",
    "输入：s = \"a\", t = \"a\"\n",
    "输出：\"a\"\n",
    "解释：整个字符串 s 是最小覆盖子串。\n",
    "示例 3:\n",
    "\n",
    "输入: s = \"a\", t = \"aa\"\n",
    "输出: \"\"\n",
    "解释: t 中两个字符 'a' 均应包含在 s 的子串中，\n",
    "因此没有符合条件的子字符串，返回空字符串。\n",
    " \n",
    "\n",
    "提示：\n",
    "\n",
    "m == s.length\n",
    "n == t.length\n",
    "1 <= m, n <= 105\n",
    "s 和 t 由英文字母组成\n",
    " \n",
    "\n",
    "进阶：你能设计一个在 o(m+n) 时间内解决此问题的算法吗？"
   ],
   "metadata": {
    "collapsed": false
   },
   "id": "fd8f06adb57b7a37"
  },
  {
   "cell_type": "code",
   "outputs": [
    {
     "name": "stdout",
     "output_type": "stream",
     "text": [
      "Counter({'a': 6, 'd': 3, 'r': 2, 'b': 1, 'f': 1})\n",
      "Counter()\n"
     ]
    }
   ],
   "source": [
    "from collections import Counter\n",
    "\n",
    "aa = Counter(\"aaaaaaddbdrrf\")\n",
    "print(aa)\n",
    "\n",
    "print(Counter())"
   ],
   "metadata": {
    "collapsed": false,
    "ExecuteTime": {
     "end_time": "2024-06-27T12:26:52.357102Z",
     "start_time": "2024-06-27T12:26:52.353188Z"
    }
   },
   "id": "241dffa5da881ac8",
   "execution_count": 2
  },
  {
   "cell_type": "code",
   "outputs": [
    {
     "name": "stdout",
     "output_type": "stream",
     "text": [
      "BANC\n",
      "a\n",
      "\n",
      "addb\n",
      "a\n"
     ]
    }
   ],
   "source": [
    "# 滑动窗口 + 哈希表法\n",
    "\n",
    "from collections import Counter\n",
    "class Solution(object):\n",
    "    def minWindow(self, s, t):\n",
    "        # 如果t比s长，直接返回空字符串，说明不可能存在覆盖子串\n",
    "        if len(t) > len(s):\n",
    "            return \"\"\n",
    "        # 统计t中每个字符串的出现次数\n",
    "        t_count = Counter(t)\n",
    "        # 用于滑动窗口中的字符统计\n",
    "        window_count = Counter()\n",
    "        \n",
    "        # 初始化两个指针和其他变量\n",
    "        left = 0\n",
    "        min_len = float('inf')\n",
    "        min_window = \"\"\n",
    "        # 需要覆盖的不同字符数量\n",
    "        required = len(t_count)\n",
    "        # 当前满足条件的字符数量\n",
    "        formed = 0\n",
    "        \n",
    "        for right in range(len(s)):\n",
    "            char = s[right]\n",
    "            window_count[char] += 1\n",
    "            \n",
    "            if window_count[char] == t_count[char]:\n",
    "                formed += 1\n",
    "            \n",
    "            # 收缩窗口，直到它不再满足条件\n",
    "            while left <= right and formed == required:\n",
    "                char = s[left]\n",
    "                window_count[char] -= 1\n",
    "                \n",
    "                # 更新最小窗口\n",
    "                if right - left + 1 < min_len:\n",
    "                    min_len = right - left + 1\n",
    "                    min_window = s[left:right+1]\n",
    "                    \n",
    "                # 左指针右移，减小窗口\n",
    "                if window_count[char] < t_count[char] and char in t_count:\n",
    "                    formed -= 1\n",
    "                \n",
    "                left += 1\n",
    "        return min_window\n",
    "    \n",
    "solution = Solution()\n",
    "print(solution.minWindow(\"ADOBECODEBANC\", \"ABC\")) # \"BANC\"\n",
    "print(solution.minWindow(\"a\", \"a\")) # \"a\"\n",
    "print(solution.minWindow(\"a\", \"aa\")) # \"\"\n",
    "print(solution.minWindow(\"aaaaaaddbdrrf\", \"ab\")) # \"a\"\n",
    "print(solution.minWindow(\"ab\", \"a\")) # \"a\"\n",
    "        "
   ],
   "metadata": {
    "collapsed": false,
    "ExecuteTime": {
     "end_time": "2024-06-27T13:13:04.709203Z",
     "start_time": "2024-06-27T13:13:04.702652Z"
    }
   },
   "id": "dc4a9d8e5bb736ae",
   "execution_count": 3
  },
  {
   "cell_type": "code",
   "outputs": [],
   "source": [],
   "metadata": {
    "collapsed": false
   },
   "id": "ca77279de95fc5f4"
  }
 ],
 "metadata": {
  "kernelspec": {
   "display_name": "Python 3",
   "language": "python",
   "name": "python3"
  },
  "language_info": {
   "codemirror_mode": {
    "name": "ipython",
    "version": 2
   },
   "file_extension": ".py",
   "mimetype": "text/x-python",
   "name": "python",
   "nbconvert_exporter": "python",
   "pygments_lexer": "ipython2",
   "version": "2.7.6"
  }
 },
 "nbformat": 4,
 "nbformat_minor": 5
}
