{
 "cells": [
  {
   "cell_type": "raw",
   "source": [
    "59. 螺旋矩阵 II\n",
    "已解答\n",
    "中等\n",
    "相关标签\n",
    "相关企业\n",
    "给你一个正整数 n ，生成一个包含 1 到 n2 所有元素，且元素按顺时针顺序螺旋排列的 n x n 正方形矩阵 matrix 。\n",
    "\n",
    " \n",
    "\n",
    "示例 1：\n",
    "\n",
    "\n",
    "输入：n = 3\n",
    "输出：[[1,2,3],[8,9,4],[7,6,5]]\n",
    "示例 2：\n",
    "\n",
    "输入：n = 1\n",
    "输出：[[1]]\n",
    " \n",
    "\n",
    "提示：\n",
    "\n",
    "1 <= n <= 20"
   ],
   "metadata": {
    "collapsed": false
   },
   "id": "e2bf54da0647b9f9"
  },
  {
   "cell_type": "code",
   "outputs": [
    {
     "name": "stdout",
     "output_type": "stream",
     "text": [
      "[[1, 2, 3], [8, 9, 4], [7, 6, 5]]\n",
      "[[1]]\n",
      "[[1, 2], [4, 3]]\n",
      "[[1, 2, 3, 4], [12, 13, 14, 5], [11, 16, 15, 6], [10, 9, 8, 7]]\n"
     ]
    }
   ],
   "source": [
    "class Solution:\n",
    "    def generateMatrix(self, n):\n",
    "        matrix = [[0] * n for _ in range(n)]\n",
    "        num = 1\n",
    "        top, bottom = 0, n - 1\n",
    "        left, right = 0, n - 1\n",
    "        while top <= bottom and left <= right:\n",
    "            # 1. 填充上边界\n",
    "            for i in range(left, right + 1):\n",
    "                matrix[top][i] = num\n",
    "                num += 1\n",
    "            top += 1\n",
    "            # 2. 填充右边界\n",
    "            for i in range(top, bottom + 1):\n",
    "                matrix[i][right] = num\n",
    "                num += 1\n",
    "            right -= 1\n",
    "            # 3. 填充下边界\n",
    "            if top <= bottom:\n",
    "                for i in range(right, left - 1, -1):\n",
    "                    matrix[bottom][i] = num\n",
    "                    num += 1\n",
    "                bottom -= 1\n",
    "            # 填充左边界\n",
    "            if left <= right:\n",
    "                for i in range(bottom, top - 1, -1):\n",
    "                    matrix[i][left] = num\n",
    "                    num += 1\n",
    "                left += 1\n",
    "        return matrix\n",
    "    \n",
    "    \n",
    "solution = Solution()\n",
    "print(solution.generateMatrix(3))\n",
    "print(solution.generateMatrix(1))\n",
    "print(solution.generateMatrix(2))\n",
    "print(solution.generateMatrix(4))"
   ],
   "metadata": {
    "collapsed": false,
    "ExecuteTime": {
     "end_time": "2024-06-24T12:00:41.316765Z",
     "start_time": "2024-06-24T12:00:41.309283Z"
    }
   },
   "id": "2226327f64c3a7b8",
   "execution_count": 2
  },
  {
   "cell_type": "code",
   "outputs": [],
   "source": [],
   "metadata": {
    "collapsed": false
   },
   "id": "8255d172dd33582c"
  }
 ],
 "metadata": {
  "kernelspec": {
   "display_name": "Python 3",
   "language": "python",
   "name": "python3"
  },
  "language_info": {
   "codemirror_mode": {
    "name": "ipython",
    "version": 2
   },
   "file_extension": ".py",
   "mimetype": "text/x-python",
   "name": "python",
   "nbconvert_exporter": "python",
   "pygments_lexer": "ipython2",
   "version": "2.7.6"
  }
 },
 "nbformat": 4,
 "nbformat_minor": 5
}
