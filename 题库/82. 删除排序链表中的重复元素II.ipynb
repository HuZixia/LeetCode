{
 "cells": [
  {
   "cell_type": "raw",
   "source": [
    "82. 删除排序链表中的重复元素 II\n",
    "已解答\n",
    "中等\n",
    "相关标签\n",
    "相关企业\n",
    "给定一个已排序的链表的头 head ， 删除原始链表中所有重复数字的节点，只留下不同的数字 。返回 已排序的链表 。\n",
    "\n",
    " \n",
    "\n",
    "示例 1：\n",
    "\n",
    "\n",
    "输入：head = [1,2,3,3,4,4,5]\n",
    "输出：[1,2,5]\n",
    "示例 2：\n",
    "\n",
    "\n",
    "输入：head = [1,1,1,2,3]\n",
    "输出：[2,3]\n",
    " \n",
    "\n",
    "提示：\n",
    "\n",
    "链表中节点数目在范围 [0, 300] 内\n",
    "-100 <= Node.val <= 100\n",
    "题目数据保证链表已经按升序 排列"
   ],
   "metadata": {
    "collapsed": false
   },
   "id": "bad0a38bba9c1b5d"
  },
  {
   "cell_type": "code",
   "outputs": [
    {
     "name": "stdout",
     "output_type": "stream",
     "text": [
      "[1, 2, 5]\n",
      "[1, 2, 3]\n",
      "[]\n"
     ]
    }
   ],
   "source": [
    "# 双指针法\n",
    "\n",
    "class ListNode(object):\n",
    "    def __init__(self, val=0, next=None):\n",
    "        self.val = val\n",
    "        self.next = next\n",
    "\n",
    "class Solution(object):\n",
    "    def deleteDuplicates(self, head):\n",
    "        \n",
    "        # 创建一个哑节点，指向头节点\n",
    "        dummy = ListNode(0)\n",
    "        dummy.next = head\n",
    "        prev = dummy\n",
    "        curr = head\n",
    "        \n",
    "        while curr:\n",
    "            # 如果当前节点和下一个节点的值相同，则跳过所有重复的值\n",
    "            if curr.next and curr.val == curr.next.val:\n",
    "                curr = curr.next\n",
    "            # 如果prev的下一个节点是curr，说明curr没有重复，移动prev指针\n",
    "            if prev.next == curr:\n",
    "                prev = prev.next\n",
    "            # 如果prev的下一个节点不是curr，说明curr重复，跳过所有重复的节点\n",
    "            else:\n",
    "                prev.next = curr.next\n",
    "            curr = curr.next\n",
    "        \n",
    "        return dummy.next\n",
    "    \n",
    "\n",
    "def List2ListNode(nums):\n",
    "    dummy = ListNode(0)\n",
    "    curr = dummy \n",
    "    for num in nums:\n",
    "        curr.next = ListNode(num)\n",
    "        curr = curr.next\n",
    "    return dummy.next\n",
    "\n",
    "\n",
    "def printListNode(head):\n",
    "    result = []\n",
    "    while head:\n",
    "        result.append(head.val)\n",
    "        head = head.next\n",
    "    print(result)\n",
    "    \n",
    "    \n",
    "printListNode(Solution().deleteDuplicates(List2ListNode([1,2,3,3,4,4,5]))) # [1,2,5]\n",
    "printListNode(Solution().deleteDuplicates(List2ListNode([1,1,1,2,3]))) # [2,3]\n",
    "printListNode(Solution().deleteDuplicates(List2ListNode([]))) # []\n",
    "        \n",
    "        \n",
    "        "
   ],
   "metadata": {
    "collapsed": false,
    "ExecuteTime": {
     "end_time": "2024-06-27T16:52:20.858635Z",
     "start_time": "2024-06-27T16:52:20.852029Z"
    }
   },
   "id": "3b32a98086c4fe73",
   "execution_count": 1
  },
  {
   "cell_type": "code",
   "outputs": [],
   "source": [],
   "metadata": {
    "collapsed": false
   },
   "id": "572cfd04c66d3a71"
  }
 ],
 "metadata": {
  "kernelspec": {
   "display_name": "Python 3",
   "language": "python",
   "name": "python3"
  },
  "language_info": {
   "codemirror_mode": {
    "name": "ipython",
    "version": 2
   },
   "file_extension": ".py",
   "mimetype": "text/x-python",
   "name": "python",
   "nbconvert_exporter": "python",
   "pygments_lexer": "ipython2",
   "version": "2.7.6"
  }
 },
 "nbformat": 4,
 "nbformat_minor": 5
}
