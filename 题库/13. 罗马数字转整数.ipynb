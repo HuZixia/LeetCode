{
 "cells": [
  {
   "cell_type": "code",
   "execution_count": null,
   "id": "initial_id",
   "metadata": {
    "collapsed": true
   },
   "outputs": [],
   "source": []
  },
  {
   "cell_type": "raw",
   "source": [
    "13. 罗马数字转整数\n",
    "已解答\n",
    "简单\n",
    "相关标签\n",
    "相关企业\n",
    "提示\n",
    "罗马数字包含以下七种字符: I， V， X， L，C，D 和 M。\n",
    "\n",
    "字符          数值\n",
    "I             1\n",
    "V             5\n",
    "X             10\n",
    "L             50\n",
    "C             100\n",
    "D             500\n",
    "M             1000\n",
    "例如， 罗马数字 2 写做 II ，即为两个并列的 1 。12 写做 XII ，即为 X + II 。 27 写做  XXVII, 即为 XX + V + II 。\n",
    "\n",
    "通常情况下，罗马数字中小的数字在大的数字的右边。但也存在特例，例如 4 不写做 IIII，而是 IV。数字 1 在数字 5 的左边，所表示的数等于大数 5 减小数 1 得到的数值 4 。同样地，数字 9 表示为 IX。这个特殊的规则只适用于以下六种情况：\n",
    "\n",
    "I 可以放在 V (5) 和 X (10) 的左边，来表示 4 和 9。\n",
    "X 可以放在 L (50) 和 C (100) 的左边，来表示 40 和 90。 \n",
    "C 可以放在 D (500) 和 M (1000) 的左边，来表示 400 和 900。\n",
    "给定一个罗马数字，将其转换成整数。\n",
    "\n",
    " \n",
    "\n",
    "示例 1:\n",
    "\n",
    "输入: s = \"III\"\n",
    "输出: 3\n",
    "示例 2:\n",
    "\n",
    "输入: s = \"IV\"\n",
    "输出: 4\n",
    "示例 3:\n",
    "\n",
    "输入: s = \"IX\"\n",
    "输出: 9\n",
    "示例 4:\n",
    "\n",
    "输入: s = \"LVIII\"\n",
    "输出: 58\n",
    "解释: L = 50, V= 5, III = 3.\n",
    "示例 5:\n",
    "\n",
    "输入: s = \"MCMXCIV\"\n",
    "输出: 1994\n",
    "解释: M = 1000, CM = 900, XC = 90, IV = 4.\n",
    " \n",
    "\n",
    "提示：\n",
    "\n",
    "1 <= s.length <= 15\n",
    "s 仅含字符 ('I', 'V', 'X', 'L', 'C', 'D', 'M')\n",
    "题目数据保证 s 是一个有效的罗马数字，且表示整数在范围 [1, 3999] 内\n",
    "题目所给测试用例皆符合罗马数字书写规则，不会出现跨位等情况。\n",
    "IL 和 IM 这样的例子并不符合题目要求，49 应该写作 XLIX，999 应该写作 CMXCIX 。\n",
    "关于罗马数字的详尽书写规则，可以参考 罗马数字 - Mathematics 。"
   ],
   "metadata": {
    "collapsed": false
   },
   "id": "76a1b37d0a511c89"
  },
  {
   "cell_type": "code",
   "outputs": [
    {
     "name": "stdout",
     "output_type": "stream",
     "text": [
      "1994\n",
      "3\n",
      "4\n",
      "9\n",
      "58\n"
     ]
    }
   ],
   "source": [
    "# 罗马数字转成整数，可以通过遍历罗马数字字符并累加相应的数值来实现。如果当前字符代表的值小于下一个字符代表的值，就减去当前字符的值，否则就加上它的值\n",
    "\n",
    "class Solution(object):\n",
    "    def romanToInt(self, s):\n",
    "        roman_to_int = {\n",
    "            'I': 1,\n",
    "            'V': 5,\n",
    "            'X': 10,\n",
    "            'L': 50,\n",
    "            'C': 100,\n",
    "            'D': 500,\n",
    "            'M': 1000\n",
    "        }\n",
    "        \n",
    "        total = 0\n",
    "        pre_value = 0\n",
    "        # 从左到右遍历罗马数字字符\n",
    "        for char in s:\n",
    "            current_value = roman_to_int[char]\n",
    "            # 如果当前字符的值大于之前字符的值，减去两倍的之前字符的值\n",
    "            if current_value > pre_value:\n",
    "                total += current_value - 2 * pre_value\n",
    "            else:\n",
    "                total += current_value\n",
    "            # 更新之前字符的值\n",
    "            pre_value = current_value\n",
    "        return total\n",
    "        \n",
    "solution = Solution()\n",
    "print(solution.romanToInt(\"MCMXCIV\")) # 1994\n",
    "print(solution.romanToInt(\"III\")) # 3\n",
    "print(solution.romanToInt(\"IV\")) # 4\n",
    "print(solution.romanToInt(\"IX\")) # 9\n",
    "print(solution.romanToInt(\"LVIII\")) # 58\n"
   ],
   "metadata": {
    "collapsed": false,
    "ExecuteTime": {
     "end_time": "2024-06-18T09:15:44.612734Z",
     "start_time": "2024-06-18T09:15:44.609194Z"
    }
   },
   "id": "68827f2490004cd8",
   "execution_count": 2
  },
  {
   "cell_type": "code",
   "outputs": [],
   "source": [],
   "metadata": {
    "collapsed": false
   },
   "id": "68c1a3b6bbbeb679"
  }
 ],
 "metadata": {
  "kernelspec": {
   "display_name": "Python 3",
   "language": "python",
   "name": "python3"
  },
  "language_info": {
   "codemirror_mode": {
    "name": "ipython",
    "version": 2
   },
   "file_extension": ".py",
   "mimetype": "text/x-python",
   "name": "python",
   "nbconvert_exporter": "python",
   "pygments_lexer": "ipython2",
   "version": "2.7.6"
  }
 },
 "nbformat": 4,
 "nbformat_minor": 5
}
