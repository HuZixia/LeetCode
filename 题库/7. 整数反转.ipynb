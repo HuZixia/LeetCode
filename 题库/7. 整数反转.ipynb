{
 "cells": [
  {
   "cell_type": "raw",
   "source": [
    "7. 整数反转\n",
    "已解答\n",
    "中等\n",
    "相关标签\n",
    "相关企业\n",
    "给你一个 32 位的有符号整数 x ，返回将 x 中的数字部分反转后的结果。\n",
    "\n",
    "如果反转后整数超过 32 位的有符号整数的范围 [−231,  231 − 1] ，就返回 0。\n",
    "\n",
    "假设环境不允许存储 64 位整数（有符号或无符号）。\n",
    " \n",
    "\n",
    "示例 1：\n",
    "\n",
    "输入：x = 123\n",
    "输出：321\n",
    "示例 2：\n",
    "\n",
    "输入：x = -123\n",
    "输出：-321\n",
    "示例 3：\n",
    "\n",
    "输入：x = 120\n",
    "输出：21\n",
    "示例 4：\n",
    "\n",
    "输入：x = 0\n",
    "输出：0\n",
    " \n",
    "\n",
    "提示：\n",
    "\n",
    "-231 <= x <= 231 - 1"
   ],
   "metadata": {
    "collapsed": false
   },
   "id": "8defb2e04d903399"
  },
  {
   "cell_type": "code",
   "outputs": [
    {
     "name": "stdout",
     "output_type": "stream",
     "text": [
      "321\n",
      "-3214\n",
      "0\n"
     ]
    }
   ],
   "source": [
    "class Solution(object):\n",
    "    def reverse(self, x):\n",
    "        # print(pow(2, 31)-1) # 2147483647\n",
    "        # print(-1 * pow(2,31)) # -2147483648\n",
    "        \n",
    "        reverse_x = 0\n",
    "        while x != 0:\n",
    "            if x < 0:\n",
    "                pop = x % -10\n",
    "                x = -1 * (abs(x) // 10)\n",
    "            else:\n",
    "                pop = x % 10\n",
    "                x = x // 10\n",
    "            if reverse_x > 214748364 or (reverse_x == 214748364 and pop > 7):\n",
    "                return 0 \n",
    "            if reverse_x < -214748364 or (reverse_x == -214748364 and pop < -8):\n",
    "                return 0\n",
    "            reverse_x = reverse_x * 10 + pop\n",
    "        return reverse_x\n",
    "\n",
    "solution = Solution()\n",
    "print(solution.reverse(123))\n",
    "print(solution.reverse(-4123))\n",
    "print(solution.reverse(1534236469))\n",
    "        \n",
    "\n",
    "        "
   ],
   "metadata": {
    "collapsed": false,
    "ExecuteTime": {
     "end_time": "2024-06-16T16:08:49.435191Z",
     "start_time": "2024-06-16T16:08:49.429587Z"
    }
   },
   "id": "312b3fbc9636a044",
   "execution_count": 4
  },
  {
   "cell_type": "code",
   "outputs": [],
   "source": [],
   "metadata": {
    "collapsed": false
   },
   "id": "259ecba214a7ce0a"
  }
 ],
 "metadata": {
  "kernelspec": {
   "display_name": "Python 3",
   "language": "python",
   "name": "python3"
  },
  "language_info": {
   "codemirror_mode": {
    "name": "ipython",
    "version": 2
   },
   "file_extension": ".py",
   "mimetype": "text/x-python",
   "name": "python",
   "nbconvert_exporter": "python",
   "pygments_lexer": "ipython2",
   "version": "2.7.6"
  }
 },
 "nbformat": 4,
 "nbformat_minor": 5
}
