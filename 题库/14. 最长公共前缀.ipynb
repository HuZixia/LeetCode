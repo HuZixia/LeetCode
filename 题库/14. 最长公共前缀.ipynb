{
 "cells": [
  {
   "cell_type": "raw",
   "source": [
    "14. 最长公共前缀\n",
    "已解答\n",
    "简单\n",
    "相关标签\n",
    "相关企业\n",
    "编写一个函数来查找字符串数组中的最长公共前缀。\n",
    "\n",
    "如果不存在公共前缀，返回空字符串 \"\"。\n",
    "\n",
    " \n",
    "\n",
    "示例 1：\n",
    "\n",
    "输入：strs = [\"flower\",\"flow\",\"flight\"]\n",
    "输出：\"fl\"\n",
    "示例 2：\n",
    "\n",
    "输入：strs = [\"dog\",\"racecar\",\"car\"]\n",
    "输出：\"\"\n",
    "解释：输入不存在公共前缀。\n",
    " \n",
    "\n",
    "提示：\n",
    "\n",
    "1 <= strs.length <= 200\n",
    "0 <= strs[i].length <= 200\n",
    "strs[i] 仅由小写英文字母组成\n"
   ],
   "metadata": {
    "collapsed": false
   },
   "id": "a4282ef0a605309c"
  },
  {
   "cell_type": "code",
   "outputs": [
    {
     "name": "stdout",
     "output_type": "stream",
     "text": [
      "fl\n",
      "\n",
      "a\n"
     ]
    }
   ],
   "source": [
    "class Solution(object):\n",
    "    def longestCommonPrefix(self, strs):\n",
    "        if not strs:\n",
    "            return \"\"\n",
    "        \n",
    "        # 找到最短的字符串长度\n",
    "        min_length = min(len(s) for s in strs)\n",
    "        # 初始化最长公共前缀\n",
    "        longest_prefix = \"\"\n",
    "        # 逐个字符比较\n",
    "        for i in range(min_length):\n",
    "            # 获取当前索引的字符集合\n",
    "            current_set = set(s[i] for s in strs)\n",
    "            # 所有字符串在当前位置索引的字符相同，则添加到最长公共前缀中\n",
    "            if len(current_set) == 1:\n",
    "                longest_prefix += current_set.pop()\n",
    "            else:\n",
    "                break\n",
    "        return longest_prefix\n",
    "    \n",
    "solution = Solution()\n",
    "print(solution.longestCommonPrefix([\"flower\",\"flow\",\"flight\"])) # \"fl\"\n",
    "print(solution.longestCommonPrefix([\"dog\",\"racecar\",\"car\"])) # \"\"\n",
    "print(solution.longestCommonPrefix([\"a\"])) # \"a\"\n",
    "        "
   ],
   "metadata": {
    "collapsed": false,
    "ExecuteTime": {
     "end_time": "2024-06-18T09:58:42.027754Z",
     "start_time": "2024-06-18T09:58:42.021389Z"
    }
   },
   "id": "8a8829bcdc33d17b",
   "execution_count": 2
  },
  {
   "cell_type": "code",
   "outputs": [],
   "source": [],
   "metadata": {
    "collapsed": false
   },
   "id": "b540b3f21363603c"
  }
 ],
 "metadata": {
  "kernelspec": {
   "display_name": "Python 3",
   "language": "python",
   "name": "python3"
  },
  "language_info": {
   "codemirror_mode": {
    "name": "ipython",
    "version": 2
   },
   "file_extension": ".py",
   "mimetype": "text/x-python",
   "name": "python",
   "nbconvert_exporter": "python",
   "pygments_lexer": "ipython2",
   "version": "2.7.6"
  }
 },
 "nbformat": 4,
 "nbformat_minor": 5
}
