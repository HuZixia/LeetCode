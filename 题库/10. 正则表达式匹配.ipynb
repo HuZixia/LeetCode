{
 "cells": [
  {
   "cell_type": "raw",
   "source": [
    "10. 正则表达式匹配\n",
    "困难\n",
    "相关标签\n",
    "相关企业\n",
    "给你一个字符串 s 和一个字符规律 p，请你来实现一个支持 '.' 和 '*' 的正则表达式匹配。\n",
    "\n",
    "'.' 匹配任意单个字符\n",
    "'*' 匹配零个或多个前面的那一个元素\n",
    "所谓匹配，是要涵盖 整个 字符串 s的，而不是部分字符串。\n",
    "\n",
    " \n",
    "示例 1：\n",
    "\n",
    "输入：s = \"aa\", p = \"a\"\n",
    "输出：false\n",
    "解释：\"a\" 无法匹配 \"aa\" 整个字符串。\n",
    "示例 2:\n",
    "\n",
    "输入：s = \"aa\", p = \"a*\"\n",
    "输出：true\n",
    "解释：因为 '*' 代表可以匹配零个或多个前面的那一个元素, 在这里前面的元素就是 'a'。因此，字符串 \"aa\" 可被视为 'a' 重复了一次。\n",
    "示例 3：\n",
    "\n",
    "输入：s = \"ab\", p = \".*\"\n",
    "输出：true\n",
    "解释：\".*\" 表示可匹配零个或多个（'*'）任意字符（'.'）。\n",
    " \n",
    "\n",
    "提示：\n",
    "\n",
    "1 <= s.length <= 20\n",
    "1 <= p.length <= 20\n",
    "s 只包含从 a-z 的小写字母。\n",
    "p 只包含从 a-z 的小写字母，以及字符 . 和 *。\n",
    "保证每次出现字符 * 时，前面都匹配到有效的字符"
   ],
   "metadata": {
    "collapsed": false
   },
   "id": "33ed047081ac76b5"
  },
  {
   "cell_type": "code",
   "outputs": [
    {
     "name": "stdout",
     "output_type": "stream",
     "text": [
      "False\n",
      "True\n",
      "True\n",
      "True\n"
     ]
    }
   ],
   "source": [
    "class Solution(object):\n",
    "    def isMatch(self, s, p):\n",
    "        m, n = len(s), len(p)\n",
    "        def match(i, j):\n",
    "            # s 中没有字符可以匹配\n",
    "            if i == 0:\n",
    "                return False\n",
    "            # . 可以匹配任意字符\n",
    "            if p[j-1] == \".\":\n",
    "                return True\n",
    "            return s[i-1] == p[j-1]\n",
    "        \n",
    "        # 创建一个 m+1 行 n+1 列的二维数组，用于记录 s 和 p 的匹配情况\n",
    "        dp = [[False] * (n + 1) for _ in range(m + 1)]\n",
    "        dp[0][0] = True\n",
    "        for i in range(m + 1):\n",
    "            for j in range(1, n + 1):\n",
    "                if p[j-1] == \"*\":\n",
    "                    # 如果 p[j-1] 是 *， 可以选择不使用它和前面的字符，所以 dp[i][j] ｜= dp[i][j-2]，即忽略*和它前面的一个字符\n",
    "                    dp[i][j] |= dp[i][j-2]\n",
    "                    # 如果 p[j-1] 是 *，而且 p[j-2] 和 s[i-1] 匹配，说明可以使用 * 匹配 s 中的一个字符，所以 dp[i][j] ｜= dp[i-1][j], 即继续匹配前面的字符\n",
    "                    if match(i, j-1):\n",
    "                        dp[i][j] |= dp[i-1][j]\n",
    "                else:\n",
    "                    if match(i, j):\n",
    "                        dp[i][j] |= dp[i-1][j-1]\n",
    "        return dp[m][n]\n",
    "            \n",
    "            \n",
    "solution = Solution()\n",
    "print(solution.isMatch(\"aa\", \"a\"))\n",
    "print(solution.isMatch(\"aa\", \"a*\"))\n",
    "print(solution.isMatch(\"ab\", \".*\"))\n",
    "print(solution.isMatch(\"aab\", \"c*a*b\"))"
   ],
   "metadata": {
    "collapsed": false,
    "ExecuteTime": {
     "end_time": "2024-06-17T16:31:37.840412Z",
     "start_time": "2024-06-17T16:31:37.827074Z"
    }
   },
   "id": "4dfc0704b00e939e",
   "execution_count": 2
  },
  {
   "cell_type": "code",
   "outputs": [],
   "source": [],
   "metadata": {
    "collapsed": false
   },
   "id": "93fa8a37e267f048"
  }
 ],
 "metadata": {
  "kernelspec": {
   "display_name": "Python 3",
   "language": "python",
   "name": "python3"
  },
  "language_info": {
   "codemirror_mode": {
    "name": "ipython",
    "version": 2
   },
   "file_extension": ".py",
   "mimetype": "text/x-python",
   "name": "python",
   "nbconvert_exporter": "python",
   "pygments_lexer": "ipython2",
   "version": "2.7.6"
  }
 },
 "nbformat": 4,
 "nbformat_minor": 5
}
