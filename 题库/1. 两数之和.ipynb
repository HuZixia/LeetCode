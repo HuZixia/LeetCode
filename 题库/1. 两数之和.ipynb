{
 "cells": [
  {
   "cell_type": "markdown",
   "source": [
    "1. 两数之和\n",
    "简单\n",
    "相关标签\n",
    "相关企业\n",
    "提示\n",
    "给定一个整数数组 nums 和一个整数目标值 target，请你在该数组中找出 和为目标值 target  的那 两个 整数，并返回它们的数组下标。\n",
    "\n",
    "你可以假设每种输入只会对应一个答案。但是，数组中同一个元素在答案里不能重复出现。\n",
    "\n",
    "你可以按任意顺序返回答案。\n",
    "\n",
    "示例 1：\n",
    "\n",
    "输入：nums = [2,7,11,15], target = 9\n",
    "输出：[0,1]\n",
    "解释：因为 nums[0] + nums[1] == 9 ，返回 [0, 1] 。\n",
    "示例 2：\n",
    "\n",
    "输入：nums = [3,2,4], target = 6\n",
    "输出：[1,2]\n",
    "示例 3：\n",
    "\n",
    "输入：nums = [3,3], target = 6\n",
    "输出：[0,1]\n",
    "\n",
    "\n",
    "提示：\n",
    "\n",
    "2 <= nums.length <= 104\n",
    "-109 <= nums[i] <= 109\n",
    "-109 <= target <= 109\n",
    "只会存在一个有效答案\n",
    "\n",
    "\n",
    "进阶：你可以想出一个时间复杂度小于 O(n2) 的算法吗？\n"
   ],
   "metadata": {
    "collapsed": false
   },
   "id": "9a7434fc025ae406"
  },
  {
   "cell_type": "code",
   "outputs": [
    {
     "name": "stdout",
     "output_type": "stream",
     "text": [
      "[0, 1]\n"
     ]
    }
   ],
   "source": [
    "from typing import List\n",
    "\n",
    "# 1. 暴力枚举，时间复杂度 O(N^2)\n",
    "class Solution(object):\n",
    "    def twoSum(self, nums: List[int], target: int) -> List[int]:\n",
    "        n = len(nums)\n",
    "        for i in range(n):\n",
    "            for j in range(i +1, n):\n",
    "                if nums[i] + nums[j] == target:\n",
    "                    return [i, j]\n",
    "\n",
    "\n",
    "solution = Solution()\n",
    "nums = [2, 7, 11, 15]\n",
    "target = 9\n",
    "result = solution.twoSum(nums, target)\n",
    "print(result)"
   ],
   "metadata": {
    "collapsed": false,
    "ExecuteTime": {
     "end_time": "2024-06-14T12:08:12.188052Z",
     "start_time": "2024-06-14T12:08:12.182977Z"
    }
   },
   "id": "82155ac7c480cd1",
   "execution_count": 1
  },
  {
   "cell_type": "code",
   "outputs": [
    {
     "name": "stdout",
     "output_type": "stream",
     "text": [
      "[0, 1]\n"
     ]
    }
   ],
   "source": [
    "from typing import List\n",
    "\n",
    "# 2. 哈希表，时间复杂度 O(N)\n",
    "\n",
    "class Solution(object):\n",
    "    def twoSum(self, nums: List[int], target: int) -> List[int]:\n",
    "        hashtable = dict()\n",
    "        for i, num in enumerate(nums):\n",
    "            complete = target - num\n",
    "            if complete in hashtable:\n",
    "                return [hashtable[complete], i]\n",
    "            hashtable[num]= i\n",
    "        return []\n",
    "    \n",
    "solution = Solution()\n",
    "nums = [2, 7, 11, 15]\n",
    "target = 9\n",
    "result = solution.twoSum(nums, target)\n",
    "print(result)\n",
    "            "
   ],
   "metadata": {
    "collapsed": false,
    "ExecuteTime": {
     "end_time": "2024-06-14T12:12:48.397108Z",
     "start_time": "2024-06-14T12:12:48.391261Z"
    }
   },
   "id": "9186cdf2aaa15423",
   "execution_count": 2
  }
 ],
 "metadata": {
  "kernelspec": {
   "display_name": "Python 3",
   "language": "python",
   "name": "python3"
  },
  "language_info": {
   "codemirror_mode": {
    "name": "ipython",
    "version": 2
   },
   "file_extension": ".py",
   "mimetype": "text/x-python",
   "name": "python",
   "nbconvert_exporter": "python",
   "pygments_lexer": "ipython2",
   "version": "2.7.6"
  }
 },
 "nbformat": 4,
 "nbformat_minor": 5
}
