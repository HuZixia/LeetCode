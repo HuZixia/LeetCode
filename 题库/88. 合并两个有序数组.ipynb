{
 "cells": [
  {
   "cell_type": "raw",
   "source": [
    "88. 合并两个有序数组\n",
    "已解答\n",
    "简单\n",
    "相关标签\n",
    "相关企业\n",
    "提示\n",
    "给你两个按 非递减顺序 排列的整数数组 nums1 和 nums2，另有两个整数 m 和 n ，分别表示 nums1 和 nums2 中的元素数目。\n",
    "\n",
    "请你 合并 nums2 到 nums1 中，使合并后的数组同样按 非递减顺序 排列。\n",
    "\n",
    "注意：最终，合并后数组不应由函数返回，而是存储在数组 nums1 中。为了应对这种情况，nums1 的初始长度为 m + n，其中前 m 个元素表示应合并的元素，后 n 个元素为 0 ，应忽略。nums2 的长度为 n 。\n",
    "\n",
    " \n",
    "\n",
    "示例 1：\n",
    "\n",
    "输入：nums1 = [1,2,3,0,0,0], m = 3, nums2 = [2,5,6], n = 3\n",
    "输出：[1,2,2,3,5,6]\n",
    "解释：需要合并 [1,2,3] 和 [2,5,6] 。\n",
    "合并结果是 [1,2,2,3,5,6] ，其中斜体加粗标注的为 nums1 中的元素。\n",
    "示例 2：\n",
    "\n",
    "输入：nums1 = [1], m = 1, nums2 = [], n = 0\n",
    "输出：[1]\n",
    "解释：需要合并 [1] 和 [] 。\n",
    "合并结果是 [1] 。\n",
    "示例 3：\n",
    "\n",
    "输入：nums1 = [0], m = 0, nums2 = [1], n = 1\n",
    "输出：[1]\n",
    "解释：需要合并的数组是 [] 和 [1] 。\n",
    "合并结果是 [1] 。\n",
    "注意，因为 m = 0 ，所以 nums1 中没有元素。nums1 中仅存的 0 仅仅是为了确保合并结果可以顺利存放到 nums1 中。\n",
    " \n",
    "\n",
    "提示：\n",
    "\n",
    "nums1.length == m + n\n",
    "nums2.length == n\n",
    "0 <= m, n <= 200\n",
    "1 <= m + n <= 200\n",
    "-109 <= nums1[i], nums2[j] <= 109\n",
    " \n",
    "\n",
    "进阶：你可以设计实现一个时间复杂度为 O(m + n) 的算法解决此问题吗？"
   ],
   "metadata": {
    "collapsed": false
   },
   "id": "fee29733130f0251"
  },
  {
   "cell_type": "code",
   "outputs": [
    {
     "name": "stdout",
     "output_type": "stream",
     "text": [
      "[1, 2, 2, 3, 5, 6]\n",
      "[1]\n",
      "[1]\n",
      "[1, 2, 2, 3, 5, 6]\n"
     ]
    }
   ],
   "source": [
    "# 逆行三指针\n",
    "\n",
    "class Solution(object):\n",
    "    def merge(self, nums1, m, nums2, n):\n",
    "        \n",
    "        p1 = m - 1\n",
    "        p2 = n - 1\n",
    "        p = m + n - 1\n",
    "        \n",
    "        while p1 >= 0 and p2 >= 0:\n",
    "            if nums1[p1] >= nums2[p2]:\n",
    "                nums1[p] = nums1[p1]\n",
    "                p1 -= 1\n",
    "            else:\n",
    "                nums1[p] = nums2[p2]\n",
    "                p2 -= 1\n",
    "            p -= 1\n",
    "        \n",
    "        nums1[:p2+1] = nums2[:p2+1]\n",
    "        return nums1\n",
    "    \n",
    "solution = Solution()\n",
    "print(solution.merge([1,2,3,0,0,0], 3, [2,5,6], 3)) # [1, 2, 2, 3, 5, 6]\n",
    "print(solution.merge([1], 1, [], 0)) # [1]\n",
    "print(solution.merge([0], 0, [1], 1)) # [1]\n",
    "print(solution.merge([1,2,3,0,0,0], 3, [2,5,6], 3)) # [1, 2, 2, 3, 5, 6]"
   ],
   "metadata": {
    "collapsed": false,
    "ExecuteTime": {
     "end_time": "2024-06-28T13:29:59.154249Z",
     "start_time": "2024-06-28T13:29:59.149549Z"
    }
   },
   "id": "8e688ed0713bbc92",
   "execution_count": 1
  },
  {
   "cell_type": "code",
   "outputs": [],
   "source": [],
   "metadata": {
    "collapsed": false
   },
   "id": "a198543f31c5c265"
  }
 ],
 "metadata": {
  "kernelspec": {
   "display_name": "Python 3",
   "language": "python",
   "name": "python3"
  },
  "language_info": {
   "codemirror_mode": {
    "name": "ipython",
    "version": 2
   },
   "file_extension": ".py",
   "mimetype": "text/x-python",
   "name": "python",
   "nbconvert_exporter": "python",
   "pygments_lexer": "ipython2",
   "version": "2.7.6"
  }
 },
 "nbformat": 4,
 "nbformat_minor": 5
}
