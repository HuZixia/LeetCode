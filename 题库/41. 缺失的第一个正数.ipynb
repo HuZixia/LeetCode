{
 "cells": [
  {
   "cell_type": "raw",
   "source": [
    "41. 缺失的第一个正数\n",
    "已解答\n",
    "困难\n",
    "相关标签\n",
    "相关企业\n",
    "提示\n",
    "给你一个未排序的整数数组 nums ，请你找出其中没有出现的最小的正整数。\n",
    "\n",
    "请你实现时间复杂度为 O(n) 并且只使用常数级别额外空间的解决方案。\n",
    " \n",
    "\n",
    "示例 1：\n",
    "\n",
    "输入：nums = [1,2,0]\n",
    "输出：3\n",
    "解释：范围 [1,2] 中的数字都在数组中。\n",
    "示例 2：\n",
    "\n",
    "输入：nums = [3,4,-1,1]\n",
    "输出：2\n",
    "解释：1 在数组中，但 2 没有。\n",
    "示例 3：\n",
    "\n",
    "输入：nums = [7,8,9,11,12]\n",
    "输出：1\n",
    "解释：最小的正数 1 没有出现。\n",
    " \n",
    "\n",
    "提示：\n",
    "\n",
    "1 <= nums.length <= 105\n",
    "-231 <= nums[i] <= 231 - 1"
   ],
   "metadata": {
    "collapsed": false
   },
   "id": "e0378aa6f24ad0fd"
  },
  {
   "cell_type": "code",
   "outputs": [
    {
     "name": "stdout",
     "output_type": "stream",
     "text": [
      "3\n",
      "2\n",
      "1\n"
     ]
    }
   ],
   "source": [
    "# 缺失的第一个正数，置换法\n",
    "# 对于一个长度为N的数组，其中没有出现的最小的正整数只能是[1,N+1]中的一个\n",
    "\n",
    "class Solution(object):\n",
    "    def firstMissingPositive(self, nums):\n",
    "        n = len(nums)\n",
    "        \n",
    "        # 将nums[i]放到它正确的位置上，即nums[nums[i]-1]\n",
    "        for i in range(n):\n",
    "            while 1<=nums[i]<=n and nums[nums[i]-1] != nums[i]:\n",
    "                nums[nums[i]-1], nums[i] = nums[i], nums[nums[i]-1]\n",
    "            \n",
    "        # 找到第一个nums[i]!=i+1的位置，即为缺失的最小正整数\n",
    "        for i in range(n):\n",
    "            if nums[i] != i+1:\n",
    "                return i+1\n",
    "        # 如果所有位置都正确，则返回n+1\n",
    "        return n+1\n",
    "    \n",
    "solution = Solution()\n",
    "print(solution.firstMissingPositive([1,2,0])) # 3\n",
    "print(solution.firstMissingPositive([3,4,-1,1])) # 2\n",
    "print(solution.firstMissingPositive([7,8,9,11,12])) # 1"
   ],
   "metadata": {
    "collapsed": false,
    "ExecuteTime": {
     "end_time": "2024-06-20T15:46:41.818Z",
     "start_time": "2024-06-20T15:46:41.811785Z"
    }
   },
   "id": "f532d625ec8be315",
   "execution_count": 3
  },
  {
   "cell_type": "code",
   "outputs": [],
   "source": [],
   "metadata": {
    "collapsed": false
   },
   "id": "e6effd8329a3e714"
  }
 ],
 "metadata": {
  "kernelspec": {
   "display_name": "Python 3",
   "language": "python",
   "name": "python3"
  },
  "language_info": {
   "codemirror_mode": {
    "name": "ipython",
    "version": 2
   },
   "file_extension": ".py",
   "mimetype": "text/x-python",
   "name": "python",
   "nbconvert_exporter": "python",
   "pygments_lexer": "ipython2",
   "version": "2.7.6"
  }
 },
 "nbformat": 4,
 "nbformat_minor": 5
}
