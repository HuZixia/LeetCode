{
 "cells": [
  {
   "cell_type": "raw",
   "source": [
    "45. 跳跃游戏 II\n",
    "已解答\n",
    "中等\n",
    "相关标签\n",
    "相关企业\n",
    "给定一个长度为 n 的 0 索引整数数组 nums。初始位置为 nums[0]。\n",
    "\n",
    "每个元素 nums[i] 表示从索引 i 向前跳转的最大长度。换句话说，如果你在 nums[i] 处，你可以跳转到任意 nums[i + j] 处:\n",
    "\n",
    "0 <= j <= nums[i] \n",
    "i + j < n\n",
    "返回到达 nums[n - 1] 的最小跳跃次数。生成的测试用例可以到达 nums[n - 1]。\n",
    "\n",
    " \n",
    "\n",
    "示例 1:\n",
    "\n",
    "输入: nums = [2,3,1,1,4]\n",
    "输出: 2\n",
    "解释: 跳到最后一个位置的最小跳跃数是 2。\n",
    "     从下标为 0 跳到下标为 1 的位置，跳 1 步，然后跳 3 步到达数组的最后一个位置。\n",
    "示例 2:\n",
    "\n",
    "输入: nums = [2,3,0,1,4]\n",
    "输出: 2\n",
    " \n",
    "\n",
    "提示:\n",
    "\n",
    "1 <= nums.length <= 104\n",
    "0 <= nums[i] <= 1000\n",
    "题目保证可以到达 nums[n-1]"
   ],
   "metadata": {
    "collapsed": false
   },
   "id": "c563ec386dbff536"
  },
  {
   "cell_type": "code",
   "outputs": [
    {
     "name": "stdout",
     "output_type": "stream",
     "text": [
      "2\n",
      "2\n",
      "4\n"
     ]
    }
   ],
   "source": [
    "# 贪心算法\n",
    "\n",
    "class Solution(object):\n",
    "    def jump(self, nums):\n",
    "        n = len(nums)\n",
    "        if n < 2:\n",
    "            return 0\n",
    "        \n",
    "        # 记录当前的跳跃次数\n",
    "        jumps = 0\n",
    "        # 当前能达到的最远距离\n",
    "        current_end = 0\n",
    "        # 下一步能达到的最远距离\n",
    "        farthest = 0\n",
    "        \n",
    "        # 遍历数组，最后一个元素不需要遍历\n",
    "        for i in range(n-1):\n",
    "            # 更新能达到的最远距离\n",
    "            farthest = max(farthest, i + nums[i])\n",
    "            \n",
    "            # 如果到达了当前的最远距离，说明需要一次跳跃\n",
    "            # 如果当前遍历的位置 i 达到了 current_end，说明上一次跳跃所能到达的最远位置已经走完了，这时需要增加跳跃次数，并更新 current_end 为当前遍历过程中能达到的最远距离 farthest。\n",
    "            if i == current_end:\n",
    "                # 增加跳跃次数\n",
    "                jumps += 1\n",
    "                # 更新当前的最远距离\n",
    "                current_end = farthest\n",
    "                # 如果当前的醉月距离已经超过或等于最后一个位置，则跳出循环\n",
    "                if current_end > n-1:\n",
    "                    break\n",
    "        return jumps\n",
    "\n",
    "solution = Solution()\n",
    "print(solution.jump([2,3,1,1,4])) # 2\n",
    "print(solution.jump([2,3,0,1,4])) # 2\n",
    "print(solution.jump([1,1,1,1,1])) # 4"
   ],
   "metadata": {
    "collapsed": false,
    "ExecuteTime": {
     "end_time": "2024-06-20T18:02:25.361768Z",
     "start_time": "2024-06-20T18:02:25.356598Z"
    }
   },
   "id": "6b1abdf2ee8294b",
   "execution_count": 5
  },
  {
   "cell_type": "code",
   "outputs": [],
   "source": [],
   "metadata": {
    "collapsed": false
   },
   "id": "fea764f67c46ed71"
  }
 ],
 "metadata": {
  "kernelspec": {
   "display_name": "Python 3",
   "language": "python",
   "name": "python3"
  },
  "language_info": {
   "codemirror_mode": {
    "name": "ipython",
    "version": 2
   },
   "file_extension": ".py",
   "mimetype": "text/x-python",
   "name": "python",
   "nbconvert_exporter": "python",
   "pygments_lexer": "ipython2",
   "version": "2.7.6"
  }
 },
 "nbformat": 4,
 "nbformat_minor": 5
}
