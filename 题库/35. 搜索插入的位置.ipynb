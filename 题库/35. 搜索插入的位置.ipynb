{
 "cells": [
  {
   "cell_type": "raw",
   "source": [
    "35. 搜索插入位置\n",
    "已解答\n",
    "简单\n",
    "相关标签\n",
    "相关企业\n",
    "给定一个排序数组和一个目标值，在数组中找到目标值，并返回其索引。如果目标值不存在于数组中，返回它将会被按顺序插入的位置。\n",
    "\n",
    "请必须使用时间复杂度为 O(log n) 的算法。\n",
    "\n",
    " \n",
    "\n",
    "示例 1:\n",
    "\n",
    "输入: nums = [1,3,5,6], target = 5\n",
    "输出: 2\n",
    "示例 2:\n",
    "\n",
    "输入: nums = [1,3,5,6], target = 2\n",
    "输出: 1\n",
    "示例 3:\n",
    "\n",
    "输入: nums = [1,3,5,6], target = 7\n",
    "输出: 4\n",
    " \n",
    "\n",
    "提示:\n",
    "\n",
    "1 <= nums.length <= 104\n",
    "-104 <= nums[i] <= 104\n",
    "nums 为 无重复元素 的 升序 排列数组\n",
    "-104 <= target <= 104"
   ],
   "metadata": {
    "collapsed": false
   },
   "id": "934f8ac1a534eb1d"
  },
  {
   "cell_type": "code",
   "outputs": [
    {
     "name": "stdout",
     "output_type": "stream",
     "text": [
      "2\n",
      "1\n",
      "4\n"
     ]
    }
   ],
   "source": [
    "# 二分查找法\n",
    "\n",
    "class Solution(object):\n",
    "    def searchInsert(self, nums, target):\n",
    "        left, right = 0, len(nums) - 1\n",
    "        while left <= right:\n",
    "            mid = (left + right) // 2\n",
    "            if nums[mid] == target:\n",
    "                return mid\n",
    "            elif nums[mid] < target:\n",
    "                left = mid + 1\n",
    "            else:\n",
    "                right = mid -1\n",
    "        return left \n",
    "    \n",
    "solution = Solution()\n",
    "print(solution.searchInsert([1,3,5,6], 5)) # 2\n",
    "print(solution.searchInsert([1,3,5,6], 2)) # 1\n",
    "print(solution.searchInsert([1,3,5,6], 7)) # 4"
   ],
   "metadata": {
    "collapsed": false,
    "ExecuteTime": {
     "end_time": "2024-06-20T10:59:25.860769Z",
     "start_time": "2024-06-20T10:59:25.856707Z"
    }
   },
   "id": "9b65cc10aafab12b",
   "execution_count": 1
  },
  {
   "cell_type": "code",
   "outputs": [],
   "source": [],
   "metadata": {
    "collapsed": false
   },
   "id": "bb970ba7f096b632"
  }
 ],
 "metadata": {
  "kernelspec": {
   "display_name": "Python 3",
   "language": "python",
   "name": "python3"
  },
  "language_info": {
   "codemirror_mode": {
    "name": "ipython",
    "version": 2
   },
   "file_extension": ".py",
   "mimetype": "text/x-python",
   "name": "python",
   "nbconvert_exporter": "python",
   "pygments_lexer": "ipython2",
   "version": "2.7.6"
  }
 },
 "nbformat": 4,
 "nbformat_minor": 5
}
