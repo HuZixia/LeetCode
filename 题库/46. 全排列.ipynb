{
 "cells": [
  {
   "cell_type": "raw",
   "source": [
    "46. 全排列\n",
    "已解答\n",
    "中等\n",
    "相关标签\n",
    "相关企业\n",
    "给定一个不含重复数字的数组 nums ，返回其 所有可能的全排列 。你可以 按任意顺序 返回答案。\n",
    "\n",
    " \n",
    "\n",
    "示例 1：\n",
    "\n",
    "输入：nums = [1,2,3]\n",
    "输出：[[1,2,3],[1,3,2],[2,1,3],[2,3,1],[3,1,2],[3,2,1]]\n",
    "示例 2：\n",
    "\n",
    "输入：nums = [0,1]\n",
    "输出：[[0,1],[1,0]]\n",
    "示例 3：\n",
    "\n",
    "输入：nums = [1]\n",
    "输出：[[1]]\n"
   ],
   "metadata": {
    "collapsed": false
   },
   "id": "be1125e6ef8888ae"
  },
  {
   "cell_type": "code",
   "outputs": [
    {
     "name": "stdout",
     "output_type": "stream",
     "text": [
      "[[1, 2, 3], [1, 3, 2], [2, 1, 3], [2, 3, 1], [3, 1, 2], [3, 2, 1]]\n",
      "[[0, 1], [1, 0]]\n",
      "[[1]]\n"
     ]
    }
   ],
   "source": [
    "# 递归 + 回溯算法\n",
    "\n",
    "class Solution(object):\n",
    "    def permute(self, nums):\n",
    "        def backtrack(nums, path):\n",
    "            # 如果nums为空，表示所有数字已经被使用，当前路径是一个完整的排列\n",
    "            if not nums:\n",
    "                result.append(path)\n",
    "            # 遍历nums中的每一个元素\n",
    "            for i in range(len(nums)):\n",
    "                # 递归调用，将当前元素添加到path中，并将该元素从nums中移除\n",
    "                backtrack(nums[:i] + nums[i+1:], path + [nums[i]])\n",
    "        \n",
    "        result = []\n",
    "        backtrack(nums, [])\n",
    "        return result\n",
    "\n",
    "solution = Solution()\n",
    "print(solution.permute([1,2,3])) # [[1,2,3],[1,3,2],[2,1,3],[2,3,1],[3,1,2],[3,2,1]]\n",
    "print(solution.permute([0,1])) # [[0,1],[1,0]]\n",
    "print(solution.permute([1])) # [[1]]\n",
    "    "
   ],
   "metadata": {
    "collapsed": false,
    "ExecuteTime": {
     "end_time": "2024-06-21T09:28:21.531393Z",
     "start_time": "2024-06-21T09:28:21.525939Z"
    }
   },
   "id": "e89757ffe94d4aca",
   "execution_count": 5
  },
  {
   "cell_type": "code",
   "outputs": [],
   "source": [],
   "metadata": {
    "collapsed": false
   },
   "id": "1afea761439d3b0a"
  }
 ],
 "metadata": {
  "kernelspec": {
   "display_name": "Python 3",
   "language": "python",
   "name": "python3"
  },
  "language_info": {
   "codemirror_mode": {
    "name": "ipython",
    "version": 2
   },
   "file_extension": ".py",
   "mimetype": "text/x-python",
   "name": "python",
   "nbconvert_exporter": "python",
   "pygments_lexer": "ipython2",
   "version": "2.7.6"
  }
 },
 "nbformat": 4,
 "nbformat_minor": 5
}
