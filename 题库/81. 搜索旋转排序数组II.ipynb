{
 "cells": [
  {
   "cell_type": "raw",
   "source": [
    "81. 搜索旋转排序数组 II\n",
    "已解答\n",
    "中等\n",
    "相关标签\n",
    "相关企业\n",
    "已知存在一个按非降序排列的整数数组 nums ，数组中的值不必互不相同。\n",
    "\n",
    "在传递给函数之前，nums 在预先未知的某个下标 k（0 <= k < nums.length）上进行了 旋转 ，使数组变为 [nums[k], nums[k+1], ..., nums[n-1], nums[0], nums[1], ..., nums[k-1]]（下标 从 0 开始 计数）。例如， [0,1,2,4,4,4,5,6,6,7] 在下标 5 处经旋转后可能变为 [4,5,6,6,7,0,1,2,4,4] 。\n",
    "\n",
    "给你 旋转后 的数组 nums 和一个整数 target ，请你编写一个函数来判断给定的目标值是否存在于数组中。如果 nums 中存在这个目标值 target ，则返回 true ，否则返回 false 。\n",
    "\n",
    "你必须尽可能减少整个操作步骤。\n",
    "\n",
    " \n",
    "\n",
    "示例 1：\n",
    "\n",
    "输入：nums = [2,5,6,0,0,1,2], target = 0\n",
    "输出：true\n",
    "示例 2：\n",
    "\n",
    "输入：nums = [2,5,6,0,0,1,2], target = 3\n",
    "输出：false\n",
    " \n",
    "\n",
    "提示：\n",
    "\n",
    "1 <= nums.length <= 5000\n",
    "-104 <= nums[i] <= 104\n",
    "题目数据保证 nums 在预先未知的某个下标上进行了旋转\n",
    "-104 <= target <= 104\n",
    " \n",
    "\n",
    "进阶：\n",
    "\n",
    "此题与 搜索旋转排序数组 相似，但本题中的 nums  可能包含 重复 元素。这会影响到程序的时间复杂度吗？会有怎样的影响，为什么？\n",
    " "
   ],
   "metadata": {
    "collapsed": false
   },
   "id": "3bc2dc0609d75022"
  },
  {
   "cell_type": "code",
   "outputs": [
    {
     "name": "stdout",
     "output_type": "stream",
     "text": [
      "True\n",
      "False\n",
      "True\n",
      "False\n"
     ]
    }
   ],
   "source": [
    "# 二分查找\n",
    "\n",
    "class Solution(object):\n",
    "    def search(self, nums, target):\n",
    "        if not nums:\n",
    "            return False\n",
    "        left, right = 0, len(nums) - 1\n",
    "        while left <= right:\n",
    "            mid = (left + right) // 2\n",
    "            if nums[mid] ==  target:\n",
    "                return True\n",
    "            \n",
    "            # 判断左半部分是否有序\n",
    "            if nums[left] <= nums[mid]:\n",
    "                # target 在左半部分\n",
    "                if nums[left] <= target < nums[mid]:\n",
    "                    right -= 1\n",
    "                # target 在右半部分\n",
    "                else:\n",
    "                    left += 1\n",
    "            # 判断右半部分是否有序\n",
    "            else:\n",
    "                # target 在右半部分\n",
    "                if nums[mid] < target <= nums[right]:\n",
    "                    left += 1\n",
    "                # target 在左半部分\n",
    "                else:\n",
    "                    right -= 1\n",
    "        return False\n",
    "    \n",
    "solution = Solution()\n",
    "print(solution.search([2,5,6,0,0,1,2], 0)) # True\n",
    "print(solution.search([2,5,6,0,0,1,2], 3)) # False\n",
    "print(solution.search([4,5,6,7,0,1,2], 0)) # True\n",
    "print(solution.search([4,5,6,7,0,1,2], 3)) # False"
   ],
   "metadata": {
    "collapsed": false,
    "ExecuteTime": {
     "end_time": "2024-06-27T16:34:26.105066Z",
     "start_time": "2024-06-27T16:34:26.099943Z"
    }
   },
   "id": "96ee0afb8b55b4c3",
   "execution_count": 1
  },
  {
   "cell_type": "code",
   "outputs": [],
   "source": [],
   "metadata": {
    "collapsed": false
   },
   "id": "3bdf6c87329ab722"
  }
 ],
 "metadata": {
  "kernelspec": {
   "display_name": "Python 3",
   "language": "python",
   "name": "python3"
  },
  "language_info": {
   "codemirror_mode": {
    "name": "ipython",
    "version": 2
   },
   "file_extension": ".py",
   "mimetype": "text/x-python",
   "name": "python",
   "nbconvert_exporter": "python",
   "pygments_lexer": "ipython2",
   "version": "2.7.6"
  }
 },
 "nbformat": 4,
 "nbformat_minor": 5
}
