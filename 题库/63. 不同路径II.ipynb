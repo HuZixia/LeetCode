{
 "cells": [
  {
   "cell_type": "raw",
   "source": [
    "63. 不同路径 II\n",
    "已解答\n",
    "中等\n",
    "相关标签\n",
    "相关企业\n",
    "提示\n",
    "一个机器人位于一个 m x n 网格的左上角 （起始点在下图中标记为 “Start” ）。\n",
    "\n",
    "机器人每次只能向下或者向右移动一步。机器人试图达到网格的右下角（在下图中标记为 “Finish”）。\n",
    "\n",
    "现在考虑网格中有障碍物。那么从左上角到右下角将会有多少条不同的路径？\n",
    "\n",
    "网格中的障碍物和空位置分别用 1 和 0 来表示。\n",
    "\n",
    " \n",
    "\n",
    "示例 1：\n",
    "\n",
    "\n",
    "输入：obstacleGrid = [[0,0,0],[0,1,0],[0,0,0]]\n",
    "输出：2\n",
    "解释：3x3 网格的正中间有一个障碍物。\n",
    "从左上角到右下角一共有 2 条不同的路径：\n",
    "1. 向右 -> 向右 -> 向下 -> 向下\n",
    "2. 向下 -> 向下 -> 向右 -> 向右\n",
    "示例 2：\n",
    "\n",
    "\n",
    "输入：obstacleGrid = [[0,1],[0,0]]\n",
    "输出：1\n",
    " \n",
    "\n",
    "提示：\n",
    "\n",
    "m == obstacleGrid.length\n",
    "n == obstacleGrid[i].length\n",
    "1 <= m, n <= 100\n",
    "obstacleGrid[i][j] 为 0 或 1"
   ],
   "metadata": {
    "collapsed": false
   },
   "id": "b0c32865e3b295a4"
  },
  {
   "cell_type": "code",
   "outputs": [
    {
     "name": "stdout",
     "output_type": "stream",
     "text": [
      "2\n",
      "1\n",
      "2\n"
     ]
    }
   ],
   "source": [
    "# 动态规划\n",
    "\n",
    "class Solution:\n",
    "    def uniquePathsWithObstacles(self, obstacleGird):\n",
    "        \n",
    "        # 初始化一个二维数组，dp，大小为 m*n\n",
    "    \n",
    "        m = len(obstacleGird)\n",
    "        n = len(obstacleGird[0])\n",
    "        \n",
    "        dp = [[0] * n for _ in range(m)]\n",
    "        \n",
    "        # 如果起点有障碍物，返回0\n",
    "        if obstacleGird[0][0] == 1:\n",
    "            return 0\n",
    "        \n",
    "        # 初始化起点位置路径数量\n",
    "        dp[0][0] = 1\n",
    "        \n",
    "        # 初始化第一行的路径数量\n",
    "        for i in range(1, m):\n",
    "            dp[i][0] = dp[i-1][0] if obstacleGird[i][0] == 0 else 0\n",
    "        \n",
    "        # 初始化第一列的路径数量\n",
    "        for j in range(1, n):\n",
    "            dp[0][j] = dp[0][j-1] if obstacleGird[0][j] == 0 else 0\n",
    "        \n",
    "        # 填充dp数组\n",
    "        for i in range(1, m):\n",
    "            for j in range(1, n):\n",
    "                if obstacleGird[i][j] == 0:\n",
    "                    dp[i][j] = dp[i-1][j] + dp[i][j-1]\n",
    "                else:\n",
    "                    dp[i][j] = 0\n",
    "        return dp[m-1][n-1]\n",
    "    \n",
    "solution = Solution()\n",
    "print(solution.uniquePathsWithObstacles([[0,0,0],[0,1,0],[0,0,0]])) # 2\n",
    "print(solution.uniquePathsWithObstacles([[0,1],[0,0]])) # 1 \n",
    "print(solution.uniquePathsWithObstacles([[0,0],[0,0]])) # 2"
   ],
   "metadata": {
    "collapsed": false,
    "ExecuteTime": {
     "end_time": "2024-06-25T11:09:00.959487Z",
     "start_time": "2024-06-25T11:09:00.952937Z"
    }
   },
   "id": "3cfd0fcab867150c",
   "execution_count": 7
  },
  {
   "cell_type": "code",
   "outputs": [],
   "source": [],
   "metadata": {
    "collapsed": false
   },
   "id": "40247e1f9956b671"
  }
 ],
 "metadata": {
  "kernelspec": {
   "display_name": "Python 3",
   "language": "python",
   "name": "python3"
  },
  "language_info": {
   "codemirror_mode": {
    "name": "ipython",
    "version": 2
   },
   "file_extension": ".py",
   "mimetype": "text/x-python",
   "name": "python",
   "nbconvert_exporter": "python",
   "pygments_lexer": "ipython2",
   "version": "2.7.6"
  }
 },
 "nbformat": 4,
 "nbformat_minor": 5
}
