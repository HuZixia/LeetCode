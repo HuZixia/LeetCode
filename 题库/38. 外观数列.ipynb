{
 "cells": [
  {
   "cell_type": "code",
   "execution_count": null,
   "id": "initial_id",
   "metadata": {
    "collapsed": true
   },
   "outputs": [],
   "source": []
  },
  {
   "cell_type": "raw",
   "source": [
    "38. 外观数列\n",
    "中等\n",
    "相关标签\n",
    "相关企业\n",
    "提示\n",
    "「外观数列」是一个数位字符串序列，由递归公式定义：\n",
    "\n",
    "countAndSay(1) = \"1\"\n",
    "countAndSay(n) 是 countAndSay(n-1) 的行程长度编码。\n",
    " \n",
    "\n",
    "行程长度编码（RLE）是一种字符串压缩方法，其工作原理是通过将连续相同字符（重复两次或更多次）替换为字符重复次数（运行长度）和字符的串联。例如，要压缩字符串 \"3322251\" ，我们将 \"33\" 用 \"23\" 替换，将 \"222\" 用 \"32\" 替换，将 \"5\" 用 \"15\" 替换并将 \"1\" 用 \"11\" 替换。因此压缩后字符串变为 \"23321511\"。\n",
    "\n",
    "给定一个整数 n ，返回 外观数列 的第 n 个元素。\n",
    "\n",
    "示例 1：\n",
    "\n",
    "输入：n = 4\n",
    "\n",
    "输出：\"1211\"\n",
    "\n",
    "解释：\n",
    "\n",
    "countAndSay(1) = \"1\"\n",
    "\n",
    "countAndSay(2) = \"1\" 的行程长度编码 = \"11\"\n",
    "\n",
    "countAndSay(3) = \"11\" 的行程长度编码 = \"21\"\n",
    "\n",
    "countAndSay(4) = \"21\" 的行程长度编码 = \"1211\"\n",
    "\n",
    "示例 2：\n",
    "\n",
    "输入：n = 1\n",
    "\n",
    "输出：\"1\"\n",
    "\n",
    "解释：\n",
    "\n",
    "这是基本情况。\n",
    "\n",
    " \n",
    "\n",
    "提示：\n",
    "\n",
    "1 <= n <= 30\n",
    " \n",
    "\n",
    "进阶：你能迭代解决该问题吗？"
   ],
   "metadata": {
    "collapsed": false
   },
   "id": "3391b1f74632bbc6"
  },
  {
   "cell_type": "code",
   "outputs": [
    {
     "name": "stdout",
     "output_type": "stream",
     "text": [
      "1211\n",
      "1\n",
      "111221\n"
     ]
    }
   ],
   "source": [
    "class Solution(object):\n",
    "    def countAndSay(self, n):\n",
    "        if n == 1:\n",
    "            return '1'\n",
    "        \n",
    "        def next_sequenct(s):\n",
    "            i = 0\n",
    "            result = []\n",
    "            while i < len(s):\n",
    "                count = 1\n",
    "                while i + 1 < len(s) and s[i] == s[i+1]:\n",
    "                    count += 1\n",
    "                    i += 1\n",
    "                result.append(str(count) + s[i])\n",
    "                i += 1\n",
    "            return ''.join(result)\n",
    "        \n",
    "        current = '1'\n",
    "        for i in range(n-1):\n",
    "            current = next_sequenct(current)\n",
    "        \n",
    "        return current\n",
    "    \n",
    "\n",
    "solution = Solution()\n",
    "print(solution.countAndSay(4))  # 输出 \"1211\"\n",
    "print(solution.countAndSay(1))  # 输出 \"1\"\n",
    "print(solution.countAndSay(5))  # 输出 \"111221\""
   ],
   "metadata": {
    "collapsed": false,
    "ExecuteTime": {
     "end_time": "2024-06-20T14:41:31.168158Z",
     "start_time": "2024-06-20T14:41:31.162743Z"
    }
   },
   "id": "37f4b4389181c7ed",
   "execution_count": 1
  },
  {
   "cell_type": "code",
   "outputs": [],
   "source": [],
   "metadata": {
    "collapsed": false
   },
   "id": "dbd7bd12416f331c"
  }
 ],
 "metadata": {
  "kernelspec": {
   "display_name": "Python 3",
   "language": "python",
   "name": "python3"
  },
  "language_info": {
   "codemirror_mode": {
    "name": "ipython",
    "version": 2
   },
   "file_extension": ".py",
   "mimetype": "text/x-python",
   "name": "python",
   "nbconvert_exporter": "python",
   "pygments_lexer": "ipython2",
   "version": "2.7.6"
  }
 },
 "nbformat": 4,
 "nbformat_minor": 5
}
