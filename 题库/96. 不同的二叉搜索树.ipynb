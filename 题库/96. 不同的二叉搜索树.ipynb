{
 "cells": [
  {
   "cell_type": "raw",
   "source": [
    "96. 不同的二叉搜索树\n",
    "已解答\n",
    "中等\n",
    "相关标签\n",
    "相关企业\n",
    "给你一个整数 n ，求恰由 n 个节点组成且节点值从 1 到 n 互不相同的 二叉搜索树 有多少种？返回满足题意的二叉搜索树的种数。\n",
    "\n",
    " \n",
    "\n",
    "示例 1：\n",
    "\n",
    "\n",
    "输入：n = 3\n",
    "输出：5\n",
    "示例 2：\n",
    "\n",
    "输入：n = 1\n",
    "输出：1\n",
    " \n",
    "\n",
    "提示：\n",
    "\n",
    "1 <= n <= 19"
   ],
   "metadata": {
    "collapsed": false
   },
   "id": "38c07a3b6756a3ca"
  },
  {
   "cell_type": "code",
   "outputs": [
    {
     "name": "stdout",
     "output_type": "stream",
     "text": [
      "5\n",
      "1\n",
      "2\n"
     ]
    }
   ],
   "source": [
    "# 动态规划\n",
    "\n",
    "class Solution(object):\n",
    "    \n",
    "    def numTrees(self, n):\n",
    "        \n",
    "        # 初始化一个大小为 n+1 的数组，初始值全为0\n",
    "        # 对于0个节点和1个节点的情况，都只有一个BST\n",
    "        dp = [0] * (n + 1)\n",
    "        dp[0] = 1\n",
    "        dp[1] = 1\n",
    "        \n",
    "        # 从2开始计算到n的所有情况\n",
    "        for i in range(2, n + 1):\n",
    "            # 对于每一个i，计算所有可能的BST数量\n",
    "            for j in range(1, i + 1):\n",
    "                # 当j为根节点时，左子树有j-1个节点，右子树有i-j个节点。\n",
    "                # 左子树和右子树的所有可能组合数量为dp[j-1] * dp[i-j]，累加到dp[i]上，即为dp[i]的值，即为i个节点的BST数量\n",
    "                dp[i] += dp[j-1] * dp[i-j]\n",
    "        return dp[n]\n",
    "\n",
    "solution = Solution()\n",
    "print(solution.numTrees(3)) # 5\n",
    "print(solution.numTrees(1)) # 1\n",
    "print(solution.numTrees(2)) # 2"
   ],
   "metadata": {
    "collapsed": false,
    "ExecuteTime": {
     "end_time": "2024-06-29T18:08:23.715174Z",
     "start_time": "2024-06-29T18:08:23.710035Z"
    }
   },
   "id": "efdc49bf8ccd25ea",
   "execution_count": 2
  },
  {
   "cell_type": "code",
   "outputs": [],
   "source": [],
   "metadata": {
    "collapsed": false
   },
   "id": "8f8ba8329bb5ae07"
  }
 ],
 "metadata": {
  "kernelspec": {
   "display_name": "Python 3",
   "language": "python",
   "name": "python3"
  },
  "language_info": {
   "codemirror_mode": {
    "name": "ipython",
    "version": 2
   },
   "file_extension": ".py",
   "mimetype": "text/x-python",
   "name": "python",
   "nbconvert_exporter": "python",
   "pygments_lexer": "ipython2",
   "version": "2.7.6"
  }
 },
 "nbformat": 4,
 "nbformat_minor": 5
}
