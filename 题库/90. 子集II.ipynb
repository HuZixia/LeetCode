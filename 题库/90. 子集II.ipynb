{
 "cells": [
  {
   "cell_type": "raw",
   "source": [
    "90. 子集 II\n",
    "已解答\n",
    "中等\n",
    "相关标签\n",
    "相关企业\n",
    "给你一个整数数组 nums ，其中可能包含重复元素，请你返回该数组所有可能的 \n",
    "子集\n",
    "（幂集）。\n",
    "\n",
    "解集 不能 包含重复的子集。返回的解集中，子集可以按 任意顺序 排列。\n",
    "\n",
    " \n",
    "\n",
    "示例 1：\n",
    "\n",
    "输入：nums = [1,2,2]\n",
    "输出：[[],[1],[1,2],[1,2,2],[2],[2,2]]\n",
    "示例 2：\n",
    "\n",
    "输入：nums = [0]\n",
    "输出：[[],[0]]\n",
    " \n",
    "\n",
    "提示：\n",
    "\n",
    "1 <= nums.length <= 10\n",
    "-10 <= nums[i] <= 10"
   ],
   "metadata": {
    "collapsed": false
   },
   "id": "40df9319acf28c6f"
  },
  {
   "cell_type": "code",
   "outputs": [
    {
     "name": "stdout",
     "output_type": "stream",
     "text": [
      "[[], [1], [1, 2], [1, 2, 2], [2], [2, 2]]\n",
      "[[], [0]]\n",
      "[[], [1], [1, 2], [1, 2, 3], [1, 3], [2], [2, 3], [3]]\n"
     ]
    }
   ],
   "source": [
    "class Solution(object):\n",
    "    def subsetsWithDup(self, nums):\n",
    "        # 排序数组，以便于处理重复元素\n",
    "        nums.sort()\n",
    "        result = []\n",
    "        def backtrack(result, current, start, nums):\n",
    "            result.append(list(current))\n",
    "            for i in range(start, len(nums)):\n",
    "                # 如果当前元素和前一个元素相同，则跳过以避免重复\n",
    "                if i > start and nums[i] == nums[i-1]:\n",
    "                    continue\n",
    "                current.append(nums[i])\n",
    "                backtrack(result, current, i + 1, nums)\n",
    "                current.pop()\n",
    "        \n",
    "        backtrack(result, [], 0, nums)\n",
    "        return result\n",
    "    \n",
    "solution = Solution()\n",
    "print(solution.subsetsWithDup([1,2,2]))\n",
    "print(solution.subsetsWithDup([0]))\n",
    "print(solution.subsetsWithDup([1,2,3]))"
   ],
   "metadata": {
    "collapsed": false,
    "ExecuteTime": {
     "end_time": "2024-06-28T16:16:04.772839Z",
     "start_time": "2024-06-28T16:16:04.767912Z"
    }
   },
   "id": "40e63f5327110dc8",
   "execution_count": 1
  },
  {
   "cell_type": "code",
   "outputs": [],
   "source": [],
   "metadata": {
    "collapsed": false
   },
   "id": "aeb579596ffb0253"
  }
 ],
 "metadata": {
  "kernelspec": {
   "display_name": "Python 3",
   "language": "python",
   "name": "python3"
  },
  "language_info": {
   "codemirror_mode": {
    "name": "ipython",
    "version": 2
   },
   "file_extension": ".py",
   "mimetype": "text/x-python",
   "name": "python",
   "nbconvert_exporter": "python",
   "pygments_lexer": "ipython2",
   "version": "2.7.6"
  }
 },
 "nbformat": 4,
 "nbformat_minor": 5
}
