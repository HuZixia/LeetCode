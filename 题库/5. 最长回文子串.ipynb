{
 "cells": [
  {
   "cell_type": "raw",
   "source": [
    "5. 最长回文子串\n",
    "中等\n",
    "相关标签\n",
    "相关企业\n",
    "提示\n",
    "\n",
    "给你一个字符串 s，找到 s 中最长的 回文子串。\n",
    "\n",
    "\n",
    "示例 1：\n",
    "\n",
    "输入：s = \"babad\"\n",
    "输出：\"bab\"\n",
    "解释：\"aba\" 同样是符合题意的答案。\n",
    "示例 2：\n",
    "\n",
    "输入：s = \"cbbd\"\n",
    "输出：\"bb\"\n"
   ],
   "metadata": {
    "collapsed": false
   },
   "id": "997aa042a42f740f"
  },
  {
   "cell_type": "code",
   "outputs": [
    {
     "name": "stdout",
     "output_type": "stream",
     "text": [
      "[[True, False, True, False, False],\n",
      " [False, True, False, True, False],\n",
      " [False, False, True, False, False],\n",
      " [False, False, False, True, False],\n",
      " [False, False, False, False, True]]\n",
      "bab\n",
      "[[True, False, False, False],\n",
      " [False, True, True, False],\n",
      " [False, False, True, False],\n",
      " [False, False, False, True]]\n",
      "bb\n"
     ]
    }
   ],
   "source": [
    "# 动态规划法\n",
    "import pprint\n",
    "\n",
    "class Solution(object):\n",
    "    def longestPalindrome(self, s):\n",
    "        n = len(s)\n",
    "        if n < 2:\n",
    "            return s\n",
    "        dp = [[False] * n for _ in range(n)]\n",
    "        start, max_length = 0, 1\n",
    "        \n",
    "        # 每个长度为1的子串都是回文\n",
    "        for i in range(n):\n",
    "            dp[i][i] = True\n",
    "        \n",
    "        # 从长度为2的子串开始，逐步检查所有子串\n",
    "        for j in range(1, n):\n",
    "            for i in range(j):\n",
    "                if s[i] == s[j]:\n",
    "                    if j - 1 == 1:\n",
    "                        dp[i][j] = True\n",
    "                    else:\n",
    "                        dp[i][j] = dp[i+1][j-1]\n",
    "                    if dp[i][j] and j - i + 1 > max_length:\n",
    "                        max_length = j - i + 1\n",
    "                        start = i\n",
    "                else:\n",
    "                    dp[i][j] = False\n",
    "        \n",
    "        pprint.pprint(dp)\n",
    "        return s[start: start + max_length]\n",
    "    \n",
    "    \n",
    "solution = Solution()\n",
    "print(solution.longestPalindrome(\"babad\"))\n",
    "print(solution.longestPalindrome(\"cbbd\"))\n",
    "\n",
    "                 "
   ],
   "metadata": {
    "collapsed": false,
    "ExecuteTime": {
     "end_time": "2024-06-16T12:38:06.025213Z",
     "start_time": "2024-06-16T12:38:06.020075Z"
    }
   },
   "id": "ed07374469b67924",
   "execution_count": 4
  },
  {
   "cell_type": "code",
   "outputs": [
    {
     "name": "stdout",
     "output_type": "stream",
     "text": [
      "bab\n",
      "bb\n"
     ]
    }
   ],
   "source": [
    "# 中心扩展法\n",
    "class Solution(object):\n",
    "    def longestPalindrome(self, s):\n",
    "        def expand_around_center(left, right):\n",
    "            while left >= 0 and right < len(s) and s[left] == s[right]:\n",
    "                left -= 1 \n",
    "                right += 1\n",
    "            return s[left+1: right]\n",
    "        \n",
    "        n = len(s)\n",
    "        if n < 2:\n",
    "            return s\n",
    "        # 初始化最长回文子串\n",
    "        longest = \"\"\n",
    "        for i in range(n):\n",
    "            # 处理奇数长度的回文子串，以字符i为中心\n",
    "            odd_palindrome = expand_around_center(i, i)\n",
    "            if len(odd_palindrome) > len(longest):\n",
    "                longest = odd_palindrome\n",
    "            # 处理偶数长度的回文子串，以字符i，i+1之间的空隙作为中心\n",
    "            even_palindrome = expand_around_center(i, i+1)\n",
    "            if len(even_palindrome) > len(longest):\n",
    "                longest = even_palindrome\n",
    "                \n",
    "        return longest\n",
    "\n",
    "solution = Solution()\n",
    "print(solution.longestPalindrome(\"babad\"))\n",
    "print(solution.longestPalindrome(\"cbbd\"))\n",
    "            \n",
    "\n"
   ],
   "metadata": {
    "collapsed": false,
    "ExecuteTime": {
     "end_time": "2024-06-16T12:44:25.774933Z",
     "start_time": "2024-06-16T12:44:25.771305Z"
    }
   },
   "id": "a023cdd05c091f80",
   "execution_count": 7
  },
  {
   "cell_type": "code",
   "outputs": [],
   "source": [],
   "metadata": {
    "collapsed": false
   },
   "id": "fbfa60e8a3417bac"
  }
 ],
 "metadata": {
  "kernelspec": {
   "display_name": "Python 3",
   "language": "python",
   "name": "python3"
  },
  "language_info": {
   "codemirror_mode": {
    "name": "ipython",
    "version": 2
   },
   "file_extension": ".py",
   "mimetype": "text/x-python",
   "name": "python",
   "nbconvert_exporter": "python",
   "pygments_lexer": "ipython2",
   "version": "2.7.6"
  }
 },
 "nbformat": 4,
 "nbformat_minor": 5
}
