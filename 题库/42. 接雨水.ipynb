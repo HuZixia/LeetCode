{
 "cells": [
  {
   "cell_type": "raw",
   "source": [
    "42. 接雨水\n",
    "已解答\n",
    "困难\n",
    "相关标签\n",
    "相关企业\n",
    "给定 n 个非负整数表示每个宽度为 1 的柱子的高度图，计算按此排列的柱子，下雨之后能接多少雨水。\n",
    "\n",
    " \n",
    "\n",
    "示例 1：\n",
    "\n",
    "\n",
    "\n",
    "输入：height = [0,1,0,2,1,0,1,3,2,1,2,1]\n",
    "输出：6\n",
    "解释：上面是由数组 [0,1,0,2,1,0,1,3,2,1,2,1] 表示的高度图，在这种情况下，可以接 6 个单位的雨水（蓝色部分表示雨水）。 \n",
    "示例 2：\n",
    "\n",
    "输入：height = [4,2,0,3,2,5]\n",
    "输出：9\n",
    " \n",
    "\n",
    "提示：\n",
    "\n",
    "n == height.length\n",
    "1 <= n <= 2 * 104\n",
    "0 <= height[i] <= 105"
   ],
   "metadata": {
    "collapsed": false
   },
   "id": "ea3ecfbb29df7c0e"
  },
  {
   "cell_type": "code",
   "outputs": [
    {
     "name": "stdout",
     "output_type": "stream",
     "text": [
      "6\n",
      "9\n",
      "9\n"
     ]
    }
   ],
   "source": [
    "# 双指针法\n",
    "\n",
    "class Solution(object):\n",
    "    def trap(self, height):\n",
    "        if not height:\n",
    "            return 0\n",
    "        left, right = 0, len(height)-1\n",
    "        left_max, right_max = height[left], height[right]\n",
    "        water = 0\n",
    "        while left < right:\n",
    "            if height[left] < height[right]:\n",
    "                left += 1\n",
    "                left_max = max(left_max, height[left])\n",
    "                water += left_max - height[left]\n",
    "            else:\n",
    "                right -= 1\n",
    "                right_max = max(right_max, height[right])\n",
    "                water += right_max - height[right]\n",
    "        return water\n",
    "\n",
    "solution = Solution()\n",
    "print(solution.trap([0,1,0,2,1,0,1,3,2,1,2,1])) # 6\n",
    "print(solution.trap([4,2,0,3,2,5])) # 9\n",
    "print(solution.trap([4,2,0,3,2,5,1])) # 9\n",
    "                "
   ],
   "metadata": {
    "collapsed": false,
    "ExecuteTime": {
     "end_time": "2024-06-20T16:35:55.342695Z",
     "start_time": "2024-06-20T16:35:55.336605Z"
    }
   },
   "id": "d08e2c49e27441a1",
   "execution_count": 4
  },
  {
   "cell_type": "code",
   "outputs": [],
   "source": [],
   "metadata": {
    "collapsed": false
   },
   "id": "8e01a741cb89b1a0"
  }
 ],
 "metadata": {
  "kernelspec": {
   "display_name": "Python 3",
   "language": "python",
   "name": "python3"
  },
  "language_info": {
   "codemirror_mode": {
    "name": "ipython",
    "version": 2
   },
   "file_extension": ".py",
   "mimetype": "text/x-python",
   "name": "python",
   "nbconvert_exporter": "python",
   "pygments_lexer": "ipython2",
   "version": "2.7.6"
  }
 },
 "nbformat": 4,
 "nbformat_minor": 5
}
