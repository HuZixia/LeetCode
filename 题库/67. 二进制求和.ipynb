{
 "cells": [
  {
   "cell_type": "raw",
   "source": [
    "67. 二进制求和\n",
    "已解答\n",
    "简单\n",
    "相关标签\n",
    "相关企业\n",
    "给你两个二进制字符串 a 和 b ，以二进制字符串的形式返回它们的和。\n",
    "\n",
    " \n",
    "\n",
    "示例 1：\n",
    "\n",
    "输入:a = \"11\", b = \"1\"\n",
    "输出：\"100\"\n",
    "示例 2：\n",
    "\n",
    "输入：a = \"1010\", b = \"1011\"\n",
    "输出：\"10101\"\n",
    " \n",
    "\n",
    "提示：\n",
    "\n",
    "1 <= a.length, b.length <= 104\n",
    "a 和 b 仅由字符 '0' 或 '1' 组成\n",
    "字符串如果不是 \"0\" ，就不含前导零\n"
   ],
   "metadata": {
    "collapsed": false
   },
   "id": "73834310a8cabe11"
  },
  {
   "cell_type": "code",
   "outputs": [
    {
     "name": "stdout",
     "output_type": "stream",
     "text": [
      "100\n",
      "10101\n",
      "0\n",
      "11110\n"
     ]
    }
   ],
   "source": [
    "class Solution:\n",
    "    def addBinary(self, a, b):\n",
    "        i, j = len(a) - 1, len(b) - 1\n",
    "        carry = 0\n",
    "        result = []\n",
    "        \n",
    "        while i >= 0 or j >= 0 or carry:\n",
    "            if i >= 0:\n",
    "                carry += int(a[i])\n",
    "                i -= 1\n",
    "            if j >= 0:\n",
    "                carry += int(b[j])\n",
    "                j -= 1\n",
    "            result.append(str(carry%2))\n",
    "            carry //= 2\n",
    "        return ''.join(result[::-1])\n",
    "    \n",
    "solution = Solution()\n",
    "print(solution.addBinary(\"11\", \"1\")) # \"100\"\n",
    "print(solution.addBinary(\"1010\", \"1011\")) # \"10101\"\n",
    "print(solution.addBinary(\"0\", \"0\")) # \"0\"\n",
    "print(solution.addBinary(\"1111\", \"1111\")) # \"11110\""
   ],
   "metadata": {
    "collapsed": false,
    "ExecuteTime": {
     "end_time": "2024-06-26T13:24:11.510596Z",
     "start_time": "2024-06-26T13:24:11.505387Z"
    }
   },
   "id": "d0bfa5bfe8376fe5",
   "execution_count": 1
  },
  {
   "cell_type": "code",
   "outputs": [],
   "source": [],
   "metadata": {
    "collapsed": false
   },
   "id": "6b29f3f54a64a100"
  }
 ],
 "metadata": {
  "kernelspec": {
   "display_name": "Python 3",
   "language": "python",
   "name": "python3"
  },
  "language_info": {
   "codemirror_mode": {
    "name": "ipython",
    "version": 2
   },
   "file_extension": ".py",
   "mimetype": "text/x-python",
   "name": "python",
   "nbconvert_exporter": "python",
   "pygments_lexer": "ipython2",
   "version": "2.7.6"
  }
 },
 "nbformat": 4,
 "nbformat_minor": 5
}
