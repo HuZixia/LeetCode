{
 "cells": [
  {
   "cell_type": "raw",
   "source": [
    "91. 解码方法\n",
    "已解答\n",
    "中等\n",
    "相关标签\n",
    "相关企业\n",
    "一条包含字母 A-Z 的消息通过以下映射进行了 编码 ：\n",
    "\n",
    "'A' -> \"1\"\n",
    "'B' -> \"2\"\n",
    "...\n",
    "'Z' -> \"26\"\n",
    "要 解码 已编码的消息，所有数字必须基于上述映射的方法，反向映射回字母（可能有多种方法）。例如，\"11106\" 可以映射为：\n",
    "\n",
    "\"AAJF\" ，将消息分组为 (1 1 10 6)\n",
    "\"KJF\" ，将消息分组为 (11 10 6)\n",
    "注意，消息不能分组为  (1 11 06) ，因为 \"06\" 不能映射为 \"F\" ，这是由于 \"6\" 和 \"06\" 在映射中并不等价。\n",
    "\n",
    "给你一个只含数字的 非空 字符串 s ，请计算并返回 解码 方法的 总数 。\n",
    "\n",
    "题目数据保证答案肯定是一个 32 位 的整数。\n",
    "\n",
    " \n",
    "\n",
    "示例 1：\n",
    "\n",
    "输入：s = \"12\"\n",
    "输出：2\n",
    "解释：它可以解码为 \"AB\"（1 2）或者 \"L\"（12）。\n",
    "示例 2：\n",
    "\n",
    "输入：s = \"226\"\n",
    "输出：3\n",
    "解释：它可以解码为 \"BZ\" (2 26), \"VF\" (22 6), 或者 \"BBF\" (2 2 6) 。\n",
    "示例 3：\n",
    "\n",
    "输入：s = \"06\"\n",
    "输出：0\n",
    "解释：\"06\" 无法映射到 \"F\" ，因为存在前导零（\"6\" 和 \"06\" 并不等价）。\n",
    " \n",
    "\n",
    "提示：\n",
    "\n",
    "1 <= s.length <= 100\n",
    "s 只包含数字，并且可能包含前导零。"
   ],
   "metadata": {
    "collapsed": false
   },
   "id": "9f4d284bf0c2e0ca"
  },
  {
   "cell_type": "code",
   "outputs": [
    {
     "name": "stdout",
     "output_type": "stream",
     "text": [
      "2\n",
      "3\n",
      "0\n",
      "1\n",
      "3\n"
     ]
    }
   ],
   "source": [
    "# 动态规划\n",
    "\n",
    "class Solution(object):\n",
    "    def numDecodings(self, s):\n",
    "        if not s or s[0] == '0':\n",
    "            return 0\n",
    "        \n",
    "        n = len(s)\n",
    "        dp = [0] * (n+1)\n",
    "        dp[0] = 1\n",
    "        dp[1] = 1\n",
    "        \n",
    "        for i in range(2, n+1):\n",
    "            if 1<= int(s[i-1:i]) <= 9:\n",
    "                dp[i] += dp[i-1]\n",
    "            if 10 <= int(s[i-2:i]) <= 26:\n",
    "                dp[i] += dp[i-2]\n",
    "        return dp[n]\n",
    "    \n",
    "solution = Solution()\n",
    "print(solution.numDecodings(\"12\"))\n",
    "print(solution.numDecodings(\"226\"))\n",
    "print(solution.numDecodings(\"06\"))\n",
    "print(solution.numDecodings(\"101\"))\n",
    "print(solution.numDecodings(\"111\"))\n",
    "            "
   ],
   "metadata": {
    "collapsed": false,
    "ExecuteTime": {
     "end_time": "2024-06-28T16:30:39.213815Z",
     "start_time": "2024-06-28T16:30:39.207954Z"
    }
   },
   "id": "e76c93fe0d994a03",
   "execution_count": 2
  },
  {
   "cell_type": "code",
   "outputs": [],
   "source": [],
   "metadata": {
    "collapsed": false
   },
   "id": "d750498b3be51361"
  }
 ],
 "metadata": {
  "kernelspec": {
   "display_name": "Python 3",
   "language": "python",
   "name": "python3"
  },
  "language_info": {
   "codemirror_mode": {
    "name": "ipython",
    "version": 2
   },
   "file_extension": ".py",
   "mimetype": "text/x-python",
   "name": "python",
   "nbconvert_exporter": "python",
   "pygments_lexer": "ipython2",
   "version": "2.7.6"
  }
 },
 "nbformat": 4,
 "nbformat_minor": 5
}
