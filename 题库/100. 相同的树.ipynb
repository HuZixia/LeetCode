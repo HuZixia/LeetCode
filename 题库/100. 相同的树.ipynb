{
 "cells": [
  {
   "cell_type": "raw",
   "source": [
    "100. 相同的树\n",
    "已解答\n",
    "简单\n",
    "相关标签\n",
    "相关企业\n",
    "给你两棵二叉树的根节点 p 和 q ，编写一个函数来检验这两棵树是否相同。\n",
    "\n",
    "如果两个树在结构上相同，并且节点具有相同的值，则认为它们是相同的。\n",
    "\n",
    " \n",
    "\n",
    "示例 1：\n",
    "\n",
    "\n",
    "输入：p = [1,2,3], q = [1,2,3]\n",
    "输出：true\n",
    "示例 2：\n",
    "\n",
    "\n",
    "输入：p = [1,2], q = [1,null,2]\n",
    "输出：false\n",
    "示例 3：\n",
    "\n",
    "\n",
    "输入：p = [1,2,1], q = [1,1,2]\n",
    "输出：false\n",
    " \n",
    "\n",
    "提示：\n",
    "\n",
    "两棵树上的节点数目都在范围 [0, 100] 内\n",
    "-104 <= Node.val <= 104"
   ],
   "metadata": {
    "collapsed": false
   },
   "id": "d9537c6384b72db7"
  },
  {
   "cell_type": "code",
   "outputs": [
    {
     "name": "stdout",
     "output_type": "stream",
     "text": [
      "True\n",
      "False\n",
      "False\n"
     ]
    }
   ],
   "source": [
    "class TreeNode(object):\n",
    "    def __init__(self, val=0, left=None, right=None):\n",
    "        self.val = val\n",
    "        self.left = left\n",
    "        self.right = right\n",
    "\n",
    "class Solution(object):\n",
    "    def isSameTree(self, p, q):\n",
    "        # 如果两棵树为空，返回True\n",
    "        if not p and not q:\n",
    "            return True\n",
    "        # 如果两棵树有一个为空，另一个不为空，返回False\n",
    "        if not p or not q:\n",
    "            return False\n",
    "        # 如果两个节点的值不同，返回False\n",
    "        if p.val != q.val:\n",
    "            return False\n",
    "        # 递归比较左子树和右子树\n",
    "        return self.isSameTree(p.left, q.left) and self.isSameTree(p.right, q.right)\n",
    "\n",
    "\n",
    "def list2TreeNode(nums):\n",
    "    if not nums:\n",
    "        return None\n",
    "    root = TreeNode(nums[0])\n",
    "    queue = [root]\n",
    "    index = 1\n",
    "    while index < len(nums):\n",
    "        node = queue[0]\n",
    "        if index < len(nums) and nums[index] is not None:\n",
    "            node.left = TreeNode(nums[index])\n",
    "            queue.append(node.left)\n",
    "        index += 1\n",
    "        if index < len(nums) and nums[index] is not None:\n",
    "            node.right = TreeNode(nums[index])\n",
    "            queue.append(node.right)\n",
    "        index += 1\n",
    "    return root\n",
    "\n",
    "\n",
    "\n",
    "solution = Solution()\n",
    "print(solution.isSameTree(list2TreeNode([1,2,3]), list2TreeNode([1,2,3])))  # 输出：True\n",
    "print(solution.isSameTree(list2TreeNode([1,2]), list2TreeNode([1,None,2])))  # 输出：False\n",
    "print(solution.isSameTree(list2TreeNode([1,2,1]), list2TreeNode([1,1,2])))  # 输出：False\n"
   ],
   "metadata": {
    "collapsed": false,
    "ExecuteTime": {
     "end_time": "2024-06-30T10:15:07.858604Z",
     "start_time": "2024-06-30T10:15:07.851820Z"
    }
   },
   "id": "52a03262599675c9",
   "execution_count": 1
  },
  {
   "cell_type": "code",
   "outputs": [],
   "source": [],
   "metadata": {
    "collapsed": false
   },
   "id": "8de8dcb73c27eca3"
  }
 ],
 "metadata": {
  "kernelspec": {
   "display_name": "Python 3",
   "language": "python",
   "name": "python3"
  },
  "language_info": {
   "codemirror_mode": {
    "name": "ipython",
    "version": 2
   },
   "file_extension": ".py",
   "mimetype": "text/x-python",
   "name": "python",
   "nbconvert_exporter": "python",
   "pygments_lexer": "ipython2",
   "version": "2.7.6"
  }
 },
 "nbformat": 4,
 "nbformat_minor": 5
}
