{
 "cells": [
  {
   "cell_type": "raw",
   "source": [
    "39. 组合总和\n",
    "已解答\n",
    "中等\n",
    "相关标签\n",
    "相关企业\n",
    "给你一个 无重复元素 的整数数组 candidates 和一个目标整数 target ，找出 candidates 中可以使数字和为目标数 target 的 所有 不同组合 ，并以列表形式返回。你可以按 任意顺序 返回这些组合。\n",
    "\n",
    "candidates 中的 同一个 数字可以 无限制重复被选取 。如果至少一个数字的被选数量不同，则两种组合是不同的。 \n",
    "\n",
    "对于给定的输入，保证和为 target 的不同组合数少于 150 个。\n",
    "\n",
    " \n",
    "\n",
    "示例 1：\n",
    "\n",
    "输入：candidates = [2,3,6,7], target = 7\n",
    "输出：[[2,2,3],[7]]\n",
    "解释：\n",
    "2 和 3 可以形成一组候选，2 + 2 + 3 = 7 。注意 2 可以使用多次。\n",
    "7 也是一个候选， 7 = 7 。\n",
    "仅有这两种组合。\n",
    "示例 2：\n",
    "\n",
    "输入: candidates = [2,3,5], target = 8\n",
    "输出: [[2,2,2,2],[2,3,3],[3,5]]\n",
    "示例 3：\n",
    "\n",
    "输入: candidates = [2], target = 1\n",
    "输出: []\n",
    " \n",
    "\n",
    "提示：\n",
    "\n",
    "1 <= candidates.length <= 30\n",
    "2 <= candidates[i] <= 40\n",
    "candidates 的所有元素 互不相同\n",
    "1 <= target <= 40"
   ],
   "metadata": {
    "collapsed": false
   },
   "id": "c1e438d89ccc6388"
  },
  {
   "cell_type": "code",
   "outputs": [
    {
     "name": "stdout",
     "output_type": "stream",
     "text": [
      "[[2, 2, 3], [7]]\n",
      "[[2, 2, 2, 2], [2, 3, 3], [3, 5]]\n",
      "[]\n"
     ]
    }
   ],
   "source": [
    "# 使用回溯算法解决这个问题，通过递归来探索每一种可能的组合，直到组合的和等于或者超过目标值\n",
    "\n",
    "class Solution(object):\n",
    "    def combinationSum(self, candidates, target):\n",
    "        result = []\n",
    "        def backtrack(start, path, target):\n",
    "            if target < 0:\n",
    "                return\n",
    "            if target == 0:\n",
    "                result.append(path)\n",
    "                return\n",
    "            for i in range(start, len(candidates)):\n",
    "                backtrack(i, path + [candidates[i]], target - candidates[i])\n",
    "        \n",
    "    \n",
    "        backtrack(0, [], target)\n",
    "        return result\n",
    "    \n",
    "solution = Solution()\n",
    "print(solution.combinationSum([2,3,6,7], 7)) # [[2,2,3],[7]]\n",
    "print(solution.combinationSum([2,3,5], 8)) # [[2,2,2,2],[2,3,3],[3,5]]\n",
    "print(solution.combinationSum([2], 1)) # []"
   ],
   "metadata": {
    "collapsed": false,
    "ExecuteTime": {
     "end_time": "2024-06-20T15:08:05.915333Z",
     "start_time": "2024-06-20T15:08:05.909570Z"
    }
   },
   "id": "97d38684feaaacfb",
   "execution_count": 2
  },
  {
   "cell_type": "code",
   "outputs": [],
   "source": [],
   "metadata": {
    "collapsed": false
   },
   "id": "b0c8f93b1d18930f"
  }
 ],
 "metadata": {
  "kernelspec": {
   "display_name": "Python 3",
   "language": "python",
   "name": "python3"
  },
  "language_info": {
   "codemirror_mode": {
    "name": "ipython",
    "version": 2
   },
   "file_extension": ".py",
   "mimetype": "text/x-python",
   "name": "python",
   "nbconvert_exporter": "python",
   "pygments_lexer": "ipython2",
   "version": "2.7.6"
  }
 },
 "nbformat": 4,
 "nbformat_minor": 5
}
