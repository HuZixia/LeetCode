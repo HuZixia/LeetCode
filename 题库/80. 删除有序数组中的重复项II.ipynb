{
 "cells": [
  {
   "cell_type": "code",
   "execution_count": null,
   "id": "initial_id",
   "metadata": {
    "collapsed": true
   },
   "outputs": [],
   "source": []
  },
  {
   "cell_type": "raw",
   "source": [
    "\n",
    "代码\n",
    "测试结果\n",
    "测试用例\n",
    "测试用例\n",
    "80. 删除有序数组中的重复项 II\n",
    "已解答\n",
    "中等\n",
    "相关标签\n",
    "相关企业\n",
    "给你一个有序数组 nums ，请你 原地 删除重复出现的元素，使得出现次数超过两次的元素只出现两次 ，返回删除后数组的新长度。\n",
    "\n",
    "不要使用额外的数组空间，你必须在 原地 修改输入数组 并在使用 O(1) 额外空间的条件下完成。\n",
    "\n",
    " \n",
    "\n",
    "说明：\n",
    "\n",
    "为什么返回数值是整数，但输出的答案是数组呢？\n",
    "\n",
    "请注意，输入数组是以「引用」方式传递的，这意味着在函数里修改输入数组对于调用者是可见的。\n",
    "\n",
    "你可以想象内部操作如下:\n",
    "\n",
    "// nums 是以“引用”方式传递的。也就是说，不对实参做任何拷贝\n",
    "int len = removeDuplicates(nums);\n",
    "\n",
    "// 在函数里修改输入数组对于调用者是可见的。\n",
    "// 根据你的函数返回的长度, 它会打印出数组中 该长度范围内 的所有元素。\n",
    "for (int i = 0; i < len; i++) {\n",
    "    print(nums[i]);\n",
    "}\n",
    " \n",
    "\n",
    "示例 1：\n",
    "\n",
    "输入：nums = [1,1,1,2,2,3]\n",
    "输出：5, nums = [1,1,2,2,3]\n",
    "解释：函数应返回新长度 length = 5, 并且原数组的前五个元素被修改为 1, 1, 2, 2, 3。 不需要考虑数组中超出新长度后面的元素。\n",
    "示例 2：\n",
    "\n",
    "输入：nums = [0,0,1,1,1,1,2,3,3]\n",
    "输出：7, nums = [0,0,1,1,2,3,3]\n",
    "解释：函数应返回新长度 length = 7, 并且原数组的前七个元素被修改为 0, 0, 1, 1, 2, 3, 3。不需要考虑数组中超出新长度后面的元素。\n",
    " \n",
    "\n",
    "提示：\n",
    "\n",
    "1 <= nums.length <= 3 * 104\n",
    "-104 <= nums[i] <= 104\n",
    "nums 已按升序排列"
   ],
   "metadata": {
    "collapsed": false
   },
   "id": "36a1ca32168cd092"
  },
  {
   "cell_type": "code",
   "outputs": [
    {
     "name": "stdout",
     "output_type": "stream",
     "text": [
      "5\n",
      "7\n",
      "2\n"
     ]
    }
   ],
   "source": [
    "# 双指针法\n",
    "\n",
    "class Solution(object):\n",
    "    def removeDuplicates(self, nums):\n",
    "        if len(nums) <= 2:\n",
    "            return len(nums)\n",
    "        \n",
    "        slow = 2\n",
    "        for fast in range(2, len(nums)):\n",
    "            if nums[fast] != nums[slow -2]:\n",
    "                nums[slow] = nums[fast]\n",
    "                slow += 1\n",
    "        \n",
    "        return slow\n",
    "    \n",
    "solution = Solution()\n",
    "print(solution.removeDuplicates([1,1,1,2,2,3])) # 5, [1,1,2,2,3]\n",
    "print(solution.removeDuplicates([0,0,1,1,1,1,2,3,3])) # 7, [0,0,1,1,2,3,3]\n",
    "print(solution.removeDuplicates([1,1,1,1,1,1,1,1,1]))"
   ],
   "metadata": {
    "collapsed": false,
    "ExecuteTime": {
     "end_time": "2024-06-27T16:10:32.766800Z",
     "start_time": "2024-06-27T16:10:32.761835Z"
    }
   },
   "id": "9e50a4635996509e",
   "execution_count": 1
  },
  {
   "cell_type": "code",
   "outputs": [],
   "source": [],
   "metadata": {
    "collapsed": false
   },
   "id": "a5010b59196d1a5a"
  }
 ],
 "metadata": {
  "kernelspec": {
   "display_name": "Python 3",
   "language": "python",
   "name": "python3"
  },
  "language_info": {
   "codemirror_mode": {
    "name": "ipython",
    "version": 2
   },
   "file_extension": ".py",
   "mimetype": "text/x-python",
   "name": "python",
   "nbconvert_exporter": "python",
   "pygments_lexer": "ipython2",
   "version": "2.7.6"
  }
 },
 "nbformat": 4,
 "nbformat_minor": 5
}
