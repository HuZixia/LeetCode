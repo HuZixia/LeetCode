{
 "cells": [
  {
   "cell_type": "raw",
   "source": [
    "66. 加一\n",
    "已解答\n",
    "简单\n",
    "相关标签\n",
    "相关企业\n",
    "给定一个由 整数 组成的 非空 数组所表示的非负整数，在该数的基础上加一。\n",
    "\n",
    "最高位数字存放在数组的首位， 数组中每个元素只存储单个数字。\n",
    "\n",
    "你可以假设除了整数 0 之外，这个整数不会以零开头。\n",
    "\n",
    " \n",
    "\n",
    "示例 1：\n",
    "\n",
    "输入：digits = [1,2,3]\n",
    "输出：[1,2,4]\n",
    "解释：输入数组表示数字 123。\n",
    "示例 2：\n",
    "\n",
    "输入：digits = [4,3,2,1]\n",
    "输出：[4,3,2,2]\n",
    "解释：输入数组表示数字 4321。\n",
    "示例 3：\n",
    "\n",
    "输入：digits = [0]\n",
    "输出：[1]\n",
    " \n",
    "\n",
    "提示：\n",
    "\n",
    "1 <= digits.length <= 100\n",
    "0 <= digits[i] <= 9\n"
   ],
   "metadata": {
    "collapsed": false
   },
   "id": "a53d2f9d45f1e1cd"
  },
  {
   "cell_type": "code",
   "outputs": [
    {
     "name": "stdout",
     "output_type": "stream",
     "text": [
      "[1, 2, 4]\n",
      "[4, 3, 2, 2]\n",
      "[1]\n",
      "[1, 0]\n"
     ]
    }
   ],
   "source": [
    "class Solution(object):\n",
    "    def plusOne(self, digits):\n",
    "        for i in range(len(digits) - 1, -1, -1):\n",
    "            digits[i] += 1\n",
    "            if digits[i] < 10:\n",
    "                return digits\n",
    "            digits[i] = 0\n",
    "        return [1] + digits\n",
    "           \n",
    "\n",
    "solution = Solution()\n",
    "print(solution.plusOne([1,2,3])) # [1,2,4]\n",
    "print(solution.plusOne([4,3,2,1])) # [4,3,2,2]\n",
    "print(solution.plusOne([0])) # [1]\n",
    "print(solution.plusOne([9])) # [1, 0]"
   ],
   "metadata": {
    "collapsed": false,
    "ExecuteTime": {
     "end_time": "2024-06-26T13:07:17.670245Z",
     "start_time": "2024-06-26T13:07:17.664863Z"
    }
   },
   "id": "6e453adddbc2486f",
   "execution_count": 1
  },
  {
   "cell_type": "code",
   "outputs": [],
   "source": [],
   "metadata": {
    "collapsed": false
   },
   "id": "dd8c27e62062d004"
  }
 ],
 "metadata": {
  "kernelspec": {
   "display_name": "Python 3",
   "language": "python",
   "name": "python3"
  },
  "language_info": {
   "codemirror_mode": {
    "name": "ipython",
    "version": 2
   },
   "file_extension": ".py",
   "mimetype": "text/x-python",
   "name": "python",
   "nbconvert_exporter": "python",
   "pygments_lexer": "ipython2",
   "version": "2.7.6"
  }
 },
 "nbformat": 4,
 "nbformat_minor": 5
}
