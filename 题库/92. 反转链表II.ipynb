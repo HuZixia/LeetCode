{
 "cells": [
  {
   "cell_type": "raw",
   "source": [
    "92. 反转链表 II\n",
    "已解答\n",
    "中等\n",
    "相关标签\n",
    "相关企业\n",
    "给你单链表的头指针 head 和两个整数 left 和 right ，其中 left <= right 。请你反转从位置 left 到位置 right 的链表节点，返回 反转后的链表 。\n",
    " \n",
    "\n",
    "示例 1：\n",
    "\n",
    "\n",
    "输入：head = [1,2,3,4,5], left = 2, right = 4\n",
    "输出：[1,4,3,2,5]\n",
    "示例 2：\n",
    "\n",
    "输入：head = [5], left = 1, right = 1\n",
    "输出：[5]\n",
    " \n",
    "\n",
    "提示：\n",
    "\n",
    "链表中节点数目为 n\n",
    "1 <= n <= 500\n",
    "-500 <= Node.val <= 500\n",
    "1 <= left <= right <= n\n",
    " \n",
    "\n",
    "进阶： 你可以使用一趟扫描完成反转吗？"
   ],
   "metadata": {
    "collapsed": false
   },
   "id": "127259be21affc70"
  },
  {
   "cell_type": "code",
   "outputs": [
    {
     "name": "stdout",
     "output_type": "stream",
     "text": [
      "[1, 4, 3, 2, 5]\n",
      "[5]\n",
      "[5, 4, 3, 2, 1]\n"
     ]
    }
   ],
   "source": [
    "# 一次遍历穿针引线，反转链表，头插法\n",
    "\n",
    "class ListNode(object):\n",
    "    def __init__(self, val=0, next=None):\n",
    "        self.val = val\n",
    "        self.next = next\n",
    "        \n",
    "class Solution(object):\n",
    "    def reverseBetween(self, head, left, right):\n",
    "        dummy = ListNode(0)\n",
    "        dummy.next = head\n",
    "        pre = dummy\n",
    "        # 找到left节点的前一个节点 pre\n",
    "        for _ in range(left - 1):\n",
    "            pre = pre.next\n",
    "            \n",
    "        cur = pre.next\n",
    "        \n",
    "        # 反转[left, right]范围内的节点\n",
    "        for _ in range(right - left):\n",
    "            # 保 cur.next 节点，用于后续插入\n",
    "            nxt = cur.next\n",
    "            # 将当前节点 cur.next 指向 nxt.next，即反转链表\n",
    "            cur.next = nxt.next\n",
    "            # 将 nxt 插入到 pre 之后，nxt.next 指向 pre.next\n",
    "            nxt.next = pre.next\n",
    "            # 将 pre 的下一个节点 指向 nxt，完成插入\n",
    "            pre.next = nxt\n",
    "        \n",
    "        return dummy.next\n",
    "    \n",
    "def List2ListNode(nums):\n",
    "    dummy = ListNode(0)\n",
    "    cur = dummy\n",
    "    for num in nums:\n",
    "        cur.next = ListNode(num)\n",
    "        cur = cur.next\n",
    "    return dummy.next\n",
    "\n",
    "def printListNode(head):\n",
    "    result = []\n",
    "    while head:\n",
    "        result.append(head.val)\n",
    "        head = head.next\n",
    "    print(result)\n",
    "\n",
    "\n",
    "solution = Solution()\n",
    "printListNode(solution.reverseBetween(List2ListNode([1,2,3,4,5]), 2, 4)) # [1,4,3,2,5]\n",
    "printListNode(solution.reverseBetween(List2ListNode([5]), 1, 1)) # [5]\n",
    "printListNode(solution.reverseBetween(List2ListNode([1,2,3,4,5]), 1, 5)) # [5,4,3,2,1]\n",
    "            \n",
    "            \n",
    "            \n",
    "            \n",
    "        "
   ],
   "metadata": {
    "collapsed": false,
    "ExecuteTime": {
     "end_time": "2024-06-28T18:35:00.183265Z",
     "start_time": "2024-06-28T18:35:00.178136Z"
    }
   },
   "id": "92bcabf4840f7b2",
   "execution_count": 1
  },
  {
   "cell_type": "code",
   "outputs": [],
   "source": [],
   "metadata": {
    "collapsed": false
   },
   "id": "e9491f60eeca9529"
  }
 ],
 "metadata": {
  "kernelspec": {
   "display_name": "Python 3",
   "language": "python",
   "name": "python3"
  },
  "language_info": {
   "codemirror_mode": {
    "name": "ipython",
    "version": 2
   },
   "file_extension": ".py",
   "mimetype": "text/x-python",
   "name": "python",
   "nbconvert_exporter": "python",
   "pygments_lexer": "ipython2",
   "version": "2.7.6"
  }
 },
 "nbformat": 4,
 "nbformat_minor": 5
}
