{
 "cells": [
  {
   "cell_type": "raw",
   "source": [
    "55. 跳跃游戏\n",
    "已解答\n",
    "中等\n",
    "相关标签\n",
    "相关企业\n",
    "给你一个非负整数数组 nums ，你最初位于数组的 第一个下标 。数组中的每个元素代表你在该位置可以跳跃的最大长度。\n",
    "\n",
    "判断你是否能够到达最后一个下标，如果可以，返回 true ；否则，返回 false 。\n",
    "\n",
    " \n",
    "\n",
    "示例 1：\n",
    "\n",
    "输入：nums = [2,3,1,1,4]\n",
    "输出：true\n",
    "解释：可以先跳 1 步，从下标 0 到达下标 1, 然后再从下标 1 跳 3 步到达最后一个下标。\n",
    "示例 2：\n",
    "\n",
    "输入：nums = [3,2,1,0,4]\n",
    "输出：false\n",
    "解释：无论怎样，总会到达下标为 3 的位置。但该下标的最大跳跃长度是 0 ， 所以永远不可能到达最后一个下标。\n",
    " \n",
    "\n",
    "提示：\n",
    "\n",
    "1 <= nums.length <= 104\n",
    "0 <= nums[i] <= 105"
   ],
   "metadata": {
    "collapsed": false
   },
   "id": "5df6244b44eb26c4"
  },
  {
   "cell_type": "code",
   "outputs": [
    {
     "name": "stdout",
     "output_type": "stream",
     "text": [
      "True\n",
      "False\n"
     ]
    }
   ],
   "source": [
    "# 贪心算法\n",
    "\n",
    "class Solution(object):\n",
    "    def canJump(self, nums):\n",
    "        max_reachable = 0\n",
    "        for i,jump in enumerate(nums):\n",
    "            # 如果当前位置超过了 max_reachable, 说明无法到达当前位置\n",
    "            if i > max_reachable:\n",
    "                return False\n",
    "            max_reachable = max(max_reachable, i + jump)\n",
    "        return max_reachable >= len(nums) - 1\n",
    "    \n",
    "solution = Solution()\n",
    "print(solution.canJump([2,3,1,1,4])) # True\n",
    "print(solution.canJump([3,2,1,0,4])) # False"
   ],
   "metadata": {
    "collapsed": false,
    "ExecuteTime": {
     "end_time": "2024-06-22T17:45:08.610830Z",
     "start_time": "2024-06-22T17:45:08.607303Z"
    }
   },
   "id": "9477d90f86376961",
   "execution_count": 3
  },
  {
   "cell_type": "code",
   "outputs": [],
   "source": [
    "r"
   ],
   "metadata": {
    "collapsed": false
   },
   "id": "9c509e0e3803bab3"
  }
 ],
 "metadata": {
  "kernelspec": {
   "display_name": "Python 3",
   "language": "python",
   "name": "python3"
  },
  "language_info": {
   "codemirror_mode": {
    "name": "ipython",
    "version": 2
   },
   "file_extension": ".py",
   "mimetype": "text/x-python",
   "name": "python",
   "nbconvert_exporter": "python",
   "pygments_lexer": "ipython2",
   "version": "2.7.6"
  }
 },
 "nbformat": 4,
 "nbformat_minor": 5
}
