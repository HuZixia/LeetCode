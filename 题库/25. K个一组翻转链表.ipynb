{
 "cells": [
  {
   "cell_type": "code",
   "execution_count": null,
   "id": "initial_id",
   "metadata": {
    "collapsed": true
   },
   "outputs": [],
   "source": []
  },
  {
   "cell_type": "raw",
   "source": [
    "25. K 个一组翻转链表\n",
    "已解答\n",
    "困难\n",
    "相关标签\n",
    "相关企业\n",
    "给你链表的头节点 head ，每 k 个节点一组进行翻转，请你返回修改后的链表。\n",
    "\n",
    "k 是一个正整数，它的值小于或等于链表的长度。如果节点总数不是 k 的整数倍，那么请将最后剩余的节点保持原有顺序。\n",
    "\n",
    "你不能只是单纯的改变节点内部的值，而是需要实际进行节点交换。\n",
    "\n",
    " \n",
    "\n",
    "示例 1：\n",
    "\n",
    "\n",
    "输入：head = [1,2,3,4,5], k = 2\n",
    "输出：[2,1,4,3,5]\n",
    "示例 2：\n",
    "\n",
    "\n",
    "\n",
    "输入：head = [1,2,3,4,5], k = 3\n",
    "输出：[3,2,1,4,5]\n",
    " \n",
    "\n",
    "提示：\n",
    "链表中的节点数目为 n\n",
    "1 <= k <= n <= 5000\n",
    "0 <= Node.val <= 1000\n",
    " \n",
    "\n",
    "进阶：你可以设计一个只用 O(1) 额外内存空间的算法解决此问题吗？"
   ],
   "metadata": {
    "collapsed": false
   },
   "id": "2760910ffe1a1e3d"
  },
  {
   "cell_type": "code",
   "outputs": [
    {
     "name": "stdout",
     "output_type": "stream",
     "text": [
      "[2, 1, 4, 3, 5]\n",
      "[3, 2, 1, 4, 5]\n",
      "[3, 2, 1, 6, 5, 4, 9, 8, 7, 10]\n"
     ]
    }
   ],
   "source": [
    "class ListNode(object):\n",
    "    def __init__(self, val=0, next=None):\n",
    "        self.val = val\n",
    "        self.next = next\n",
    "\n",
    "class Solution(object):\n",
    "    def reverseKGroup(self, head, k):\n",
    "        dummy = ListNode(0)\n",
    "        dummy.next = head\n",
    "        prev = dummy\n",
    "        \n",
    "        while True:\n",
    "            # 检查是否有足够的节点进行翻转\n",
    "            # pre为当前组之前的那个节点\n",
    "            tail = prev\n",
    "            # tail在for循环后指向当前组的最后一个节点\n",
    "            for i in range(k):\n",
    "                tail = tail.next\n",
    "                if not tail:\n",
    "                    return dummy.next\n",
    "            \n",
    "            # 记录下一个组的头节点\n",
    "            next_group_head = tail.next\n",
    "            \n",
    "            # 翻转当前组的节点\n",
    "            prev_next = prev.next # 保存当前组的第一个节点\n",
    "            tail.next = None # 断开当前组与后续节点的连接\n",
    "            prev.next = self.reverse(prev_next) # prev.next 指向翻转后的当前组的头节点\n",
    "            \n",
    "            # 连接翻转后的组与下一个组\n",
    "            prev_next.next = next_group_head # 原来的当前组的第一个节点指向下一个组的头节点\n",
    "            prev = prev_next # prev 指向 prev_next，即翻转后当前组的最后一个节点\n",
    "        \n",
    "    def reverse(self, head):\n",
    "        prev = None\n",
    "        curr = head \n",
    "        while curr:\n",
    "            # 保存当前节点的下一个节点\n",
    "            next_node = curr.next\n",
    "            # 翻转当前节点的指针\n",
    "            curr.next = prev\n",
    "            # 移动 prev 和 curr 指针\n",
    "            prev = curr\n",
    "            curr = next_node\n",
    "        return prev\n",
    "    \n",
    "\n",
    "def listToListNode(nums):\n",
    "    dummy = ListNode(0)\n",
    "    current = dummy \n",
    "    for num in nums:\n",
    "        current.next = ListNode(num)\n",
    "        current = current.next\n",
    "    return dummy.next\n",
    "\n",
    "def printListNode(node):\n",
    "    result = []\n",
    "    while node:\n",
    "        result.append(node.val)\n",
    "        node = node.next\n",
    "    print(result)\n",
    "\n",
    "printListNode(Solution().reverseKGroup(listToListNode([1,2,3,4,5]), 2)) # [2,1,4,3,5]\n",
    "printListNode(Solution().reverseKGroup(listToListNode([1,2,3,4,5]), 3)) # [3,2,1,4,5]\n",
    "printListNode(Solution().reverseKGroup(listToListNode([1,2,3,4,5,6,7,8,9,10]), 3)) # [3,2,1,6,5,4,9,8,7,10]"
   ],
   "metadata": {
    "collapsed": false,
    "ExecuteTime": {
     "end_time": "2024-06-19T12:20:01.560471Z",
     "start_time": "2024-06-19T12:20:01.554597Z"
    }
   },
   "id": "5019eaa05fb0182",
   "execution_count": 4
  },
  {
   "cell_type": "code",
   "outputs": [],
   "source": [],
   "metadata": {
    "collapsed": false
   },
   "id": "b592e1459928cb8b"
  }
 ],
 "metadata": {
  "kernelspec": {
   "display_name": "Python 3",
   "language": "python",
   "name": "python3"
  },
  "language_info": {
   "codemirror_mode": {
    "name": "ipython",
    "version": 2
   },
   "file_extension": ".py",
   "mimetype": "text/x-python",
   "name": "python",
   "nbconvert_exporter": "python",
   "pygments_lexer": "ipython2",
   "version": "2.7.6"
  }
 },
 "nbformat": 4,
 "nbformat_minor": 5
}
