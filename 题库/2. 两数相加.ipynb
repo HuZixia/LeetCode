{
 "cells": [
  {
   "cell_type": "raw",
   "source": [
    "两数相加\n",
    "中等\n",
    "相关标签\n",
    "相关企业\n",
    "给你两个 非空 的链表，表示两个非负的整数。它们每位数字都是按照 逆序 的方式存储的，并且每个节点只能存储 一位 数字。\n",
    "\n",
    "请你将两个数相加，并以相同形式返回一个表示和的链表。\n",
    "\n",
    "你可以假设除了数字 0 之外，这两个数都不会以 0 开头。\n",
    "\n",
    " \n",
    "\n",
    "示例 1：\n",
    "\n",
    "\n",
    "输入：l1 = [2,4,3], l2 = [5,6,4]\n",
    "输出：[7,0,8]\n",
    "解释：342 + 465 = 807.\n",
    "示例 2：\n",
    "\n",
    "输入：l1 = [0], l2 = [0]\n",
    "输出：[0]\n",
    "示例 3：\n",
    "\n",
    "输入：l1 = [9,9,9,9,9,9,9], l2 = [9,9,9,9]\n",
    "输出：[8,9,9,9,0,0,0,1]\n",
    " \n",
    "\n",
    "提示：\n",
    "\n",
    "每个链表中的节点数在范围 [1, 100] 内\n",
    "0 <= Node.val <= 9\n",
    "题目数据保证列表表示的数字不含前导零"
   ],
   "metadata": {
    "collapsed": false
   },
   "id": "fb684f6a40d90792"
  },
  {
   "cell_type": "code",
   "outputs": [
    {
     "name": "stdout",
     "output_type": "stream",
     "text": [
      "[7, 0, 8]\n"
     ]
    }
   ],
   "source": [
    "class ListNode(object):\n",
    "    def __init__(self, val=0, next=None):\n",
    "        self.val = val\n",
    "        self.next = next\n",
    "\n",
    "\n",
    "class Solution(object):\n",
    "    def addTwoNumbers(self, l1, l2):\n",
    "        # 创建一个哨兵节点，用于返回结果\n",
    "        dummpy = ListNode(0)\n",
    "        # 指向哨兵节点的当前指针，用于构建结果链表\n",
    "        current = dummpy\n",
    "        # 进位标志，初始值为0\n",
    "        carry = 0\n",
    "        \n",
    "        while l1 or l2 or carry:\n",
    "            x = l1.val if l1 else 0\n",
    "            y = l2.val if l2 else 0\n",
    "            total = x + y + carry\n",
    "            # 计算新的进位值\n",
    "            carry = total // 10\n",
    "            # 创建一个新的节点，值为当前位的结果，并连接到结果链表\n",
    "            current.next = ListNode(total % 10)\n",
    "            # 移动当前指针到新的节点\n",
    "            current = current.next\n",
    "            \n",
    "            if l1:\n",
    "                l1 = l1.next\n",
    "            if l2:\n",
    "                l2 = l2.next\n",
    "        # 返回哨兵节点的下一个节点，即结果链表的头节点\n",
    "        return dummpy.next\n",
    "    \n",
    "    \n",
    "def print_linked_list(node):\n",
    "    values = []\n",
    "    while node:\n",
    "        values.append(node.val)\n",
    "        node = node.next\n",
    "    print(values)\n",
    "\n",
    "\n",
    "def create_linked_list_from_list(values):\n",
    "    dummpy = ListNode(0)\n",
    "    current = dummpy\n",
    "    for val in values:\n",
    "        current.next = ListNode(val)\n",
    "        current = current.next\n",
    "    return dummpy.next\n",
    "\n",
    "l1 = create_linked_list_from_list([2,4,3])\n",
    "l2 = create_linked_list_from_list([5,6,4])\n",
    "\n",
    "\n",
    "solution = Solution()\n",
    "result = solution.addTwoNumbers(l1, l2)\n",
    "print_linked_list(result)\n",
    "\n",
    "        "
   ],
   "metadata": {
    "collapsed": false,
    "ExecuteTime": {
     "end_time": "2024-06-15T10:11:21.623208Z",
     "start_time": "2024-06-15T10:11:21.616644Z"
    }
   },
   "id": "6fdabb4693ae1fe6",
   "execution_count": 6
  },
  {
   "cell_type": "code",
   "outputs": [],
   "source": [],
   "metadata": {
    "collapsed": false
   },
   "id": "9331fef086583989"
  }
 ],
 "metadata": {
  "kernelspec": {
   "display_name": "Python 3",
   "language": "python",
   "name": "python3"
  },
  "language_info": {
   "codemirror_mode": {
    "name": "ipython",
    "version": 2
   },
   "file_extension": ".py",
   "mimetype": "text/x-python",
   "name": "python",
   "nbconvert_exporter": "python",
   "pygments_lexer": "ipython2",
   "version": "2.7.6"
  }
 },
 "nbformat": 4,
 "nbformat_minor": 5
}
