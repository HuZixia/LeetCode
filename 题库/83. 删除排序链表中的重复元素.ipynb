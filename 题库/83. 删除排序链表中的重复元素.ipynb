{
 "cells": [
  {
   "cell_type": "raw",
   "source": [
    "83. 删除排序链表中的重复元素\n",
    "已解答\n",
    "简单\n",
    "相关标签\n",
    "相关企业\n",
    "给定一个已排序的链表的头 head ， 删除所有重复的元素，使每个元素只出现一次 。返回 已排序的链表 。\n",
    "\n",
    " \n",
    "\n",
    "示例 1：\n",
    "\n",
    "\n",
    "输入：head = [1,1,2]\n",
    "输出：[1,2]\n",
    "示例 2：\n",
    "\n",
    "\n",
    "输入：head = [1,1,2,3,3]\n",
    "输出：[1,2,3]\n",
    " \n",
    "\n",
    "提示：\n",
    "\n",
    "链表中节点数目在范围 [0, 300] 内\n",
    "-100 <= Node.val <= 100\n",
    "题目数据保证链表已经按升序 排列"
   ],
   "metadata": {
    "collapsed": false
   },
   "id": "437498e9fbb03254"
  },
  {
   "cell_type": "code",
   "outputs": [
    {
     "name": "stdout",
     "output_type": "stream",
     "text": [
      "[1, 2]\n",
      "[1, 2, 3]\n",
      "[]\n",
      "[1]\n"
     ]
    }
   ],
   "source": [
    "class ListNode(object):\n",
    "    def __init__(self, val=0, next=None):\n",
    "        self.val = val\n",
    "        self.next = next\n",
    "        \n",
    "class Solution(object):\n",
    "    def deleteDupicate(self, head):\n",
    "        if not head:\n",
    "            return head\n",
    "        \n",
    "        curr = head\n",
    "        while curr:\n",
    "            if curr.next and curr.val == curr.next.val:\n",
    "                curr.next = curr.next.next\n",
    "            else:\n",
    "                curr = curr.next\n",
    "        return head\n",
    "    \n",
    "    \n",
    "    \n",
    "def List2ListNode(nums):\n",
    "    dummy = ListNode(0)\n",
    "    curr = dummy\n",
    "    for num in nums:\n",
    "        curr.next = ListNode(num)\n",
    "        curr = curr.next\n",
    "    return dummy.next\n",
    "\n",
    "def printListNode(head):\n",
    "    result = []\n",
    "    while head:\n",
    "        result.append(head.val)\n",
    "        head = head.next\n",
    "    print(result)\n",
    "\n",
    "\n",
    "solution = Solution()\n",
    "printListNode(solution.deleteDupicate(List2ListNode([1,1,2]))) # [1,2]\n",
    "printListNode(solution.deleteDupicate(List2ListNode([1,1,2,3,3]))) # [1,2,3]\n",
    "printListNode(solution.deleteDupicate(List2ListNode([]))) # []\n",
    "printListNode(solution.deleteDupicate(List2ListNode([1]))) # [1]\n",
    "        \n",
    "    "
   ],
   "metadata": {
    "collapsed": false,
    "ExecuteTime": {
     "end_time": "2024-06-27T17:10:30.071716Z",
     "start_time": "2024-06-27T17:10:30.065650Z"
    }
   },
   "id": "e0cd0673fd85d255",
   "execution_count": 2
  },
  {
   "cell_type": "code",
   "outputs": [],
   "source": [],
   "metadata": {
    "collapsed": false
   },
   "id": "30aa3ab6e5314f2d"
  }
 ],
 "metadata": {
  "kernelspec": {
   "display_name": "Python 3",
   "language": "python",
   "name": "python3"
  },
  "language_info": {
   "codemirror_mode": {
    "name": "ipython",
    "version": 2
   },
   "file_extension": ".py",
   "mimetype": "text/x-python",
   "name": "python",
   "nbconvert_exporter": "python",
   "pygments_lexer": "ipython2",
   "version": "2.7.6"
  }
 },
 "nbformat": 4,
 "nbformat_minor": 5
}
