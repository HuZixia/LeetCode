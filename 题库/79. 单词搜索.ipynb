{
 "cells": [
  {
   "cell_type": "raw",
   "source": [
    "79. 单词搜索\n",
    "已解答\n",
    "中等\n",
    "相关标签\n",
    "相关企业\n",
    "给定一个 m x n 二维字符网格 board 和一个字符串单词 word 。如果 word 存在于网格中，返回 true ；否则，返回 false 。\n",
    "\n",
    "单词必须按照字母顺序，通过相邻的单元格内的字母构成，其中“相邻”单元格是那些水平相邻或垂直相邻的单元格。同一个单元格内的字母不允许被重复使用。\n",
    "\n",
    " \n",
    "\n",
    "示例 1：\n",
    "\n",
    "\n",
    "输入：board = [[\"A\",\"B\",\"C\",\"E\"],[\"S\",\"F\",\"C\",\"S\"],[\"A\",\"D\",\"E\",\"E\"]], word = \"ABCCED\"\n",
    "输出：true\n",
    "示例 2：\n",
    "\n",
    "\n",
    "输入：board = [[\"A\",\"B\",\"C\",\"E\"],[\"S\",\"F\",\"C\",\"S\"],[\"A\",\"D\",\"E\",\"E\"]], word = \"SEE\"\n",
    "输出：true\n",
    "示例 3：\n",
    "\n",
    "\n",
    "输入：board = [[\"A\",\"B\",\"C\",\"E\"],[\"S\",\"F\",\"C\",\"S\"],[\"A\",\"D\",\"E\",\"E\"]], word = \"ABCB\"\n",
    "输出：false\n",
    " \n",
    "\n",
    "提示：\n",
    "\n",
    "m == board.length\n",
    "n = board[i].length\n",
    "1 <= m, n <= 6\n",
    "1 <= word.length <= 15\n",
    "board 和 word 仅由大小写英文字母组成\n",
    " \n",
    "\n",
    "进阶：你可以使用搜索剪枝的技术来优化解决方案，使其在 board 更大的情况下可以更快解决问题？"
   ],
   "metadata": {
    "collapsed": false
   },
   "id": "2b16543c1c6f07ac"
  },
  {
   "cell_type": "code",
   "outputs": [
    {
     "name": "stdout",
     "output_type": "stream",
     "text": [
      "True\n",
      "True\n",
      "False\n",
      "False\n"
     ]
    }
   ],
   "source": [
    "# dfs 深度优先搜索\n",
    "\n",
    "class Solution(object):\n",
    "    def exist(self, board, word):\n",
    "        if not board or not board[0]:\n",
    "            return False\n",
    "        \n",
    "        row, col = len(board), len(board[0])\n",
    "        \n",
    "        def dfs(i, j, index):\n",
    "            if index == len(word):\n",
    "                return True\n",
    "            \n",
    "            if i < 0 or i >= row or j < 0 or j >= col or board[i][j] != word[index]:\n",
    "                return False\n",
    "            \n",
    "            # 保存当前字符串\n",
    "            tmp = board[i][j]\n",
    "            # 将当前字符串标记为已访问\n",
    "            board[i][j] = '#'\n",
    "\n",
    "            # 进行深度优先搜索\n",
    "            found = (dfs(i + 1, j, index + 1) or dfs(i - 1, j, index + 1) or dfs(i, j + 1, index + 1) or dfs(i, j - 1, index + 1))\n",
    "            \n",
    "            # 恢复当前字符串\n",
    "            board[i][j] = tmp\n",
    "            return found\n",
    "        \n",
    "        \n",
    "        for i in range(row):\n",
    "            for j in range(col):\n",
    "                if dfs(i, j, 0):\n",
    "                    return True\n",
    "        \n",
    "        return False\n",
    "            \n",
    "\n",
    "solution = Solution()\n",
    "print(solution.exist([[\"A\",\"B\",\"C\",\"E\"],[\"S\",\"F\",\"C\",\"S\"],[\"A\",\"D\",\"E\",\"E\"]], \"ABCCED\")) # True\n",
    "print(solution.exist([[\"A\",\"B\",\"C\",\"E\"],[\"S\",\"F\",\"C\",\"S\"],[\"A\",\"D\",\"E\",\"E\"]], \"SEE\")) # True\n",
    "print(solution.exist([[\"A\",\"B\",\"C\",\"E\"],[\"S\",\"F\",\"C\",\"S\"],[\"A\",\"D\",\"E\",\"E\"]], \"ABCB\")) # False\n",
    "print(solution.exist([[\"A\",\"B\",\"C\",\"E\"],[\"S\",\"F\",\"C\",\"S\"],[\"A\",\"D\",\"E\",\"E\"]], \"ABCESEEDASCF\")) # True\n",
    "            \n",
    "\n"
   ],
   "metadata": {
    "collapsed": false,
    "ExecuteTime": {
     "end_time": "2024-06-27T15:41:02.877690Z",
     "start_time": "2024-06-27T15:41:02.871438Z"
    }
   },
   "id": "3e514f2045e988b0",
   "execution_count": 1
  },
  {
   "cell_type": "code",
   "outputs": [],
   "source": [],
   "metadata": {
    "collapsed": false
   },
   "id": "39b7731d816b408d"
  }
 ],
 "metadata": {
  "kernelspec": {
   "display_name": "Python 3",
   "language": "python",
   "name": "python3"
  },
  "language_info": {
   "codemirror_mode": {
    "name": "ipython",
    "version": 2
   },
   "file_extension": ".py",
   "mimetype": "text/x-python",
   "name": "python",
   "nbconvert_exporter": "python",
   "pygments_lexer": "ipython2",
   "version": "2.7.6"
  }
 },
 "nbformat": 4,
 "nbformat_minor": 5
}
