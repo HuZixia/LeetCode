{
 "cells": [
  {
   "cell_type": "raw",
   "source": [
    "29. 两数相除\n",
    "已解答\n",
    "中等\n",
    "相关标签\n",
    "相关企业\n",
    "给你两个整数，被除数 dividend 和除数 divisor。将两数相除，要求 不使用 乘法、除法和取余运算。\n",
    "\n",
    "整数除法应该向零截断，也就是截去（truncate）其小数部分。例如，8.345 将被截断为 8 ，-2.7335 将被截断至 -2 。\n",
    "\n",
    "返回被除数 dividend 除以除数 divisor 得到的 商 。\n",
    "\n",
    "注意：假设我们的环境只能存储 32 位 有符号整数，其数值范围是 [−231,  231 − 1] 。本题中，如果商 严格大于 231 − 1 ，则返回 231 − 1 ；如果商 严格小于 -231 ，则返回 -231 。\n",
    "\n",
    " \n",
    "\n",
    "示例 1:\n",
    "\n",
    "输入: dividend = 10, divisor = 3\n",
    "输出: 3\n",
    "解释: 10/3 = 3.33333.. ，向零截断后得到 3 。\n",
    "示例 2:\n",
    "\n",
    "输入: dividend = 7, divisor = -3\n",
    "输出: -2\n",
    "解释: 7/-3 = -2.33333.. ，向零截断后得到 -2 。\n",
    " \n",
    "\n",
    "提示：\n",
    "\n",
    "-231 <= dividend, divisor <= 231 - 1\n",
    "divisor != 0"
   ],
   "metadata": {
    "collapsed": false
   },
   "id": "670e89ae6b618fa1"
  },
  {
   "cell_type": "code",
   "outputs": [
    {
     "name": "stdout",
     "output_type": "stream",
     "text": [
      "-3\n",
      "-2\n",
      "0\n"
     ]
    }
   ],
   "source": [
    "class Solution(object):\n",
    "    def divide(self, dividend, divisor):\n",
    "        # 处理特殊情况\n",
    "        if dividend == 0:\n",
    "            return 0\n",
    "        if divisor == 0:\n",
    "            return ValueError(\"divisor cant not be zero\")\n",
    "        \n",
    "        # 确定结果的符号\n",
    "        sign = 1 if (dividend > 0 == divisor > 0) else -1\n",
    "        \n",
    "        # 将被除数和除数转成正数\n",
    "        dividend = abs(dividend)\n",
    "        divisor = abs(divisor)\n",
    "        \n",
    "        # 初始化结果\n",
    "        result = 0\n",
    "        # 用减法模拟除法\n",
    "        while dividend >= divisor:\n",
    "            temp, i = divisor, 1\n",
    "            while dividend >= temp:\n",
    "                dividend -= temp\n",
    "                result += i\n",
    "                temp <<= 1\n",
    "                i <<= 1\n",
    "                \n",
    "        # 处理溢出值，返回结果\n",
    "        return max(min(result*sign, 2**31-1), -2**31)\n",
    "                \n",
    "solution = Solution()\n",
    "print(solution.divide(10, 3)) # 3\n",
    "print(solution.divide(7, -3)) # -2\n",
    "print(solution.divide(0, 1)) # 0\n"
   ],
   "metadata": {
    "collapsed": false,
    "ExecuteTime": {
     "end_time": "2024-06-19T16:37:50.725534Z",
     "start_time": "2024-06-19T16:37:50.718619Z"
    }
   },
   "id": "2e07301fca075ef4",
   "execution_count": 2
  },
  {
   "cell_type": "code",
   "outputs": [],
   "source": [],
   "metadata": {
    "collapsed": false
   },
   "id": "77c3c5f1aeea511a"
  }
 ],
 "metadata": {
  "kernelspec": {
   "display_name": "Python 3",
   "language": "python",
   "name": "python3"
  },
  "language_info": {
   "codemirror_mode": {
    "name": "ipython",
    "version": 2
   },
   "file_extension": ".py",
   "mimetype": "text/x-python",
   "name": "python",
   "nbconvert_exporter": "python",
   "pygments_lexer": "ipython2",
   "version": "2.7.6"
  }
 },
 "nbformat": 4,
 "nbformat_minor": 5
}
