{
 "cells": [
  {
   "cell_type": "raw",
   "source": [
    "53. 最大子数组和\n",
    "已解答\n",
    "中等\n",
    "相关标签\n",
    "相关企业\n",
    "给你一个整数数组 nums ，请你找出一个具有最大和的连续子数组（子数组最少包含一个元素），返回其最大和。\n",
    "\n",
    "子数组\n",
    "是数组中的一个连续部分。\n",
    "\n",
    " \n",
    "\n",
    "示例 1：\n",
    "\n",
    "输入：nums = [-2,1,-3,4,-1,2,1,-5,4]\n",
    "输出：6\n",
    "解释：连续子数组 [4,-1,2,1] 的和最大，为 6 。\n",
    "示例 2：\n",
    "\n",
    "输入：nums = [1]\n",
    "输出：1\n",
    "示例 3：\n",
    "\n",
    "输入：nums = [5,4,-1,7,8]\n",
    "输出：23\n",
    " \n",
    "\n",
    "提示：\n",
    "\n",
    "1 <= nums.length <= 105\n",
    "-104 <= nums[i] <= 104"
   ],
   "metadata": {
    "collapsed": false
   },
   "id": "fa0b98cc2a3f1941"
  },
  {
   "cell_type": "code",
   "outputs": [
    {
     "name": "stdout",
     "output_type": "stream",
     "text": [
      "6\n",
      "1\n",
      "23\n"
     ]
    }
   ],
   "source": [
    "# 动态规划法\n",
    "\n",
    "class Solution(object):\n",
    "    def maxSubArray(self, nums):\n",
    "        # 初始值\n",
    "        max_sum = nums[0]\n",
    "        current_sum = nums[0]\n",
    "        \n",
    "        # 从第二个元素开始遍历数组\n",
    "        for i in range(1, len(nums)):\n",
    "            # 如果当前和加上当前元素小于当前元素，则从当前元素开始重新计算\n",
    "            current_sum = max(nums[i], current_sum + nums[i])\n",
    "            # 更新最大子数组和\n",
    "            max_sum = max(max_sum, current_sum)\n",
    "        return max_sum\n",
    "\n",
    "solution = Solution()\n",
    "print(solution.maxSubArray([-2,1,-3,4,-1,2,1,-5,4])) # 6\n",
    "print(solution.maxSubArray([1])) # 1\n",
    "print(solution.maxSubArray([5,4,-1,7,8])) # 23\n",
    "    "
   ],
   "metadata": {
    "collapsed": false,
    "ExecuteTime": {
     "end_time": "2024-06-22T11:27:05.884513Z",
     "start_time": "2024-06-22T11:27:05.878691Z"
    }
   },
   "id": "78dde4bd39dd5591",
   "execution_count": 1
  },
  {
   "cell_type": "code",
   "outputs": [],
   "source": [],
   "metadata": {
    "collapsed": false
   },
   "id": "b8ce3e4bede590f0"
  }
 ],
 "metadata": {
  "kernelspec": {
   "display_name": "Python 3",
   "language": "python",
   "name": "python3"
  },
  "language_info": {
   "codemirror_mode": {
    "name": "ipython",
    "version": 2
   },
   "file_extension": ".py",
   "mimetype": "text/x-python",
   "name": "python",
   "nbconvert_exporter": "python",
   "pygments_lexer": "ipython2",
   "version": "2.7.6"
  }
 },
 "nbformat": 4,
 "nbformat_minor": 5
}
