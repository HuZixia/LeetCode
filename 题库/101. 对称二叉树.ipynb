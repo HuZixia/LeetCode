{
 "cells": [
  {
   "cell_type": "raw",
   "source": [
    "101. 对称二叉树\n",
    "已解答\n",
    "简单\n",
    "相关标签\n",
    "相关企业\n",
    "给你一个二叉树的根节点 root ， 检查它是否轴对称。\n",
    "\n",
    " \n",
    "\n",
    "示例 1：\n",
    "\n",
    "\n",
    "输入：root = [1,2,2,3,4,4,3]\n",
    "输出：true\n",
    "示例 2：\n",
    "\n",
    "\n",
    "输入：root = [1,2,2,null,3,null,3]\n",
    "输出：false\n",
    " \n",
    "\n",
    "提示：\n",
    "\n",
    "树中节点数目在范围 [1, 1000] 内\n",
    "-100 <= Node.val <= 100\n",
    " \n",
    "\n",
    "进阶：你可以运用递归和迭代两种方法解决这个问题吗？"
   ],
   "metadata": {
    "collapsed": false
   },
   "id": "e1488f75c31e06b6"
  },
  {
   "cell_type": "code",
   "outputs": [
    {
     "name": "stdout",
     "output_type": "stream",
     "text": [
      "True\n",
      "False\n",
      "True\n"
     ]
    }
   ],
   "source": [
    "# 递归调用\n",
    "\n",
    "class TreeNode(object):\n",
    "    def __init__(self, val=0, left=None, right=None):\n",
    "        self.val = val\n",
    "        self.left = left\n",
    "        self.right = right\n",
    "\n",
    "class Solution(object):\n",
    "    def isSymmetric(self, root):\n",
    "        def isMirror(t1, t2):\n",
    "            if not t1 and not t2:\n",
    "                return True\n",
    "            if not t1 or not t2:\n",
    "                return False\n",
    "            if t1.val != t2.val:\n",
    "                return False\n",
    "            return isMirror(t1.left, t2.right) and isMirror(t1.right, t2.left)\n",
    "        \n",
    "        if not root:\n",
    "            return True\n",
    "        return isMirror(root.left, root.right)\n",
    "\n",
    "\n",
    "def list2TreeNode(nums):\n",
    "    if not nums:\n",
    "        return None\n",
    "    root = TreeNode(nums[0])\n",
    "    queue = [root]\n",
    "    index = 1\n",
    "    while queue:\n",
    "        node = queue.pop(0)\n",
    "        if index < len(nums) and nums[index] is not None:\n",
    "            node.left = TreeNode(nums[index])\n",
    "            queue.append(node.left)\n",
    "        index += 1\n",
    "        if index < len(nums) and nums[index] is not None:\n",
    "            node.right = TreeNode(nums[index])\n",
    "            queue.append(node.right)\n",
    "        index += 1\n",
    "    return root\n",
    "\n",
    "\n",
    "solution = Solution()\n",
    "print(solution.isSymmetric(list2TreeNode([1,2,2,3,4,4,3]))) # True\n",
    "print(solution.isSymmetric(list2TreeNode([1,2,2,None,3,None,3]))) # False\n",
    "print(solution.isSymmetric(list2TreeNode([1,2,2,3,4,4,3,5,6,7,8,8,7,6,5]))) # True\n",
    "    \n"
   ],
   "metadata": {
    "collapsed": false,
    "ExecuteTime": {
     "end_time": "2024-06-30T10:48:12.490841Z",
     "start_time": "2024-06-30T10:48:12.482093Z"
    }
   },
   "id": "fdaa768917af854b",
   "execution_count": 2
  },
  {
   "cell_type": "code",
   "outputs": [],
   "source": [],
   "metadata": {
    "collapsed": false
   },
   "id": "4eeac7aae5ad385b"
  }
 ],
 "metadata": {
  "kernelspec": {
   "display_name": "Python 3",
   "language": "python",
   "name": "python3"
  },
  "language_info": {
   "codemirror_mode": {
    "name": "ipython",
    "version": 2
   },
   "file_extension": ".py",
   "mimetype": "text/x-python",
   "name": "python",
   "nbconvert_exporter": "python",
   "pygments_lexer": "ipython2",
   "version": "2.7.6"
  }
 },
 "nbformat": 4,
 "nbformat_minor": 5
}
