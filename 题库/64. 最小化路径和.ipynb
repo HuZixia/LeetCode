{
 "cells": [
  {
   "cell_type": "raw",
   "source": [
    "64. 最小路径和\n",
    "已解答\n",
    "中等\n",
    "相关标签\n",
    "相关企业\n",
    "给定一个包含非负整数的 m x n 网格 grid ，请找出一条从左上角到右下角的路径，使得路径上的数字总和为最小。\n",
    "\n",
    "说明：每次只能向下或者向右移动一步。\n",
    "\n",
    " \n",
    "\n",
    "示例 1：\n",
    "\n",
    "\n",
    "输入：grid = [[1,3,1],[1,5,1],[4,2,1]]\n",
    "输出：7\n",
    "解释：因为路径 1→3→1→1→1 的总和最小。\n",
    "示例 2：\n",
    "\n",
    "输入：grid = [[1,2,3],[4,5,6]]\n",
    "输出：12\n",
    " \n",
    "\n",
    "提示：\n",
    "\n",
    "m == grid.length\n",
    "n == grid[i].length\n",
    "1 <= m, n <= 200\n",
    "0 <= grid[i][j] <= 200\n"
   ],
   "metadata": {
    "collapsed": false
   },
   "id": "47812a2332651012"
  },
  {
   "cell_type": "code",
   "outputs": [
    {
     "name": "stdout",
     "output_type": "stream",
     "text": [
      "7\n",
      "12\n",
      "0\n"
     ]
    }
   ],
   "source": [
    "class Solution:\n",
    "    def minPathSum(self, grid):\n",
    "        if not grid or not grid[0]:\n",
    "            return 0\n",
    "        m, n = len(grid), len(grid[0])\n",
    "        \n",
    "        # 初始化第一行\n",
    "        for i in range(1, m):\n",
    "            grid[i][0] += grid[i-1][0]\n",
    "        \n",
    "        # 初始化第一列\n",
    "        for j in range(1, n):\n",
    "            grid[0][j] += grid[0][j-1]\n",
    "        \n",
    "        # 填充剩余的网格\n",
    "        for i in range(1, m):\n",
    "            for j in range(1, n):\n",
    "                grid[i][j] += min(grid[i-1][j], grid[i][j-1])\n",
    "                \n",
    "        return grid[m-1][n-1]\n",
    "\n",
    "\n",
    "solution = Solution()\n",
    "print(solution.minPathSum([[1,3,1],[1,5,1],[4,2,1]])) # 7\n",
    "print(solution.minPathSum([[1,2,3],[4,5,6]])) # 12\n",
    "print(solution.minPathSum([])) # 0\n"
   ],
   "metadata": {
    "collapsed": false,
    "ExecuteTime": {
     "end_time": "2024-06-25T11:44:44.366108Z",
     "start_time": "2024-06-25T11:44:44.360842Z"
    }
   },
   "id": "396ba702ce306fb7",
   "execution_count": 1
  },
  {
   "cell_type": "code",
   "outputs": [],
   "source": [],
   "metadata": {
    "collapsed": false
   },
   "id": "940c38b63f3d4d0f"
  }
 ],
 "metadata": {
  "kernelspec": {
   "display_name": "Python 3",
   "language": "python",
   "name": "python3"
  },
  "language_info": {
   "codemirror_mode": {
    "name": "ipython",
    "version": 2
   },
   "file_extension": ".py",
   "mimetype": "text/x-python",
   "name": "python",
   "nbconvert_exporter": "python",
   "pygments_lexer": "ipython2",
   "version": "2.7.6"
  }
 },
 "nbformat": 4,
 "nbformat_minor": 5
}
