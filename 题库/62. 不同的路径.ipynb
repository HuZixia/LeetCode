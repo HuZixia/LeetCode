{
 "cells": [
  {
   "cell_type": "raw",
   "source": [
    "62. 不同路径\n",
    "已解答\n",
    "中等\n",
    "相关标签\n",
    "相关企业\n",
    "一个机器人位于一个 m x n 网格的左上角 （起始点在下图中标记为 “Start” ）。\n",
    "\n",
    "机器人每次只能向下或者向右移动一步。机器人试图达到网格的右下角（在下图中标记为 “Finish” ）。\n",
    "\n",
    "问总共有多少条不同的路径？\n",
    "\n",
    " \n",
    "\n",
    "示例 1：\n",
    "\n",
    "\n",
    "输入：m = 3, n = 7\n",
    "输出：28\n",
    "示例 2：\n",
    "\n",
    "输入：m = 3, n = 2\n",
    "输出：3\n",
    "解释：\n",
    "从左上角开始，总共有 3 条路径可以到达右下角。\n",
    "1. 向右 -> 向下 -> 向下\n",
    "2. 向下 -> 向下 -> 向右\n",
    "3. 向下 -> 向右 -> 向下\n",
    "示例 3：\n",
    "\n",
    "输入：m = 7, n = 3\n",
    "输出：28\n",
    "示例 4：\n",
    "\n",
    "输入：m = 3, n = 3\n",
    "输出：6\n",
    " \n",
    "\n",
    "提示：\n",
    "\n",
    "1 <= m, n <= 100\n",
    "题目数据保证答案小于等于 2 * 109\n"
   ],
   "metadata": {
    "collapsed": false
   },
   "id": "c84b5b7db2e8e681"
  },
  {
   "cell_type": "code",
   "outputs": [
    {
     "name": "stdout",
     "output_type": "stream",
     "text": [
      "28\n",
      "3\n",
      "28\n"
     ]
    }
   ],
   "source": [
    "# 动态规划\n",
    "class Solution:\n",
    "    def uniquePaths(self, m, n):\n",
    "        \n",
    "        # 初始化一个二维数组，dp，大小为 m*n\n",
    "        dp = [[0] * n for _ in range(m)]\n",
    "        \n",
    "        # 设置第一行的路径值为1\n",
    "        for i in range(m):\n",
    "            dp[i][0] = 1\n",
    "        \n",
    "        # 设置第一列的路径值为1\n",
    "        for j in range(n):\n",
    "            dp[0][j] = 1\n",
    "        \n",
    "        # 填充dp数组\n",
    "        for i in range(1, m):\n",
    "            for j in range(1, n):\n",
    "                dp[i][j] = dp[i-1][j] + dp[i][j-1]\n",
    "                \n",
    "        return dp[m-1][n-1]\n",
    "    \n",
    "solution = Solution()\n",
    "print(solution.uniquePaths(3, 7)) # 28\n",
    "print(solution.uniquePaths(3, 2)) # 3\n",
    "print(solution.uniquePaths(7, 3)) # 28"
   ],
   "metadata": {
    "collapsed": false,
    "ExecuteTime": {
     "end_time": "2024-06-25T09:49:10.367448Z",
     "start_time": "2024-06-25T09:49:10.362123Z"
    }
   },
   "id": "e642c397accb4069",
   "execution_count": 2
  },
  {
   "cell_type": "code",
   "outputs": [],
   "source": [],
   "metadata": {
    "collapsed": false
   },
   "id": "ccd10e72e5e0afd"
  }
 ],
 "metadata": {
  "kernelspec": {
   "display_name": "Python 3",
   "language": "python",
   "name": "python3"
  },
  "language_info": {
   "codemirror_mode": {
    "name": "ipython",
    "version": 2
   },
   "file_extension": ".py",
   "mimetype": "text/x-python",
   "name": "python",
   "nbconvert_exporter": "python",
   "pygments_lexer": "ipython2",
   "version": "2.7.6"
  }
 },
 "nbformat": 4,
 "nbformat_minor": 5
}
